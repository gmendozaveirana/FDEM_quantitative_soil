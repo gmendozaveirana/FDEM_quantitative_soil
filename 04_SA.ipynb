{
 "cells": [
  {
   "cell_type": "markdown",
   "metadata": {},
   "source": [
    "# Uncertainty analysis "
   ]
  },
  {
   "cell_type": "code",
   "execution_count": 1,
   "metadata": {},
   "outputs": [
    {
     "name": "stdout",
     "output_type": "stream",
     "text": [
      "current_results [{'Extract': 0.5, 'Samples location': 'mean', 'Interface': 'observed', 'Forward_Model': 'FSeq', 'Minimization_Method': 'Gauss-Newton', 'Alpha': 0.01, 'remove_coil': True, 'start_avg': True, 'constrain': True, 'Det': 'LT', 'R2': -10.765, 'RMSE': 0.178, 'MAE': 0.152, 'STD': 0.185, '0R2': 0.694, '0RMSE': 0.106, 'R2_INV': 0.9863438690435002}, {'Extract': 0.5, 'Samples location': 'mean', 'Interface': 'observed', 'Forward_Model': 'FSeq', 'Minimization_Method': 'Gauss-Newton', 'Alpha': 0.01, 'remove_coil': True, 'start_avg': True, 'constrain': True, 'Det': 'ID', 'R2': -11.102, 'RMSE': 0.166, 'MAE': 0.147, 'STD': 0.178, '0R2': 0.749, '0RMSE': 0.096, 'R2_INV': 0.9863438690435002}, {'Extract': 0.5, 'Samples location': 'mean', 'Interface': 'observed', 'Forward_Model': 'FSeq', 'Minimization_Method': 'Gauss-Newton', 'Alpha': 0.01, 'remove_coil': True, 'start_avg': True, 'constrain': True, 'Det': 'LS', 'R2': -10.462, 'RMSE': 0.174, 'MAE': 0.148, 'STD': 0.183, '0R2': 0.672, '0RMSE': 0.108, 'R2_INV': 0.9863438690435002}]\n",
      "Iteration: 1 Combination: (0.5, 'mean', 'observed', 'FSeq', 'Gauss-Newton', 0.01, True, True, False)\n",
      "##################################################################################################################################################################### 02 INVERSION CONFIGURE INPUT ################################################\n",
      "Inversion using FSeq with Gauss-Newton, reg=l2, alpha=0.01\n",
      "15/15 invertedr2inv 0    0.986344\n",
      "Name: all, dtype: object\n",
      "#################################################################################################################################################################### 03 DETERMINISTIC MODELLING ###################################################\n",
      "inv_columns Index(['EC_0.30', 'EC_0.60', 'EC_1.00', 'EC_2.00', 'EC_end'], dtype='object')\n",
      "current_results [{'Extract': 0.5, 'Samples location': 'mean', 'Interface': 'observed', 'Forward_Model': 'FSeq', 'Minimization_Method': 'Gauss-Newton', 'Alpha': 0.01, 'remove_coil': True, 'start_avg': True, 'constrain': False, 'Det': 'LT', 'R2': -10.765, 'RMSE': 0.178, 'MAE': 0.152, 'STD': 0.185, '0R2': 0.694, '0RMSE': 0.106, 'R2_INV': 0.9863438690435002}, {'Extract': 0.5, 'Samples location': 'mean', 'Interface': 'observed', 'Forward_Model': 'FSeq', 'Minimization_Method': 'Gauss-Newton', 'Alpha': 0.01, 'remove_coil': True, 'start_avg': True, 'constrain': False, 'Det': 'ID', 'R2': -11.102, 'RMSE': 0.166, 'MAE': 0.147, 'STD': 0.178, '0R2': 0.749, '0RMSE': 0.096, 'R2_INV': 0.9863438690435002}, {'Extract': 0.5, 'Samples location': 'mean', 'Interface': 'observed', 'Forward_Model': 'FSeq', 'Minimization_Method': 'Gauss-Newton', 'Alpha': 0.01, 'remove_coil': True, 'start_avg': True, 'constrain': False, 'Det': 'LS', 'R2': -10.462, 'RMSE': 0.174, 'MAE': 0.148, 'STD': 0.183, '0R2': 0.672, '0RMSE': 0.108, 'R2_INV': 0.9863438690435002}]\n",
      "Iteration: 2 Combination: (0.5, 'mean', 'observed', 'FSeq', 'Gauss-Newton', 0.01, True, False, True)\n",
      "##################################################################################################################################################################### 02 INVERSION CONFIGURE INPUT ################################################\n",
      "Constrained Inversion using FSeq with Gauss-Newton, reg=l2, alpha=0.01\n",
      "15/15 invertedr2inv 0    0.987973\n",
      "Name: all, dtype: object\n",
      "#################################################################################################################################################################### 03 DETERMINISTIC MODELLING ###################################################\n",
      "inv_columns Index(['EC_0.30', 'EC_0.60', 'EC_1.00', 'EC_2.00', 'EC_end'], dtype='object')\n",
      "current_results [{'Extract': 0.5, 'Samples location': 'mean', 'Interface': 'observed', 'Forward_Model': 'FSeq', 'Minimization_Method': 'Gauss-Newton', 'Alpha': 0.01, 'remove_coil': True, 'start_avg': False, 'constrain': True, 'Det': 'LT', 'R2': -11.006, 'RMSE': 0.174, 'MAE': 0.148, 'STD': 0.172, '0R2': 0.599, '0RMSE': 0.12, 'R2_INV': 0.9879730470918952}, {'Extract': 0.5, 'Samples location': 'mean', 'Interface': 'observed', 'Forward_Model': 'FSeq', 'Minimization_Method': 'Gauss-Newton', 'Alpha': 0.01, 'remove_coil': True, 'start_avg': False, 'constrain': True, 'Det': 'ID', 'R2': -10.691, 'RMSE': 0.168, 'MAE': 0.147, 'STD': 0.168, '0R2': 0.622, '0RMSE': 0.115, 'R2_INV': 0.9879730470918952}, {'Extract': 0.5, 'Samples location': 'mean', 'Interface': 'observed', 'Forward_Model': 'FSeq', 'Minimization_Method': 'Gauss-Newton', 'Alpha': 0.01, 'remove_coil': True, 'start_avg': False, 'constrain': True, 'Det': 'LS', 'R2': -10.7, 'RMSE': 0.172, 'MAE': 0.147, 'STD': 0.17, '0R2': 0.56, '0RMSE': 0.125, 'R2_INV': 0.9879730470918952}]\n",
      "Iteration: 3 Combination: (0.5, 'mean', 'observed', 'FSeq', 'Gauss-Newton', 0.01, True, False, False)\n",
      "##################################################################################################################################################################### 02 INVERSION CONFIGURE INPUT ################################################\n",
      "Inversion using FSeq with Gauss-Newton, reg=l2, alpha=0.01\n",
      "15/15 invertedr2inv 0    0.987973\n",
      "Name: all, dtype: object\n",
      "#################################################################################################################################################################### 03 DETERMINISTIC MODELLING ###################################################\n",
      "inv_columns Index(['EC_0.30', 'EC_0.60', 'EC_1.00', 'EC_2.00', 'EC_end'], dtype='object')\n",
      "current_results [{'Extract': 0.5, 'Samples location': 'mean', 'Interface': 'observed', 'Forward_Model': 'FSeq', 'Minimization_Method': 'Gauss-Newton', 'Alpha': 0.01, 'remove_coil': True, 'start_avg': False, 'constrain': False, 'Det': 'LT', 'R2': -11.006, 'RMSE': 0.174, 'MAE': 0.148, 'STD': 0.172, '0R2': 0.599, '0RMSE': 0.12, 'R2_INV': 0.9879730470918952}, {'Extract': 0.5, 'Samples location': 'mean', 'Interface': 'observed', 'Forward_Model': 'FSeq', 'Minimization_Method': 'Gauss-Newton', 'Alpha': 0.01, 'remove_coil': True, 'start_avg': False, 'constrain': False, 'Det': 'ID', 'R2': -10.691, 'RMSE': 0.168, 'MAE': 0.147, 'STD': 0.168, '0R2': 0.622, '0RMSE': 0.115, 'R2_INV': 0.9879730470918952}, {'Extract': 0.5, 'Samples location': 'mean', 'Interface': 'observed', 'Forward_Model': 'FSeq', 'Minimization_Method': 'Gauss-Newton', 'Alpha': 0.01, 'remove_coil': True, 'start_avg': False, 'constrain': False, 'Det': 'LS', 'R2': -10.7, 'RMSE': 0.172, 'MAE': 0.147, 'STD': 0.17, '0R2': 0.56, '0RMSE': 0.125, 'R2_INV': 0.9879730470918952}]\n",
      "Iteration: 4 Combination: (0.5, 'mean', 'observed', 'FSeq', 'Gauss-Newton', 0.01, False, True, True)\n",
      "##################################################################################################################################################################### 02 INVERSION CONFIGURE INPUT ################################################\n",
      "Constrained Inversion using FSeq with Gauss-Newton, reg=l2, alpha=0.01\n",
      "15/15 invertedr2inv 0    0.987998\n",
      "Name: all, dtype: object\n",
      "#################################################################################################################################################################### 03 DETERMINISTIC MODELLING ###################################################\n",
      "inv_columns Index(['EC_0.30', 'EC_0.60', 'EC_1.00', 'EC_2.00', 'EC_end'], dtype='object')\n",
      "current_results [{'Extract': 0.5, 'Samples location': 'mean', 'Interface': 'observed', 'Forward_Model': 'FSeq', 'Minimization_Method': 'Gauss-Newton', 'Alpha': 0.01, 'remove_coil': False, 'start_avg': True, 'constrain': True, 'Det': 'LT', 'R2': -10.425, 'RMSE': 0.176, 'MAE': 0.149, 'STD': 0.182, '0R2': 0.507, '0RMSE': 0.132, 'R2_INV': 0.9879983701033282}, {'Extract': 0.5, 'Samples location': 'mean', 'Interface': 'observed', 'Forward_Model': 'FSeq', 'Minimization_Method': 'Gauss-Newton', 'Alpha': 0.01, 'remove_coil': False, 'start_avg': True, 'constrain': True, 'Det': 'ID', 'R2': -11.268, 'RMSE': 0.172, 'MAE': 0.147, 'STD': 0.182, '0R2': 0.523, '0RMSE': 0.132, 'R2_INV': 0.9879983701033282}, {'Extract': 0.5, 'Samples location': 'mean', 'Interface': 'observed', 'Forward_Model': 'FSeq', 'Minimization_Method': 'Gauss-Newton', 'Alpha': 0.01, 'remove_coil': False, 'start_avg': True, 'constrain': True, 'Det': 'LS', 'R2': -10.193, 'RMSE': 0.174, 'MAE': 0.149, 'STD': 0.181, '0R2': 0.464, '0RMSE': 0.138, 'R2_INV': 0.9879983701033282}]\n",
      "Iteration: 5 Combination: (0.5, 'mean', 'observed', 'FSeq', 'Gauss-Newton', 0.01, False, True, False)\n",
      "##################################################################################################################################################################### 02 INVERSION CONFIGURE INPUT ################################################\n",
      "Inversion using FSeq with Gauss-Newton, reg=l2, alpha=0.01\n",
      "15/15 invertedr2inv 0    0.987998\n",
      "Name: all, dtype: object\n",
      "#################################################################################################################################################################### 03 DETERMINISTIC MODELLING ###################################################\n",
      "inv_columns Index(['EC_0.30', 'EC_0.60', 'EC_1.00', 'EC_2.00', 'EC_end'], dtype='object')\n",
      "current_results [{'Extract': 0.5, 'Samples location': 'mean', 'Interface': 'observed', 'Forward_Model': 'FSeq', 'Minimization_Method': 'Gauss-Newton', 'Alpha': 0.01, 'remove_coil': False, 'start_avg': True, 'constrain': False, 'Det': 'LT', 'R2': -10.425, 'RMSE': 0.176, 'MAE': 0.149, 'STD': 0.182, '0R2': 0.507, '0RMSE': 0.132, 'R2_INV': 0.9879983701033282}, {'Extract': 0.5, 'Samples location': 'mean', 'Interface': 'observed', 'Forward_Model': 'FSeq', 'Minimization_Method': 'Gauss-Newton', 'Alpha': 0.01, 'remove_coil': False, 'start_avg': True, 'constrain': False, 'Det': 'ID', 'R2': -11.268, 'RMSE': 0.172, 'MAE': 0.147, 'STD': 0.182, '0R2': 0.523, '0RMSE': 0.132, 'R2_INV': 0.9879983701033282}, {'Extract': 0.5, 'Samples location': 'mean', 'Interface': 'observed', 'Forward_Model': 'FSeq', 'Minimization_Method': 'Gauss-Newton', 'Alpha': 0.01, 'remove_coil': False, 'start_avg': True, 'constrain': False, 'Det': 'LS', 'R2': -10.193, 'RMSE': 0.174, 'MAE': 0.149, 'STD': 0.181, '0R2': 0.464, '0RMSE': 0.138, 'R2_INV': 0.9879983701033282}]\n",
      "Iteration: 6 Combination: (0.5, 'mean', 'observed', 'FSeq', 'Gauss-Newton', 0.01, False, False, True)\n",
      "##################################################################################################################################################################### 02 INVERSION CONFIGURE INPUT ################################################\n",
      "Constrained Inversion using FSeq with Gauss-Newton, reg=l2, alpha=0.01\n",
      "15/15 invertedr2inv 0    0.9894\n",
      "Name: all, dtype: object\n",
      "#################################################################################################################################################################### 03 DETERMINISTIC MODELLING ###################################################\n",
      "inv_columns Index(['EC_0.30', 'EC_0.60', 'EC_1.00', 'EC_2.00', 'EC_end'], dtype='object')\n",
      "current_results [{'Extract': 0.5, 'Samples location': 'mean', 'Interface': 'observed', 'Forward_Model': 'FSeq', 'Minimization_Method': 'Gauss-Newton', 'Alpha': 0.01, 'remove_coil': False, 'start_avg': False, 'constrain': True, 'Det': 'LT', 'R2': -11.154, 'RMSE': 0.178, 'MAE': 0.15, 'STD': 0.178, '0R2': 0.428, '0RMSE': 0.144, 'R2_INV': 0.9893995739404128}, {'Extract': 0.5, 'Samples location': 'mean', 'Interface': 'observed', 'Forward_Model': 'FSeq', 'Minimization_Method': 'Gauss-Newton', 'Alpha': 0.01, 'remove_coil': False, 'start_avg': False, 'constrain': True, 'Det': 'ID', 'R2': -11.459, 'RMSE': 0.176, 'MAE': 0.154, 'STD': 0.176, '0R2': 0.444, '0RMSE': 0.144, 'R2_INV': 0.9893995739404128}, {'Extract': 0.5, 'Samples location': 'mean', 'Interface': 'observed', 'Forward_Model': 'FSeq', 'Minimization_Method': 'Gauss-Newton', 'Alpha': 0.01, 'remove_coil': False, 'start_avg': False, 'constrain': True, 'Det': 'LS', 'R2': -10.851, 'RMSE': 0.178, 'MAE': 0.152, 'STD': 0.177, '0R2': 0.385, '0RMSE': 0.149, 'R2_INV': 0.9893995739404128}]\n",
      "Iteration: 7 Combination: (0.5, 'mean', 'observed', 'FSeq', 'Gauss-Newton', 0.01, False, False, False)\n",
      "##################################################################################################################################################################### 02 INVERSION CONFIGURE INPUT ################################################\n",
      "Inversion using FSeq with Gauss-Newton, reg=l2, alpha=0.01\n",
      "15/15 invertedr2inv 0    0.9894\n",
      "Name: all, dtype: object\n",
      "#################################################################################################################################################################### 03 DETERMINISTIC MODELLING ###################################################\n",
      "inv_columns Index(['EC_0.30', 'EC_0.60', 'EC_1.00', 'EC_2.00', 'EC_end'], dtype='object')\n",
      "current_results [{'Extract': 0.5, 'Samples location': 'mean', 'Interface': 'observed', 'Forward_Model': 'FSeq', 'Minimization_Method': 'Gauss-Newton', 'Alpha': 0.01, 'remove_coil': False, 'start_avg': False, 'constrain': False, 'Det': 'LT', 'R2': -11.154, 'RMSE': 0.178, 'MAE': 0.15, 'STD': 0.178, '0R2': 0.428, '0RMSE': 0.144, 'R2_INV': 0.9893995739404128}, {'Extract': 0.5, 'Samples location': 'mean', 'Interface': 'observed', 'Forward_Model': 'FSeq', 'Minimization_Method': 'Gauss-Newton', 'Alpha': 0.01, 'remove_coil': False, 'start_avg': False, 'constrain': False, 'Det': 'ID', 'R2': -11.459, 'RMSE': 0.176, 'MAE': 0.154, 'STD': 0.176, '0R2': 0.444, '0RMSE': 0.144, 'R2_INV': 0.9893995739404128}, {'Extract': 0.5, 'Samples location': 'mean', 'Interface': 'observed', 'Forward_Model': 'FSeq', 'Minimization_Method': 'Gauss-Newton', 'Alpha': 0.01, 'remove_coil': False, 'start_avg': False, 'constrain': False, 'Det': 'LS', 'R2': -10.851, 'RMSE': 0.178, 'MAE': 0.152, 'STD': 0.177, '0R2': 0.385, '0RMSE': 0.149, 'R2_INV': 0.9893995739404128}]\n",
      "Iteration: 8 Combination: (0.5, 'mean', 'observed', 'FSeq', 'Gauss-Newton', 0.07, True, True, True)\n",
      "##################################################################################################################################################################### 02 INVERSION CONFIGURE INPUT ################################################\n",
      "Constrained Inversion using FSeq with Gauss-Newton, reg=l2, alpha=0.07\n",
      "15/15 invertedr2inv 0    0.965101\n",
      "Name: all, dtype: object\n",
      "#################################################################################################################################################################### 03 DETERMINISTIC MODELLING ###################################################\n",
      "inv_columns Index(['EC_0.30', 'EC_0.60', 'EC_1.00', 'EC_2.00', 'EC_end'], dtype='object')\n",
      "current_results [{'Extract': 0.5, 'Samples location': 'mean', 'Interface': 'observed', 'Forward_Model': 'FSeq', 'Minimization_Method': 'Gauss-Newton', 'Alpha': 0.07, 'remove_coil': True, 'start_avg': True, 'constrain': True, 'Det': 'LT', 'R2': -15.703, 'RMSE': 0.203, 'MAE': 0.179, 'STD': 0.201, '0R2': 0.814, '0RMSE': 0.079, 'R2_INV': 0.9651009410285274}, {'Extract': 0.5, 'Samples location': 'mean', 'Interface': 'observed', 'Forward_Model': 'FSeq', 'Minimization_Method': 'Gauss-Newton', 'Alpha': 0.07, 'remove_coil': True, 'start_avg': True, 'constrain': True, 'Det': 'ID', 'R2': -12.904, 'RMSE': 0.185, 'MAE': 0.159, 'STD': 0.186, '0R2': 0.968, '0RMSE': 0.032, 'R2_INV': 0.9651009410285274}, {'Extract': 0.5, 'Samples location': 'mean', 'Interface': 'observed', 'Forward_Model': 'FSeq', 'Minimization_Method': 'Gauss-Newton', 'Alpha': 0.07, 'remove_coil': True, 'start_avg': True, 'constrain': True, 'Det': 'LS', 'R2': -15.482, 'RMSE': 0.202, 'MAE': 0.178, 'STD': 0.198, '0R2': 0.825, '0RMSE': 0.078, 'R2_INV': 0.9651009410285274}]\n",
      "Iteration: 9 Combination: (0.5, 'mean', 'observed', 'FSeq', 'Gauss-Newton', 0.07, True, True, False)\n",
      "##################################################################################################################################################################### 02 INVERSION CONFIGURE INPUT ################################################\n",
      "Inversion using FSeq with Gauss-Newton, reg=l2, alpha=0.07\n",
      "15/15 invertedr2inv 0    0.965101\n",
      "Name: all, dtype: object\n",
      "#################################################################################################################################################################### 03 DETERMINISTIC MODELLING ###################################################\n",
      "inv_columns Index(['EC_0.30', 'EC_0.60', 'EC_1.00', 'EC_2.00', 'EC_end'], dtype='object')\n",
      "current_results [{'Extract': 0.5, 'Samples location': 'mean', 'Interface': 'observed', 'Forward_Model': 'FSeq', 'Minimization_Method': 'Gauss-Newton', 'Alpha': 0.07, 'remove_coil': True, 'start_avg': True, 'constrain': False, 'Det': 'LT', 'R2': -15.703, 'RMSE': 0.203, 'MAE': 0.179, 'STD': 0.201, '0R2': 0.814, '0RMSE': 0.079, 'R2_INV': 0.9651009410285274}, {'Extract': 0.5, 'Samples location': 'mean', 'Interface': 'observed', 'Forward_Model': 'FSeq', 'Minimization_Method': 'Gauss-Newton', 'Alpha': 0.07, 'remove_coil': True, 'start_avg': True, 'constrain': False, 'Det': 'ID', 'R2': -12.904, 'RMSE': 0.185, 'MAE': 0.159, 'STD': 0.186, '0R2': 0.968, '0RMSE': 0.032, 'R2_INV': 0.9651009410285274}, {'Extract': 0.5, 'Samples location': 'mean', 'Interface': 'observed', 'Forward_Model': 'FSeq', 'Minimization_Method': 'Gauss-Newton', 'Alpha': 0.07, 'remove_coil': True, 'start_avg': True, 'constrain': False, 'Det': 'LS', 'R2': -15.482, 'RMSE': 0.202, 'MAE': 0.178, 'STD': 0.198, '0R2': 0.825, '0RMSE': 0.078, 'R2_INV': 0.9651009410285274}]\n",
      "Iteration: 10 Combination: (0.5, 'mean', 'observed', 'FSeq', 'Gauss-Newton', 0.07, True, False, True)\n",
      "##################################################################################################################################################################### 02 INVERSION CONFIGURE INPUT ################################################\n",
      "Constrained Inversion using FSeq with Gauss-Newton, reg=l2, alpha=0.07\n",
      "15/15 invertedr2inv 0    0.965417\n",
      "Name: all, dtype: object\n",
      "#################################################################################################################################################################### 03 DETERMINISTIC MODELLING ###################################################\n",
      "inv_columns Index(['EC_0.30', 'EC_0.60', 'EC_1.00', 'EC_2.00', 'EC_end'], dtype='object')\n",
      "current_results [{'Extract': 0.5, 'Samples location': 'mean', 'Interface': 'observed', 'Forward_Model': 'FSeq', 'Minimization_Method': 'Gauss-Newton', 'Alpha': 0.07, 'remove_coil': True, 'start_avg': False, 'constrain': True, 'Det': 'LT', 'R2': -15.243, 'RMSE': 0.202, 'MAE': 0.173, 'STD': 0.192, '0R2': 0.796, '0RMSE': 0.082, 'R2_INV': 0.965417434476558}, {'Extract': 0.5, 'Samples location': 'mean', 'Interface': 'observed', 'Forward_Model': 'FSeq', 'Minimization_Method': 'Gauss-Newton', 'Alpha': 0.07, 'remove_coil': True, 'start_avg': False, 'constrain': True, 'Det': 'ID', 'R2': -13.045, 'RMSE': 0.186, 'MAE': 0.156, 'STD': 0.178, '0R2': 0.931, '0RMSE': 0.046, 'R2_INV': 0.965417434476558}, {'Extract': 0.5, 'Samples location': 'mean', 'Interface': 'observed', 'Forward_Model': 'FSeq', 'Minimization_Method': 'Gauss-Newton', 'Alpha': 0.07, 'remove_coil': True, 'start_avg': False, 'constrain': True, 'Det': 'LS', 'R2': -15.131, 'RMSE': 0.202, 'MAE': 0.171, 'STD': 0.19, '0R2': 0.796, '0RMSE': 0.082, 'R2_INV': 0.965417434476558}]\n",
      "Iteration: 11 Combination: (0.5, 'mean', 'observed', 'FSeq', 'Gauss-Newton', 0.07, True, False, False)\n",
      "##################################################################################################################################################################### 02 INVERSION CONFIGURE INPUT ################################################\n",
      "Inversion using FSeq with Gauss-Newton, reg=l2, alpha=0.07\n",
      "15/15 invertedr2inv 0    0.965417\n",
      "Name: all, dtype: object\n",
      "#################################################################################################################################################################### 03 DETERMINISTIC MODELLING ###################################################\n",
      "inv_columns Index(['EC_0.30', 'EC_0.60', 'EC_1.00', 'EC_2.00', 'EC_end'], dtype='object')\n",
      "current_results [{'Extract': 0.5, 'Samples location': 'mean', 'Interface': 'observed', 'Forward_Model': 'FSeq', 'Minimization_Method': 'Gauss-Newton', 'Alpha': 0.07, 'remove_coil': True, 'start_avg': False, 'constrain': False, 'Det': 'LT', 'R2': -15.243, 'RMSE': 0.202, 'MAE': 0.173, 'STD': 0.192, '0R2': 0.796, '0RMSE': 0.082, 'R2_INV': 0.965417434476558}, {'Extract': 0.5, 'Samples location': 'mean', 'Interface': 'observed', 'Forward_Model': 'FSeq', 'Minimization_Method': 'Gauss-Newton', 'Alpha': 0.07, 'remove_coil': True, 'start_avg': False, 'constrain': False, 'Det': 'ID', 'R2': -13.045, 'RMSE': 0.186, 'MAE': 0.156, 'STD': 0.178, '0R2': 0.931, '0RMSE': 0.046, 'R2_INV': 0.965417434476558}, {'Extract': 0.5, 'Samples location': 'mean', 'Interface': 'observed', 'Forward_Model': 'FSeq', 'Minimization_Method': 'Gauss-Newton', 'Alpha': 0.07, 'remove_coil': True, 'start_avg': False, 'constrain': False, 'Det': 'LS', 'R2': -15.131, 'RMSE': 0.202, 'MAE': 0.171, 'STD': 0.19, '0R2': 0.796, '0RMSE': 0.082, 'R2_INV': 0.965417434476558}]\n",
      "Iteration: 12 Combination: (0.5, 'mean', 'observed', 'FSeq', 'Gauss-Newton', 0.07, False, True, True)\n",
      "##################################################################################################################################################################### 02 INVERSION CONFIGURE INPUT ################################################\n",
      "Constrained Inversion using FSeq with Gauss-Newton, reg=l2, alpha=0.07\n",
      "15/15 invertedr2inv 0    0.965285\n",
      "Name: all, dtype: object\n",
      "#################################################################################################################################################################### 03 DETERMINISTIC MODELLING ###################################################\n",
      "inv_columns Index(['EC_0.30', 'EC_0.60', 'EC_1.00', 'EC_2.00', 'EC_end'], dtype='object')\n",
      "current_results [{'Extract': 0.5, 'Samples location': 'mean', 'Interface': 'observed', 'Forward_Model': 'FSeq', 'Minimization_Method': 'Gauss-Newton', 'Alpha': 0.07, 'remove_coil': False, 'start_avg': True, 'constrain': True, 'Det': 'LT', 'R2': -14.99, 'RMSE': 0.2, 'MAE': 0.176, 'STD': 0.2, '0R2': 0.845, '0RMSE': 0.072, 'R2_INV': 0.965284756570462}, {'Extract': 0.5, 'Samples location': 'mean', 'Interface': 'observed', 'Forward_Model': 'FSeq', 'Minimization_Method': 'Gauss-Newton', 'Alpha': 0.07, 'remove_coil': False, 'start_avg': True, 'constrain': True, 'Det': 'ID', 'R2': -12.426, 'RMSE': 0.182, 'MAE': 0.16, 'STD': 0.184, '0R2': 0.988, '0RMSE': 0.021, 'R2_INV': 0.965284756570462}, {'Extract': 0.5, 'Samples location': 'mean', 'Interface': 'observed', 'Forward_Model': 'FSeq', 'Minimization_Method': 'Gauss-Newton', 'Alpha': 0.07, 'remove_coil': False, 'start_avg': True, 'constrain': True, 'Det': 'LS', 'R2': -14.541, 'RMSE': 0.2, 'MAE': 0.171, 'STD': 0.199, '0R2': 0.852, '0RMSE': 0.071, 'R2_INV': 0.965284756570462}]\n",
      "Iteration: 13 Combination: (0.5, 'mean', 'observed', 'FSeq', 'Gauss-Newton', 0.07, False, True, False)\n",
      "##################################################################################################################################################################### 02 INVERSION CONFIGURE INPUT ################################################\n",
      "Inversion using FSeq with Gauss-Newton, reg=l2, alpha=0.07\n",
      "15/15 invertedr2inv 0    0.965285\n",
      "Name: all, dtype: object\n",
      "#################################################################################################################################################################### 03 DETERMINISTIC MODELLING ###################################################\n",
      "inv_columns Index(['EC_0.30', 'EC_0.60', 'EC_1.00', 'EC_2.00', 'EC_end'], dtype='object')\n",
      "current_results [{'Extract': 0.5, 'Samples location': 'mean', 'Interface': 'observed', 'Forward_Model': 'FSeq', 'Minimization_Method': 'Gauss-Newton', 'Alpha': 0.07, 'remove_coil': False, 'start_avg': True, 'constrain': False, 'Det': 'LT', 'R2': -14.99, 'RMSE': 0.2, 'MAE': 0.176, 'STD': 0.2, '0R2': 0.845, '0RMSE': 0.072, 'R2_INV': 0.965284756570462}, {'Extract': 0.5, 'Samples location': 'mean', 'Interface': 'observed', 'Forward_Model': 'FSeq', 'Minimization_Method': 'Gauss-Newton', 'Alpha': 0.07, 'remove_coil': False, 'start_avg': True, 'constrain': False, 'Det': 'ID', 'R2': -12.426, 'RMSE': 0.182, 'MAE': 0.16, 'STD': 0.184, '0R2': 0.988, '0RMSE': 0.021, 'R2_INV': 0.965284756570462}, {'Extract': 0.5, 'Samples location': 'mean', 'Interface': 'observed', 'Forward_Model': 'FSeq', 'Minimization_Method': 'Gauss-Newton', 'Alpha': 0.07, 'remove_coil': False, 'start_avg': True, 'constrain': False, 'Det': 'LS', 'R2': -14.541, 'RMSE': 0.2, 'MAE': 0.171, 'STD': 0.199, '0R2': 0.852, '0RMSE': 0.071, 'R2_INV': 0.965284756570462}]\n",
      "Iteration: 14 Combination: (0.5, 'mean', 'observed', 'FSeq', 'Gauss-Newton', 0.07, False, False, True)\n",
      "##################################################################################################################################################################### 02 INVERSION CONFIGURE INPUT ################################################\n",
      "Constrained Inversion using FSeq with Gauss-Newton, reg=l2, alpha=0.07\n",
      "15/15 invertedr2inv 0    0.96696\n",
      "Name: all, dtype: object\n",
      "#################################################################################################################################################################### 03 DETERMINISTIC MODELLING ###################################################\n",
      "inv_columns Index(['EC_0.30', 'EC_0.60', 'EC_1.00', 'EC_2.00', 'EC_end'], dtype='object')\n",
      "current_results [{'Extract': 0.5, 'Samples location': 'mean', 'Interface': 'observed', 'Forward_Model': 'FSeq', 'Minimization_Method': 'Gauss-Newton', 'Alpha': 0.07, 'remove_coil': False, 'start_avg': False, 'constrain': True, 'Det': 'LT', 'R2': -14.591, 'RMSE': 0.198, 'MAE': 0.171, 'STD': 0.192, '0R2': 0.833, '0RMSE': 0.076, 'R2_INV': 0.9669603674495812}, {'Extract': 0.5, 'Samples location': 'mean', 'Interface': 'observed', 'Forward_Model': 'FSeq', 'Minimization_Method': 'Gauss-Newton', 'Alpha': 0.07, 'remove_coil': False, 'start_avg': False, 'constrain': True, 'Det': 'ID', 'R2': -12.235, 'RMSE': 0.181, 'MAE': 0.154, 'STD': 0.174, '0R2': 0.956, '0RMSE': 0.039, 'R2_INV': 0.9669603674495812}, {'Extract': 0.5, 'Samples location': 'mean', 'Interface': 'observed', 'Forward_Model': 'FSeq', 'Minimization_Method': 'Gauss-Newton', 'Alpha': 0.07, 'remove_coil': False, 'start_avg': False, 'constrain': True, 'Det': 'LS', 'R2': -14.667, 'RMSE': 0.198, 'MAE': 0.17, 'STD': 0.191, '0R2': 0.832, '0RMSE': 0.077, 'R2_INV': 0.9669603674495812}]\n",
      "Iteration: 15 Combination: (0.5, 'mean', 'observed', 'FSeq', 'Gauss-Newton', 0.07, False, False, False)\n",
      "##################################################################################################################################################################### 02 INVERSION CONFIGURE INPUT ################################################\n",
      "Inversion using FSeq with Gauss-Newton, reg=l2, alpha=0.07\n",
      "15/15 invertedr2inv 0    0.96696\n",
      "Name: all, dtype: object\n",
      "#################################################################################################################################################################### 03 DETERMINISTIC MODELLING ###################################################\n",
      "inv_columns Index(['EC_0.30', 'EC_0.60', 'EC_1.00', 'EC_2.00', 'EC_end'], dtype='object')\n",
      "current_results [{'Extract': 0.5, 'Samples location': 'mean', 'Interface': 'observed', 'Forward_Model': 'FSeq', 'Minimization_Method': 'Gauss-Newton', 'Alpha': 0.07, 'remove_coil': False, 'start_avg': False, 'constrain': False, 'Det': 'LT', 'R2': -14.591, 'RMSE': 0.198, 'MAE': 0.171, 'STD': 0.192, '0R2': 0.833, '0RMSE': 0.076, 'R2_INV': 0.9669603674495812}, {'Extract': 0.5, 'Samples location': 'mean', 'Interface': 'observed', 'Forward_Model': 'FSeq', 'Minimization_Method': 'Gauss-Newton', 'Alpha': 0.07, 'remove_coil': False, 'start_avg': False, 'constrain': False, 'Det': 'ID', 'R2': -12.235, 'RMSE': 0.181, 'MAE': 0.154, 'STD': 0.174, '0R2': 0.956, '0RMSE': 0.039, 'R2_INV': 0.9669603674495812}, {'Extract': 0.5, 'Samples location': 'mean', 'Interface': 'observed', 'Forward_Model': 'FSeq', 'Minimization_Method': 'Gauss-Newton', 'Alpha': 0.07, 'remove_coil': False, 'start_avg': False, 'constrain': False, 'Det': 'LS', 'R2': -14.667, 'RMSE': 0.198, 'MAE': 0.17, 'STD': 0.191, '0R2': 0.832, '0RMSE': 0.077, 'R2_INV': 0.9669603674495812}]\n",
      "Iteration: 16 Combination: (0.5, 'mean', 'observed', 'FSeq', 'Gauss-Newton', 0.2, True, True, True)\n",
      "##################################################################################################################################################################### 02 INVERSION CONFIGURE INPUT ################################################\n",
      "Constrained Inversion using FSeq with Gauss-Newton, reg=l2, alpha=0.2\n",
      "15/15 invertedr2inv 0    0.920941\n",
      "Name: all, dtype: object\n",
      "#################################################################################################################################################################### 03 DETERMINISTIC MODELLING ###################################################\n",
      "inv_columns Index(['EC_0.30', 'EC_0.60', 'EC_1.00', 'EC_2.00', 'EC_end'], dtype='object')\n",
      "current_results [{'Extract': 0.5, 'Samples location': 'mean', 'Interface': 'observed', 'Forward_Model': 'FSeq', 'Minimization_Method': 'Gauss-Newton', 'Alpha': 0.2, 'remove_coil': True, 'start_avg': True, 'constrain': True, 'Det': 'LT', 'R2': -17.384, 'RMSE': 0.216, 'MAE': 0.186, 'STD': 0.174, '0R2': 0.601, '0RMSE': 0.112, 'R2_INV': 0.9209405895451972}, {'Extract': 0.5, 'Samples location': 'mean', 'Interface': 'observed', 'Forward_Model': 'FSeq', 'Minimization_Method': 'Gauss-Newton', 'Alpha': 0.2, 'remove_coil': True, 'start_avg': True, 'constrain': True, 'Det': 'ID', 'R2': -15.336, 'RMSE': 0.205, 'MAE': 0.174, 'STD': 0.164, '0R2': 0.748, '0RMSE': 0.099, 'R2_INV': 0.9209405895451972}, {'Extract': 0.5, 'Samples location': 'mean', 'Interface': 'observed', 'Forward_Model': 'FSeq', 'Minimization_Method': 'Gauss-Newton', 'Alpha': 0.2, 'remove_coil': True, 'start_avg': True, 'constrain': True, 'Det': 'LS', 'R2': -17.104, 'RMSE': 0.214, 'MAE': 0.184, 'STD': 0.171, '0R2': 0.612, '0RMSE': 0.112, 'R2_INV': 0.9209405895451972}]\n",
      "Iteration: 17 Combination: (0.5, 'mean', 'observed', 'FSeq', 'Gauss-Newton', 0.2, True, True, False)\n",
      "##################################################################################################################################################################### 02 INVERSION CONFIGURE INPUT ################################################\n",
      "Inversion using FSeq with Gauss-Newton, reg=l2, alpha=0.2\n",
      "15/15 invertedr2inv 0    0.920941\n",
      "Name: all, dtype: object\n",
      "#################################################################################################################################################################### 03 DETERMINISTIC MODELLING ###################################################\n",
      "inv_columns Index(['EC_0.30', 'EC_0.60', 'EC_1.00', 'EC_2.00', 'EC_end'], dtype='object')\n",
      "current_results [{'Extract': 0.5, 'Samples location': 'mean', 'Interface': 'observed', 'Forward_Model': 'FSeq', 'Minimization_Method': 'Gauss-Newton', 'Alpha': 0.2, 'remove_coil': True, 'start_avg': True, 'constrain': False, 'Det': 'LT', 'R2': -17.384, 'RMSE': 0.216, 'MAE': 0.186, 'STD': 0.174, '0R2': 0.601, '0RMSE': 0.112, 'R2_INV': 0.9209405895451972}, {'Extract': 0.5, 'Samples location': 'mean', 'Interface': 'observed', 'Forward_Model': 'FSeq', 'Minimization_Method': 'Gauss-Newton', 'Alpha': 0.2, 'remove_coil': True, 'start_avg': True, 'constrain': False, 'Det': 'ID', 'R2': -15.336, 'RMSE': 0.205, 'MAE': 0.174, 'STD': 0.164, '0R2': 0.748, '0RMSE': 0.099, 'R2_INV': 0.9209405895451972}, {'Extract': 0.5, 'Samples location': 'mean', 'Interface': 'observed', 'Forward_Model': 'FSeq', 'Minimization_Method': 'Gauss-Newton', 'Alpha': 0.2, 'remove_coil': True, 'start_avg': True, 'constrain': False, 'Det': 'LS', 'R2': -17.104, 'RMSE': 0.214, 'MAE': 0.184, 'STD': 0.171, '0R2': 0.612, '0RMSE': 0.112, 'R2_INV': 0.9209405895451972}]\n",
      "Iteration: 18 Combination: (0.5, 'mean', 'observed', 'FSeq', 'Gauss-Newton', 0.2, True, False, True)\n",
      "##################################################################################################################################################################### 02 INVERSION CONFIGURE INPUT ################################################\n",
      "Constrained Inversion using FSeq with Gauss-Newton, reg=l2, alpha=0.2\n",
      "15/15 invertedr2inv 0    0.917875\n",
      "Name: all, dtype: object\n",
      "#################################################################################################################################################################### 03 DETERMINISTIC MODELLING ###################################################\n",
      "inv_columns Index(['EC_0.30', 'EC_0.60', 'EC_1.00', 'EC_2.00', 'EC_end'], dtype='object')\n",
      "current_results [{'Extract': 0.5, 'Samples location': 'mean', 'Interface': 'observed', 'Forward_Model': 'FSeq', 'Minimization_Method': 'Gauss-Newton', 'Alpha': 0.2, 'remove_coil': True, 'start_avg': False, 'constrain': True, 'Det': 'LT', 'R2': -17.518, 'RMSE': 0.216, 'MAE': 0.189, 'STD': 0.159, '0R2': 0.546, '0RMSE': 0.122, 'R2_INV': 0.9178751515161172}, {'Extract': 0.5, 'Samples location': 'mean', 'Interface': 'observed', 'Forward_Model': 'FSeq', 'Minimization_Method': 'Gauss-Newton', 'Alpha': 0.2, 'remove_coil': True, 'start_avg': False, 'constrain': True, 'Det': 'ID', 'R2': -15.972, 'RMSE': 0.209, 'MAE': 0.183, 'STD': 0.154, '0R2': 0.666, '0RMSE': 0.112, 'R2_INV': 0.9178751515161172}, {'Extract': 0.5, 'Samples location': 'mean', 'Interface': 'observed', 'Forward_Model': 'FSeq', 'Minimization_Method': 'Gauss-Newton', 'Alpha': 0.2, 'remove_coil': True, 'start_avg': False, 'constrain': True, 'Det': 'LS', 'R2': -17.55, 'RMSE': 0.216, 'MAE': 0.188, 'STD': 0.157, '0R2': 0.536, '0RMSE': 0.122, 'R2_INV': 0.9178751515161172}]\n",
      "Iteration: 19 Combination: (0.5, 'mean', 'observed', 'FSeq', 'Gauss-Newton', 0.2, True, False, False)\n",
      "##################################################################################################################################################################### 02 INVERSION CONFIGURE INPUT ################################################\n",
      "Inversion using FSeq with Gauss-Newton, reg=l2, alpha=0.2\n",
      "15/15 invertedr2inv 0    0.917875\n",
      "Name: all, dtype: object\n",
      "#################################################################################################################################################################### 03 DETERMINISTIC MODELLING ###################################################\n",
      "inv_columns Index(['EC_0.30', 'EC_0.60', 'EC_1.00', 'EC_2.00', 'EC_end'], dtype='object')\n",
      "current_results [{'Extract': 0.5, 'Samples location': 'mean', 'Interface': 'observed', 'Forward_Model': 'FSeq', 'Minimization_Method': 'Gauss-Newton', 'Alpha': 0.2, 'remove_coil': True, 'start_avg': False, 'constrain': False, 'Det': 'LT', 'R2': -17.518, 'RMSE': 0.216, 'MAE': 0.189, 'STD': 0.159, '0R2': 0.546, '0RMSE': 0.122, 'R2_INV': 0.9178751515161172}, {'Extract': 0.5, 'Samples location': 'mean', 'Interface': 'observed', 'Forward_Model': 'FSeq', 'Minimization_Method': 'Gauss-Newton', 'Alpha': 0.2, 'remove_coil': True, 'start_avg': False, 'constrain': False, 'Det': 'ID', 'R2': -15.972, 'RMSE': 0.209, 'MAE': 0.183, 'STD': 0.154, '0R2': 0.666, '0RMSE': 0.112, 'R2_INV': 0.9178751515161172}, {'Extract': 0.5, 'Samples location': 'mean', 'Interface': 'observed', 'Forward_Model': 'FSeq', 'Minimization_Method': 'Gauss-Newton', 'Alpha': 0.2, 'remove_coil': True, 'start_avg': False, 'constrain': False, 'Det': 'LS', 'R2': -17.55, 'RMSE': 0.216, 'MAE': 0.188, 'STD': 0.157, '0R2': 0.536, '0RMSE': 0.122, 'R2_INV': 0.9178751515161172}]\n",
      "Iteration: 20 Combination: (0.5, 'mean', 'observed', 'FSeq', 'Gauss-Newton', 0.2, False, True, True)\n",
      "##################################################################################################################################################################### 02 INVERSION CONFIGURE INPUT ################################################\n",
      "Constrained Inversion using FSeq with Gauss-Newton, reg=l2, alpha=0.2\n",
      "15/15 invertedr2inv 0    0.928666\n",
      "Name: all, dtype: object\n",
      "#################################################################################################################################################################### 03 DETERMINISTIC MODELLING ###################################################\n",
      "inv_columns Index(['EC_0.30', 'EC_0.60', 'EC_1.00', 'EC_2.00', 'EC_end'], dtype='object')\n",
      "current_results [{'Extract': 0.5, 'Samples location': 'mean', 'Interface': 'observed', 'Forward_Model': 'FSeq', 'Minimization_Method': 'Gauss-Newton', 'Alpha': 0.2, 'remove_coil': False, 'start_avg': True, 'constrain': True, 'Det': 'LT', 'R2': -16.402, 'RMSE': 0.21, 'MAE': 0.178, 'STD': 0.187, '0R2': 0.704, '0RMSE': 0.098, 'R2_INV': 0.9286663275854466}, {'Extract': 0.5, 'Samples location': 'mean', 'Interface': 'observed', 'Forward_Model': 'FSeq', 'Minimization_Method': 'Gauss-Newton', 'Alpha': 0.2, 'remove_coil': False, 'start_avg': True, 'constrain': True, 'Det': 'ID', 'R2': -14.369, 'RMSE': 0.198, 'MAE': 0.162, 'STD': 0.176, '0R2': 0.855, '0RMSE': 0.074, 'R2_INV': 0.9286663275854466}, {'Extract': 0.5, 'Samples location': 'mean', 'Interface': 'observed', 'Forward_Model': 'FSeq', 'Minimization_Method': 'Gauss-Newton', 'Alpha': 0.2, 'remove_coil': False, 'start_avg': True, 'constrain': True, 'Det': 'LS', 'R2': -16.391, 'RMSE': 0.208, 'MAE': 0.176, 'STD': 0.185, '0R2': 0.712, '0RMSE': 0.097, 'R2_INV': 0.9286663275854466}]\n",
      "Iteration: 21 Combination: (0.5, 'mean', 'observed', 'FSeq', 'Gauss-Newton', 0.2, False, True, False)\n",
      "##################################################################################################################################################################### 02 INVERSION CONFIGURE INPUT ################################################\n",
      "Inversion using FSeq with Gauss-Newton, reg=l2, alpha=0.2\n",
      "15/15 invertedr2inv 0    0.928666\n",
      "Name: all, dtype: object\n",
      "#################################################################################################################################################################### 03 DETERMINISTIC MODELLING ###################################################\n",
      "inv_columns Index(['EC_0.30', 'EC_0.60', 'EC_1.00', 'EC_2.00', 'EC_end'], dtype='object')\n",
      "current_results [{'Extract': 0.5, 'Samples location': 'mean', 'Interface': 'observed', 'Forward_Model': 'FSeq', 'Minimization_Method': 'Gauss-Newton', 'Alpha': 0.2, 'remove_coil': False, 'start_avg': True, 'constrain': False, 'Det': 'LT', 'R2': -16.402, 'RMSE': 0.21, 'MAE': 0.178, 'STD': 0.187, '0R2': 0.704, '0RMSE': 0.098, 'R2_INV': 0.9286663275854466}, {'Extract': 0.5, 'Samples location': 'mean', 'Interface': 'observed', 'Forward_Model': 'FSeq', 'Minimization_Method': 'Gauss-Newton', 'Alpha': 0.2, 'remove_coil': False, 'start_avg': True, 'constrain': False, 'Det': 'ID', 'R2': -14.369, 'RMSE': 0.198, 'MAE': 0.162, 'STD': 0.176, '0R2': 0.855, '0RMSE': 0.074, 'R2_INV': 0.9286663275854466}, {'Extract': 0.5, 'Samples location': 'mean', 'Interface': 'observed', 'Forward_Model': 'FSeq', 'Minimization_Method': 'Gauss-Newton', 'Alpha': 0.2, 'remove_coil': False, 'start_avg': True, 'constrain': False, 'Det': 'LS', 'R2': -16.391, 'RMSE': 0.208, 'MAE': 0.176, 'STD': 0.185, '0R2': 0.712, '0RMSE': 0.097, 'R2_INV': 0.9286663275854466}]\n",
      "Iteration: 22 Combination: (0.5, 'mean', 'observed', 'FSeq', 'Gauss-Newton', 0.2, False, False, True)\n",
      "##################################################################################################################################################################### 02 INVERSION CONFIGURE INPUT ################################################\n",
      "Constrained Inversion using FSeq with Gauss-Newton, reg=l2, alpha=0.2\n",
      "15/15 invertedr2inv 0    0.927893\n",
      "Name: all, dtype: object\n",
      "#################################################################################################################################################################### 03 DETERMINISTIC MODELLING ###################################################\n",
      "inv_columns Index(['EC_0.30', 'EC_0.60', 'EC_1.00', 'EC_2.00', 'EC_end'], dtype='object')\n",
      "current_results [{'Extract': 0.5, 'Samples location': 'mean', 'Interface': 'observed', 'Forward_Model': 'FSeq', 'Minimization_Method': 'Gauss-Newton', 'Alpha': 0.2, 'remove_coil': False, 'start_avg': False, 'constrain': True, 'Det': 'LT', 'R2': -16.03, 'RMSE': 0.204, 'MAE': 0.174, 'STD': 0.172, '0R2': 0.661, '0RMSE': 0.106, 'R2_INV': 0.9278931317027704}, {'Extract': 0.5, 'Samples location': 'mean', 'Interface': 'observed', 'Forward_Model': 'FSeq', 'Minimization_Method': 'Gauss-Newton', 'Alpha': 0.2, 'remove_coil': False, 'start_avg': False, 'constrain': True, 'Det': 'ID', 'R2': -14.391, 'RMSE': 0.198, 'MAE': 0.168, 'STD': 0.164, '0R2': 0.8, '0RMSE': 0.088, 'R2_INV': 0.9278931317027704}, {'Extract': 0.5, 'Samples location': 'mean', 'Interface': 'observed', 'Forward_Model': 'FSeq', 'Minimization_Method': 'Gauss-Newton', 'Alpha': 0.2, 'remove_coil': False, 'start_avg': False, 'constrain': True, 'Det': 'LS', 'R2': -16.014, 'RMSE': 0.203, 'MAE': 0.173, 'STD': 0.171, '0R2': 0.661, '0RMSE': 0.106, 'R2_INV': 0.9278931317027704}]\n",
      "Iteration: 23 Combination: (0.5, 'mean', 'observed', 'FSeq', 'Gauss-Newton', 0.2, False, False, False)\n",
      "##################################################################################################################################################################### 02 INVERSION CONFIGURE INPUT ################################################\n",
      "Inversion using FSeq with Gauss-Newton, reg=l2, alpha=0.2\n",
      "15/15 invertedr2inv 0    0.927893\n",
      "Name: all, dtype: object\n",
      "#################################################################################################################################################################### 03 DETERMINISTIC MODELLING ###################################################\n",
      "inv_columns Index(['EC_0.30', 'EC_0.60', 'EC_1.00', 'EC_2.00', 'EC_end'], dtype='object')\n",
      "current_results [{'Extract': 0.5, 'Samples location': 'mean', 'Interface': 'observed', 'Forward_Model': 'FSeq', 'Minimization_Method': 'Gauss-Newton', 'Alpha': 0.2, 'remove_coil': False, 'start_avg': False, 'constrain': False, 'Det': 'LT', 'R2': -16.03, 'RMSE': 0.204, 'MAE': 0.174, 'STD': 0.172, '0R2': 0.661, '0RMSE': 0.106, 'R2_INV': 0.9278931317027704}, {'Extract': 0.5, 'Samples location': 'mean', 'Interface': 'observed', 'Forward_Model': 'FSeq', 'Minimization_Method': 'Gauss-Newton', 'Alpha': 0.2, 'remove_coil': False, 'start_avg': False, 'constrain': False, 'Det': 'ID', 'R2': -14.391, 'RMSE': 0.198, 'MAE': 0.168, 'STD': 0.164, '0R2': 0.8, '0RMSE': 0.088, 'R2_INV': 0.9278931317027704}, {'Extract': 0.5, 'Samples location': 'mean', 'Interface': 'observed', 'Forward_Model': 'FSeq', 'Minimization_Method': 'Gauss-Newton', 'Alpha': 0.2, 'remove_coil': False, 'start_avg': False, 'constrain': False, 'Det': 'LS', 'R2': -16.014, 'RMSE': 0.203, 'MAE': 0.173, 'STD': 0.171, '0R2': 0.661, '0RMSE': 0.106, 'R2_INV': 0.9278931317027704}]\n",
      "Iteration: 24 Combination: (0.5, 'mean', 'observed', 'FSeq', 'ROPE', 0.01, True, True, True)\n",
      "##################################################################################################################################################################### 02 INVERSION CONFIGURE INPUT ################################################\n"
     ]
    },
    {
     "name": "stderr",
     "output_type": "stream",
     "text": [
      "100%|██████████| 15/15 [00:00<00:00, 2267.44it/s]"
     ]
    },
    {
     "name": "stdout",
     "output_type": "stream",
     "text": [
      "Constrained inversion using FSeq with ROPE, reg=l2, alpha=0.01\n"
     ]
    },
    {
     "name": "stderr",
     "output_type": "stream",
     "text": [
      "\n"
     ]
    },
    {
     "name": "stdout",
     "output_type": "stream",
     "text": [
      "Error in // inversion: Failed to converge after 50 iterations, value is 1.4729169992315487.\n",
      "CRASH\n",
      "Iteration: 24 Combination: (0.5, 'mean', 'observed', 'FSeq', 'ROPE', 0.01, True, True, False)\n",
      "##################################################################################################################################################################### 02 INVERSION CONFIGURE INPUT ################################################\n"
     ]
    },
    {
     "name": "stderr",
     "output_type": "stream",
     "text": [
      "100%|██████████| 15/15 [00:00<00:00, 1661.86it/s]"
     ]
    },
    {
     "name": "stdout",
     "output_type": "stream",
     "text": [
      "Inversion using FSeq with ROPE, reg=l2, alpha=0.01\n"
     ]
    },
    {
     "name": "stderr",
     "output_type": "stream",
     "text": [
      "\n"
     ]
    },
    {
     "name": "stdout",
     "output_type": "stream",
     "text": [
      "r2inv 0   -185.891425\n",
      "Name: all, dtype: object\n",
      "FAILED\n",
      "Iteration: 25 Combination: (0.5, 'mean', 'observed', 'FSeq', 'ROPE', 0.01, True, False, True)\n",
      "##################################################################################################################################################################### 02 INVERSION CONFIGURE INPUT ################################################\n"
     ]
    },
    {
     "name": "stderr",
     "output_type": "stream",
     "text": [
      "100%|██████████| 15/15 [00:00<?, ?it/s]"
     ]
    },
    {
     "name": "stdout",
     "output_type": "stream",
     "text": [
      "Constrained inversion using FSeq with ROPE, reg=l2, alpha=0.01\n"
     ]
    },
    {
     "name": "stderr",
     "output_type": "stream",
     "text": [
      "\n"
     ]
    },
    {
     "name": "stdout",
     "output_type": "stream",
     "text": [
      "Error in // inversion: Failed to converge after 50 iterations, value is 0.5731812792302633.\n",
      "CRASH\n",
      "Iteration: 25 Combination: (0.5, 'mean', 'observed', 'FSeq', 'ROPE', 0.01, True, False, False)\n",
      "##################################################################################################################################################################### 02 INVERSION CONFIGURE INPUT ################################################\n"
     ]
    },
    {
     "name": "stderr",
     "output_type": "stream",
     "text": [
      "100%|██████████| 15/15 [00:00<00:00, 4172.61it/s]"
     ]
    },
    {
     "name": "stdout",
     "output_type": "stream",
     "text": [
      "Inversion using FSeq with ROPE, reg=l2, alpha=0.01\n"
     ]
    },
    {
     "name": "stderr",
     "output_type": "stream",
     "text": [
      "\n"
     ]
    },
    {
     "name": "stdout",
     "output_type": "stream",
     "text": [
      "r2inv 0   -192.66914\n",
      "Name: all, dtype: object\n",
      "FAILED\n",
      "Iteration: 26 Combination: (0.5, 'mean', 'observed', 'FSeq', 'ROPE', 0.01, False, True, True)\n",
      "##################################################################################################################################################################### 02 INVERSION CONFIGURE INPUT ################################################\n"
     ]
    },
    {
     "name": "stderr",
     "output_type": "stream",
     "text": [
      "100%|██████████| 15/15 [00:00<?, ?it/s]"
     ]
    },
    {
     "name": "stdout",
     "output_type": "stream",
     "text": [
      "Constrained inversion using FSeq with ROPE, reg=l2, alpha=0.01\n"
     ]
    },
    {
     "name": "stderr",
     "output_type": "stream",
     "text": [
      "\n"
     ]
    },
    {
     "name": "stdout",
     "output_type": "stream",
     "text": [
      "Error in // inversion: Failed to converge after 50 iterations, value is 1.4117943362514698.\n",
      "CRASH\n",
      "Iteration: 26 Combination: (0.5, 'mean', 'observed', 'FSeq', 'ROPE', 0.01, False, True, False)\n",
      "##################################################################################################################################################################### 02 INVERSION CONFIGURE INPUT ################################################\n"
     ]
    },
    {
     "name": "stderr",
     "output_type": "stream",
     "text": [
      "100%|██████████| 15/15 [00:00<00:00, 7611.25it/s]"
     ]
    },
    {
     "name": "stdout",
     "output_type": "stream",
     "text": [
      "Inversion using FSeq with ROPE, reg=l2, alpha=0.01\n"
     ]
    },
    {
     "name": "stderr",
     "output_type": "stream",
     "text": [
      "\n"
     ]
    },
    {
     "name": "stdout",
     "output_type": "stream",
     "text": [
      "r2inv 0   -212.591747\n",
      "Name: all, dtype: object\n",
      "FAILED\n",
      "Iteration: 27 Combination: (0.5, 'mean', 'observed', 'FSeq', 'ROPE', 0.01, False, False, True)\n",
      "##################################################################################################################################################################### 02 INVERSION CONFIGURE INPUT ################################################\n"
     ]
    },
    {
     "name": "stderr",
     "output_type": "stream",
     "text": [
      "100%|██████████| 15/15 [00:00<?, ?it/s]"
     ]
    },
    {
     "name": "stdout",
     "output_type": "stream",
     "text": [
      "Constrained inversion using FSeq with ROPE, reg=l2, alpha=0.01\n"
     ]
    },
    {
     "name": "stderr",
     "output_type": "stream",
     "text": [
      "\n"
     ]
    },
    {
     "name": "stdout",
     "output_type": "stream",
     "text": [
      "Error in // inversion: Failed to converge after 50 iterations, value is 1.3309082908456256.\n",
      "CRASH\n",
      "Iteration: 27 Combination: (0.5, 'mean', 'observed', 'FSeq', 'ROPE', 0.01, False, False, False)\n",
      "##################################################################################################################################################################### 02 INVERSION CONFIGURE INPUT ################################################\n"
     ]
    },
    {
     "name": "stderr",
     "output_type": "stream",
     "text": [
      "100%|██████████| 15/15 [00:00<00:00, 7393.88it/s]"
     ]
    },
    {
     "name": "stdout",
     "output_type": "stream",
     "text": [
      "Inversion using FSeq with ROPE, reg=l2, alpha=0.01\n"
     ]
    },
    {
     "name": "stderr",
     "output_type": "stream",
     "text": [
      "\n"
     ]
    },
    {
     "name": "stdout",
     "output_type": "stream",
     "text": [
      "r2inv 0   -219.546863\n",
      "Name: all, dtype: object\n",
      "FAILED\n",
      "Iteration: 28 Combination: (0.5, 'mean', 'observed', 'FSeq', 'ROPE', 0.07, True, True, True)\n",
      "##################################################################################################################################################################### 02 INVERSION CONFIGURE INPUT ################################################\n"
     ]
    },
    {
     "name": "stderr",
     "output_type": "stream",
     "text": [
      "100%|██████████| 15/15 [00:00<?, ?it/s]"
     ]
    },
    {
     "name": "stdout",
     "output_type": "stream",
     "text": [
      "Constrained inversion using FSeq with ROPE, reg=l2, alpha=0.07\n"
     ]
    },
    {
     "name": "stderr",
     "output_type": "stream",
     "text": [
      "\n"
     ]
    },
    {
     "name": "stdout",
     "output_type": "stream",
     "text": [
      "Error in // inversion: Failed to converge after 50 iterations, value is -1.9969464875092087.\n",
      "CRASH\n",
      "Iteration: 28 Combination: (0.5, 'mean', 'observed', 'FSeq', 'ROPE', 0.07, True, True, False)\n",
      "##################################################################################################################################################################### 02 INVERSION CONFIGURE INPUT ################################################\n"
     ]
    },
    {
     "name": "stderr",
     "output_type": "stream",
     "text": [
      "100%|██████████| 15/15 [00:00<00:00, 7391.28it/s]"
     ]
    },
    {
     "name": "stdout",
     "output_type": "stream",
     "text": [
      "Inversion using FSeq with ROPE, reg=l2, alpha=0.07\n"
     ]
    },
    {
     "name": "stderr",
     "output_type": "stream",
     "text": [
      "\n"
     ]
    },
    {
     "name": "stdout",
     "output_type": "stream",
     "text": [
      "r2inv 0   -168.085315\n",
      "Name: all, dtype: object\n",
      "FAILED\n",
      "Iteration: 29 Combination: (0.5, 'mean', 'observed', 'FSeq', 'ROPE', 0.07, True, False, True)\n",
      "##################################################################################################################################################################### 02 INVERSION CONFIGURE INPUT ################################################\n"
     ]
    },
    {
     "name": "stderr",
     "output_type": "stream",
     "text": [
      "100%|██████████| 15/15 [00:00<00:00, 17782.52it/s]"
     ]
    },
    {
     "name": "stdout",
     "output_type": "stream",
     "text": [
      "Constrained inversion using FSeq with ROPE, reg=l2, alpha=0.07\n"
     ]
    },
    {
     "name": "stderr",
     "output_type": "stream",
     "text": [
      "\n"
     ]
    },
    {
     "name": "stdout",
     "output_type": "stream",
     "text": [
      "Error in // inversion: Failed to converge after 50 iterations, value is 2.0192588126173856.\n",
      "CRASH\n",
      "Iteration: 29 Combination: (0.5, 'mean', 'observed', 'FSeq', 'ROPE', 0.07, True, False, False)\n",
      "##################################################################################################################################################################### 02 INVERSION CONFIGURE INPUT ################################################\n"
     ]
    },
    {
     "name": "stderr",
     "output_type": "stream",
     "text": [
      "100%|██████████| 15/15 [00:00<00:00, 3199.80it/s]"
     ]
    },
    {
     "name": "stdout",
     "output_type": "stream",
     "text": [
      "Inversion using FSeq with ROPE, reg=l2, alpha=0.07\n"
     ]
    },
    {
     "name": "stderr",
     "output_type": "stream",
     "text": [
      "\n"
     ]
    },
    {
     "name": "stdout",
     "output_type": "stream",
     "text": [
      "r2inv 0   -174.325751\n",
      "Name: all, dtype: object\n",
      "FAILED\n",
      "Iteration: 30 Combination: (0.5, 'mean', 'observed', 'FSeq', 'ROPE', 0.07, False, True, True)\n",
      "##################################################################################################################################################################### 02 INVERSION CONFIGURE INPUT ################################################\n"
     ]
    },
    {
     "name": "stderr",
     "output_type": "stream",
     "text": [
      "100%|██████████| 15/15 [00:00<?, ?it/s]"
     ]
    },
    {
     "name": "stdout",
     "output_type": "stream",
     "text": [
      "Constrained inversion using FSeq with ROPE, reg=l2, alpha=0.07\n"
     ]
    },
    {
     "name": "stderr",
     "output_type": "stream",
     "text": [
      "\n"
     ]
    },
    {
     "name": "stdout",
     "output_type": "stream",
     "text": [
      "Error in // inversion: Tolerance of 1.1682163477511326e+42 reached. Failed to converge after 41 iterations, value is 1.1682163477511333e+42.\n",
      "CRASH\n",
      "Iteration: 30 Combination: (0.5, 'mean', 'observed', 'FSeq', 'ROPE', 0.07, False, True, False)\n",
      "##################################################################################################################################################################### 02 INVERSION CONFIGURE INPUT ################################################\n"
     ]
    },
    {
     "name": "stderr",
     "output_type": "stream",
     "text": [
      "100%|██████████| 15/15 [00:00<?, ?it/s]"
     ]
    },
    {
     "name": "stdout",
     "output_type": "stream",
     "text": [
      "Inversion using FSeq with ROPE, reg=l2, alpha=0.07\n"
     ]
    },
    {
     "name": "stderr",
     "output_type": "stream",
     "text": [
      "\n"
     ]
    },
    {
     "name": "stdout",
     "output_type": "stream",
     "text": [
      "r2inv 0   -233.617771\n",
      "Name: all, dtype: object\n",
      "FAILED\n",
      "Iteration: 31 Combination: (0.5, 'mean', 'observed', 'FSeq', 'ROPE', 0.07, False, False, True)\n",
      "##################################################################################################################################################################### 02 INVERSION CONFIGURE INPUT ################################################\n"
     ]
    },
    {
     "name": "stderr",
     "output_type": "stream",
     "text": [
      "100%|██████████| 15/15 [00:00<00:00, 12038.76it/s]"
     ]
    },
    {
     "name": "stdout",
     "output_type": "stream",
     "text": [
      "Constrained inversion using FSeq with ROPE, reg=l2, alpha=0.07\n"
     ]
    },
    {
     "name": "stderr",
     "output_type": "stream",
     "text": [
      "\n"
     ]
    },
    {
     "name": "stdout",
     "output_type": "stream",
     "text": [
      "Error in // inversion: Failed to converge after 50 iterations, value is 0.9434239040032529.\n",
      "CRASH\n",
      "Iteration: 31 Combination: (0.5, 'mean', 'observed', 'FSeq', 'ROPE', 0.07, False, False, False)\n",
      "##################################################################################################################################################################### 02 INVERSION CONFIGURE INPUT ################################################\n"
     ]
    },
    {
     "name": "stderr",
     "output_type": "stream",
     "text": [
      "100%|██████████| 15/15 [00:00<?, ?it/s]"
     ]
    },
    {
     "name": "stdout",
     "output_type": "stream",
     "text": [
      "Inversion using FSeq with ROPE, reg=l2, alpha=0.07\n"
     ]
    },
    {
     "name": "stderr",
     "output_type": "stream",
     "text": [
      "\n"
     ]
    },
    {
     "name": "stdout",
     "output_type": "stream",
     "text": [
      "r2inv 0   -168.727711\n",
      "Name: all, dtype: object\n",
      "FAILED\n",
      "Iteration: 32 Combination: (0.5, 'mean', 'observed', 'FSeq', 'ROPE', 0.2, True, True, True)\n",
      "##################################################################################################################################################################### 02 INVERSION CONFIGURE INPUT ################################################\n"
     ]
    },
    {
     "name": "stderr",
     "output_type": "stream",
     "text": [
      "100%|██████████| 15/15 [00:00<00:00, 15018.99it/s]"
     ]
    },
    {
     "name": "stdout",
     "output_type": "stream",
     "text": [
      "Constrained inversion using FSeq with ROPE, reg=l2, alpha=0.2\n"
     ]
    },
    {
     "name": "stderr",
     "output_type": "stream",
     "text": [
      "\n"
     ]
    },
    {
     "name": "stdout",
     "output_type": "stream",
     "text": [
      "Error in // inversion: Failed to converge after 50 iterations, value is 1.0724806250766308.\n",
      "CRASH\n",
      "Iteration: 32 Combination: (0.5, 'mean', 'observed', 'FSeq', 'ROPE', 0.2, True, True, False)\n",
      "##################################################################################################################################################################### 02 INVERSION CONFIGURE INPUT ################################################\n"
     ]
    },
    {
     "name": "stderr",
     "output_type": "stream",
     "text": [
      "100%|██████████| 15/15 [00:00<00:00, 1805.71it/s]"
     ]
    },
    {
     "name": "stdout",
     "output_type": "stream",
     "text": [
      "Inversion using FSeq with ROPE, reg=l2, alpha=0.2\n"
     ]
    },
    {
     "name": "stderr",
     "output_type": "stream",
     "text": [
      "\n"
     ]
    },
    {
     "name": "stdout",
     "output_type": "stream",
     "text": [
      "r2inv 0   -217.491329\n",
      "Name: all, dtype: object\n",
      "FAILED\n",
      "Iteration: 33 Combination: (0.5, 'mean', 'observed', 'FSeq', 'ROPE', 0.2, True, False, True)\n",
      "##################################################################################################################################################################### 02 INVERSION CONFIGURE INPUT ################################################\n"
     ]
    },
    {
     "name": "stderr",
     "output_type": "stream",
     "text": [
      "100%|██████████| 15/15 [00:00<00:00, 7862.35it/s]"
     ]
    },
    {
     "name": "stdout",
     "output_type": "stream",
     "text": [
      "Constrained inversion using FSeq with ROPE, reg=l2, alpha=0.2\n"
     ]
    },
    {
     "name": "stderr",
     "output_type": "stream",
     "text": [
      "\n"
     ]
    },
    {
     "name": "stdout",
     "output_type": "stream",
     "text": [
      "Error in // inversion: Failed to converge after 50 iterations, value is 0.480075185737674.\n",
      "CRASH\n",
      "Iteration: 33 Combination: (0.5, 'mean', 'observed', 'FSeq', 'ROPE', 0.2, True, False, False)\n",
      "##################################################################################################################################################################### 02 INVERSION CONFIGURE INPUT ################################################\n"
     ]
    },
    {
     "name": "stderr",
     "output_type": "stream",
     "text": [
      "100%|██████████| 15/15 [00:00<00:00, 4982.94it/s]"
     ]
    },
    {
     "name": "stdout",
     "output_type": "stream",
     "text": [
      "Inversion using FSeq with ROPE, reg=l2, alpha=0.2\n"
     ]
    },
    {
     "name": "stderr",
     "output_type": "stream",
     "text": [
      "\n"
     ]
    },
    {
     "name": "stdout",
     "output_type": "stream",
     "text": [
      "r2inv 0   -196.573143\n",
      "Name: all, dtype: object\n",
      "FAILED\n",
      "Iteration: 34 Combination: (0.5, 'mean', 'observed', 'FSeq', 'ROPE', 0.2, False, True, True)\n",
      "##################################################################################################################################################################### 02 INVERSION CONFIGURE INPUT ################################################\n"
     ]
    },
    {
     "name": "stderr",
     "output_type": "stream",
     "text": [
      "100%|██████████| 15/15 [00:00<?, ?it/s]"
     ]
    },
    {
     "name": "stdout",
     "output_type": "stream",
     "text": [
      "Constrained inversion using FSeq with ROPE, reg=l2, alpha=0.2\n"
     ]
    },
    {
     "name": "stderr",
     "output_type": "stream",
     "text": [
      "\n"
     ]
    },
    {
     "name": "stdout",
     "output_type": "stream",
     "text": [
      "Error in // inversion: Failed to converge after 50 iterations, value is 17.968193953785395.\n",
      "CRASH\n",
      "Iteration: 34 Combination: (0.5, 'mean', 'observed', 'FSeq', 'ROPE', 0.2, False, True, False)\n",
      "##################################################################################################################################################################### 02 INVERSION CONFIGURE INPUT ################################################\n"
     ]
    },
    {
     "name": "stderr",
     "output_type": "stream",
     "text": [
      "100%|██████████| 15/15 [00:00<00:00, 3579.78it/s]"
     ]
    },
    {
     "name": "stdout",
     "output_type": "stream",
     "text": [
      "Inversion using FSeq with ROPE, reg=l2, alpha=0.2\n"
     ]
    },
    {
     "name": "stderr",
     "output_type": "stream",
     "text": [
      "\n"
     ]
    },
    {
     "name": "stdout",
     "output_type": "stream",
     "text": [
      "r2inv 0   -214.07063\n",
      "Name: all, dtype: object\n",
      "FAILED\n",
      "Iteration: 35 Combination: (0.5, 'mean', 'observed', 'FSeq', 'ROPE', 0.2, False, False, True)\n",
      "##################################################################################################################################################################### 02 INVERSION CONFIGURE INPUT ################################################\n"
     ]
    },
    {
     "name": "stderr",
     "output_type": "stream",
     "text": [
      "100%|██████████| 15/15 [00:00<00:00, 15480.94it/s]"
     ]
    },
    {
     "name": "stdout",
     "output_type": "stream",
     "text": [
      "Constrained inversion using FSeq with ROPE, reg=l2, alpha=0.2\n"
     ]
    },
    {
     "name": "stderr",
     "output_type": "stream",
     "text": [
      "\n"
     ]
    },
    {
     "name": "stdout",
     "output_type": "stream",
     "text": [
      "Error in // inversion: Failed to converge after 50 iterations, value is 2.014897710465189.\n",
      "CRASH\n",
      "Iteration: 35 Combination: (0.5, 'mean', 'observed', 'FSeq', 'ROPE', 0.2, False, False, False)\n",
      "##################################################################################################################################################################### 02 INVERSION CONFIGURE INPUT ################################################\n"
     ]
    },
    {
     "name": "stderr",
     "output_type": "stream",
     "text": [
      "100%|██████████| 15/15 [00:00<00:00, 2539.95it/s]"
     ]
    },
    {
     "name": "stdout",
     "output_type": "stream",
     "text": [
      "Inversion using FSeq with ROPE, reg=l2, alpha=0.2\n"
     ]
    },
    {
     "name": "stderr",
     "output_type": "stream",
     "text": [
      "\n"
     ]
    },
    {
     "name": "stdout",
     "output_type": "stream",
     "text": [
      "r2inv 0   -184.598717\n",
      "Name: all, dtype: object\n",
      "FAILED\n",
      "Iteration: 36 Combination: (0.5, 'mean', 'observed', 'CS', 'Gauss-Newton', 0.01, True, True, True)\n",
      "##################################################################################################################################################################### 02 INVERSION CONFIGURE INPUT ################################################\n",
      "Constrained Inversion using CS with Gauss-Newton, reg=l2, alpha=0.01\n",
      "Survey 1/1\n",
      "15/15 inverted\n",
      "r2inv 0    0.953376\n",
      "Name: all, dtype: object\n",
      "#################################################################################################################################################################### 03 DETERMINISTIC MODELLING ###################################################\n",
      "inv_columns Index(['EC_0.30', 'EC_0.60', 'EC_1.00', 'EC_2.00', 'EC_end'], dtype='object')\n",
      "current_results [{'Extract': 0.5, 'Samples location': 'mean', 'Interface': 'observed', 'Forward_Model': 'CS', 'Minimization_Method': 'Gauss-Newton', 'Alpha': 0.01, 'remove_coil': True, 'start_avg': True, 'constrain': True, 'Det': 'LT', 'R2': -21.538, 'RMSE': 0.245, 'MAE': 0.223, 'STD': 0.214, '0R2': -1.062, '0RMSE': 0.278, 'R2_INV': 0.9533755570917336}, {'Extract': 0.5, 'Samples location': 'mean', 'Interface': 'observed', 'Forward_Model': 'CS', 'Minimization_Method': 'Gauss-Newton', 'Alpha': 0.01, 'remove_coil': True, 'start_avg': True, 'constrain': True, 'Det': 'ID', 'R2': -22.332, 'RMSE': 0.247, 'MAE': 0.218, 'STD': 0.224, '0R2': -0.968, '0RMSE': 0.28, 'R2_INV': 0.9533755570917336}, {'Extract': 0.5, 'Samples location': 'mean', 'Interface': 'observed', 'Forward_Model': 'CS', 'Minimization_Method': 'Gauss-Newton', 'Alpha': 0.01, 'remove_coil': True, 'start_avg': True, 'constrain': True, 'Det': 'LS', 'R2': -21.755, 'RMSE': 0.247, 'MAE': 0.223, 'STD': 0.219, '0R2': -1.138, '0RMSE': 0.283, 'R2_INV': 0.9533755570917336}]\n",
      "Iteration: 37 Combination: (0.5, 'mean', 'observed', 'CS', 'Gauss-Newton', 0.01, True, True, False)\n",
      "##################################################################################################################################################################### 02 INVERSION CONFIGURE INPUT ################################################\n",
      "Inversion using CS with Gauss-Newton, reg=l2, alpha=0.01\n",
      "Survey 1/1\n",
      "15/15 inverted\n",
      "r2inv 0    0.953376\n",
      "Name: all, dtype: object\n",
      "#################################################################################################################################################################### 03 DETERMINISTIC MODELLING ###################################################\n",
      "inv_columns Index(['EC_0.30', 'EC_0.60', 'EC_1.00', 'EC_2.00', 'EC_end'], dtype='object')\n",
      "current_results [{'Extract': 0.5, 'Samples location': 'mean', 'Interface': 'observed', 'Forward_Model': 'CS', 'Minimization_Method': 'Gauss-Newton', 'Alpha': 0.01, 'remove_coil': True, 'start_avg': True, 'constrain': False, 'Det': 'LT', 'R2': -21.538, 'RMSE': 0.245, 'MAE': 0.223, 'STD': 0.214, '0R2': -1.062, '0RMSE': 0.278, 'R2_INV': 0.9533755570917336}, {'Extract': 0.5, 'Samples location': 'mean', 'Interface': 'observed', 'Forward_Model': 'CS', 'Minimization_Method': 'Gauss-Newton', 'Alpha': 0.01, 'remove_coil': True, 'start_avg': True, 'constrain': False, 'Det': 'ID', 'R2': -22.332, 'RMSE': 0.247, 'MAE': 0.218, 'STD': 0.224, '0R2': -0.968, '0RMSE': 0.28, 'R2_INV': 0.9533755570917336}, {'Extract': 0.5, 'Samples location': 'mean', 'Interface': 'observed', 'Forward_Model': 'CS', 'Minimization_Method': 'Gauss-Newton', 'Alpha': 0.01, 'remove_coil': True, 'start_avg': True, 'constrain': False, 'Det': 'LS', 'R2': -21.755, 'RMSE': 0.247, 'MAE': 0.223, 'STD': 0.219, '0R2': -1.138, '0RMSE': 0.283, 'R2_INV': 0.9533755570917336}]\n",
      "Iteration: 38 Combination: (0.5, 'mean', 'observed', 'CS', 'Gauss-Newton', 0.01, True, False, True)\n",
      "##################################################################################################################################################################### 02 INVERSION CONFIGURE INPUT ################################################\n",
      "Constrained Inversion using CS with Gauss-Newton, reg=l2, alpha=0.01\n",
      "Survey 1/1\n",
      "15/15 inverted\n",
      "r2inv 0    0.953376\n",
      "Name: all, dtype: object\n",
      "#################################################################################################################################################################### 03 DETERMINISTIC MODELLING ###################################################\n",
      "inv_columns Index(['EC_0.30', 'EC_0.60', 'EC_1.00', 'EC_2.00', 'EC_end'], dtype='object')\n",
      "current_results [{'Extract': 0.5, 'Samples location': 'mean', 'Interface': 'observed', 'Forward_Model': 'CS', 'Minimization_Method': 'Gauss-Newton', 'Alpha': 0.01, 'remove_coil': True, 'start_avg': False, 'constrain': True, 'Det': 'LT', 'R2': -21.538, 'RMSE': 0.245, 'MAE': 0.223, 'STD': 0.214, '0R2': -1.062, '0RMSE': 0.278, 'R2_INV': 0.9533755570917336}, {'Extract': 0.5, 'Samples location': 'mean', 'Interface': 'observed', 'Forward_Model': 'CS', 'Minimization_Method': 'Gauss-Newton', 'Alpha': 0.01, 'remove_coil': True, 'start_avg': False, 'constrain': True, 'Det': 'ID', 'R2': -22.332, 'RMSE': 0.247, 'MAE': 0.218, 'STD': 0.224, '0R2': -0.968, '0RMSE': 0.28, 'R2_INV': 0.9533755570917336}, {'Extract': 0.5, 'Samples location': 'mean', 'Interface': 'observed', 'Forward_Model': 'CS', 'Minimization_Method': 'Gauss-Newton', 'Alpha': 0.01, 'remove_coil': True, 'start_avg': False, 'constrain': True, 'Det': 'LS', 'R2': -21.755, 'RMSE': 0.247, 'MAE': 0.223, 'STD': 0.219, '0R2': -1.138, '0RMSE': 0.283, 'R2_INV': 0.9533755570917336}]\n",
      "Iteration: 39 Combination: (0.5, 'mean', 'observed', 'CS', 'Gauss-Newton', 0.01, True, False, False)\n",
      "##################################################################################################################################################################### 02 INVERSION CONFIGURE INPUT ################################################\n",
      "Inversion using CS with Gauss-Newton, reg=l2, alpha=0.01\n",
      "Survey 1/1\n",
      "15/15 inverted\n",
      "r2inv 0    0.953376\n",
      "Name: all, dtype: object\n",
      "#################################################################################################################################################################### 03 DETERMINISTIC MODELLING ###################################################\n",
      "inv_columns Index(['EC_0.30', 'EC_0.60', 'EC_1.00', 'EC_2.00', 'EC_end'], dtype='object')\n",
      "current_results [{'Extract': 0.5, 'Samples location': 'mean', 'Interface': 'observed', 'Forward_Model': 'CS', 'Minimization_Method': 'Gauss-Newton', 'Alpha': 0.01, 'remove_coil': True, 'start_avg': False, 'constrain': False, 'Det': 'LT', 'R2': -21.538, 'RMSE': 0.245, 'MAE': 0.223, 'STD': 0.214, '0R2': -1.062, '0RMSE': 0.278, 'R2_INV': 0.9533755570917336}, {'Extract': 0.5, 'Samples location': 'mean', 'Interface': 'observed', 'Forward_Model': 'CS', 'Minimization_Method': 'Gauss-Newton', 'Alpha': 0.01, 'remove_coil': True, 'start_avg': False, 'constrain': False, 'Det': 'ID', 'R2': -22.332, 'RMSE': 0.247, 'MAE': 0.218, 'STD': 0.224, '0R2': -0.968, '0RMSE': 0.28, 'R2_INV': 0.9533755570917336}, {'Extract': 0.5, 'Samples location': 'mean', 'Interface': 'observed', 'Forward_Model': 'CS', 'Minimization_Method': 'Gauss-Newton', 'Alpha': 0.01, 'remove_coil': True, 'start_avg': False, 'constrain': False, 'Det': 'LS', 'R2': -21.755, 'RMSE': 0.247, 'MAE': 0.223, 'STD': 0.219, '0R2': -1.138, '0RMSE': 0.283, 'R2_INV': 0.9533755570917336}]\n",
      "Iteration: 40 Combination: (0.5, 'mean', 'observed', 'CS', 'Gauss-Newton', 0.01, False, True, True)\n",
      "##################################################################################################################################################################### 02 INVERSION CONFIGURE INPUT ################################################\n",
      "Constrained Inversion using CS with Gauss-Newton, reg=l2, alpha=0.01\n",
      "Survey 1/1\n",
      "15/15 inverted\n",
      "r2inv 0    0.948077\n",
      "Name: all, dtype: object\n",
      "#################################################################################################################################################################### 03 DETERMINISTIC MODELLING ###################################################\n",
      "inv_columns Index(['EC_0.30', 'EC_0.60', 'EC_1.00', 'EC_2.00', 'EC_end'], dtype='object')\n",
      "current_results [{'Extract': 0.5, 'Samples location': 'mean', 'Interface': 'observed', 'Forward_Model': 'CS', 'Minimization_Method': 'Gauss-Newton', 'Alpha': 0.01, 'remove_coil': False, 'start_avg': True, 'constrain': True, 'Det': 'LT', 'R2': -21.997, 'RMSE': 0.247, 'MAE': 0.222, 'STD': 0.204, '0R2': -1.046, '0RMSE': 0.28, 'R2_INV': 0.948076761236158}, {'Extract': 0.5, 'Samples location': 'mean', 'Interface': 'observed', 'Forward_Model': 'CS', 'Minimization_Method': 'Gauss-Newton', 'Alpha': 0.01, 'remove_coil': False, 'start_avg': True, 'constrain': True, 'Det': 'ID', 'R2': -22.162, 'RMSE': 0.246, 'MAE': 0.217, 'STD': 0.21, '0R2': -0.975, '0RMSE': 0.28, 'R2_INV': 0.948076761236158}, {'Extract': 0.5, 'Samples location': 'mean', 'Interface': 'observed', 'Forward_Model': 'CS', 'Minimization_Method': 'Gauss-Newton', 'Alpha': 0.01, 'remove_coil': False, 'start_avg': True, 'constrain': True, 'Det': 'LS', 'R2': -21.96, 'RMSE': 0.248, 'MAE': 0.222, 'STD': 0.206, '0R2': -1.098, '0RMSE': 0.284, 'R2_INV': 0.948076761236158}]\n",
      "Iteration: 41 Combination: (0.5, 'mean', 'observed', 'CS', 'Gauss-Newton', 0.01, False, True, False)\n",
      "##################################################################################################################################################################### 02 INVERSION CONFIGURE INPUT ################################################\n",
      "Inversion using CS with Gauss-Newton, reg=l2, alpha=0.01\n",
      "Survey 1/1\n",
      "15/15 inverted\n",
      "r2inv 0    0.948077\n",
      "Name: all, dtype: object\n",
      "#################################################################################################################################################################### 03 DETERMINISTIC MODELLING ###################################################\n",
      "inv_columns Index(['EC_0.30', 'EC_0.60', 'EC_1.00', 'EC_2.00', 'EC_end'], dtype='object')\n",
      "current_results [{'Extract': 0.5, 'Samples location': 'mean', 'Interface': 'observed', 'Forward_Model': 'CS', 'Minimization_Method': 'Gauss-Newton', 'Alpha': 0.01, 'remove_coil': False, 'start_avg': True, 'constrain': False, 'Det': 'LT', 'R2': -21.997, 'RMSE': 0.247, 'MAE': 0.222, 'STD': 0.204, '0R2': -1.046, '0RMSE': 0.28, 'R2_INV': 0.948076761236158}, {'Extract': 0.5, 'Samples location': 'mean', 'Interface': 'observed', 'Forward_Model': 'CS', 'Minimization_Method': 'Gauss-Newton', 'Alpha': 0.01, 'remove_coil': False, 'start_avg': True, 'constrain': False, 'Det': 'ID', 'R2': -22.162, 'RMSE': 0.246, 'MAE': 0.217, 'STD': 0.21, '0R2': -0.975, '0RMSE': 0.28, 'R2_INV': 0.948076761236158}, {'Extract': 0.5, 'Samples location': 'mean', 'Interface': 'observed', 'Forward_Model': 'CS', 'Minimization_Method': 'Gauss-Newton', 'Alpha': 0.01, 'remove_coil': False, 'start_avg': True, 'constrain': False, 'Det': 'LS', 'R2': -21.96, 'RMSE': 0.248, 'MAE': 0.222, 'STD': 0.206, '0R2': -1.098, '0RMSE': 0.284, 'R2_INV': 0.948076761236158}]\n",
      "Iteration: 42 Combination: (0.5, 'mean', 'observed', 'CS', 'Gauss-Newton', 0.01, False, False, True)\n",
      "##################################################################################################################################################################### 02 INVERSION CONFIGURE INPUT ################################################\n",
      "Constrained Inversion using CS with Gauss-Newton, reg=l2, alpha=0.01\n",
      "Survey 1/1\n",
      "15/15 inverted\n",
      "r2inv 0    0.948077\n",
      "Name: all, dtype: object\n",
      "#################################################################################################################################################################### 03 DETERMINISTIC MODELLING ###################################################\n",
      "inv_columns Index(['EC_0.30', 'EC_0.60', 'EC_1.00', 'EC_2.00', 'EC_end'], dtype='object')\n",
      "current_results [{'Extract': 0.5, 'Samples location': 'mean', 'Interface': 'observed', 'Forward_Model': 'CS', 'Minimization_Method': 'Gauss-Newton', 'Alpha': 0.01, 'remove_coil': False, 'start_avg': False, 'constrain': True, 'Det': 'LT', 'R2': -21.997, 'RMSE': 0.247, 'MAE': 0.222, 'STD': 0.204, '0R2': -1.046, '0RMSE': 0.28, 'R2_INV': 0.948076761236158}, {'Extract': 0.5, 'Samples location': 'mean', 'Interface': 'observed', 'Forward_Model': 'CS', 'Minimization_Method': 'Gauss-Newton', 'Alpha': 0.01, 'remove_coil': False, 'start_avg': False, 'constrain': True, 'Det': 'ID', 'R2': -22.162, 'RMSE': 0.246, 'MAE': 0.217, 'STD': 0.21, '0R2': -0.975, '0RMSE': 0.28, 'R2_INV': 0.948076761236158}, {'Extract': 0.5, 'Samples location': 'mean', 'Interface': 'observed', 'Forward_Model': 'CS', 'Minimization_Method': 'Gauss-Newton', 'Alpha': 0.01, 'remove_coil': False, 'start_avg': False, 'constrain': True, 'Det': 'LS', 'R2': -21.96, 'RMSE': 0.248, 'MAE': 0.222, 'STD': 0.206, '0R2': -1.098, '0RMSE': 0.284, 'R2_INV': 0.948076761236158}]\n",
      "Iteration: 43 Combination: (0.5, 'mean', 'observed', 'CS', 'Gauss-Newton', 0.01, False, False, False)\n",
      "##################################################################################################################################################################### 02 INVERSION CONFIGURE INPUT ################################################\n",
      "Inversion using CS with Gauss-Newton, reg=l2, alpha=0.01\n",
      "Survey 1/1\n",
      "15/15 inverted\n",
      "r2inv 0    0.948077\n",
      "Name: all, dtype: object\n",
      "#################################################################################################################################################################### 03 DETERMINISTIC MODELLING ###################################################\n",
      "inv_columns Index(['EC_0.30', 'EC_0.60', 'EC_1.00', 'EC_2.00', 'EC_end'], dtype='object')\n",
      "current_results [{'Extract': 0.5, 'Samples location': 'mean', 'Interface': 'observed', 'Forward_Model': 'CS', 'Minimization_Method': 'Gauss-Newton', 'Alpha': 0.01, 'remove_coil': False, 'start_avg': False, 'constrain': False, 'Det': 'LT', 'R2': -21.997, 'RMSE': 0.247, 'MAE': 0.222, 'STD': 0.204, '0R2': -1.046, '0RMSE': 0.28, 'R2_INV': 0.948076761236158}, {'Extract': 0.5, 'Samples location': 'mean', 'Interface': 'observed', 'Forward_Model': 'CS', 'Minimization_Method': 'Gauss-Newton', 'Alpha': 0.01, 'remove_coil': False, 'start_avg': False, 'constrain': False, 'Det': 'ID', 'R2': -22.162, 'RMSE': 0.246, 'MAE': 0.217, 'STD': 0.21, '0R2': -0.975, '0RMSE': 0.28, 'R2_INV': 0.948076761236158}, {'Extract': 0.5, 'Samples location': 'mean', 'Interface': 'observed', 'Forward_Model': 'CS', 'Minimization_Method': 'Gauss-Newton', 'Alpha': 0.01, 'remove_coil': False, 'start_avg': False, 'constrain': False, 'Det': 'LS', 'R2': -21.96, 'RMSE': 0.248, 'MAE': 0.222, 'STD': 0.206, '0R2': -1.098, '0RMSE': 0.284, 'R2_INV': 0.948076761236158}]\n",
      "Iteration: 44 Combination: (0.5, 'mean', 'observed', 'CS', 'Gauss-Newton', 0.07, True, True, True)\n",
      "##################################################################################################################################################################### 02 INVERSION CONFIGURE INPUT ################################################\n",
      "Constrained Inversion using CS with Gauss-Newton, reg=l2, alpha=0.07\n",
      "Survey 1/1\n",
      "15/15 inverted\n",
      "r2inv 0    0.915402\n",
      "Name: all, dtype: object\n",
      "#################################################################################################################################################################### 03 DETERMINISTIC MODELLING ###################################################\n",
      "inv_columns Index(['EC_0.30', 'EC_0.60', 'EC_1.00', 'EC_2.00', 'EC_end'], dtype='object')\n",
      "current_results [{'Extract': 0.5, 'Samples location': 'mean', 'Interface': 'observed', 'Forward_Model': 'CS', 'Minimization_Method': 'Gauss-Newton', 'Alpha': 0.07, 'remove_coil': True, 'start_avg': True, 'constrain': True, 'Det': 'LT', 'R2': -16.758, 'RMSE': 0.21, 'MAE': 0.184, 'STD': 0.138, '0R2': 0.334, '0RMSE': 0.158, 'R2_INV': 0.9154018787365782}, {'Extract': 0.5, 'Samples location': 'mean', 'Interface': 'observed', 'Forward_Model': 'CS', 'Minimization_Method': 'Gauss-Newton', 'Alpha': 0.07, 'remove_coil': True, 'start_avg': True, 'constrain': True, 'Det': 'ID', 'R2': -14.364, 'RMSE': 0.198, 'MAE': 0.176, 'STD': 0.129, '0R2': 0.392, '0RMSE': 0.15, 'R2_INV': 0.9154018787365782}, {'Extract': 0.5, 'Samples location': 'mean', 'Interface': 'observed', 'Forward_Model': 'CS', 'Minimization_Method': 'Gauss-Newton', 'Alpha': 0.07, 'remove_coil': True, 'start_avg': True, 'constrain': True, 'Det': 'LS', 'R2': -16.711, 'RMSE': 0.21, 'MAE': 0.184, 'STD': 0.138, '0R2': 0.314, '0RMSE': 0.164, 'R2_INV': 0.9154018787365782}]\n",
      "Iteration: 45 Combination: (0.5, 'mean', 'observed', 'CS', 'Gauss-Newton', 0.07, True, True, False)\n",
      "##################################################################################################################################################################### 02 INVERSION CONFIGURE INPUT ################################################\n",
      "Inversion using CS with Gauss-Newton, reg=l2, alpha=0.07\n",
      "Survey 1/1\n",
      "15/15 inverted\n",
      "r2inv 0    0.915402\n",
      "Name: all, dtype: object\n",
      "#################################################################################################################################################################### 03 DETERMINISTIC MODELLING ###################################################\n",
      "inv_columns Index(['EC_0.30', 'EC_0.60', 'EC_1.00', 'EC_2.00', 'EC_end'], dtype='object')\n",
      "current_results [{'Extract': 0.5, 'Samples location': 'mean', 'Interface': 'observed', 'Forward_Model': 'CS', 'Minimization_Method': 'Gauss-Newton', 'Alpha': 0.07, 'remove_coil': True, 'start_avg': True, 'constrain': False, 'Det': 'LT', 'R2': -16.758, 'RMSE': 0.21, 'MAE': 0.184, 'STD': 0.138, '0R2': 0.334, '0RMSE': 0.158, 'R2_INV': 0.9154018787365782}, {'Extract': 0.5, 'Samples location': 'mean', 'Interface': 'observed', 'Forward_Model': 'CS', 'Minimization_Method': 'Gauss-Newton', 'Alpha': 0.07, 'remove_coil': True, 'start_avg': True, 'constrain': False, 'Det': 'ID', 'R2': -14.364, 'RMSE': 0.198, 'MAE': 0.176, 'STD': 0.129, '0R2': 0.392, '0RMSE': 0.15, 'R2_INV': 0.9154018787365782}, {'Extract': 0.5, 'Samples location': 'mean', 'Interface': 'observed', 'Forward_Model': 'CS', 'Minimization_Method': 'Gauss-Newton', 'Alpha': 0.07, 'remove_coil': True, 'start_avg': True, 'constrain': False, 'Det': 'LS', 'R2': -16.711, 'RMSE': 0.21, 'MAE': 0.184, 'STD': 0.138, '0R2': 0.314, '0RMSE': 0.164, 'R2_INV': 0.9154018787365782}]\n",
      "Iteration: 46 Combination: (0.5, 'mean', 'observed', 'CS', 'Gauss-Newton', 0.07, True, False, True)\n",
      "##################################################################################################################################################################### 02 INVERSION CONFIGURE INPUT ################################################\n",
      "Constrained Inversion using CS with Gauss-Newton, reg=l2, alpha=0.07\n",
      "Survey 1/1\n",
      "15/15 inverted\n",
      "r2inv 0    0.915402\n",
      "Name: all, dtype: object\n",
      "#################################################################################################################################################################### 03 DETERMINISTIC MODELLING ###################################################\n",
      "inv_columns Index(['EC_0.30', 'EC_0.60', 'EC_1.00', 'EC_2.00', 'EC_end'], dtype='object')\n",
      "current_results [{'Extract': 0.5, 'Samples location': 'mean', 'Interface': 'observed', 'Forward_Model': 'CS', 'Minimization_Method': 'Gauss-Newton', 'Alpha': 0.07, 'remove_coil': True, 'start_avg': False, 'constrain': True, 'Det': 'LT', 'R2': -16.758, 'RMSE': 0.21, 'MAE': 0.184, 'STD': 0.138, '0R2': 0.334, '0RMSE': 0.158, 'R2_INV': 0.9154018787365782}, {'Extract': 0.5, 'Samples location': 'mean', 'Interface': 'observed', 'Forward_Model': 'CS', 'Minimization_Method': 'Gauss-Newton', 'Alpha': 0.07, 'remove_coil': True, 'start_avg': False, 'constrain': True, 'Det': 'ID', 'R2': -14.364, 'RMSE': 0.198, 'MAE': 0.176, 'STD': 0.129, '0R2': 0.392, '0RMSE': 0.15, 'R2_INV': 0.9154018787365782}, {'Extract': 0.5, 'Samples location': 'mean', 'Interface': 'observed', 'Forward_Model': 'CS', 'Minimization_Method': 'Gauss-Newton', 'Alpha': 0.07, 'remove_coil': True, 'start_avg': False, 'constrain': True, 'Det': 'LS', 'R2': -16.711, 'RMSE': 0.21, 'MAE': 0.184, 'STD': 0.138, '0R2': 0.314, '0RMSE': 0.164, 'R2_INV': 0.9154018787365782}]\n",
      "Iteration: 47 Combination: (0.5, 'mean', 'observed', 'CS', 'Gauss-Newton', 0.07, True, False, False)\n",
      "##################################################################################################################################################################### 02 INVERSION CONFIGURE INPUT ################################################\n",
      "Inversion using CS with Gauss-Newton, reg=l2, alpha=0.07\n",
      "Survey 1/1\n",
      "15/15 inverted\n",
      "r2inv 0    0.915402\n",
      "Name: all, dtype: object\n",
      "#################################################################################################################################################################### 03 DETERMINISTIC MODELLING ###################################################\n",
      "inv_columns Index(['EC_0.30', 'EC_0.60', 'EC_1.00', 'EC_2.00', 'EC_end'], dtype='object')\n",
      "current_results [{'Extract': 0.5, 'Samples location': 'mean', 'Interface': 'observed', 'Forward_Model': 'CS', 'Minimization_Method': 'Gauss-Newton', 'Alpha': 0.07, 'remove_coil': True, 'start_avg': False, 'constrain': False, 'Det': 'LT', 'R2': -16.758, 'RMSE': 0.21, 'MAE': 0.184, 'STD': 0.138, '0R2': 0.334, '0RMSE': 0.158, 'R2_INV': 0.9154018787365782}, {'Extract': 0.5, 'Samples location': 'mean', 'Interface': 'observed', 'Forward_Model': 'CS', 'Minimization_Method': 'Gauss-Newton', 'Alpha': 0.07, 'remove_coil': True, 'start_avg': False, 'constrain': False, 'Det': 'ID', 'R2': -14.364, 'RMSE': 0.198, 'MAE': 0.176, 'STD': 0.129, '0R2': 0.392, '0RMSE': 0.15, 'R2_INV': 0.9154018787365782}, {'Extract': 0.5, 'Samples location': 'mean', 'Interface': 'observed', 'Forward_Model': 'CS', 'Minimization_Method': 'Gauss-Newton', 'Alpha': 0.07, 'remove_coil': True, 'start_avg': False, 'constrain': False, 'Det': 'LS', 'R2': -16.711, 'RMSE': 0.21, 'MAE': 0.184, 'STD': 0.138, '0R2': 0.314, '0RMSE': 0.164, 'R2_INV': 0.9154018787365782}]\n",
      "Iteration: 48 Combination: (0.5, 'mean', 'observed', 'CS', 'Gauss-Newton', 0.07, False, True, True)\n",
      "##################################################################################################################################################################### 02 INVERSION CONFIGURE INPUT ################################################\n",
      "Constrained Inversion using CS with Gauss-Newton, reg=l2, alpha=0.07\n",
      "Survey 1/1\n",
      "15/15 inverted\n",
      "r2inv 0    0.912978\n",
      "Name: all, dtype: object\n",
      "#################################################################################################################################################################### 03 DETERMINISTIC MODELLING ###################################################\n",
      "inv_columns Index(['EC_0.30', 'EC_0.60', 'EC_1.00', 'EC_2.00', 'EC_end'], dtype='object')\n",
      "current_results [{'Extract': 0.5, 'Samples location': 'mean', 'Interface': 'observed', 'Forward_Model': 'CS', 'Minimization_Method': 'Gauss-Newton', 'Alpha': 0.07, 'remove_coil': False, 'start_avg': True, 'constrain': True, 'Det': 'LT', 'R2': -17.556, 'RMSE': 0.215, 'MAE': 0.188, 'STD': 0.14, '0R2': 0.258, '0RMSE': 0.17, 'R2_INV': 0.9129775232167704}, {'Extract': 0.5, 'Samples location': 'mean', 'Interface': 'observed', 'Forward_Model': 'CS', 'Minimization_Method': 'Gauss-Newton', 'Alpha': 0.07, 'remove_coil': False, 'start_avg': True, 'constrain': True, 'Det': 'ID', 'R2': -15.328, 'RMSE': 0.203, 'MAE': 0.181, 'STD': 0.13, '0R2': 0.29, '0RMSE': 0.164, 'R2_INV': 0.9129775232167704}, {'Extract': 0.5, 'Samples location': 'mean', 'Interface': 'observed', 'Forward_Model': 'CS', 'Minimization_Method': 'Gauss-Newton', 'Alpha': 0.07, 'remove_coil': False, 'start_avg': True, 'constrain': True, 'Det': 'LS', 'R2': -17.586, 'RMSE': 0.214, 'MAE': 0.188, 'STD': 0.14, '0R2': 0.217, '0RMSE': 0.175, 'R2_INV': 0.9129775232167704}]\n",
      "Iteration: 49 Combination: (0.5, 'mean', 'observed', 'CS', 'Gauss-Newton', 0.07, False, True, False)\n",
      "##################################################################################################################################################################### 02 INVERSION CONFIGURE INPUT ################################################\n",
      "Inversion using CS with Gauss-Newton, reg=l2, alpha=0.07\n",
      "Survey 1/1\n",
      "15/15 inverted\n",
      "r2inv 0    0.912978\n",
      "Name: all, dtype: object\n",
      "#################################################################################################################################################################### 03 DETERMINISTIC MODELLING ###################################################\n",
      "inv_columns Index(['EC_0.30', 'EC_0.60', 'EC_1.00', 'EC_2.00', 'EC_end'], dtype='object')\n",
      "current_results [{'Extract': 0.5, 'Samples location': 'mean', 'Interface': 'observed', 'Forward_Model': 'CS', 'Minimization_Method': 'Gauss-Newton', 'Alpha': 0.07, 'remove_coil': False, 'start_avg': True, 'constrain': False, 'Det': 'LT', 'R2': -17.556, 'RMSE': 0.215, 'MAE': 0.188, 'STD': 0.14, '0R2': 0.258, '0RMSE': 0.17, 'R2_INV': 0.9129775232167704}, {'Extract': 0.5, 'Samples location': 'mean', 'Interface': 'observed', 'Forward_Model': 'CS', 'Minimization_Method': 'Gauss-Newton', 'Alpha': 0.07, 'remove_coil': False, 'start_avg': True, 'constrain': False, 'Det': 'ID', 'R2': -15.328, 'RMSE': 0.203, 'MAE': 0.181, 'STD': 0.13, '0R2': 0.29, '0RMSE': 0.164, 'R2_INV': 0.9129775232167704}, {'Extract': 0.5, 'Samples location': 'mean', 'Interface': 'observed', 'Forward_Model': 'CS', 'Minimization_Method': 'Gauss-Newton', 'Alpha': 0.07, 'remove_coil': False, 'start_avg': True, 'constrain': False, 'Det': 'LS', 'R2': -17.586, 'RMSE': 0.214, 'MAE': 0.188, 'STD': 0.14, '0R2': 0.217, '0RMSE': 0.175, 'R2_INV': 0.9129775232167704}]\n",
      "Iteration: 50 Combination: (0.5, 'mean', 'observed', 'CS', 'Gauss-Newton', 0.07, False, False, True)\n",
      "##################################################################################################################################################################### 02 INVERSION CONFIGURE INPUT ################################################\n",
      "Constrained Inversion using CS with Gauss-Newton, reg=l2, alpha=0.07\n",
      "Survey 1/1\n",
      "15/15 inverted\n",
      "r2inv 0    0.912978\n",
      "Name: all, dtype: object\n",
      "#################################################################################################################################################################### 03 DETERMINISTIC MODELLING ###################################################\n",
      "inv_columns Index(['EC_0.30', 'EC_0.60', 'EC_1.00', 'EC_2.00', 'EC_end'], dtype='object')\n",
      "current_results [{'Extract': 0.5, 'Samples location': 'mean', 'Interface': 'observed', 'Forward_Model': 'CS', 'Minimization_Method': 'Gauss-Newton', 'Alpha': 0.07, 'remove_coil': False, 'start_avg': False, 'constrain': True, 'Det': 'LT', 'R2': -17.556, 'RMSE': 0.215, 'MAE': 0.188, 'STD': 0.14, '0R2': 0.258, '0RMSE': 0.17, 'R2_INV': 0.9129775232167704}, {'Extract': 0.5, 'Samples location': 'mean', 'Interface': 'observed', 'Forward_Model': 'CS', 'Minimization_Method': 'Gauss-Newton', 'Alpha': 0.07, 'remove_coil': False, 'start_avg': False, 'constrain': True, 'Det': 'ID', 'R2': -15.328, 'RMSE': 0.203, 'MAE': 0.181, 'STD': 0.13, '0R2': 0.29, '0RMSE': 0.164, 'R2_INV': 0.9129775232167704}, {'Extract': 0.5, 'Samples location': 'mean', 'Interface': 'observed', 'Forward_Model': 'CS', 'Minimization_Method': 'Gauss-Newton', 'Alpha': 0.07, 'remove_coil': False, 'start_avg': False, 'constrain': True, 'Det': 'LS', 'R2': -17.586, 'RMSE': 0.214, 'MAE': 0.188, 'STD': 0.14, '0R2': 0.217, '0RMSE': 0.175, 'R2_INV': 0.9129775232167704}]\n",
      "Iteration: 51 Combination: (0.5, 'mean', 'observed', 'CS', 'Gauss-Newton', 0.07, False, False, False)\n",
      "##################################################################################################################################################################### 02 INVERSION CONFIGURE INPUT ################################################\n",
      "Inversion using CS with Gauss-Newton, reg=l2, alpha=0.07\n",
      "Survey 1/1\n",
      "15/15 inverted\n",
      "r2inv 0    0.912978\n",
      "Name: all, dtype: object\n",
      "#################################################################################################################################################################### 03 DETERMINISTIC MODELLING ###################################################\n",
      "inv_columns Index(['EC_0.30', 'EC_0.60', 'EC_1.00', 'EC_2.00', 'EC_end'], dtype='object')\n",
      "current_results [{'Extract': 0.5, 'Samples location': 'mean', 'Interface': 'observed', 'Forward_Model': 'CS', 'Minimization_Method': 'Gauss-Newton', 'Alpha': 0.07, 'remove_coil': False, 'start_avg': False, 'constrain': False, 'Det': 'LT', 'R2': -17.556, 'RMSE': 0.215, 'MAE': 0.188, 'STD': 0.14, '0R2': 0.258, '0RMSE': 0.17, 'R2_INV': 0.9129775232167704}, {'Extract': 0.5, 'Samples location': 'mean', 'Interface': 'observed', 'Forward_Model': 'CS', 'Minimization_Method': 'Gauss-Newton', 'Alpha': 0.07, 'remove_coil': False, 'start_avg': False, 'constrain': False, 'Det': 'ID', 'R2': -15.328, 'RMSE': 0.203, 'MAE': 0.181, 'STD': 0.13, '0R2': 0.29, '0RMSE': 0.164, 'R2_INV': 0.9129775232167704}, {'Extract': 0.5, 'Samples location': 'mean', 'Interface': 'observed', 'Forward_Model': 'CS', 'Minimization_Method': 'Gauss-Newton', 'Alpha': 0.07, 'remove_coil': False, 'start_avg': False, 'constrain': False, 'Det': 'LS', 'R2': -17.586, 'RMSE': 0.214, 'MAE': 0.188, 'STD': 0.14, '0R2': 0.217, '0RMSE': 0.175, 'R2_INV': 0.9129775232167704}]\n",
      "Iteration: 52 Combination: (0.5, 'mean', 'observed', 'CS', 'Gauss-Newton', 0.2, True, True, True)\n",
      "##################################################################################################################################################################### 02 INVERSION CONFIGURE INPUT ################################################\n",
      "Constrained Inversion using CS with Gauss-Newton, reg=l2, alpha=0.2\n",
      "Survey 1/1\n",
      "15/15 inverted\n",
      "r2inv 0    0.848694\n",
      "Name: all, dtype: object\n",
      "#################################################################################################################################################################### 03 DETERMINISTIC MODELLING ###################################################\n",
      "inv_columns Index(['EC_0.30', 'EC_0.60', 'EC_1.00', 'EC_2.00', 'EC_end'], dtype='object')\n",
      "current_results [{'Extract': 0.5, 'Samples location': 'mean', 'Interface': 'observed', 'Forward_Model': 'CS', 'Minimization_Method': 'Gauss-Newton', 'Alpha': 0.2, 'remove_coil': True, 'start_avg': True, 'constrain': True, 'Det': 'LT', 'R2': -18.381, 'RMSE': 0.216, 'MAE': 0.194, 'STD': 0.127, '0R2': 0.306, '0RMSE': 0.155, 'R2_INV': 0.8486941020854855}, {'Extract': 0.5, 'Samples location': 'mean', 'Interface': 'observed', 'Forward_Model': 'CS', 'Minimization_Method': 'Gauss-Newton', 'Alpha': 0.2, 'remove_coil': True, 'start_avg': True, 'constrain': True, 'Det': 'ID', 'R2': -16.894, 'RMSE': 0.212, 'MAE': 0.188, 'STD': 0.118, '0R2': 0.396, '0RMSE': 0.151, 'R2_INV': 0.8486941020854855}, {'Extract': 0.5, 'Samples location': 'mean', 'Interface': 'observed', 'Forward_Model': 'CS', 'Minimization_Method': 'Gauss-Newton', 'Alpha': 0.2, 'remove_coil': True, 'start_avg': True, 'constrain': True, 'Det': 'LS', 'R2': -18.666, 'RMSE': 0.218, 'MAE': 0.194, 'STD': 0.128, '0R2': 0.277, '0RMSE': 0.159, 'R2_INV': 0.8486941020854855}]\n",
      "Iteration: 53 Combination: (0.5, 'mean', 'observed', 'CS', 'Gauss-Newton', 0.2, True, True, False)\n",
      "##################################################################################################################################################################### 02 INVERSION CONFIGURE INPUT ################################################\n",
      "Inversion using CS with Gauss-Newton, reg=l2, alpha=0.2\n",
      "Survey 1/1\n",
      "15/15 inverted\n",
      "r2inv 0    0.848694\n",
      "Name: all, dtype: object\n",
      "#################################################################################################################################################################### 03 DETERMINISTIC MODELLING ###################################################\n",
      "inv_columns Index(['EC_0.30', 'EC_0.60', 'EC_1.00', 'EC_2.00', 'EC_end'], dtype='object')\n",
      "current_results [{'Extract': 0.5, 'Samples location': 'mean', 'Interface': 'observed', 'Forward_Model': 'CS', 'Minimization_Method': 'Gauss-Newton', 'Alpha': 0.2, 'remove_coil': True, 'start_avg': True, 'constrain': False, 'Det': 'LT', 'R2': -18.381, 'RMSE': 0.216, 'MAE': 0.194, 'STD': 0.127, '0R2': 0.306, '0RMSE': 0.155, 'R2_INV': 0.8486941020854855}, {'Extract': 0.5, 'Samples location': 'mean', 'Interface': 'observed', 'Forward_Model': 'CS', 'Minimization_Method': 'Gauss-Newton', 'Alpha': 0.2, 'remove_coil': True, 'start_avg': True, 'constrain': False, 'Det': 'ID', 'R2': -16.894, 'RMSE': 0.212, 'MAE': 0.188, 'STD': 0.118, '0R2': 0.396, '0RMSE': 0.151, 'R2_INV': 0.8486941020854855}, {'Extract': 0.5, 'Samples location': 'mean', 'Interface': 'observed', 'Forward_Model': 'CS', 'Minimization_Method': 'Gauss-Newton', 'Alpha': 0.2, 'remove_coil': True, 'start_avg': True, 'constrain': False, 'Det': 'LS', 'R2': -18.666, 'RMSE': 0.218, 'MAE': 0.194, 'STD': 0.128, '0R2': 0.277, '0RMSE': 0.159, 'R2_INV': 0.8486941020854855}]\n",
      "Iteration: 54 Combination: (0.5, 'mean', 'observed', 'CS', 'Gauss-Newton', 0.2, True, False, True)\n",
      "##################################################################################################################################################################### 02 INVERSION CONFIGURE INPUT ################################################\n",
      "Constrained Inversion using CS with Gauss-Newton, reg=l2, alpha=0.2\n",
      "Survey 1/1\n",
      "15/15 inverted\n",
      "r2inv 0    0.848694\n",
      "Name: all, dtype: object\n",
      "#################################################################################################################################################################### 03 DETERMINISTIC MODELLING ###################################################\n",
      "inv_columns Index(['EC_0.30', 'EC_0.60', 'EC_1.00', 'EC_2.00', 'EC_end'], dtype='object')\n",
      "current_results [{'Extract': 0.5, 'Samples location': 'mean', 'Interface': 'observed', 'Forward_Model': 'CS', 'Minimization_Method': 'Gauss-Newton', 'Alpha': 0.2, 'remove_coil': True, 'start_avg': False, 'constrain': True, 'Det': 'LT', 'R2': -18.381, 'RMSE': 0.216, 'MAE': 0.194, 'STD': 0.127, '0R2': 0.306, '0RMSE': 0.155, 'R2_INV': 0.8486941020854855}, {'Extract': 0.5, 'Samples location': 'mean', 'Interface': 'observed', 'Forward_Model': 'CS', 'Minimization_Method': 'Gauss-Newton', 'Alpha': 0.2, 'remove_coil': True, 'start_avg': False, 'constrain': True, 'Det': 'ID', 'R2': -16.894, 'RMSE': 0.212, 'MAE': 0.188, 'STD': 0.118, '0R2': 0.396, '0RMSE': 0.151, 'R2_INV': 0.8486941020854855}, {'Extract': 0.5, 'Samples location': 'mean', 'Interface': 'observed', 'Forward_Model': 'CS', 'Minimization_Method': 'Gauss-Newton', 'Alpha': 0.2, 'remove_coil': True, 'start_avg': False, 'constrain': True, 'Det': 'LS', 'R2': -18.666, 'RMSE': 0.218, 'MAE': 0.194, 'STD': 0.128, '0R2': 0.277, '0RMSE': 0.159, 'R2_INV': 0.8486941020854855}]\n",
      "Iteration: 55 Combination: (0.5, 'mean', 'observed', 'CS', 'Gauss-Newton', 0.2, True, False, False)\n",
      "##################################################################################################################################################################### 02 INVERSION CONFIGURE INPUT ################################################\n",
      "Inversion using CS with Gauss-Newton, reg=l2, alpha=0.2\n",
      "Survey 1/1\n",
      "15/15 inverted\n",
      "r2inv 0    0.848694\n",
      "Name: all, dtype: object\n",
      "#################################################################################################################################################################### 03 DETERMINISTIC MODELLING ###################################################\n",
      "inv_columns Index(['EC_0.30', 'EC_0.60', 'EC_1.00', 'EC_2.00', 'EC_end'], dtype='object')\n",
      "current_results [{'Extract': 0.5, 'Samples location': 'mean', 'Interface': 'observed', 'Forward_Model': 'CS', 'Minimization_Method': 'Gauss-Newton', 'Alpha': 0.2, 'remove_coil': True, 'start_avg': False, 'constrain': False, 'Det': 'LT', 'R2': -18.381, 'RMSE': 0.216, 'MAE': 0.194, 'STD': 0.127, '0R2': 0.306, '0RMSE': 0.155, 'R2_INV': 0.8486941020854855}, {'Extract': 0.5, 'Samples location': 'mean', 'Interface': 'observed', 'Forward_Model': 'CS', 'Minimization_Method': 'Gauss-Newton', 'Alpha': 0.2, 'remove_coil': True, 'start_avg': False, 'constrain': False, 'Det': 'ID', 'R2': -16.894, 'RMSE': 0.212, 'MAE': 0.188, 'STD': 0.118, '0R2': 0.396, '0RMSE': 0.151, 'R2_INV': 0.8486941020854855}, {'Extract': 0.5, 'Samples location': 'mean', 'Interface': 'observed', 'Forward_Model': 'CS', 'Minimization_Method': 'Gauss-Newton', 'Alpha': 0.2, 'remove_coil': True, 'start_avg': False, 'constrain': False, 'Det': 'LS', 'R2': -18.666, 'RMSE': 0.218, 'MAE': 0.194, 'STD': 0.128, '0R2': 0.277, '0RMSE': 0.159, 'R2_INV': 0.8486941020854855}]\n",
      "Iteration: 56 Combination: (0.5, 'mean', 'observed', 'CS', 'Gauss-Newton', 0.2, False, True, True)\n",
      "##################################################################################################################################################################### 02 INVERSION CONFIGURE INPUT ################################################\n",
      "Constrained Inversion using CS with Gauss-Newton, reg=l2, alpha=0.2\n",
      "Survey 1/1\n",
      "15/15 inverted\n",
      "r2inv 0    0.859327\n",
      "Name: all, dtype: object\n",
      "#################################################################################################################################################################### 03 DETERMINISTIC MODELLING ###################################################\n",
      "inv_columns Index(['EC_0.30', 'EC_0.60', 'EC_1.00', 'EC_2.00', 'EC_end'], dtype='object')\n",
      "current_results [{'Extract': 0.5, 'Samples location': 'mean', 'Interface': 'observed', 'Forward_Model': 'CS', 'Minimization_Method': 'Gauss-Newton', 'Alpha': 0.2, 'remove_coil': False, 'start_avg': True, 'constrain': True, 'Det': 'LT', 'R2': -17.822, 'RMSE': 0.213, 'MAE': 0.184, 'STD': 0.132, '0R2': 0.354, '0RMSE': 0.153, 'R2_INV': 0.85932675589631}, {'Extract': 0.5, 'Samples location': 'mean', 'Interface': 'observed', 'Forward_Model': 'CS', 'Minimization_Method': 'Gauss-Newton', 'Alpha': 0.2, 'remove_coil': False, 'start_avg': True, 'constrain': True, 'Det': 'ID', 'R2': -16.164, 'RMSE': 0.206, 'MAE': 0.182, 'STD': 0.122, '0R2': 0.44, '0RMSE': 0.146, 'R2_INV': 0.85932675589631}, {'Extract': 0.5, 'Samples location': 'mean', 'Interface': 'observed', 'Forward_Model': 'CS', 'Minimization_Method': 'Gauss-Newton', 'Alpha': 0.2, 'remove_coil': False, 'start_avg': True, 'constrain': True, 'Det': 'LS', 'R2': -17.821, 'RMSE': 0.214, 'MAE': 0.185, 'STD': 0.132, '0R2': 0.326, '0RMSE': 0.156, 'R2_INV': 0.85932675589631}]\n",
      "Iteration: 57 Combination: (0.5, 'mean', 'observed', 'CS', 'Gauss-Newton', 0.2, False, True, False)\n",
      "##################################################################################################################################################################### 02 INVERSION CONFIGURE INPUT ################################################\n",
      "Inversion using CS with Gauss-Newton, reg=l2, alpha=0.2\n",
      "Survey 1/1\n",
      "15/15 inverted\n",
      "r2inv 0    0.859327\n",
      "Name: all, dtype: object\n",
      "#################################################################################################################################################################### 03 DETERMINISTIC MODELLING ###################################################\n",
      "inv_columns Index(['EC_0.30', 'EC_0.60', 'EC_1.00', 'EC_2.00', 'EC_end'], dtype='object')\n",
      "current_results [{'Extract': 0.5, 'Samples location': 'mean', 'Interface': 'observed', 'Forward_Model': 'CS', 'Minimization_Method': 'Gauss-Newton', 'Alpha': 0.2, 'remove_coil': False, 'start_avg': True, 'constrain': False, 'Det': 'LT', 'R2': -17.822, 'RMSE': 0.213, 'MAE': 0.184, 'STD': 0.132, '0R2': 0.354, '0RMSE': 0.153, 'R2_INV': 0.85932675589631}, {'Extract': 0.5, 'Samples location': 'mean', 'Interface': 'observed', 'Forward_Model': 'CS', 'Minimization_Method': 'Gauss-Newton', 'Alpha': 0.2, 'remove_coil': False, 'start_avg': True, 'constrain': False, 'Det': 'ID', 'R2': -16.164, 'RMSE': 0.206, 'MAE': 0.182, 'STD': 0.122, '0R2': 0.44, '0RMSE': 0.146, 'R2_INV': 0.85932675589631}, {'Extract': 0.5, 'Samples location': 'mean', 'Interface': 'observed', 'Forward_Model': 'CS', 'Minimization_Method': 'Gauss-Newton', 'Alpha': 0.2, 'remove_coil': False, 'start_avg': True, 'constrain': False, 'Det': 'LS', 'R2': -17.821, 'RMSE': 0.214, 'MAE': 0.185, 'STD': 0.132, '0R2': 0.326, '0RMSE': 0.156, 'R2_INV': 0.85932675589631}]\n",
      "Iteration: 58 Combination: (0.5, 'mean', 'observed', 'CS', 'Gauss-Newton', 0.2, False, False, True)\n",
      "##################################################################################################################################################################### 02 INVERSION CONFIGURE INPUT ################################################\n",
      "Constrained Inversion using CS with Gauss-Newton, reg=l2, alpha=0.2\n",
      "Survey 1/1\n",
      "15/15 inverted\n",
      "r2inv 0    0.859327\n",
      "Name: all, dtype: object\n",
      "#################################################################################################################################################################### 03 DETERMINISTIC MODELLING ###################################################\n",
      "inv_columns Index(['EC_0.30', 'EC_0.60', 'EC_1.00', 'EC_2.00', 'EC_end'], dtype='object')\n",
      "current_results [{'Extract': 0.5, 'Samples location': 'mean', 'Interface': 'observed', 'Forward_Model': 'CS', 'Minimization_Method': 'Gauss-Newton', 'Alpha': 0.2, 'remove_coil': False, 'start_avg': False, 'constrain': True, 'Det': 'LT', 'R2': -17.822, 'RMSE': 0.213, 'MAE': 0.184, 'STD': 0.132, '0R2': 0.354, '0RMSE': 0.153, 'R2_INV': 0.85932675589631}, {'Extract': 0.5, 'Samples location': 'mean', 'Interface': 'observed', 'Forward_Model': 'CS', 'Minimization_Method': 'Gauss-Newton', 'Alpha': 0.2, 'remove_coil': False, 'start_avg': False, 'constrain': True, 'Det': 'ID', 'R2': -16.164, 'RMSE': 0.206, 'MAE': 0.182, 'STD': 0.122, '0R2': 0.44, '0RMSE': 0.146, 'R2_INV': 0.85932675589631}, {'Extract': 0.5, 'Samples location': 'mean', 'Interface': 'observed', 'Forward_Model': 'CS', 'Minimization_Method': 'Gauss-Newton', 'Alpha': 0.2, 'remove_coil': False, 'start_avg': False, 'constrain': True, 'Det': 'LS', 'R2': -17.821, 'RMSE': 0.214, 'MAE': 0.185, 'STD': 0.132, '0R2': 0.326, '0RMSE': 0.156, 'R2_INV': 0.85932675589631}]\n",
      "Iteration: 59 Combination: (0.5, 'mean', 'observed', 'CS', 'Gauss-Newton', 0.2, False, False, False)\n",
      "##################################################################################################################################################################### 02 INVERSION CONFIGURE INPUT ################################################\n",
      "Inversion using CS with Gauss-Newton, reg=l2, alpha=0.2\n",
      "Survey 1/1\n",
      "15/15 inverted\n",
      "r2inv 0    0.859327\n",
      "Name: all, dtype: object\n",
      "#################################################################################################################################################################### 03 DETERMINISTIC MODELLING ###################################################\n",
      "inv_columns Index(['EC_0.30', 'EC_0.60', 'EC_1.00', 'EC_2.00', 'EC_end'], dtype='object')\n",
      "current_results [{'Extract': 0.5, 'Samples location': 'mean', 'Interface': 'observed', 'Forward_Model': 'CS', 'Minimization_Method': 'Gauss-Newton', 'Alpha': 0.2, 'remove_coil': False, 'start_avg': False, 'constrain': False, 'Det': 'LT', 'R2': -17.822, 'RMSE': 0.213, 'MAE': 0.184, 'STD': 0.132, '0R2': 0.354, '0RMSE': 0.153, 'R2_INV': 0.85932675589631}, {'Extract': 0.5, 'Samples location': 'mean', 'Interface': 'observed', 'Forward_Model': 'CS', 'Minimization_Method': 'Gauss-Newton', 'Alpha': 0.2, 'remove_coil': False, 'start_avg': False, 'constrain': False, 'Det': 'ID', 'R2': -16.164, 'RMSE': 0.206, 'MAE': 0.182, 'STD': 0.122, '0R2': 0.44, '0RMSE': 0.146, 'R2_INV': 0.85932675589631}, {'Extract': 0.5, 'Samples location': 'mean', 'Interface': 'observed', 'Forward_Model': 'CS', 'Minimization_Method': 'Gauss-Newton', 'Alpha': 0.2, 'remove_coil': False, 'start_avg': False, 'constrain': False, 'Det': 'LS', 'R2': -17.821, 'RMSE': 0.214, 'MAE': 0.185, 'STD': 0.132, '0R2': 0.326, '0RMSE': 0.156, 'R2_INV': 0.85932675589631}]\n",
      "Iteration: 60 Combination: (0.5, 'mean', 'observed', 'CS', 'ROPE', 0.01, True, True, True)\n",
      "##################################################################################################################################################################### 02 INVERSION CONFIGURE INPUT ################################################\n"
     ]
    },
    {
     "name": "stderr",
     "output_type": "stream",
     "text": [
      "100%|██████████| 15/15 [00:00<?, ?it/s]\n"
     ]
    },
    {
     "name": "stdout",
     "output_type": "stream",
     "text": [
      "Constrained inversion using CS with ROPE, reg=l2, alpha=0.01\n",
      "r2inv 0    0.884529\n",
      "Name: all, dtype: object\n",
      "#################################################################################################################################################################### 03 DETERMINISTIC MODELLING ###################################################\n",
      "inv_columns Index(['EC_0.30', 'EC_0.60', 'EC_1.00', 'EC_2.00', 'EC_end'], dtype='object')\n",
      "current_results [{'Extract': 0.5, 'Samples location': 'mean', 'Interface': 'observed', 'Forward_Model': 'CS', 'Minimization_Method': 'ROPE', 'Alpha': 0.01, 'remove_coil': True, 'start_avg': True, 'constrain': True, 'Det': 'LT', 'R2': -8.8, 'RMSE': 0.156, 'MAE': 0.129, 'STD': 0.132, '0R2': -0.326, '0RMSE': 0.214, 'R2_INV': 0.8845287213689514}, {'Extract': 0.5, 'Samples location': 'mean', 'Interface': 'observed', 'Forward_Model': 'CS', 'Minimization_Method': 'ROPE', 'Alpha': 0.01, 'remove_coil': True, 'start_avg': True, 'constrain': True, 'Det': 'ID', 'R2': -5.847, 'RMSE': 0.136, 'MAE': 0.109, 'STD': 0.113, '0R2': -0.162, '0RMSE': 0.205, 'R2_INV': 0.8845287213689514}, {'Extract': 0.5, 'Samples location': 'mean', 'Interface': 'observed', 'Forward_Model': 'CS', 'Minimization_Method': 'ROPE', 'Alpha': 0.01, 'remove_coil': True, 'start_avg': True, 'constrain': True, 'Det': 'LS', 'R2': -8.452, 'RMSE': 0.153, 'MAE': 0.124, 'STD': 0.127, '0R2': -0.314, '0RMSE': 0.214, 'R2_INV': 0.8845287213689514}]\n",
      "Iteration: 61 Combination: (0.5, 'mean', 'observed', 'CS', 'ROPE', 0.01, True, True, False)\n",
      "##################################################################################################################################################################### 02 INVERSION CONFIGURE INPUT ################################################\n"
     ]
    },
    {
     "name": "stderr",
     "output_type": "stream",
     "text": [
      "100%|██████████| 15/15 [00:00<00:00, 14954.73it/s]"
     ]
    },
    {
     "name": "stdout",
     "output_type": "stream",
     "text": [
      "Inversion using CS with ROPE, reg=l2, alpha=0.01\n"
     ]
    },
    {
     "name": "stderr",
     "output_type": "stream",
     "text": [
      "\n"
     ]
    },
    {
     "name": "stdout",
     "output_type": "stream",
     "text": [
      "r2inv 0   -207.905008\n",
      "Name: all, dtype: object\n",
      "FAILED\n",
      "Iteration: 62 Combination: (0.5, 'mean', 'observed', 'CS', 'ROPE', 0.01, True, False, True)\n",
      "##################################################################################################################################################################### 02 INVERSION CONFIGURE INPUT ################################################\n"
     ]
    },
    {
     "name": "stderr",
     "output_type": "stream",
     "text": [
      "100%|██████████| 15/15 [00:00<?, ?it/s]"
     ]
    },
    {
     "name": "stdout",
     "output_type": "stream",
     "text": [
      "Constrained inversion using CS with ROPE, reg=l2, alpha=0.01\n",
      "r2inv 0    0.853834\n",
      "Name: all, dtype: object\n",
      "#################################################################################################################################################################### 03 DETERMINISTIC MODELLING ###################################################\n"
     ]
    },
    {
     "name": "stderr",
     "output_type": "stream",
     "text": [
      "\n"
     ]
    },
    {
     "name": "stdout",
     "output_type": "stream",
     "text": [
      "inv_columns Index(['EC_0.30', 'EC_0.60', 'EC_1.00', 'EC_2.00', 'EC_end'], dtype='object')\n",
      "current_results [{'Extract': 0.5, 'Samples location': 'mean', 'Interface': 'observed', 'Forward_Model': 'CS', 'Minimization_Method': 'ROPE', 'Alpha': 0.01, 'remove_coil': True, 'start_avg': False, 'constrain': True, 'Det': 'LT', 'R2': -11.766, 'RMSE': 0.184, 'MAE': 0.152, 'STD': 0.143, '0R2': -0.149, '0RMSE': 0.208, 'R2_INV': 0.853833814238306}, {'Extract': 0.5, 'Samples location': 'mean', 'Interface': 'observed', 'Forward_Model': 'CS', 'Minimization_Method': 'ROPE', 'Alpha': 0.01, 'remove_coil': True, 'start_avg': False, 'constrain': True, 'Det': 'ID', 'R2': -11.089, 'RMSE': 0.178, 'MAE': 0.152, 'STD': 0.143, '0R2': -0.159, '0RMSE': 0.21, 'R2_INV': 0.853833814238306}, {'Extract': 0.5, 'Samples location': 'mean', 'Interface': 'observed', 'Forward_Model': 'CS', 'Minimization_Method': 'ROPE', 'Alpha': 0.01, 'remove_coil': True, 'start_avg': False, 'constrain': True, 'Det': 'LS', 'R2': -11.155, 'RMSE': 0.179, 'MAE': 0.148, 'STD': 0.136, '0R2': -0.113, '0RMSE': 0.203, 'R2_INV': 0.853833814238306}]\n",
      "Iteration: 63 Combination: (0.5, 'mean', 'observed', 'CS', 'ROPE', 0.01, True, False, False)\n",
      "##################################################################################################################################################################### 02 INVERSION CONFIGURE INPUT ################################################\n"
     ]
    },
    {
     "name": "stderr",
     "output_type": "stream",
     "text": [
      "100%|██████████| 15/15 [00:00<?, ?it/s]"
     ]
    },
    {
     "name": "stdout",
     "output_type": "stream",
     "text": [
      "Inversion using CS with ROPE, reg=l2, alpha=0.01\n",
      "r2inv 0   -167.233446\n",
      "Name: all, dtype: object\n",
      "FAILED\n",
      "Iteration: 64 Combination: (0.5, 'mean', 'observed', 'CS', 'ROPE', 0.01, False, True, True)\n",
      "##################################################################################################################################################################### 02 INVERSION CONFIGURE INPUT ################################################\n"
     ]
    },
    {
     "name": "stderr",
     "output_type": "stream",
     "text": [
      "\n",
      "100%|██████████| 15/15 [00:00<?, ?it/s]"
     ]
    },
    {
     "name": "stdout",
     "output_type": "stream",
     "text": [
      "Constrained inversion using CS with ROPE, reg=l2, alpha=0.01\n",
      "r2inv 0    0.81721\n",
      "Name: all, dtype: object\n",
      "#################################################################################################################################################################### 03 DETERMINISTIC MODELLING ###################################################\n"
     ]
    },
    {
     "name": "stderr",
     "output_type": "stream",
     "text": [
      "\n"
     ]
    },
    {
     "name": "stdout",
     "output_type": "stream",
     "text": [
      "inv_columns Index(['EC_0.30', 'EC_0.60', 'EC_1.00', 'EC_2.00', 'EC_end'], dtype='object')\n",
      "current_results [{'Extract': 0.5, 'Samples location': 'mean', 'Interface': 'observed', 'Forward_Model': 'CS', 'Minimization_Method': 'ROPE', 'Alpha': 0.01, 'remove_coil': False, 'start_avg': True, 'constrain': True, 'Det': 'LT', 'R2': -15.375, 'RMSE': 0.206, 'MAE': 0.172, 'STD': 0.168, '0R2': -0.567, '0RMSE': 0.242, 'R2_INV': 0.8172096624590065}, {'Extract': 0.5, 'Samples location': 'mean', 'Interface': 'observed', 'Forward_Model': 'CS', 'Minimization_Method': 'ROPE', 'Alpha': 0.01, 'remove_coil': False, 'start_avg': True, 'constrain': True, 'Det': 'ID', 'R2': -12.489, 'RMSE': 0.187, 'MAE': 0.157, 'STD': 0.151, '0R2': -0.42, '0RMSE': 0.233, 'R2_INV': 0.8172096624590065}, {'Extract': 0.5, 'Samples location': 'mean', 'Interface': 'observed', 'Forward_Model': 'CS', 'Minimization_Method': 'ROPE', 'Alpha': 0.01, 'remove_coil': False, 'start_avg': True, 'constrain': True, 'Det': 'LS', 'R2': -14.792, 'RMSE': 0.202, 'MAE': 0.168, 'STD': 0.163, '0R2': -0.546, '0RMSE': 0.24, 'R2_INV': 0.8172096624590065}]\n",
      "Iteration: 65 Combination: (0.5, 'mean', 'observed', 'CS', 'ROPE', 0.01, False, True, False)\n",
      "##################################################################################################################################################################### 02 INVERSION CONFIGURE INPUT ################################################\n"
     ]
    },
    {
     "name": "stderr",
     "output_type": "stream",
     "text": [
      "100%|██████████| 15/15 [00:00<?, ?it/s]"
     ]
    },
    {
     "name": "stdout",
     "output_type": "stream",
     "text": [
      "Inversion using CS with ROPE, reg=l2, alpha=0.01\n",
      "r2inv 0   -188.060607\n",
      "Name: all, dtype: object\n",
      "FAILED\n",
      "Iteration: 66 Combination: (0.5, 'mean', 'observed', 'CS', 'ROPE', 0.01, False, False, True)\n"
     ]
    },
    {
     "name": "stderr",
     "output_type": "stream",
     "text": [
      "\n"
     ]
    },
    {
     "name": "stdout",
     "output_type": "stream",
     "text": [
      "##################################################################################################################################################################### 02 INVERSION CONFIGURE INPUT ################################################\n"
     ]
    },
    {
     "name": "stderr",
     "output_type": "stream",
     "text": [
      "100%|██████████| 15/15 [00:00<00:00, 14986.79it/s]"
     ]
    },
    {
     "name": "stdout",
     "output_type": "stream",
     "text": [
      "Constrained inversion using CS with ROPE, reg=l2, alpha=0.01\n",
      "r2inv 0    0.790962\n",
      "Name: all, dtype: object\n",
      "#################################################################################################################################################################### 03 DETERMINISTIC MODELLING ###################################################\n"
     ]
    },
    {
     "name": "stderr",
     "output_type": "stream",
     "text": [
      "\n"
     ]
    },
    {
     "name": "stdout",
     "output_type": "stream",
     "text": [
      "inv_columns Index(['EC_0.30', 'EC_0.60', 'EC_1.00', 'EC_2.00', 'EC_end'], dtype='object')\n",
      "current_results [{'Extract': 0.5, 'Samples location': 'mean', 'Interface': 'observed', 'Forward_Model': 'CS', 'Minimization_Method': 'ROPE', 'Alpha': 0.01, 'remove_coil': False, 'start_avg': False, 'constrain': True, 'Det': 'LT', 'R2': -13.71, 'RMSE': 0.194, 'MAE': 0.161, 'STD': 0.162, '0R2': -0.516, '0RMSE': 0.231, 'R2_INV': 0.7909617781160879}, {'Extract': 0.5, 'Samples location': 'mean', 'Interface': 'observed', 'Forward_Model': 'CS', 'Minimization_Method': 'ROPE', 'Alpha': 0.01, 'remove_coil': False, 'start_avg': False, 'constrain': True, 'Det': 'ID', 'R2': -12.732, 'RMSE': 0.188, 'MAE': 0.153, 'STD': 0.158, '0R2': -0.338, '0RMSE': 0.22, 'R2_INV': 0.7909617781160879}, {'Extract': 0.5, 'Samples location': 'mean', 'Interface': 'observed', 'Forward_Model': 'CS', 'Minimization_Method': 'ROPE', 'Alpha': 0.01, 'remove_coil': False, 'start_avg': False, 'constrain': True, 'Det': 'LS', 'R2': -13.429, 'RMSE': 0.192, 'MAE': 0.157, 'STD': 0.157, '0R2': -0.5, '0RMSE': 0.226, 'R2_INV': 0.7909617781160879}]\n",
      "Iteration: 67 Combination: (0.5, 'mean', 'observed', 'CS', 'ROPE', 0.01, False, False, False)\n",
      "##################################################################################################################################################################### 02 INVERSION CONFIGURE INPUT ################################################\n"
     ]
    },
    {
     "name": "stderr",
     "output_type": "stream",
     "text": [
      "100%|██████████| 15/15 [00:00<00:00, 14751.36it/s]"
     ]
    },
    {
     "name": "stdout",
     "output_type": "stream",
     "text": [
      "Inversion using CS with ROPE, reg=l2, alpha=0.01\n",
      "r2inv 0   -167.225938\n",
      "Name: all, dtype: object\n",
      "FAILED\n",
      "Iteration: 68 Combination: (0.5, 'mean', 'observed', 'CS', 'ROPE', 0.07, True, True, True)\n"
     ]
    },
    {
     "name": "stderr",
     "output_type": "stream",
     "text": [
      "\n"
     ]
    },
    {
     "name": "stdout",
     "output_type": "stream",
     "text": [
      "##################################################################################################################################################################### 02 INVERSION CONFIGURE INPUT ################################################\n"
     ]
    },
    {
     "name": "stderr",
     "output_type": "stream",
     "text": [
      "100%|██████████| 15/15 [00:00<00:00, 15611.55it/s]"
     ]
    },
    {
     "name": "stdout",
     "output_type": "stream",
     "text": [
      "Constrained inversion using CS with ROPE, reg=l2, alpha=0.07\n",
      "r2inv 0    0.870943\n",
      "Name: all, dtype: object\n",
      "#################################################################################################################################################################### 03 DETERMINISTIC MODELLING ###################################################\n"
     ]
    },
    {
     "name": "stderr",
     "output_type": "stream",
     "text": [
      "\n"
     ]
    },
    {
     "name": "stdout",
     "output_type": "stream",
     "text": [
      "inv_columns Index(['EC_0.30', 'EC_0.60', 'EC_1.00', 'EC_2.00', 'EC_end'], dtype='object')\n",
      "current_results [{'Extract': 0.5, 'Samples location': 'mean', 'Interface': 'observed', 'Forward_Model': 'CS', 'Minimization_Method': 'ROPE', 'Alpha': 0.07, 'remove_coil': True, 'start_avg': True, 'constrain': True, 'Det': 'LT', 'R2': -11.184, 'RMSE': 0.181, 'MAE': 0.146, 'STD': 0.139, '0R2': 0.04, '0RMSE': 0.188, 'R2_INV': 0.8709430879106039}, {'Extract': 0.5, 'Samples location': 'mean', 'Interface': 'observed', 'Forward_Model': 'CS', 'Minimization_Method': 'ROPE', 'Alpha': 0.07, 'remove_coil': True, 'start_avg': True, 'constrain': True, 'Det': 'ID', 'R2': -10.87, 'RMSE': 0.174, 'MAE': 0.147, 'STD': 0.14, '0R2': 0.0, '0RMSE': 0.193, 'R2_INV': 0.8709430879106039}, {'Extract': 0.5, 'Samples location': 'mean', 'Interface': 'observed', 'Forward_Model': 'CS', 'Minimization_Method': 'ROPE', 'Alpha': 0.07, 'remove_coil': True, 'start_avg': True, 'constrain': True, 'Det': 'LS', 'R2': -10.61, 'RMSE': 0.176, 'MAE': 0.143, 'STD': 0.134, '0R2': 0.08, '0RMSE': 0.186, 'R2_INV': 0.8709430879106039}]\n",
      "Iteration: 69 Combination: (0.5, 'mean', 'observed', 'CS', 'ROPE', 0.07, True, True, False)\n",
      "##################################################################################################################################################################### 02 INVERSION CONFIGURE INPUT ################################################\n"
     ]
    },
    {
     "name": "stderr",
     "output_type": "stream",
     "text": [
      "100%|██████████| 15/15 [00:00<?, ?it/s]"
     ]
    },
    {
     "name": "stdout",
     "output_type": "stream",
     "text": [
      "Inversion using CS with ROPE, reg=l2, alpha=0.07\n",
      "r2inv 0   -190.131529\n",
      "Name: all, dtype: object\n",
      "FAILED\n",
      "Iteration: 70 Combination: (0.5, 'mean', 'observed', 'CS', 'ROPE', 0.07, True, False, True)\n"
     ]
    },
    {
     "name": "stderr",
     "output_type": "stream",
     "text": [
      "\n"
     ]
    },
    {
     "name": "stdout",
     "output_type": "stream",
     "text": [
      "##################################################################################################################################################################### 02 INVERSION CONFIGURE INPUT ################################################\n"
     ]
    },
    {
     "name": "stderr",
     "output_type": "stream",
     "text": [
      "100%|██████████| 15/15 [00:00<00:00, 15450.53it/s]"
     ]
    },
    {
     "name": "stdout",
     "output_type": "stream",
     "text": [
      "Constrained inversion using CS with ROPE, reg=l2, alpha=0.07\n",
      "r2inv 0    0.836944\n",
      "Name: all, dtype: object\n",
      "#################################################################################################################################################################### 03 DETERMINISTIC MODELLING ###################################################\n"
     ]
    },
    {
     "name": "stderr",
     "output_type": "stream",
     "text": [
      "\n"
     ]
    },
    {
     "name": "stdout",
     "output_type": "stream",
     "text": [
      "inv_columns Index(['EC_0.30', 'EC_0.60', 'EC_1.00', 'EC_2.00', 'EC_end'], dtype='object')\n",
      "current_results [{'Extract': 0.5, 'Samples location': 'mean', 'Interface': 'observed', 'Forward_Model': 'CS', 'Minimization_Method': 'ROPE', 'Alpha': 0.07, 'remove_coil': True, 'start_avg': False, 'constrain': True, 'Det': 'LT', 'R2': -12.319, 'RMSE': 0.184, 'MAE': 0.156, 'STD': 0.147, '0R2': -0.266, '0RMSE': 0.222, 'R2_INV': 0.8369437640274773}, {'Extract': 0.5, 'Samples location': 'mean', 'Interface': 'observed', 'Forward_Model': 'CS', 'Minimization_Method': 'ROPE', 'Alpha': 0.07, 'remove_coil': True, 'start_avg': False, 'constrain': True, 'Det': 'ID', 'R2': -9.971, 'RMSE': 0.169, 'MAE': 0.144, 'STD': 0.135, '0R2': -0.148, '0RMSE': 0.212, 'R2_INV': 0.8369437640274773}, {'Extract': 0.5, 'Samples location': 'mean', 'Interface': 'observed', 'Forward_Model': 'CS', 'Minimization_Method': 'ROPE', 'Alpha': 0.07, 'remove_coil': True, 'start_avg': False, 'constrain': True, 'Det': 'LS', 'R2': -11.324, 'RMSE': 0.178, 'MAE': 0.152, 'STD': 0.141, '0R2': -0.213, '0RMSE': 0.22, 'R2_INV': 0.8369437640274773}]\n",
      "Iteration: 71 Combination: (0.5, 'mean', 'observed', 'CS', 'ROPE', 0.07, True, False, False)\n",
      "##################################################################################################################################################################### 02 INVERSION CONFIGURE INPUT ################################################\n"
     ]
    },
    {
     "name": "stderr",
     "output_type": "stream",
     "text": [
      "100%|██████████| 15/15 [00:00<00:00, 14997.51it/s]"
     ]
    },
    {
     "name": "stdout",
     "output_type": "stream",
     "text": [
      "Inversion using CS with ROPE, reg=l2, alpha=0.07\n",
      "r2inv 0   -202.651941\n",
      "Name: all, dtype: object\n",
      "FAILED\n",
      "Iteration: 72 Combination: (0.5, 'mean', 'observed', 'CS', 'ROPE', 0.07, False, True, True)\n"
     ]
    },
    {
     "name": "stderr",
     "output_type": "stream",
     "text": [
      "\n"
     ]
    },
    {
     "name": "stdout",
     "output_type": "stream",
     "text": [
      "##################################################################################################################################################################### 02 INVERSION CONFIGURE INPUT ################################################\n"
     ]
    },
    {
     "name": "stderr",
     "output_type": "stream",
     "text": [
      "100%|██████████| 15/15 [00:00<00:00, 15011.83it/s]"
     ]
    },
    {
     "name": "stdout",
     "output_type": "stream",
     "text": [
      "Constrained inversion using CS with ROPE, reg=l2, alpha=0.07\n",
      "r2inv 0    0.754785\n",
      "Name: all, dtype: object\n",
      "#################################################################################################################################################################### 03 DETERMINISTIC MODELLING ###################################################\n"
     ]
    },
    {
     "name": "stderr",
     "output_type": "stream",
     "text": [
      "\n"
     ]
    },
    {
     "name": "stdout",
     "output_type": "stream",
     "text": [
      "inv_columns Index(['EC_0.30', 'EC_0.60', 'EC_1.00', 'EC_2.00', 'EC_end'], dtype='object')\n",
      "current_results [{'Extract': 0.5, 'Samples location': 'mean', 'Interface': 'observed', 'Forward_Model': 'CS', 'Minimization_Method': 'ROPE', 'Alpha': 0.07, 'remove_coil': False, 'start_avg': True, 'constrain': True, 'Det': 'LT', 'R2': -15.42, 'RMSE': 0.213, 'MAE': 0.175, 'STD': 0.171, '0R2': -0.34, '0RMSE': 0.225, 'R2_INV': 0.7547846819995634}, {'Extract': 0.5, 'Samples location': 'mean', 'Interface': 'observed', 'Forward_Model': 'CS', 'Minimization_Method': 'ROPE', 'Alpha': 0.07, 'remove_coil': False, 'start_avg': True, 'constrain': True, 'Det': 'ID', 'R2': -14.478, 'RMSE': 0.204, 'MAE': 0.164, 'STD': 0.169, '0R2': -0.279, '0RMSE': 0.218, 'R2_INV': 0.7547846819995634}, {'Extract': 0.5, 'Samples location': 'mean', 'Interface': 'observed', 'Forward_Model': 'CS', 'Minimization_Method': 'ROPE', 'Alpha': 0.07, 'remove_coil': False, 'start_avg': True, 'constrain': True, 'Det': 'LS', 'R2': -15.033, 'RMSE': 0.21, 'MAE': 0.171, 'STD': 0.166, '0R2': -0.311, '0RMSE': 0.222, 'R2_INV': 0.7547846819995634}]\n",
      "Iteration: 73 Combination: (0.5, 'mean', 'observed', 'CS', 'ROPE', 0.07, False, True, False)\n",
      "##################################################################################################################################################################### 02 INVERSION CONFIGURE INPUT ################################################\n"
     ]
    },
    {
     "name": "stderr",
     "output_type": "stream",
     "text": [
      "100%|██████████| 15/15 [00:00<00:00, 15109.16it/s]"
     ]
    },
    {
     "name": "stdout",
     "output_type": "stream",
     "text": [
      "Inversion using CS with ROPE, reg=l2, alpha=0.07\n",
      "r2inv 0   -174.095947\n",
      "Name: all, dtype: object\n",
      "FAILED\n",
      "Iteration: 74 Combination: (0.5, 'mean', 'observed', 'CS', 'ROPE', 0.07, False, False, True)\n"
     ]
    },
    {
     "name": "stderr",
     "output_type": "stream",
     "text": [
      "\n"
     ]
    },
    {
     "name": "stdout",
     "output_type": "stream",
     "text": [
      "##################################################################################################################################################################### 02 INVERSION CONFIGURE INPUT ################################################\n"
     ]
    },
    {
     "name": "stderr",
     "output_type": "stream",
     "text": [
      "100%|██████████| 15/15 [00:00<00:00, 7514.88it/s]"
     ]
    },
    {
     "name": "stdout",
     "output_type": "stream",
     "text": [
      "Constrained inversion using CS with ROPE, reg=l2, alpha=0.07\n",
      "r2inv 0    0.831088\n",
      "Name: all, dtype: object\n",
      "#################################################################################################################################################################### 03 DETERMINISTIC MODELLING ###################################################\n"
     ]
    },
    {
     "name": "stderr",
     "output_type": "stream",
     "text": [
      "\n"
     ]
    },
    {
     "name": "stdout",
     "output_type": "stream",
     "text": [
      "inv_columns Index(['EC_0.30', 'EC_0.60', 'EC_1.00', 'EC_2.00', 'EC_end'], dtype='object')\n",
      "current_results [{'Extract': 0.5, 'Samples location': 'mean', 'Interface': 'observed', 'Forward_Model': 'CS', 'Minimization_Method': 'ROPE', 'Alpha': 0.07, 'remove_coil': False, 'start_avg': False, 'constrain': True, 'Det': 'LT', 'R2': -16.652, 'RMSE': 0.21, 'MAE': 0.174, 'STD': 0.163, '0R2': -0.345, '0RMSE': 0.227, 'R2_INV': 0.8310883056120377}, {'Extract': 0.5, 'Samples location': 'mean', 'Interface': 'observed', 'Forward_Model': 'CS', 'Minimization_Method': 'ROPE', 'Alpha': 0.07, 'remove_coil': False, 'start_avg': False, 'constrain': True, 'Det': 'ID', 'R2': -15.279, 'RMSE': 0.208, 'MAE': 0.172, 'STD': 0.157, '0R2': -0.266, '0RMSE': 0.221, 'R2_INV': 0.8310883056120377}, {'Extract': 0.5, 'Samples location': 'mean', 'Interface': 'observed', 'Forward_Model': 'CS', 'Minimization_Method': 'ROPE', 'Alpha': 0.07, 'remove_coil': False, 'start_avg': False, 'constrain': True, 'Det': 'LS', 'R2': -16.026, 'RMSE': 0.207, 'MAE': 0.17, 'STD': 0.157, '0R2': -0.319, '0RMSE': 0.226, 'R2_INV': 0.8310883056120377}]\n",
      "Iteration: 75 Combination: (0.5, 'mean', 'observed', 'CS', 'ROPE', 0.07, False, False, False)\n",
      "##################################################################################################################################################################### 02 INVERSION CONFIGURE INPUT ################################################\n"
     ]
    },
    {
     "name": "stderr",
     "output_type": "stream",
     "text": [
      "100%|██████████| 15/15 [00:00<?, ?it/s]"
     ]
    },
    {
     "name": "stdout",
     "output_type": "stream",
     "text": [
      "Inversion using CS with ROPE, reg=l2, alpha=0.07\n",
      "r2inv 0   -215.274808\n",
      "Name: all, dtype: object\n",
      "FAILED\n",
      "Iteration: 76 Combination: (0.5, 'mean', 'observed', 'CS', 'ROPE', 0.2, True, True, True)\n"
     ]
    },
    {
     "name": "stderr",
     "output_type": "stream",
     "text": [
      "\n"
     ]
    },
    {
     "name": "stdout",
     "output_type": "stream",
     "text": [
      "##################################################################################################################################################################### 02 INVERSION CONFIGURE INPUT ################################################\n"
     ]
    },
    {
     "name": "stderr",
     "output_type": "stream",
     "text": [
      "100%|██████████| 15/15 [00:00<00:00, 15480.94it/s]"
     ]
    },
    {
     "name": "stdout",
     "output_type": "stream",
     "text": [
      "Constrained inversion using CS with ROPE, reg=l2, alpha=0.2\n",
      "r2inv 0    0.830004\n",
      "Name: all, dtype: object\n",
      "#################################################################################################################################################################### 03 DETERMINISTIC MODELLING ###################################################\n"
     ]
    },
    {
     "name": "stderr",
     "output_type": "stream",
     "text": [
      "\n"
     ]
    },
    {
     "name": "stdout",
     "output_type": "stream",
     "text": [
      "inv_columns Index(['EC_0.30', 'EC_0.60', 'EC_1.00', 'EC_2.00', 'EC_end'], dtype='object')\n",
      "current_results [{'Extract': 0.5, 'Samples location': 'mean', 'Interface': 'observed', 'Forward_Model': 'CS', 'Minimization_Method': 'ROPE', 'Alpha': 0.2, 'remove_coil': True, 'start_avg': True, 'constrain': True, 'Det': 'LT', 'R2': -12.119, 'RMSE': 0.178, 'MAE': 0.149, 'STD': 0.146, '0R2': -0.144, '0RMSE': 0.209, 'R2_INV': 0.8300041565533782}, {'Extract': 0.5, 'Samples location': 'mean', 'Interface': 'observed', 'Forward_Model': 'CS', 'Minimization_Method': 'ROPE', 'Alpha': 0.2, 'remove_coil': True, 'start_avg': True, 'constrain': True, 'Det': 'ID', 'R2': -9.099, 'RMSE': 0.168, 'MAE': 0.137, 'STD': 0.139, '0R2': -0.168, '0RMSE': 0.209, 'R2_INV': 0.8300041565533782}, {'Extract': 0.5, 'Samples location': 'mean', 'Interface': 'observed', 'Forward_Model': 'CS', 'Minimization_Method': 'ROPE', 'Alpha': 0.2, 'remove_coil': True, 'start_avg': True, 'constrain': True, 'Det': 'LS', 'R2': -11.444, 'RMSE': 0.174, 'MAE': 0.144, 'STD': 0.139, '0R2': -0.12, '0RMSE': 0.206, 'R2_INV': 0.8300041565533782}]\n",
      "Iteration: 77 Combination: (0.5, 'mean', 'observed', 'CS', 'ROPE', 0.2, True, True, False)\n",
      "##################################################################################################################################################################### 02 INVERSION CONFIGURE INPUT ################################################\n"
     ]
    },
    {
     "name": "stderr",
     "output_type": "stream",
     "text": [
      "100%|██████████| 15/15 [00:00<00:00, 14993.94it/s]"
     ]
    },
    {
     "name": "stdout",
     "output_type": "stream",
     "text": [
      "Inversion using CS with ROPE, reg=l2, alpha=0.2\n",
      "r2inv 0   -177.743615\n",
      "Name: all, dtype: object\n",
      "FAILED\n",
      "Iteration: 78 Combination: (0.5, 'mean', 'observed', 'CS', 'ROPE', 0.2, True, False, True)\n"
     ]
    },
    {
     "name": "stderr",
     "output_type": "stream",
     "text": [
      "\n"
     ]
    },
    {
     "name": "stdout",
     "output_type": "stream",
     "text": [
      "##################################################################################################################################################################### 02 INVERSION CONFIGURE INPUT ################################################\n"
     ]
    },
    {
     "name": "stderr",
     "output_type": "stream",
     "text": [
      "100%|██████████| 15/15 [00:00<?, ?it/s]"
     ]
    },
    {
     "name": "stdout",
     "output_type": "stream",
     "text": [
      "Constrained inversion using CS with ROPE, reg=l2, alpha=0.2\n",
      "r2inv 0    0.832941\n",
      "Name: all, dtype: object\n",
      "#################################################################################################################################################################### 03 DETERMINISTIC MODELLING ###################################################\n"
     ]
    },
    {
     "name": "stderr",
     "output_type": "stream",
     "text": [
      "\n"
     ]
    },
    {
     "name": "stdout",
     "output_type": "stream",
     "text": [
      "inv_columns Index(['EC_0.30', 'EC_0.60', 'EC_1.00', 'EC_2.00', 'EC_end'], dtype='object')\n",
      "current_results [{'Extract': 0.5, 'Samples location': 'mean', 'Interface': 'observed', 'Forward_Model': 'CS', 'Minimization_Method': 'ROPE', 'Alpha': 0.2, 'remove_coil': True, 'start_avg': False, 'constrain': True, 'Det': 'LT', 'R2': -13.825, 'RMSE': 0.196, 'MAE': 0.16, 'STD': 0.162, '0R2': -0.258, '0RMSE': 0.222, 'R2_INV': 0.8329409003558655}, {'Extract': 0.5, 'Samples location': 'mean', 'Interface': 'observed', 'Forward_Model': 'CS', 'Minimization_Method': 'ROPE', 'Alpha': 0.2, 'remove_coil': True, 'start_avg': False, 'constrain': True, 'Det': 'ID', 'R2': -13.149, 'RMSE': 0.191, 'MAE': 0.144, 'STD': 0.16, '0R2': -0.286, '0RMSE': 0.222, 'R2_INV': 0.8329409003558655}, {'Extract': 0.5, 'Samples location': 'mean', 'Interface': 'observed', 'Forward_Model': 'CS', 'Minimization_Method': 'ROPE', 'Alpha': 0.2, 'remove_coil': True, 'start_avg': False, 'constrain': True, 'Det': 'LS', 'R2': -13.142, 'RMSE': 0.191, 'MAE': 0.154, 'STD': 0.156, '0R2': -0.215, '0RMSE': 0.22, 'R2_INV': 0.8329409003558655}]\n",
      "Iteration: 79 Combination: (0.5, 'mean', 'observed', 'CS', 'ROPE', 0.2, True, False, False)\n",
      "##################################################################################################################################################################### 02 INVERSION CONFIGURE INPUT ################################################\n"
     ]
    },
    {
     "name": "stderr",
     "output_type": "stream",
     "text": [
      "100%|██████████| 15/15 [00:00<00:00, 14936.98it/s]"
     ]
    },
    {
     "name": "stdout",
     "output_type": "stream",
     "text": [
      "Inversion using CS with ROPE, reg=l2, alpha=0.2\n",
      "r2inv 0   -153.210981\n",
      "Name: all, dtype: object\n",
      "FAILED\n",
      "Iteration: 80 Combination: (0.5, 'mean', 'observed', 'CS', 'ROPE', 0.2, False, True, True)\n",
      "##################################################################################################################################################################### 02 INVERSION CONFIGURE INPUT ################################################\n"
     ]
    },
    {
     "name": "stderr",
     "output_type": "stream",
     "text": [
      "\n",
      "100%|██████████| 15/15 [00:00<00:00, 15386.29it/s]"
     ]
    },
    {
     "name": "stdout",
     "output_type": "stream",
     "text": [
      "Constrained inversion using CS with ROPE, reg=l2, alpha=0.2\n",
      "r2inv 0    0.802494\n",
      "Name: all, dtype: object\n",
      "#################################################################################################################################################################### 03 DETERMINISTIC MODELLING ###################################################\n"
     ]
    },
    {
     "name": "stderr",
     "output_type": "stream",
     "text": [
      "\n"
     ]
    },
    {
     "name": "stdout",
     "output_type": "stream",
     "text": [
      "inv_columns Index(['EC_0.30', 'EC_0.60', 'EC_1.00', 'EC_2.00', 'EC_end'], dtype='object')\n",
      "current_results [{'Extract': 0.5, 'Samples location': 'mean', 'Interface': 'observed', 'Forward_Model': 'CS', 'Minimization_Method': 'ROPE', 'Alpha': 0.2, 'remove_coil': False, 'start_avg': True, 'constrain': True, 'Det': 'LT', 'R2': -14.796, 'RMSE': 0.202, 'MAE': 0.166, 'STD': 0.158, '0R2': -0.359, '0RMSE': 0.22, 'R2_INV': 0.8024940694930788}, {'Extract': 0.5, 'Samples location': 'mean', 'Interface': 'observed', 'Forward_Model': 'CS', 'Minimization_Method': 'ROPE', 'Alpha': 0.2, 'remove_coil': False, 'start_avg': True, 'constrain': True, 'Det': 'ID', 'R2': -12.128, 'RMSE': 0.186, 'MAE': 0.148, 'STD': 0.146, '0R2': -0.168, '0RMSE': 0.209, 'R2_INV': 0.8024940694930788}, {'Extract': 0.5, 'Samples location': 'mean', 'Interface': 'observed', 'Forward_Model': 'CS', 'Minimization_Method': 'ROPE', 'Alpha': 0.2, 'remove_coil': False, 'start_avg': True, 'constrain': True, 'Det': 'LS', 'R2': -14.043, 'RMSE': 0.196, 'MAE': 0.16, 'STD': 0.151, '0R2': -0.322, '0RMSE': 0.216, 'R2_INV': 0.8024940694930788}]\n",
      "Iteration: 81 Combination: (0.5, 'mean', 'observed', 'CS', 'ROPE', 0.2, False, True, False)\n",
      "##################################################################################################################################################################### 02 INVERSION CONFIGURE INPUT ################################################\n"
     ]
    },
    {
     "name": "stderr",
     "output_type": "stream",
     "text": [
      "100%|██████████| 15/15 [00:00<00:00, 15461.92it/s]"
     ]
    },
    {
     "name": "stdout",
     "output_type": "stream",
     "text": [
      "Inversion using CS with ROPE, reg=l2, alpha=0.2\n",
      "r2inv 0   -185.668119\n",
      "Name: all, dtype: object\n",
      "FAILED\n",
      "Iteration: 82 Combination: (0.5, 'mean', 'observed', 'CS', 'ROPE', 0.2, False, False, True)\n"
     ]
    },
    {
     "name": "stderr",
     "output_type": "stream",
     "text": [
      "\n"
     ]
    },
    {
     "name": "stdout",
     "output_type": "stream",
     "text": [
      "##################################################################################################################################################################### 02 INVERSION CONFIGURE INPUT ################################################\n"
     ]
    },
    {
     "name": "stderr",
     "output_type": "stream",
     "text": [
      "100%|██████████| 15/15 [00:00<00:00, 14961.85it/s]"
     ]
    },
    {
     "name": "stdout",
     "output_type": "stream",
     "text": [
      "Constrained inversion using CS with ROPE, reg=l2, alpha=0.2\n",
      "r2inv 0    0.766258\n",
      "Name: all, dtype: object\n",
      "#################################################################################################################################################################### 03 DETERMINISTIC MODELLING ###################################################\n"
     ]
    },
    {
     "name": "stderr",
     "output_type": "stream",
     "text": [
      "\n"
     ]
    },
    {
     "name": "stdout",
     "output_type": "stream",
     "text": [
      "inv_columns Index(['EC_0.30', 'EC_0.60', 'EC_1.00', 'EC_2.00', 'EC_end'], dtype='object')\n",
      "current_results [{'Extract': 0.5, 'Samples location': 'mean', 'Interface': 'observed', 'Forward_Model': 'CS', 'Minimization_Method': 'ROPE', 'Alpha': 0.2, 'remove_coil': False, 'start_avg': False, 'constrain': True, 'Det': 'LT', 'R2': -14.125, 'RMSE': 0.198, 'MAE': 0.163, 'STD': 0.164, '0R2': -0.324, '0RMSE': 0.211, 'R2_INV': 0.7662579640021104}, {'Extract': 0.5, 'Samples location': 'mean', 'Interface': 'observed', 'Forward_Model': 'CS', 'Minimization_Method': 'ROPE', 'Alpha': 0.2, 'remove_coil': False, 'start_avg': False, 'constrain': True, 'Det': 'ID', 'R2': -12.052, 'RMSE': 0.187, 'MAE': 0.152, 'STD': 0.152, '0R2': -0.216, '0RMSE': 0.202, 'R2_INV': 0.7662579640021104}, {'Extract': 0.5, 'Samples location': 'mean', 'Interface': 'observed', 'Forward_Model': 'CS', 'Minimization_Method': 'ROPE', 'Alpha': 0.2, 'remove_coil': False, 'start_avg': False, 'constrain': True, 'Det': 'LS', 'R2': -13.608, 'RMSE': 0.196, 'MAE': 0.158, 'STD': 0.158, '0R2': -0.31, '0RMSE': 0.208, 'R2_INV': 0.7662579640021104}]\n",
      "Iteration: 83 Combination: (0.5, 'mean', 'observed', 'CS', 'ROPE', 0.2, False, False, False)\n",
      "##################################################################################################################################################################### 02 INVERSION CONFIGURE INPUT ################################################\n"
     ]
    },
    {
     "name": "stderr",
     "output_type": "stream",
     "text": [
      "100%|██████████| 15/15 [00:00<?, ?it/s]"
     ]
    },
    {
     "name": "stdout",
     "output_type": "stream",
     "text": [
      "Inversion using CS with ROPE, reg=l2, alpha=0.2\n",
      "r2inv 0   -165.104431\n",
      "Name: all, dtype: object\n",
      "FAILED\n",
      "Iteration: 84 Combination: (0.5, 'mean', 'observed', 'FSlin', 'Gauss-Newton', 0.01, True, True, True)\n"
     ]
    },
    {
     "name": "stderr",
     "output_type": "stream",
     "text": [
      "\n"
     ]
    },
    {
     "name": "stdout",
     "output_type": "stream",
     "text": [
      "##################################################################################################################################################################### 02 INVERSION CONFIGURE INPUT ################################################\n",
      "Constrained Inversion using FSlin with Gauss-Newton, reg=l2, alpha=0.01\n",
      "15/15 invertedr2inv 0    0.537715\n",
      "Name: all, dtype: object\n",
      "#################################################################################################################################################################### 03 DETERMINISTIC MODELLING ###################################################\n",
      "inv_columns Index(['EC_0.30', 'EC_0.60', 'EC_1.00', 'EC_2.00', 'EC_end'], dtype='object')\n",
      "current_results [{'Extract': 0.5, 'Samples location': 'mean', 'Interface': 'observed', 'Forward_Model': 'FSlin', 'Minimization_Method': 'Gauss-Newton', 'Alpha': 0.01, 'remove_coil': True, 'start_avg': True, 'constrain': True, 'Det': 'LT', 'R2': -25.882, 'RMSE': 0.26, 'MAE': 0.234, 'STD': 0.246, '0R2': -2.11, '0RMSE': 0.339, 'R2_INV': 0.5377152010748245}, {'Extract': 0.5, 'Samples location': 'mean', 'Interface': 'observed', 'Forward_Model': 'FSlin', 'Minimization_Method': 'Gauss-Newton', 'Alpha': 0.01, 'remove_coil': True, 'start_avg': True, 'constrain': True, 'Det': 'ID', 'R2': -25.811, 'RMSE': 0.258, 'MAE': 0.232, 'STD': 0.246, '0R2': -2.078, '0RMSE': 0.339, 'R2_INV': 0.5377152010748245}, {'Extract': 0.5, 'Samples location': 'mean', 'Interface': 'observed', 'Forward_Model': 'FSlin', 'Minimization_Method': 'Gauss-Newton', 'Alpha': 0.01, 'remove_coil': True, 'start_avg': True, 'constrain': True, 'Det': 'LS', 'R2': -25.755, 'RMSE': 0.258, 'MAE': 0.234, 'STD': 0.246, '0R2': -2.106, '0RMSE': 0.339, 'R2_INV': 0.5377152010748245}]\n",
      "Iteration: 85 Combination: (0.5, 'mean', 'observed', 'FSlin', 'Gauss-Newton', 0.01, True, True, False)\n",
      "##################################################################################################################################################################### 02 INVERSION CONFIGURE INPUT ################################################\n",
      "Inversion using FSlin with Gauss-Newton, reg=l2, alpha=0.01\n",
      "15/15 invertedr2inv 0    0.537715\n",
      "Name: all, dtype: object\n",
      "#################################################################################################################################################################### 03 DETERMINISTIC MODELLING ###################################################\n",
      "inv_columns Index(['EC_0.30', 'EC_0.60', 'EC_1.00', 'EC_2.00', 'EC_end'], dtype='object')\n",
      "current_results [{'Extract': 0.5, 'Samples location': 'mean', 'Interface': 'observed', 'Forward_Model': 'FSlin', 'Minimization_Method': 'Gauss-Newton', 'Alpha': 0.01, 'remove_coil': True, 'start_avg': True, 'constrain': False, 'Det': 'LT', 'R2': -25.882, 'RMSE': 0.26, 'MAE': 0.234, 'STD': 0.246, '0R2': -2.11, '0RMSE': 0.339, 'R2_INV': 0.5377152010748245}, {'Extract': 0.5, 'Samples location': 'mean', 'Interface': 'observed', 'Forward_Model': 'FSlin', 'Minimization_Method': 'Gauss-Newton', 'Alpha': 0.01, 'remove_coil': True, 'start_avg': True, 'constrain': False, 'Det': 'ID', 'R2': -25.811, 'RMSE': 0.258, 'MAE': 0.232, 'STD': 0.246, '0R2': -2.078, '0RMSE': 0.339, 'R2_INV': 0.5377152010748245}, {'Extract': 0.5, 'Samples location': 'mean', 'Interface': 'observed', 'Forward_Model': 'FSlin', 'Minimization_Method': 'Gauss-Newton', 'Alpha': 0.01, 'remove_coil': True, 'start_avg': True, 'constrain': False, 'Det': 'LS', 'R2': -25.755, 'RMSE': 0.258, 'MAE': 0.234, 'STD': 0.246, '0R2': -2.106, '0RMSE': 0.339, 'R2_INV': 0.5377152010748245}]\n",
      "Iteration: 86 Combination: (0.5, 'mean', 'observed', 'FSlin', 'Gauss-Newton', 0.01, True, False, True)\n",
      "##################################################################################################################################################################### 02 INVERSION CONFIGURE INPUT ################################################\n",
      "Constrained Inversion using FSlin with Gauss-Newton, reg=l2, alpha=0.01\n",
      "15/15 invertedr2inv 0    0.130735\n",
      "Name: all, dtype: object\n",
      "#################################################################################################################################################################### 03 DETERMINISTIC MODELLING ###################################################\n",
      "inv_columns Index(['EC_0.30', 'EC_0.60', 'EC_1.00', 'EC_2.00', 'EC_end'], dtype='object')\n",
      "current_results [{'Extract': 0.5, 'Samples location': 'mean', 'Interface': 'observed', 'Forward_Model': 'FSlin', 'Minimization_Method': 'Gauss-Newton', 'Alpha': 0.01, 'remove_coil': True, 'start_avg': False, 'constrain': True, 'Det': 'LT', 'R2': -23.532, 'RMSE': 0.246, 'MAE': 0.226, 'STD': 0.258, '0R2': -1.877, '0RMSE': 0.334, 'R2_INV': 0.1307347421404946}, {'Extract': 0.5, 'Samples location': 'mean', 'Interface': 'observed', 'Forward_Model': 'FSlin', 'Minimization_Method': 'Gauss-Newton', 'Alpha': 0.01, 'remove_coil': True, 'start_avg': False, 'constrain': True, 'Det': 'ID', 'R2': -24.084, 'RMSE': 0.253, 'MAE': 0.236, 'STD': 0.264, '0R2': -2.0, '0RMSE': 0.334, 'R2_INV': 0.1307347421404946}, {'Extract': 0.5, 'Samples location': 'mean', 'Interface': 'observed', 'Forward_Model': 'FSlin', 'Minimization_Method': 'Gauss-Newton', 'Alpha': 0.01, 'remove_coil': True, 'start_avg': False, 'constrain': True, 'Det': 'LS', 'R2': -24.279, 'RMSE': 0.25, 'MAE': 0.231, 'STD': 0.262, '0R2': -1.94, '0RMSE': 0.338, 'R2_INV': 0.1307347421404946}]\n",
      "Iteration: 87 Combination: (0.5, 'mean', 'observed', 'FSlin', 'Gauss-Newton', 0.01, True, False, False)\n",
      "##################################################################################################################################################################### 02 INVERSION CONFIGURE INPUT ################################################\n",
      "Inversion using FSlin with Gauss-Newton, reg=l2, alpha=0.01\n",
      "15/15 invertedr2inv 0    0.130735\n",
      "Name: all, dtype: object\n",
      "#################################################################################################################################################################### 03 DETERMINISTIC MODELLING ###################################################\n",
      "inv_columns Index(['EC_0.30', 'EC_0.60', 'EC_1.00', 'EC_2.00', 'EC_end'], dtype='object')\n",
      "current_results [{'Extract': 0.5, 'Samples location': 'mean', 'Interface': 'observed', 'Forward_Model': 'FSlin', 'Minimization_Method': 'Gauss-Newton', 'Alpha': 0.01, 'remove_coil': True, 'start_avg': False, 'constrain': False, 'Det': 'LT', 'R2': -23.532, 'RMSE': 0.246, 'MAE': 0.226, 'STD': 0.258, '0R2': -1.877, '0RMSE': 0.334, 'R2_INV': 0.1307347421404946}, {'Extract': 0.5, 'Samples location': 'mean', 'Interface': 'observed', 'Forward_Model': 'FSlin', 'Minimization_Method': 'Gauss-Newton', 'Alpha': 0.01, 'remove_coil': True, 'start_avg': False, 'constrain': False, 'Det': 'ID', 'R2': -24.084, 'RMSE': 0.253, 'MAE': 0.236, 'STD': 0.264, '0R2': -2.0, '0RMSE': 0.334, 'R2_INV': 0.1307347421404946}, {'Extract': 0.5, 'Samples location': 'mean', 'Interface': 'observed', 'Forward_Model': 'FSlin', 'Minimization_Method': 'Gauss-Newton', 'Alpha': 0.01, 'remove_coil': True, 'start_avg': False, 'constrain': False, 'Det': 'LS', 'R2': -24.279, 'RMSE': 0.25, 'MAE': 0.231, 'STD': 0.262, '0R2': -1.94, '0RMSE': 0.338, 'R2_INV': 0.1307347421404946}]\n",
      "Iteration: 88 Combination: (0.5, 'mean', 'observed', 'FSlin', 'Gauss-Newton', 0.01, False, True, True)\n",
      "##################################################################################################################################################################### 02 INVERSION CONFIGURE INPUT ################################################\n",
      "Constrained Inversion using FSlin with Gauss-Newton, reg=l2, alpha=0.01\n",
      "15/15 invertedr2inv 0    0.622947\n",
      "Name: all, dtype: object\n",
      "#################################################################################################################################################################### 03 DETERMINISTIC MODELLING ###################################################\n",
      "inv_columns Index(['EC_0.30', 'EC_0.60', 'EC_1.00', 'EC_2.00', 'EC_end'], dtype='object')\n",
      "current_results [{'Extract': 0.5, 'Samples location': 'mean', 'Interface': 'observed', 'Forward_Model': 'FSlin', 'Minimization_Method': 'Gauss-Newton', 'Alpha': 0.01, 'remove_coil': False, 'start_avg': True, 'constrain': True, 'Det': 'LT', 'R2': -26.114, 'RMSE': 0.262, 'MAE': 0.234, 'STD': 0.258, '0R2': -2.31, '0RMSE': 0.354, 'R2_INV': 0.6229466821584184}, {'Extract': 0.5, 'Samples location': 'mean', 'Interface': 'observed', 'Forward_Model': 'FSlin', 'Minimization_Method': 'Gauss-Newton', 'Alpha': 0.01, 'remove_coil': False, 'start_avg': True, 'constrain': True, 'Det': 'ID', 'R2': -26.445, 'RMSE': 0.262, 'MAE': 0.237, 'STD': 0.26, '0R2': -2.308, '0RMSE': 0.36, 'R2_INV': 0.6229466821584184}, {'Extract': 0.5, 'Samples location': 'mean', 'Interface': 'observed', 'Forward_Model': 'FSlin', 'Minimization_Method': 'Gauss-Newton', 'Alpha': 0.01, 'remove_coil': False, 'start_avg': True, 'constrain': True, 'Det': 'LS', 'R2': -26.498, 'RMSE': 0.264, 'MAE': 0.237, 'STD': 0.258, '0R2': -2.33, '0RMSE': 0.356, 'R2_INV': 0.6229466821584184}]\n",
      "Iteration: 89 Combination: (0.5, 'mean', 'observed', 'FSlin', 'Gauss-Newton', 0.01, False, True, False)\n",
      "##################################################################################################################################################################### 02 INVERSION CONFIGURE INPUT ################################################\n",
      "Inversion using FSlin with Gauss-Newton, reg=l2, alpha=0.01\n",
      "15/15 invertedr2inv 0    0.622947\n",
      "Name: all, dtype: object\n",
      "#################################################################################################################################################################### 03 DETERMINISTIC MODELLING ###################################################\n",
      "inv_columns Index(['EC_0.30', 'EC_0.60', 'EC_1.00', 'EC_2.00', 'EC_end'], dtype='object')\n",
      "current_results [{'Extract': 0.5, 'Samples location': 'mean', 'Interface': 'observed', 'Forward_Model': 'FSlin', 'Minimization_Method': 'Gauss-Newton', 'Alpha': 0.01, 'remove_coil': False, 'start_avg': True, 'constrain': False, 'Det': 'LT', 'R2': -26.114, 'RMSE': 0.262, 'MAE': 0.234, 'STD': 0.258, '0R2': -2.31, '0RMSE': 0.354, 'R2_INV': 0.6229466821584184}, {'Extract': 0.5, 'Samples location': 'mean', 'Interface': 'observed', 'Forward_Model': 'FSlin', 'Minimization_Method': 'Gauss-Newton', 'Alpha': 0.01, 'remove_coil': False, 'start_avg': True, 'constrain': False, 'Det': 'ID', 'R2': -26.445, 'RMSE': 0.262, 'MAE': 0.237, 'STD': 0.26, '0R2': -2.308, '0RMSE': 0.36, 'R2_INV': 0.6229466821584184}, {'Extract': 0.5, 'Samples location': 'mean', 'Interface': 'observed', 'Forward_Model': 'FSlin', 'Minimization_Method': 'Gauss-Newton', 'Alpha': 0.01, 'remove_coil': False, 'start_avg': True, 'constrain': False, 'Det': 'LS', 'R2': -26.498, 'RMSE': 0.264, 'MAE': 0.237, 'STD': 0.258, '0R2': -2.33, '0RMSE': 0.356, 'R2_INV': 0.6229466821584184}]\n",
      "Iteration: 90 Combination: (0.5, 'mean', 'observed', 'FSlin', 'Gauss-Newton', 0.01, False, False, True)\n",
      "##################################################################################################################################################################### 02 INVERSION CONFIGURE INPUT ################################################\n",
      "Constrained Inversion using FSlin with Gauss-Newton, reg=l2, alpha=0.01\n",
      "15/15 invertedr2inv 0    0.245255\n",
      "Name: all, dtype: object\n",
      "#################################################################################################################################################################### 03 DETERMINISTIC MODELLING ###################################################\n",
      "inv_columns Index(['EC_0.30', 'EC_0.60', 'EC_1.00', 'EC_2.00', 'EC_end'], dtype='object')\n",
      "current_results [{'Extract': 0.5, 'Samples location': 'mean', 'Interface': 'observed', 'Forward_Model': 'FSlin', 'Minimization_Method': 'Gauss-Newton', 'Alpha': 0.01, 'remove_coil': False, 'start_avg': False, 'constrain': True, 'Det': 'LT', 'R2': -27.409, 'RMSE': 0.266, 'MAE': 0.251, 'STD': 0.276, '0R2': -2.271, '0RMSE': 0.354, 'R2_INV': 0.2452554074664041}, {'Extract': 0.5, 'Samples location': 'mean', 'Interface': 'observed', 'Forward_Model': 'FSlin', 'Minimization_Method': 'Gauss-Newton', 'Alpha': 0.01, 'remove_coil': False, 'start_avg': False, 'constrain': True, 'Det': 'ID', 'R2': -27.97, 'RMSE': 0.272, 'MAE': 0.258, 'STD': 0.28, '0R2': -2.482, '0RMSE': 0.359, 'R2_INV': 0.2452554074664041}, {'Extract': 0.5, 'Samples location': 'mean', 'Interface': 'observed', 'Forward_Model': 'FSlin', 'Minimization_Method': 'Gauss-Newton', 'Alpha': 0.01, 'remove_coil': False, 'start_avg': False, 'constrain': True, 'Det': 'LS', 'R2': -27.903, 'RMSE': 0.268, 'MAE': 0.255, 'STD': 0.279, '0R2': -2.357, '0RMSE': 0.358, 'R2_INV': 0.2452554074664041}]\n",
      "Iteration: 91 Combination: (0.5, 'mean', 'observed', 'FSlin', 'Gauss-Newton', 0.01, False, False, False)\n",
      "##################################################################################################################################################################### 02 INVERSION CONFIGURE INPUT ################################################\n",
      "Inversion using FSlin with Gauss-Newton, reg=l2, alpha=0.01\n",
      "15/15 invertedr2inv 0    0.245255\n",
      "Name: all, dtype: object\n",
      "#################################################################################################################################################################### 03 DETERMINISTIC MODELLING ###################################################\n",
      "inv_columns Index(['EC_0.30', 'EC_0.60', 'EC_1.00', 'EC_2.00', 'EC_end'], dtype='object')\n",
      "current_results [{'Extract': 0.5, 'Samples location': 'mean', 'Interface': 'observed', 'Forward_Model': 'FSlin', 'Minimization_Method': 'Gauss-Newton', 'Alpha': 0.01, 'remove_coil': False, 'start_avg': False, 'constrain': False, 'Det': 'LT', 'R2': -27.409, 'RMSE': 0.266, 'MAE': 0.251, 'STD': 0.276, '0R2': -2.271, '0RMSE': 0.354, 'R2_INV': 0.2452554074664041}, {'Extract': 0.5, 'Samples location': 'mean', 'Interface': 'observed', 'Forward_Model': 'FSlin', 'Minimization_Method': 'Gauss-Newton', 'Alpha': 0.01, 'remove_coil': False, 'start_avg': False, 'constrain': False, 'Det': 'ID', 'R2': -27.97, 'RMSE': 0.272, 'MAE': 0.258, 'STD': 0.28, '0R2': -2.482, '0RMSE': 0.359, 'R2_INV': 0.2452554074664041}, {'Extract': 0.5, 'Samples location': 'mean', 'Interface': 'observed', 'Forward_Model': 'FSlin', 'Minimization_Method': 'Gauss-Newton', 'Alpha': 0.01, 'remove_coil': False, 'start_avg': False, 'constrain': False, 'Det': 'LS', 'R2': -27.903, 'RMSE': 0.268, 'MAE': 0.255, 'STD': 0.279, '0R2': -2.357, '0RMSE': 0.358, 'R2_INV': 0.2452554074664041}]\n",
      "Iteration: 92 Combination: (0.5, 'mean', 'observed', 'FSlin', 'Gauss-Newton', 0.07, True, True, True)\n",
      "##################################################################################################################################################################### 02 INVERSION CONFIGURE INPUT ################################################\n",
      "Constrained Inversion using FSlin with Gauss-Newton, reg=l2, alpha=0.07\n",
      "15/15 invertedr2inv 0    0.432306\n",
      "Name: all, dtype: object\n",
      "#################################################################################################################################################################### 03 DETERMINISTIC MODELLING ###################################################\n",
      "inv_columns Index(['EC_0.30', 'EC_0.60', 'EC_1.00', 'EC_2.00', 'EC_end'], dtype='object')\n",
      "current_results [{'Extract': 0.5, 'Samples location': 'mean', 'Interface': 'observed', 'Forward_Model': 'FSlin', 'Minimization_Method': 'Gauss-Newton', 'Alpha': 0.07, 'remove_coil': True, 'start_avg': True, 'constrain': True, 'Det': 'LT', 'R2': -18.78, 'RMSE': 0.232, 'MAE': 0.208, 'STD': 0.182, '0R2': -0.694, '0RMSE': 0.248, 'R2_INV': 0.4323057111320294}, {'Extract': 0.5, 'Samples location': 'mean', 'Interface': 'observed', 'Forward_Model': 'FSlin', 'Minimization_Method': 'Gauss-Newton', 'Alpha': 0.07, 'remove_coil': True, 'start_avg': True, 'constrain': True, 'Det': 'ID', 'R2': -19.084, 'RMSE': 0.228, 'MAE': 0.196, 'STD': 0.192, '0R2': -0.675, '0RMSE': 0.248, 'R2_INV': 0.4323057111320294}, {'Extract': 0.5, 'Samples location': 'mean', 'Interface': 'observed', 'Forward_Model': 'FSlin', 'Minimization_Method': 'Gauss-Newton', 'Alpha': 0.07, 'remove_coil': True, 'start_avg': True, 'constrain': True, 'Det': 'LS', 'R2': -18.731, 'RMSE': 0.231, 'MAE': 0.208, 'STD': 0.18, '0R2': -0.704, '0RMSE': 0.249, 'R2_INV': 0.4323057111320294}]\n",
      "Iteration: 93 Combination: (0.5, 'mean', 'observed', 'FSlin', 'Gauss-Newton', 0.07, True, True, False)\n",
      "##################################################################################################################################################################### 02 INVERSION CONFIGURE INPUT ################################################\n",
      "Inversion using FSlin with Gauss-Newton, reg=l2, alpha=0.07\n",
      "15/15 invertedr2inv 0    0.432306\n",
      "Name: all, dtype: object\n",
      "#################################################################################################################################################################### 03 DETERMINISTIC MODELLING ###################################################\n",
      "inv_columns Index(['EC_0.30', 'EC_0.60', 'EC_1.00', 'EC_2.00', 'EC_end'], dtype='object')\n",
      "current_results [{'Extract': 0.5, 'Samples location': 'mean', 'Interface': 'observed', 'Forward_Model': 'FSlin', 'Minimization_Method': 'Gauss-Newton', 'Alpha': 0.07, 'remove_coil': True, 'start_avg': True, 'constrain': False, 'Det': 'LT', 'R2': -18.78, 'RMSE': 0.232, 'MAE': 0.208, 'STD': 0.182, '0R2': -0.694, '0RMSE': 0.248, 'R2_INV': 0.4323057111320294}, {'Extract': 0.5, 'Samples location': 'mean', 'Interface': 'observed', 'Forward_Model': 'FSlin', 'Minimization_Method': 'Gauss-Newton', 'Alpha': 0.07, 'remove_coil': True, 'start_avg': True, 'constrain': False, 'Det': 'ID', 'R2': -19.084, 'RMSE': 0.228, 'MAE': 0.196, 'STD': 0.192, '0R2': -0.675, '0RMSE': 0.248, 'R2_INV': 0.4323057111320294}, {'Extract': 0.5, 'Samples location': 'mean', 'Interface': 'observed', 'Forward_Model': 'FSlin', 'Minimization_Method': 'Gauss-Newton', 'Alpha': 0.07, 'remove_coil': True, 'start_avg': True, 'constrain': False, 'Det': 'LS', 'R2': -18.731, 'RMSE': 0.231, 'MAE': 0.208, 'STD': 0.18, '0R2': -0.704, '0RMSE': 0.249, 'R2_INV': 0.4323057111320294}]\n",
      "Iteration: 94 Combination: (0.5, 'mean', 'observed', 'FSlin', 'Gauss-Newton', 0.07, True, False, True)\n",
      "##################################################################################################################################################################### 02 INVERSION CONFIGURE INPUT ################################################\n",
      "Constrained Inversion using FSlin with Gauss-Newton, reg=l2, alpha=0.07\n",
      "15/15 invertedr2inv 0    0.202593\n",
      "Name: all, dtype: object\n",
      "#################################################################################################################################################################### 03 DETERMINISTIC MODELLING ###################################################\n",
      "inv_columns Index(['EC_0.30', 'EC_0.60', 'EC_1.00', 'EC_2.00', 'EC_end'], dtype='object')\n",
      "current_results [{'Extract': 0.5, 'Samples location': 'mean', 'Interface': 'observed', 'Forward_Model': 'FSlin', 'Minimization_Method': 'Gauss-Newton', 'Alpha': 0.07, 'remove_coil': True, 'start_avg': False, 'constrain': True, 'Det': 'LT', 'R2': -17.342, 'RMSE': 0.217, 'MAE': 0.186, 'STD': 0.221, '0R2': 0.172, '0RMSE': 0.184, 'R2_INV': 0.2025932993058812}, {'Extract': 0.5, 'Samples location': 'mean', 'Interface': 'observed', 'Forward_Model': 'FSlin', 'Minimization_Method': 'Gauss-Newton', 'Alpha': 0.07, 'remove_coil': True, 'start_avg': False, 'constrain': True, 'Det': 'ID', 'R2': -15.566, 'RMSE': 0.212, 'MAE': 0.188, 'STD': 0.223, '0R2': 0.154, '0RMSE': 0.18, 'R2_INV': 0.2025932993058812}, {'Extract': 0.5, 'Samples location': 'mean', 'Interface': 'observed', 'Forward_Model': 'FSlin', 'Minimization_Method': 'Gauss-Newton', 'Alpha': 0.07, 'remove_coil': True, 'start_avg': False, 'constrain': True, 'Det': 'LS', 'R2': -17.26, 'RMSE': 0.214, 'MAE': 0.187, 'STD': 0.22, '0R2': 0.161, '0RMSE': 0.184, 'R2_INV': 0.2025932993058812}]\n",
      "Iteration: 95 Combination: (0.5, 'mean', 'observed', 'FSlin', 'Gauss-Newton', 0.07, True, False, False)\n",
      "##################################################################################################################################################################### 02 INVERSION CONFIGURE INPUT ################################################\n",
      "Inversion using FSlin with Gauss-Newton, reg=l2, alpha=0.07\n",
      "15/15 invertedr2inv 0    0.202593\n",
      "Name: all, dtype: object\n",
      "#################################################################################################################################################################### 03 DETERMINISTIC MODELLING ###################################################\n",
      "inv_columns Index(['EC_0.30', 'EC_0.60', 'EC_1.00', 'EC_2.00', 'EC_end'], dtype='object')\n",
      "current_results [{'Extract': 0.5, 'Samples location': 'mean', 'Interface': 'observed', 'Forward_Model': 'FSlin', 'Minimization_Method': 'Gauss-Newton', 'Alpha': 0.07, 'remove_coil': True, 'start_avg': False, 'constrain': False, 'Det': 'LT', 'R2': -17.342, 'RMSE': 0.217, 'MAE': 0.186, 'STD': 0.221, '0R2': 0.172, '0RMSE': 0.184, 'R2_INV': 0.2025932993058812}, {'Extract': 0.5, 'Samples location': 'mean', 'Interface': 'observed', 'Forward_Model': 'FSlin', 'Minimization_Method': 'Gauss-Newton', 'Alpha': 0.07, 'remove_coil': True, 'start_avg': False, 'constrain': False, 'Det': 'ID', 'R2': -15.566, 'RMSE': 0.212, 'MAE': 0.188, 'STD': 0.223, '0R2': 0.154, '0RMSE': 0.18, 'R2_INV': 0.2025932993058812}, {'Extract': 0.5, 'Samples location': 'mean', 'Interface': 'observed', 'Forward_Model': 'FSlin', 'Minimization_Method': 'Gauss-Newton', 'Alpha': 0.07, 'remove_coil': True, 'start_avg': False, 'constrain': False, 'Det': 'LS', 'R2': -17.26, 'RMSE': 0.214, 'MAE': 0.187, 'STD': 0.22, '0R2': 0.161, '0RMSE': 0.184, 'R2_INV': 0.2025932993058812}]\n",
      "Iteration: 96 Combination: (0.5, 'mean', 'observed', 'FSlin', 'Gauss-Newton', 0.07, False, True, True)\n",
      "##################################################################################################################################################################### 02 INVERSION CONFIGURE INPUT ################################################\n",
      "Constrained Inversion using FSlin with Gauss-Newton, reg=l2, alpha=0.07\n",
      "15/15 invertedr2inv 0    0.540064\n",
      "Name: all, dtype: object\n",
      "#################################################################################################################################################################### 03 DETERMINISTIC MODELLING ###################################################\n",
      "inv_columns Index(['EC_0.30', 'EC_0.60', 'EC_1.00', 'EC_2.00', 'EC_end'], dtype='object')\n",
      "current_results [{'Extract': 0.5, 'Samples location': 'mean', 'Interface': 'observed', 'Forward_Model': 'FSlin', 'Minimization_Method': 'Gauss-Newton', 'Alpha': 0.07, 'remove_coil': False, 'start_avg': True, 'constrain': True, 'Det': 'LT', 'R2': -21.582, 'RMSE': 0.242, 'MAE': 0.224, 'STD': 0.162, '0R2': -1.172, '0RMSE': 0.284, 'R2_INV': 0.5400638824384143}, {'Extract': 0.5, 'Samples location': 'mean', 'Interface': 'observed', 'Forward_Model': 'FSlin', 'Minimization_Method': 'Gauss-Newton', 'Alpha': 0.07, 'remove_coil': False, 'start_avg': True, 'constrain': True, 'Det': 'ID', 'R2': -22.038, 'RMSE': 0.244, 'MAE': 0.22, 'STD': 0.177, '0R2': -1.142, '0RMSE': 0.284, 'R2_INV': 0.5400638824384143}, {'Extract': 0.5, 'Samples location': 'mean', 'Interface': 'observed', 'Forward_Model': 'FSlin', 'Minimization_Method': 'Gauss-Newton', 'Alpha': 0.07, 'remove_coil': False, 'start_avg': True, 'constrain': True, 'Det': 'LS', 'R2': -21.642, 'RMSE': 0.241, 'MAE': 0.224, 'STD': 0.162, '0R2': -1.18, '0RMSE': 0.286, 'R2_INV': 0.5400638824384143}]\n",
      "Iteration: 97 Combination: (0.5, 'mean', 'observed', 'FSlin', 'Gauss-Newton', 0.07, False, True, False)\n",
      "##################################################################################################################################################################### 02 INVERSION CONFIGURE INPUT ################################################\n",
      "Inversion using FSlin with Gauss-Newton, reg=l2, alpha=0.07\n",
      "15/15 invertedr2inv 0    0.540064\n",
      "Name: all, dtype: object\n",
      "#################################################################################################################################################################### 03 DETERMINISTIC MODELLING ###################################################\n",
      "inv_columns Index(['EC_0.30', 'EC_0.60', 'EC_1.00', 'EC_2.00', 'EC_end'], dtype='object')\n",
      "current_results [{'Extract': 0.5, 'Samples location': 'mean', 'Interface': 'observed', 'Forward_Model': 'FSlin', 'Minimization_Method': 'Gauss-Newton', 'Alpha': 0.07, 'remove_coil': False, 'start_avg': True, 'constrain': False, 'Det': 'LT', 'R2': -21.582, 'RMSE': 0.242, 'MAE': 0.224, 'STD': 0.162, '0R2': -1.172, '0RMSE': 0.284, 'R2_INV': 0.5400638824384143}, {'Extract': 0.5, 'Samples location': 'mean', 'Interface': 'observed', 'Forward_Model': 'FSlin', 'Minimization_Method': 'Gauss-Newton', 'Alpha': 0.07, 'remove_coil': False, 'start_avg': True, 'constrain': False, 'Det': 'ID', 'R2': -22.038, 'RMSE': 0.244, 'MAE': 0.22, 'STD': 0.177, '0R2': -1.142, '0RMSE': 0.284, 'R2_INV': 0.5400638824384143}, {'Extract': 0.5, 'Samples location': 'mean', 'Interface': 'observed', 'Forward_Model': 'FSlin', 'Minimization_Method': 'Gauss-Newton', 'Alpha': 0.07, 'remove_coil': False, 'start_avg': True, 'constrain': False, 'Det': 'LS', 'R2': -21.642, 'RMSE': 0.241, 'MAE': 0.224, 'STD': 0.162, '0R2': -1.18, '0RMSE': 0.286, 'R2_INV': 0.5400638824384143}]\n",
      "Iteration: 98 Combination: (0.5, 'mean', 'observed', 'FSlin', 'Gauss-Newton', 0.07, False, False, True)\n",
      "##################################################################################################################################################################### 02 INVERSION CONFIGURE INPUT ################################################\n",
      "Constrained Inversion using FSlin with Gauss-Newton, reg=l2, alpha=0.07\n",
      "15/15 invertedr2inv 0    0.351411\n",
      "Name: all, dtype: object\n",
      "#################################################################################################################################################################### 03 DETERMINISTIC MODELLING ###################################################\n",
      "inv_columns Index(['EC_0.30', 'EC_0.60', 'EC_1.00', 'EC_2.00', 'EC_end'], dtype='object')\n",
      "current_results [{'Extract': 0.5, 'Samples location': 'mean', 'Interface': 'observed', 'Forward_Model': 'FSlin', 'Minimization_Method': 'Gauss-Newton', 'Alpha': 0.07, 'remove_coil': False, 'start_avg': False, 'constrain': True, 'Det': 'LT', 'R2': -16.946, 'RMSE': 0.214, 'MAE': 0.19, 'STD': 0.21, '0R2': -0.034, '0RMSE': 0.202, 'R2_INV': 0.3514106721753232}, {'Extract': 0.5, 'Samples location': 'mean', 'Interface': 'observed', 'Forward_Model': 'FSlin', 'Minimization_Method': 'Gauss-Newton', 'Alpha': 0.07, 'remove_coil': False, 'start_avg': False, 'constrain': True, 'Det': 'ID', 'R2': -16.17, 'RMSE': 0.216, 'MAE': 0.194, 'STD': 0.223, '0R2': -0.024, '0RMSE': 0.2, 'R2_INV': 0.3514106721753232}, {'Extract': 0.5, 'Samples location': 'mean', 'Interface': 'observed', 'Forward_Model': 'FSlin', 'Minimization_Method': 'Gauss-Newton', 'Alpha': 0.07, 'remove_coil': False, 'start_avg': False, 'constrain': True, 'Det': 'LS', 'R2': -16.815, 'RMSE': 0.213, 'MAE': 0.191, 'STD': 0.21, '0R2': -0.047, '0RMSE': 0.204, 'R2_INV': 0.3514106721753232}]\n",
      "Iteration: 99 Combination: (0.5, 'mean', 'observed', 'FSlin', 'Gauss-Newton', 0.07, False, False, False)\n",
      "##################################################################################################################################################################### 02 INVERSION CONFIGURE INPUT ################################################\n",
      "Inversion using FSlin with Gauss-Newton, reg=l2, alpha=0.07\n",
      "15/15 invertedr2inv 0    0.351411\n",
      "Name: all, dtype: object\n",
      "#################################################################################################################################################################### 03 DETERMINISTIC MODELLING ###################################################\n",
      "inv_columns Index(['EC_0.30', 'EC_0.60', 'EC_1.00', 'EC_2.00', 'EC_end'], dtype='object')\n",
      "current_results [{'Extract': 0.5, 'Samples location': 'mean', 'Interface': 'observed', 'Forward_Model': 'FSlin', 'Minimization_Method': 'Gauss-Newton', 'Alpha': 0.07, 'remove_coil': False, 'start_avg': False, 'constrain': False, 'Det': 'LT', 'R2': -16.946, 'RMSE': 0.214, 'MAE': 0.19, 'STD': 0.21, '0R2': -0.034, '0RMSE': 0.202, 'R2_INV': 0.3514106721753232}, {'Extract': 0.5, 'Samples location': 'mean', 'Interface': 'observed', 'Forward_Model': 'FSlin', 'Minimization_Method': 'Gauss-Newton', 'Alpha': 0.07, 'remove_coil': False, 'start_avg': False, 'constrain': False, 'Det': 'ID', 'R2': -16.17, 'RMSE': 0.216, 'MAE': 0.194, 'STD': 0.223, '0R2': -0.024, '0RMSE': 0.2, 'R2_INV': 0.3514106721753232}, {'Extract': 0.5, 'Samples location': 'mean', 'Interface': 'observed', 'Forward_Model': 'FSlin', 'Minimization_Method': 'Gauss-Newton', 'Alpha': 0.07, 'remove_coil': False, 'start_avg': False, 'constrain': False, 'Det': 'LS', 'R2': -16.815, 'RMSE': 0.213, 'MAE': 0.191, 'STD': 0.21, '0R2': -0.047, '0RMSE': 0.204, 'R2_INV': 0.3514106721753232}]\n",
      "Iteration: 100 Combination: (0.5, 'mean', 'observed', 'FSlin', 'Gauss-Newton', 0.2, True, True, True)\n",
      "##################################################################################################################################################################### 02 INVERSION CONFIGURE INPUT ################################################\n",
      "Constrained Inversion using FSlin with Gauss-Newton, reg=l2, alpha=0.2\n",
      "15/15 invertedr2inv 0    0.166578\n",
      "Name: all, dtype: object\n",
      "#################################################################################################################################################################### 03 DETERMINISTIC MODELLING ###################################################\n",
      "inv_columns Index(['EC_0.30', 'EC_0.60', 'EC_1.00', 'EC_2.00', 'EC_end'], dtype='object')\n",
      "current_results [{'Extract': 0.5, 'Samples location': 'mean', 'Interface': 'observed', 'Forward_Model': 'FSlin', 'Minimization_Method': 'Gauss-Newton', 'Alpha': 0.2, 'remove_coil': True, 'start_avg': True, 'constrain': True, 'Det': 'LT', 'R2': -20.073, 'RMSE': 0.236, 'MAE': 0.207, 'STD': 0.242, '0R2': 0.024, '0RMSE': 0.185, 'R2_INV': 0.1665782650847762}, {'Extract': 0.5, 'Samples location': 'mean', 'Interface': 'observed', 'Forward_Model': 'FSlin', 'Minimization_Method': 'Gauss-Newton', 'Alpha': 0.2, 'remove_coil': True, 'start_avg': True, 'constrain': True, 'Det': 'ID', 'R2': -18.236, 'RMSE': 0.219, 'MAE': 0.188, 'STD': 0.227, '0R2': 0.192, '0RMSE': 0.167, 'R2_INV': 0.1665782650847762}, {'Extract': 0.5, 'Samples location': 'mean', 'Interface': 'observed', 'Forward_Model': 'FSlin', 'Minimization_Method': 'Gauss-Newton', 'Alpha': 0.2, 'remove_coil': True, 'start_avg': True, 'constrain': True, 'Det': 'LS', 'R2': -20.029, 'RMSE': 0.236, 'MAE': 0.204, 'STD': 0.239, '0R2': 0.038, '0RMSE': 0.182, 'R2_INV': 0.1665782650847762}]\n",
      "Iteration: 101 Combination: (0.5, 'mean', 'observed', 'FSlin', 'Gauss-Newton', 0.2, True, True, False)\n",
      "##################################################################################################################################################################### 02 INVERSION CONFIGURE INPUT ################################################\n",
      "Inversion using FSlin with Gauss-Newton, reg=l2, alpha=0.2\n",
      "15/15 invertedr2inv 0    0.166578\n",
      "Name: all, dtype: object\n",
      "#################################################################################################################################################################### 03 DETERMINISTIC MODELLING ###################################################\n",
      "inv_columns Index(['EC_0.30', 'EC_0.60', 'EC_1.00', 'EC_2.00', 'EC_end'], dtype='object')\n",
      "current_results [{'Extract': 0.5, 'Samples location': 'mean', 'Interface': 'observed', 'Forward_Model': 'FSlin', 'Minimization_Method': 'Gauss-Newton', 'Alpha': 0.2, 'remove_coil': True, 'start_avg': True, 'constrain': False, 'Det': 'LT', 'R2': -20.073, 'RMSE': 0.236, 'MAE': 0.207, 'STD': 0.242, '0R2': 0.024, '0RMSE': 0.185, 'R2_INV': 0.1665782650847762}, {'Extract': 0.5, 'Samples location': 'mean', 'Interface': 'observed', 'Forward_Model': 'FSlin', 'Minimization_Method': 'Gauss-Newton', 'Alpha': 0.2, 'remove_coil': True, 'start_avg': True, 'constrain': False, 'Det': 'ID', 'R2': -18.236, 'RMSE': 0.219, 'MAE': 0.188, 'STD': 0.227, '0R2': 0.192, '0RMSE': 0.167, 'R2_INV': 0.1665782650847762}, {'Extract': 0.5, 'Samples location': 'mean', 'Interface': 'observed', 'Forward_Model': 'FSlin', 'Minimization_Method': 'Gauss-Newton', 'Alpha': 0.2, 'remove_coil': True, 'start_avg': True, 'constrain': False, 'Det': 'LS', 'R2': -20.029, 'RMSE': 0.236, 'MAE': 0.204, 'STD': 0.239, '0R2': 0.038, '0RMSE': 0.182, 'R2_INV': 0.1665782650847762}]\n",
      "Iteration: 102 Combination: (0.5, 'mean', 'observed', 'FSlin', 'Gauss-Newton', 0.2, True, False, True)\n",
      "##################################################################################################################################################################### 02 INVERSION CONFIGURE INPUT ################################################\n",
      "Constrained Inversion using FSlin with Gauss-Newton, reg=l2, alpha=0.2\n",
      "15/15 invertedr2inv 0   -0.095608\n",
      "Name: all, dtype: object\n",
      "FAILED\n",
      "Iteration: 103 Combination: (0.5, 'mean', 'observed', 'FSlin', 'Gauss-Newton', 0.2, True, False, False)\n",
      "##################################################################################################################################################################### 02 INVERSION CONFIGURE INPUT ################################################\n",
      "Inversion using FSlin with Gauss-Newton, reg=l2, alpha=0.2\n",
      "15/15 invertedr2inv 0   -0.095608\n",
      "Name: all, dtype: object\n",
      "FAILED\n",
      "Iteration: 104 Combination: (0.5, 'mean', 'observed', 'FSlin', 'Gauss-Newton', 0.2, False, True, True)\n",
      "##################################################################################################################################################################### 02 INVERSION CONFIGURE INPUT ################################################\n",
      "Constrained Inversion using FSlin with Gauss-Newton, reg=l2, alpha=0.2\n",
      "15/15 invertedr2inv 0    0.35739\n",
      "Name: all, dtype: object\n",
      "#################################################################################################################################################################### 03 DETERMINISTIC MODELLING ###################################################\n",
      "inv_columns Index(['EC_0.30', 'EC_0.60', 'EC_1.00', 'EC_2.00', 'EC_end'], dtype='object')\n",
      "current_results [{'Extract': 0.5, 'Samples location': 'mean', 'Interface': 'observed', 'Forward_Model': 'FSlin', 'Minimization_Method': 'Gauss-Newton', 'Alpha': 0.2, 'remove_coil': False, 'start_avg': True, 'constrain': True, 'Det': 'LT', 'R2': -18.216, 'RMSE': 0.226, 'MAE': 0.196, 'STD': 0.225, '0R2': -0.023, '0RMSE': 0.197, 'R2_INV': 0.3573900137917597}, {'Extract': 0.5, 'Samples location': 'mean', 'Interface': 'observed', 'Forward_Model': 'FSlin', 'Minimization_Method': 'Gauss-Newton', 'Alpha': 0.2, 'remove_coil': False, 'start_avg': True, 'constrain': True, 'Det': 'ID', 'R2': -16.809, 'RMSE': 0.213, 'MAE': 0.181, 'STD': 0.21, '0R2': 0.05, '0RMSE': 0.187, 'R2_INV': 0.3573900137917597}, {'Extract': 0.5, 'Samples location': 'mean', 'Interface': 'observed', 'Forward_Model': 'FSlin', 'Minimization_Method': 'Gauss-Newton', 'Alpha': 0.2, 'remove_coil': False, 'start_avg': True, 'constrain': True, 'Det': 'LS', 'R2': -17.804, 'RMSE': 0.224, 'MAE': 0.192, 'STD': 0.222, '0R2': -0.013, '0RMSE': 0.194, 'R2_INV': 0.3573900137917597}]\n",
      "Iteration: 105 Combination: (0.5, 'mean', 'observed', 'FSlin', 'Gauss-Newton', 0.2, False, True, False)\n",
      "##################################################################################################################################################################### 02 INVERSION CONFIGURE INPUT ################################################\n",
      "Inversion using FSlin with Gauss-Newton, reg=l2, alpha=0.2\n",
      "15/15 invertedr2inv 0    0.35739\n",
      "Name: all, dtype: object\n",
      "#################################################################################################################################################################### 03 DETERMINISTIC MODELLING ###################################################\n",
      "inv_columns Index(['EC_0.30', 'EC_0.60', 'EC_1.00', 'EC_2.00', 'EC_end'], dtype='object')\n",
      "current_results [{'Extract': 0.5, 'Samples location': 'mean', 'Interface': 'observed', 'Forward_Model': 'FSlin', 'Minimization_Method': 'Gauss-Newton', 'Alpha': 0.2, 'remove_coil': False, 'start_avg': True, 'constrain': False, 'Det': 'LT', 'R2': -18.216, 'RMSE': 0.226, 'MAE': 0.196, 'STD': 0.225, '0R2': -0.023, '0RMSE': 0.197, 'R2_INV': 0.3573900137917597}, {'Extract': 0.5, 'Samples location': 'mean', 'Interface': 'observed', 'Forward_Model': 'FSlin', 'Minimization_Method': 'Gauss-Newton', 'Alpha': 0.2, 'remove_coil': False, 'start_avg': True, 'constrain': False, 'Det': 'ID', 'R2': -16.809, 'RMSE': 0.213, 'MAE': 0.181, 'STD': 0.21, '0R2': 0.05, '0RMSE': 0.187, 'R2_INV': 0.3573900137917597}, {'Extract': 0.5, 'Samples location': 'mean', 'Interface': 'observed', 'Forward_Model': 'FSlin', 'Minimization_Method': 'Gauss-Newton', 'Alpha': 0.2, 'remove_coil': False, 'start_avg': True, 'constrain': False, 'Det': 'LS', 'R2': -17.804, 'RMSE': 0.224, 'MAE': 0.192, 'STD': 0.222, '0R2': -0.013, '0RMSE': 0.194, 'R2_INV': 0.3573900137917597}]\n",
      "Iteration: 106 Combination: (0.5, 'mean', 'observed', 'FSlin', 'Gauss-Newton', 0.2, False, False, True)\n",
      "##################################################################################################################################################################### 02 INVERSION CONFIGURE INPUT ################################################\n",
      "Constrained Inversion using FSlin with Gauss-Newton, reg=l2, alpha=0.2\n",
      "15/15 invertedr2inv 0    0.155116\n",
      "Name: all, dtype: object\n",
      "#################################################################################################################################################################### 03 DETERMINISTIC MODELLING ###################################################\n",
      "inv_columns Index(['EC_0.30', 'EC_0.60', 'EC_1.00', 'EC_2.00', 'EC_end'], dtype='object')\n",
      "current_results [{'Extract': 0.5, 'Samples location': 'mean', 'Interface': 'observed', 'Forward_Model': 'FSlin', 'Minimization_Method': 'Gauss-Newton', 'Alpha': 0.2, 'remove_coil': False, 'start_avg': False, 'constrain': True, 'Det': 'LT', 'R2': -15.118, 'RMSE': 0.206, 'MAE': 0.174, 'STD': 0.216, '0R2': 0.536, '0RMSE': 0.133, 'R2_INV': 0.1551159286111968}, {'Extract': 0.5, 'Samples location': 'mean', 'Interface': 'observed', 'Forward_Model': 'FSlin', 'Minimization_Method': 'Gauss-Newton', 'Alpha': 0.2, 'remove_coil': False, 'start_avg': False, 'constrain': True, 'Det': 'ID', 'R2': -12.083, 'RMSE': 0.186, 'MAE': 0.164, 'STD': 0.202, '0R2': 0.668, '0RMSE': 0.116, 'R2_INV': 0.1551159286111968}, {'Extract': 0.5, 'Samples location': 'mean', 'Interface': 'observed', 'Forward_Model': 'FSlin', 'Minimization_Method': 'Gauss-Newton', 'Alpha': 0.2, 'remove_coil': False, 'start_avg': False, 'constrain': True, 'Det': 'LS', 'R2': -14.954, 'RMSE': 0.202, 'MAE': 0.173, 'STD': 0.215, '0R2': 0.552, '0RMSE': 0.13, 'R2_INV': 0.1551159286111968}]\n",
      "Iteration: 107 Combination: (0.5, 'mean', 'observed', 'FSlin', 'Gauss-Newton', 0.2, False, False, False)\n",
      "##################################################################################################################################################################### 02 INVERSION CONFIGURE INPUT ################################################\n",
      "Inversion using FSlin with Gauss-Newton, reg=l2, alpha=0.2\n",
      "15/15 invertedr2inv 0    0.155116\n",
      "Name: all, dtype: object\n",
      "#################################################################################################################################################################### 03 DETERMINISTIC MODELLING ###################################################\n",
      "inv_columns Index(['EC_0.30', 'EC_0.60', 'EC_1.00', 'EC_2.00', 'EC_end'], dtype='object')\n",
      "current_results [{'Extract': 0.5, 'Samples location': 'mean', 'Interface': 'observed', 'Forward_Model': 'FSlin', 'Minimization_Method': 'Gauss-Newton', 'Alpha': 0.2, 'remove_coil': False, 'start_avg': False, 'constrain': False, 'Det': 'LT', 'R2': -15.118, 'RMSE': 0.206, 'MAE': 0.174, 'STD': 0.216, '0R2': 0.536, '0RMSE': 0.133, 'R2_INV': 0.1551159286111968}, {'Extract': 0.5, 'Samples location': 'mean', 'Interface': 'observed', 'Forward_Model': 'FSlin', 'Minimization_Method': 'Gauss-Newton', 'Alpha': 0.2, 'remove_coil': False, 'start_avg': False, 'constrain': False, 'Det': 'ID', 'R2': -12.083, 'RMSE': 0.186, 'MAE': 0.164, 'STD': 0.202, '0R2': 0.668, '0RMSE': 0.116, 'R2_INV': 0.1551159286111968}, {'Extract': 0.5, 'Samples location': 'mean', 'Interface': 'observed', 'Forward_Model': 'FSlin', 'Minimization_Method': 'Gauss-Newton', 'Alpha': 0.2, 'remove_coil': False, 'start_avg': False, 'constrain': False, 'Det': 'LS', 'R2': -14.954, 'RMSE': 0.202, 'MAE': 0.173, 'STD': 0.215, '0R2': 0.552, '0RMSE': 0.13, 'R2_INV': 0.1551159286111968}]\n",
      "Iteration: 108 Combination: (0.5, 'mean', 'observed', 'FSlin', 'ROPE', 0.01, True, True, True)\n",
      "##################################################################################################################################################################### 02 INVERSION CONFIGURE INPUT ################################################\n"
     ]
    },
    {
     "name": "stderr",
     "output_type": "stream",
     "text": [
      "100%|██████████| 15/15 [00:00<00:00, 14993.94it/s]"
     ]
    },
    {
     "name": "stdout",
     "output_type": "stream",
     "text": [
      "Constrained inversion using FSlin with ROPE, reg=l2, alpha=0.01\n"
     ]
    },
    {
     "name": "stderr",
     "output_type": "stream",
     "text": [
      "\n"
     ]
    },
    {
     "name": "stdout",
     "output_type": "stream",
     "text": [
      "r2inv 0   -0.001097\n",
      "Name: all, dtype: object\n",
      "FAILED\n",
      "Iteration: 109 Combination: (0.5, 'mean', 'observed', 'FSlin', 'ROPE', 0.01, True, True, False)\n",
      "##################################################################################################################################################################### 02 INVERSION CONFIGURE INPUT ################################################\n"
     ]
    },
    {
     "name": "stderr",
     "output_type": "stream",
     "text": [
      "100%|██████████| 15/15 [00:00<00:00, 15152.83it/s]"
     ]
    },
    {
     "name": "stdout",
     "output_type": "stream",
     "text": [
      "Inversion using FSlin with ROPE, reg=l2, alpha=0.01\n"
     ]
    },
    {
     "name": "stderr",
     "output_type": "stream",
     "text": [
      "\n"
     ]
    },
    {
     "name": "stdout",
     "output_type": "stream",
     "text": [
      "r2inv 0   -427.185589\n",
      "Name: all, dtype: object\n",
      "FAILED\n",
      "Iteration: 110 Combination: (0.5, 'mean', 'observed', 'FSlin', 'ROPE', 0.01, True, False, True)\n",
      "##################################################################################################################################################################### 02 INVERSION CONFIGURE INPUT ################################################\n"
     ]
    },
    {
     "name": "stderr",
     "output_type": "stream",
     "text": [
      "100%|██████████| 15/15 [00:00<00:00, 15442.95it/s]"
     ]
    },
    {
     "name": "stdout",
     "output_type": "stream",
     "text": [
      "Constrained inversion using FSlin with ROPE, reg=l2, alpha=0.01\n"
     ]
    },
    {
     "name": "stderr",
     "output_type": "stream",
     "text": [
      "\n"
     ]
    },
    {
     "name": "stdout",
     "output_type": "stream",
     "text": [
      "r2inv 0    0.001829\n",
      "Name: all, dtype: object\n",
      "#################################################################################################################################################################### 03 DETERMINISTIC MODELLING ###################################################\n",
      "inv_columns Index(['EC_0.30', 'EC_0.60', 'EC_1.00', 'EC_2.00', 'EC_end'], dtype='object')\n",
      "current_results [{'Extract': 0.5, 'Samples location': 'mean', 'Interface': 'observed', 'Forward_Model': 'FSlin', 'Minimization_Method': 'ROPE', 'Alpha': 0.01, 'remove_coil': True, 'start_avg': False, 'constrain': True, 'Det': 'LT', 'R2': -7.108, 'RMSE': 0.145, 'MAE': 0.128, 'STD': 0.141, '0R2': 0.012, '0RMSE': 0.192, 'R2_INV': 0.0018287789210117}, {'Extract': 0.5, 'Samples location': 'mean', 'Interface': 'observed', 'Forward_Model': 'FSlin', 'Minimization_Method': 'ROPE', 'Alpha': 0.01, 'remove_coil': True, 'start_avg': False, 'constrain': True, 'Det': 'ID', 'R2': -7.751, 'RMSE': 0.144, 'MAE': 0.116, 'STD': 0.145, '0R2': -0.015, '0RMSE': 0.193, 'R2_INV': 0.0018287789210117}, {'Extract': 0.5, 'Samples location': 'mean', 'Interface': 'observed', 'Forward_Model': 'FSlin', 'Minimization_Method': 'ROPE', 'Alpha': 0.01, 'remove_coil': True, 'start_avg': False, 'constrain': True, 'Det': 'LS', 'R2': -6.354, 'RMSE': 0.136, 'MAE': 0.118, 'STD': 0.134, '0R2': 0.06, '0RMSE': 0.188, 'R2_INV': 0.0018287789210117}]\n",
      "Iteration: 111 Combination: (0.5, 'mean', 'observed', 'FSlin', 'ROPE', 0.01, True, False, False)\n",
      "##################################################################################################################################################################### 02 INVERSION CONFIGURE INPUT ################################################\n"
     ]
    },
    {
     "name": "stderr",
     "output_type": "stream",
     "text": [
      "100%|██████████| 15/15 [00:00<00:00, 15572.91it/s]"
     ]
    },
    {
     "name": "stdout",
     "output_type": "stream",
     "text": [
      "Inversion using FSlin with ROPE, reg=l2, alpha=0.01\n"
     ]
    },
    {
     "name": "stderr",
     "output_type": "stream",
     "text": [
      "\n"
     ]
    },
    {
     "name": "stdout",
     "output_type": "stream",
     "text": [
      "r2inv 0   -460.08532\n",
      "Name: all, dtype: object\n",
      "FAILED\n",
      "Iteration: 112 Combination: (0.5, 'mean', 'observed', 'FSlin', 'ROPE', 0.01, False, True, True)\n",
      "##################################################################################################################################################################### 02 INVERSION CONFIGURE INPUT ################################################\n"
     ]
    },
    {
     "name": "stderr",
     "output_type": "stream",
     "text": [
      "100%|██████████| 15/15 [00:00<00:00, 15226.18it/s]"
     ]
    },
    {
     "name": "stdout",
     "output_type": "stream",
     "text": [
      "Constrained inversion using FSlin with ROPE, reg=l2, alpha=0.01\n"
     ]
    },
    {
     "name": "stderr",
     "output_type": "stream",
     "text": [
      "\n"
     ]
    },
    {
     "name": "stdout",
     "output_type": "stream",
     "text": [
      "r2inv 0    0.146299\n",
      "Name: all, dtype: object\n",
      "#################################################################################################################################################################### 03 DETERMINISTIC MODELLING ###################################################\n",
      "inv_columns Index(['EC_0.30', 'EC_0.60', 'EC_1.00', 'EC_2.00', 'EC_end'], dtype='object')\n",
      "current_results [{'Extract': 0.5, 'Samples location': 'mean', 'Interface': 'observed', 'Forward_Model': 'FSlin', 'Minimization_Method': 'ROPE', 'Alpha': 0.01, 'remove_coil': False, 'start_avg': True, 'constrain': True, 'Det': 'LT', 'R2': -7.749, 'RMSE': 0.152, 'MAE': 0.122, 'STD': 0.138, '0R2': 0.105, '0RMSE': 0.18, 'R2_INV': 0.146298744409394}, {'Extract': 0.5, 'Samples location': 'mean', 'Interface': 'observed', 'Forward_Model': 'FSlin', 'Minimization_Method': 'ROPE', 'Alpha': 0.01, 'remove_coil': False, 'start_avg': True, 'constrain': True, 'Det': 'ID', 'R2': -7.148, 'RMSE': 0.143, 'MAE': 0.105, 'STD': 0.134, '0R2': 0.105, '0RMSE': 0.17, 'R2_INV': 0.146298744409394}, {'Extract': 0.5, 'Samples location': 'mean', 'Interface': 'observed', 'Forward_Model': 'FSlin', 'Minimization_Method': 'ROPE', 'Alpha': 0.01, 'remove_coil': False, 'start_avg': True, 'constrain': True, 'Det': 'LS', 'R2': -6.889, 'RMSE': 0.144, 'MAE': 0.114, 'STD': 0.131, '0R2': 0.145, '0RMSE': 0.177, 'R2_INV': 0.146298744409394}]\n",
      "Iteration: 113 Combination: (0.5, 'mean', 'observed', 'FSlin', 'ROPE', 0.01, False, True, False)\n",
      "##################################################################################################################################################################### 02 INVERSION CONFIGURE INPUT ################################################\n"
     ]
    },
    {
     "name": "stderr",
     "output_type": "stream",
     "text": [
      "100%|██████████| 15/15 [00:00<00:00, 15036.94it/s]"
     ]
    },
    {
     "name": "stdout",
     "output_type": "stream",
     "text": [
      "Inversion using FSlin with ROPE, reg=l2, alpha=0.01\n"
     ]
    },
    {
     "name": "stderr",
     "output_type": "stream",
     "text": [
      "\n"
     ]
    },
    {
     "name": "stdout",
     "output_type": "stream",
     "text": [
      "r2inv 0   -606.320504\n",
      "Name: all, dtype: object\n",
      "FAILED\n",
      "Iteration: 114 Combination: (0.5, 'mean', 'observed', 'FSlin', 'ROPE', 0.01, False, False, True)\n",
      "##################################################################################################################################################################### 02 INVERSION CONFIGURE INPUT ################################################\n"
     ]
    },
    {
     "name": "stderr",
     "output_type": "stream",
     "text": [
      "100%|██████████| 15/15 [00:00<?, ?it/s]"
     ]
    },
    {
     "name": "stdout",
     "output_type": "stream",
     "text": [
      "Constrained inversion using FSlin with ROPE, reg=l2, alpha=0.01\n"
     ]
    },
    {
     "name": "stderr",
     "output_type": "stream",
     "text": [
      "\n"
     ]
    },
    {
     "name": "stdout",
     "output_type": "stream",
     "text": [
      "r2inv 0    0.116027\n",
      "Name: all, dtype: object\n",
      "#################################################################################################################################################################### 03 DETERMINISTIC MODELLING ###################################################\n",
      "inv_columns Index(['EC_0.30', 'EC_0.60', 'EC_1.00', 'EC_2.00', 'EC_end'], dtype='object')\n",
      "current_results [{'Extract': 0.5, 'Samples location': 'mean', 'Interface': 'observed', 'Forward_Model': 'FSlin', 'Minimization_Method': 'ROPE', 'Alpha': 0.01, 'remove_coil': False, 'start_avg': False, 'constrain': True, 'Det': 'LT', 'R2': -8.722, 'RMSE': 0.154, 'MAE': 0.122, 'STD': 0.142, '0R2': 0.053, '0RMSE': 0.194, 'R2_INV': 0.1160267182774051}, {'Extract': 0.5, 'Samples location': 'mean', 'Interface': 'observed', 'Forward_Model': 'FSlin', 'Minimization_Method': 'ROPE', 'Alpha': 0.01, 'remove_coil': False, 'start_avg': False, 'constrain': True, 'Det': 'ID', 'R2': -8.875, 'RMSE': 0.156, 'MAE': 0.121, 'STD': 0.147, '0R2': 0.004, '0RMSE': 0.192, 'R2_INV': 0.1160267182774051}, {'Extract': 0.5, 'Samples location': 'mean', 'Interface': 'observed', 'Forward_Model': 'FSlin', 'Minimization_Method': 'ROPE', 'Alpha': 0.01, 'remove_coil': False, 'start_avg': False, 'constrain': True, 'Det': 'LS', 'R2': -8.042, 'RMSE': 0.149, 'MAE': 0.115, 'STD': 0.135, '0R2': 0.074, '0RMSE': 0.192, 'R2_INV': 0.1160267182774051}]\n",
      "Iteration: 115 Combination: (0.5, 'mean', 'observed', 'FSlin', 'ROPE', 0.01, False, False, False)\n",
      "##################################################################################################################################################################### 02 INVERSION CONFIGURE INPUT ################################################\n"
     ]
    },
    {
     "name": "stderr",
     "output_type": "stream",
     "text": [
      "100%|██████████| 15/15 [00:00<00:00, 15442.95it/s]"
     ]
    },
    {
     "name": "stdout",
     "output_type": "stream",
     "text": [
      "Inversion using FSlin with ROPE, reg=l2, alpha=0.01\n"
     ]
    },
    {
     "name": "stderr",
     "output_type": "stream",
     "text": [
      "\n"
     ]
    },
    {
     "name": "stdout",
     "output_type": "stream",
     "text": [
      "r2inv 0   -485.760973\n",
      "Name: all, dtype: object\n",
      "FAILED\n",
      "Iteration: 116 Combination: (0.5, 'mean', 'observed', 'FSlin', 'ROPE', 0.07, True, True, True)\n",
      "##################################################################################################################################################################### 02 INVERSION CONFIGURE INPUT ################################################\n"
     ]
    },
    {
     "name": "stderr",
     "output_type": "stream",
     "text": [
      "100%|██████████| 15/15 [00:00<00:00, 15094.66it/s]"
     ]
    },
    {
     "name": "stdout",
     "output_type": "stream",
     "text": [
      "Constrained inversion using FSlin with ROPE, reg=l2, alpha=0.07\n"
     ]
    },
    {
     "name": "stderr",
     "output_type": "stream",
     "text": [
      "\n"
     ]
    },
    {
     "name": "stdout",
     "output_type": "stream",
     "text": [
      "r2inv 0   -0.235135\n",
      "Name: all, dtype: object\n",
      "FAILED\n",
      "Iteration: 117 Combination: (0.5, 'mean', 'observed', 'FSlin', 'ROPE', 0.07, True, True, False)\n",
      "##################################################################################################################################################################### 02 INVERSION CONFIGURE INPUT ################################################\n"
     ]
    },
    {
     "name": "stderr",
     "output_type": "stream",
     "text": [
      "100%|██████████| 15/15 [00:00<00:00, 15018.99it/s]"
     ]
    },
    {
     "name": "stdout",
     "output_type": "stream",
     "text": [
      "Inversion using FSlin with ROPE, reg=l2, alpha=0.07\n"
     ]
    },
    {
     "name": "stderr",
     "output_type": "stream",
     "text": [
      "\n"
     ]
    },
    {
     "name": "stdout",
     "output_type": "stream",
     "text": [
      "r2inv 0   -500.00686\n",
      "Name: all, dtype: object\n",
      "FAILED\n",
      "Iteration: 118 Combination: (0.5, 'mean', 'observed', 'FSlin', 'ROPE', 0.07, True, False, True)\n",
      "##################################################################################################################################################################### 02 INVERSION CONFIGURE INPUT ################################################\n"
     ]
    },
    {
     "name": "stderr",
     "output_type": "stream",
     "text": [
      "100%|██████████| 15/15 [00:00<00:00, 15200.43it/s]"
     ]
    },
    {
     "name": "stdout",
     "output_type": "stream",
     "text": [
      "Constrained inversion using FSlin with ROPE, reg=l2, alpha=0.07\n"
     ]
    },
    {
     "name": "stderr",
     "output_type": "stream",
     "text": [
      "\n"
     ]
    },
    {
     "name": "stdout",
     "output_type": "stream",
     "text": [
      "r2inv 0   -0.333469\n",
      "Name: all, dtype: object\n",
      "FAILED\n",
      "Iteration: 119 Combination: (0.5, 'mean', 'observed', 'FSlin', 'ROPE', 0.07, True, False, False)\n",
      "##################################################################################################################################################################### 02 INVERSION CONFIGURE INPUT ################################################\n"
     ]
    },
    {
     "name": "stderr",
     "output_type": "stream",
     "text": [
      "100%|██████████| 15/15 [00:00<00:00, 10226.68it/s]"
     ]
    },
    {
     "name": "stdout",
     "output_type": "stream",
     "text": [
      "Inversion using FSlin with ROPE, reg=l2, alpha=0.07\n"
     ]
    },
    {
     "name": "stderr",
     "output_type": "stream",
     "text": [
      "\n"
     ]
    },
    {
     "name": "stdout",
     "output_type": "stream",
     "text": [
      "r2inv 0   -488.739194\n",
      "Name: all, dtype: object\n",
      "FAILED\n",
      "Iteration: 120 Combination: (0.5, 'mean', 'observed', 'FSlin', 'ROPE', 0.07, False, True, True)\n",
      "##################################################################################################################################################################### 02 INVERSION CONFIGURE INPUT ################################################\n"
     ]
    },
    {
     "name": "stderr",
     "output_type": "stream",
     "text": [
      "100%|██████████| 15/15 [00:00<00:00, 15015.41it/s]"
     ]
    },
    {
     "name": "stdout",
     "output_type": "stream",
     "text": [
      "Constrained inversion using FSlin with ROPE, reg=l2, alpha=0.07\n"
     ]
    },
    {
     "name": "stderr",
     "output_type": "stream",
     "text": [
      "\n"
     ]
    },
    {
     "name": "stdout",
     "output_type": "stream",
     "text": [
      "r2inv 0   -0.195811\n",
      "Name: all, dtype: object\n",
      "FAILED\n",
      "Iteration: 121 Combination: (0.5, 'mean', 'observed', 'FSlin', 'ROPE', 0.07, False, True, False)\n",
      "##################################################################################################################################################################### 02 INVERSION CONFIGURE INPUT ################################################\n"
     ]
    },
    {
     "name": "stderr",
     "output_type": "stream",
     "text": [
      "100%|██████████| 15/15 [00:00<00:00, 15412.68it/s]"
     ]
    },
    {
     "name": "stdout",
     "output_type": "stream",
     "text": [
      "Inversion using FSlin with ROPE, reg=l2, alpha=0.07\n"
     ]
    },
    {
     "name": "stderr",
     "output_type": "stream",
     "text": [
      "\n"
     ]
    },
    {
     "name": "stdout",
     "output_type": "stream",
     "text": [
      "r2inv 0   -572.714365\n",
      "Name: all, dtype: object\n",
      "FAILED\n",
      "Iteration: 122 Combination: (0.5, 'mean', 'observed', 'FSlin', 'ROPE', 0.07, False, False, True)\n",
      "##################################################################################################################################################################### 02 INVERSION CONFIGURE INPUT ################################################\n"
     ]
    },
    {
     "name": "stderr",
     "output_type": "stream",
     "text": [
      "100%|██████████| 15/15 [00:00<?, ?it/s]"
     ]
    },
    {
     "name": "stdout",
     "output_type": "stream",
     "text": [
      "Constrained inversion using FSlin with ROPE, reg=l2, alpha=0.07\n"
     ]
    },
    {
     "name": "stderr",
     "output_type": "stream",
     "text": [
      "\n"
     ]
    },
    {
     "name": "stdout",
     "output_type": "stream",
     "text": [
      "r2inv 0   -0.245459\n",
      "Name: all, dtype: object\n",
      "FAILED\n",
      "Iteration: 123 Combination: (0.5, 'mean', 'observed', 'FSlin', 'ROPE', 0.07, False, False, False)\n",
      "##################################################################################################################################################################### 02 INVERSION CONFIGURE INPUT ################################################\n"
     ]
    },
    {
     "name": "stderr",
     "output_type": "stream",
     "text": [
      "100%|██████████| 15/15 [00:00<00:00, 29046.43it/s]"
     ]
    },
    {
     "name": "stdout",
     "output_type": "stream",
     "text": [
      "Inversion using FSlin with ROPE, reg=l2, alpha=0.07\n"
     ]
    },
    {
     "name": "stderr",
     "output_type": "stream",
     "text": [
      "\n"
     ]
    },
    {
     "name": "stdout",
     "output_type": "stream",
     "text": [
      "r2inv 0   -423.658495\n",
      "Name: all, dtype: object\n",
      "FAILED\n",
      "Iteration: 124 Combination: (0.5, 'mean', 'observed', 'FSlin', 'ROPE', 0.2, True, True, True)\n",
      "##################################################################################################################################################################### 02 INVERSION CONFIGURE INPUT ################################################\n"
     ]
    },
    {
     "name": "stderr",
     "output_type": "stream",
     "text": [
      "100%|██████████| 15/15 [00:00<?, ?it/s]"
     ]
    },
    {
     "name": "stdout",
     "output_type": "stream",
     "text": [
      "Constrained inversion using FSlin with ROPE, reg=l2, alpha=0.2\n"
     ]
    },
    {
     "name": "stderr",
     "output_type": "stream",
     "text": [
      "\n"
     ]
    },
    {
     "name": "stdout",
     "output_type": "stream",
     "text": [
      "r2inv 0   -0.675165\n",
      "Name: all, dtype: object\n",
      "FAILED\n",
      "Iteration: 125 Combination: (0.5, 'mean', 'observed', 'FSlin', 'ROPE', 0.2, True, True, False)\n",
      "##################################################################################################################################################################### 02 INVERSION CONFIGURE INPUT ################################################\n"
     ]
    },
    {
     "name": "stderr",
     "output_type": "stream",
     "text": [
      "100%|██████████| 15/15 [00:00<?, ?it/s]"
     ]
    },
    {
     "name": "stdout",
     "output_type": "stream",
     "text": [
      "Inversion using FSlin with ROPE, reg=l2, alpha=0.2\n"
     ]
    },
    {
     "name": "stderr",
     "output_type": "stream",
     "text": [
      "\n"
     ]
    },
    {
     "name": "stdout",
     "output_type": "stream",
     "text": [
      "r2inv 0   -533.688897\n",
      "Name: all, dtype: object\n",
      "FAILED\n",
      "Iteration: 126 Combination: (0.5, 'mean', 'observed', 'FSlin', 'ROPE', 0.2, True, False, True)\n",
      "##################################################################################################################################################################### 02 INVERSION CONFIGURE INPUT ################################################\n"
     ]
    },
    {
     "name": "stderr",
     "output_type": "stream",
     "text": [
      "100%|██████████| 15/15 [00:00<00:00, 14972.53it/s]"
     ]
    },
    {
     "name": "stdout",
     "output_type": "stream",
     "text": [
      "Constrained inversion using FSlin with ROPE, reg=l2, alpha=0.2\n"
     ]
    },
    {
     "name": "stderr",
     "output_type": "stream",
     "text": [
      "\n"
     ]
    },
    {
     "name": "stdout",
     "output_type": "stream",
     "text": [
      "r2inv 0   -0.613385\n",
      "Name: all, dtype: object\n",
      "FAILED\n",
      "Iteration: 127 Combination: (0.5, 'mean', 'observed', 'FSlin', 'ROPE', 0.2, True, False, False)\n",
      "##################################################################################################################################################################### 02 INVERSION CONFIGURE INPUT ################################################\n"
     ]
    },
    {
     "name": "stderr",
     "output_type": "stream",
     "text": [
      "100%|██████████| 15/15 [00:00<?, ?it/s]"
     ]
    },
    {
     "name": "stdout",
     "output_type": "stream",
     "text": [
      "Inversion using FSlin with ROPE, reg=l2, alpha=0.2\n"
     ]
    },
    {
     "name": "stderr",
     "output_type": "stream",
     "text": [
      "\n"
     ]
    },
    {
     "name": "stdout",
     "output_type": "stream",
     "text": [
      "r2inv 0   -537.7204\n",
      "Name: all, dtype: object\n",
      "FAILED\n",
      "Iteration: 128 Combination: (0.5, 'mean', 'observed', 'FSlin', 'ROPE', 0.2, False, True, True)\n",
      "##################################################################################################################################################################### 02 INVERSION CONFIGURE INPUT ################################################\n"
     ]
    },
    {
     "name": "stderr",
     "output_type": "stream",
     "text": [
      "100%|██████████| 15/15 [00:00<?, ?it/s]"
     ]
    },
    {
     "name": "stdout",
     "output_type": "stream",
     "text": [
      "Constrained inversion using FSlin with ROPE, reg=l2, alpha=0.2\n"
     ]
    },
    {
     "name": "stderr",
     "output_type": "stream",
     "text": [
      "\n"
     ]
    },
    {
     "name": "stdout",
     "output_type": "stream",
     "text": [
      "r2inv 0   -0.583729\n",
      "Name: all, dtype: object\n",
      "FAILED\n",
      "Iteration: 129 Combination: (0.5, 'mean', 'observed', 'FSlin', 'ROPE', 0.2, False, True, False)\n",
      "##################################################################################################################################################################### 02 INVERSION CONFIGURE INPUT ################################################\n"
     ]
    },
    {
     "name": "stderr",
     "output_type": "stream",
     "text": [
      "100%|██████████| 15/15 [00:00<?, ?it/s]"
     ]
    },
    {
     "name": "stdout",
     "output_type": "stream",
     "text": [
      "Inversion using FSlin with ROPE, reg=l2, alpha=0.2\n"
     ]
    },
    {
     "name": "stderr",
     "output_type": "stream",
     "text": [
      "\n"
     ]
    },
    {
     "name": "stdout",
     "output_type": "stream",
     "text": [
      "r2inv 0   -577.604754\n",
      "Name: all, dtype: object\n",
      "FAILED\n",
      "Iteration: 130 Combination: (0.5, 'mean', 'observed', 'FSlin', 'ROPE', 0.2, False, False, True)\n",
      "##################################################################################################################################################################### 02 INVERSION CONFIGURE INPUT ################################################\n"
     ]
    },
    {
     "name": "stderr",
     "output_type": "stream",
     "text": [
      "100%|██████████| 15/15 [00:00<00:00, 5898.06it/s]"
     ]
    },
    {
     "name": "stdout",
     "output_type": "stream",
     "text": [
      "Constrained inversion using FSlin with ROPE, reg=l2, alpha=0.2\n"
     ]
    },
    {
     "name": "stderr",
     "output_type": "stream",
     "text": [
      "\n"
     ]
    },
    {
     "name": "stdout",
     "output_type": "stream",
     "text": [
      "r2inv 0   -0.691968\n",
      "Name: all, dtype: object\n",
      "FAILED\n",
      "Iteration: 131 Combination: (0.5, 'mean', 'observed', 'FSlin', 'ROPE', 0.2, False, False, False)\n",
      "##################################################################################################################################################################### 02 INVERSION CONFIGURE INPUT ################################################\n"
     ]
    },
    {
     "name": "stderr",
     "output_type": "stream",
     "text": [
      "100%|██████████| 15/15 [00:00<00:00, 15051.33it/s]"
     ]
    },
    {
     "name": "stdout",
     "output_type": "stream",
     "text": [
      "Inversion using FSlin with ROPE, reg=l2, alpha=0.2\n"
     ]
    },
    {
     "name": "stderr",
     "output_type": "stream",
     "text": [
      "\n"
     ]
    },
    {
     "name": "stdout",
     "output_type": "stream",
     "text": [
      "r2inv 0   -591.526455\n",
      "Name: all, dtype: object\n",
      "FAILED\n",
      "Iteration: 132 Combination: (0.5, 'mean', 'log', 'FSeq', 'Gauss-Newton', 0.01, True, True, True)\n",
      "##################################################################################################################################################################### 02 INVERSION CONFIGURE INPUT ################################################\n",
      "Constrained Inversion using FSeq with Gauss-Newton, reg=l2, alpha=0.01\n",
      "15/15 invertedr2inv 0    0.990159\n",
      "Name: all, dtype: object\n",
      "#################################################################################################################################################################### 03 DETERMINISTIC MODELLING ###################################################\n",
      "inv_columns Index(['EC_0.15', 'EC_0.38', 'EC_0.51', 'EC_0.70', 'EC_0.99', 'EC_1.45',\n",
      "       'EC_2.15', 'EC_end'],\n",
      "      dtype='object')\n",
      "current_results [{'Extract': 0.5, 'Samples location': 'mean', 'Interface': 'log', 'Forward_Model': 'FSeq', 'Minimization_Method': 'Gauss-Newton', 'Alpha': 0.01, 'remove_coil': True, 'start_avg': True, 'constrain': True, 'Det': 'LT', 'R2': -10.656, 'RMSE': 0.176, 'MAE': 0.15, 'STD': 0.176, '0R2': 0.384, '0RMSE': 0.141, 'R2_INV': 0.9901590572315996}, {'Extract': 0.5, 'Samples location': 'mean', 'Interface': 'log', 'Forward_Model': 'FSeq', 'Minimization_Method': 'Gauss-Newton', 'Alpha': 0.01, 'remove_coil': True, 'start_avg': True, 'constrain': True, 'Det': 'ID', 'R2': -11.362, 'RMSE': 0.171, 'MAE': 0.15, 'STD': 0.176, '0R2': 0.443, '0RMSE': 0.146, 'R2_INV': 0.9901590572315996}, {'Extract': 0.5, 'Samples location': 'mean', 'Interface': 'log', 'Forward_Model': 'FSeq', 'Minimization_Method': 'Gauss-Newton', 'Alpha': 0.01, 'remove_coil': True, 'start_avg': True, 'constrain': True, 'Det': 'LS', 'R2': -10.541, 'RMSE': 0.175, 'MAE': 0.152, 'STD': 0.174, '0R2': 0.338, '0RMSE': 0.148, 'R2_INV': 0.9901590572315996}]\n",
      "Iteration: 133 Combination: (0.5, 'mean', 'log', 'FSeq', 'Gauss-Newton', 0.01, True, True, False)\n",
      "##################################################################################################################################################################### 02 INVERSION CONFIGURE INPUT ################################################\n",
      "Inversion using FSeq with Gauss-Newton, reg=l2, alpha=0.01\n",
      "15/15 invertedr2inv 0    0.990159\n",
      "Name: all, dtype: object\n",
      "#################################################################################################################################################################### 03 DETERMINISTIC MODELLING ###################################################\n",
      "inv_columns Index(['EC_0.15', 'EC_0.38', 'EC_0.51', 'EC_0.70', 'EC_0.99', 'EC_1.45',\n",
      "       'EC_2.15', 'EC_end'],\n",
      "      dtype='object')\n",
      "current_results [{'Extract': 0.5, 'Samples location': 'mean', 'Interface': 'log', 'Forward_Model': 'FSeq', 'Minimization_Method': 'Gauss-Newton', 'Alpha': 0.01, 'remove_coil': True, 'start_avg': True, 'constrain': False, 'Det': 'LT', 'R2': -10.656, 'RMSE': 0.176, 'MAE': 0.15, 'STD': 0.176, '0R2': 0.384, '0RMSE': 0.141, 'R2_INV': 0.9901590572315996}, {'Extract': 0.5, 'Samples location': 'mean', 'Interface': 'log', 'Forward_Model': 'FSeq', 'Minimization_Method': 'Gauss-Newton', 'Alpha': 0.01, 'remove_coil': True, 'start_avg': True, 'constrain': False, 'Det': 'ID', 'R2': -11.362, 'RMSE': 0.171, 'MAE': 0.15, 'STD': 0.176, '0R2': 0.443, '0RMSE': 0.146, 'R2_INV': 0.9901590572315996}, {'Extract': 0.5, 'Samples location': 'mean', 'Interface': 'log', 'Forward_Model': 'FSeq', 'Minimization_Method': 'Gauss-Newton', 'Alpha': 0.01, 'remove_coil': True, 'start_avg': True, 'constrain': False, 'Det': 'LS', 'R2': -10.541, 'RMSE': 0.175, 'MAE': 0.152, 'STD': 0.174, '0R2': 0.338, '0RMSE': 0.148, 'R2_INV': 0.9901590572315996}]\n",
      "Iteration: 134 Combination: (0.5, 'mean', 'log', 'FSeq', 'Gauss-Newton', 0.01, True, False, True)\n",
      "##################################################################################################################################################################### 02 INVERSION CONFIGURE INPUT ################################################\n",
      "Constrained Inversion using FSeq with Gauss-Newton, reg=l2, alpha=0.01\n",
      "15/15 invertedr2inv 0    0.989618\n",
      "Name: all, dtype: object\n",
      "#################################################################################################################################################################### 03 DETERMINISTIC MODELLING ###################################################\n",
      "inv_columns Index(['EC_0.15', 'EC_0.38', 'EC_0.51', 'EC_0.70', 'EC_0.99', 'EC_1.45',\n",
      "       'EC_2.15', 'EC_end'],\n",
      "      dtype='object')\n",
      "current_results [{'Extract': 0.5, 'Samples location': 'mean', 'Interface': 'log', 'Forward_Model': 'FSeq', 'Minimization_Method': 'Gauss-Newton', 'Alpha': 0.01, 'remove_coil': True, 'start_avg': False, 'constrain': True, 'Det': 'LT', 'R2': -12.021, 'RMSE': 0.182, 'MAE': 0.161, 'STD': 0.167, '0R2': 0.249, '0RMSE': 0.164, 'R2_INV': 0.9896181439804882}, {'Extract': 0.5, 'Samples location': 'mean', 'Interface': 'log', 'Forward_Model': 'FSeq', 'Minimization_Method': 'Gauss-Newton', 'Alpha': 0.01, 'remove_coil': True, 'start_avg': False, 'constrain': True, 'Det': 'ID', 'R2': -12.037, 'RMSE': 0.18, 'MAE': 0.164, 'STD': 0.17, '0R2': 0.264, '0RMSE': 0.165, 'R2_INV': 0.9896181439804882}, {'Extract': 0.5, 'Samples location': 'mean', 'Interface': 'log', 'Forward_Model': 'FSeq', 'Minimization_Method': 'Gauss-Newton', 'Alpha': 0.01, 'remove_coil': True, 'start_avg': False, 'constrain': True, 'Det': 'LS', 'R2': -11.904, 'RMSE': 0.183, 'MAE': 0.163, 'STD': 0.168, '0R2': 0.192, '0RMSE': 0.171, 'R2_INV': 0.9896181439804882}]\n",
      "Iteration: 135 Combination: (0.5, 'mean', 'log', 'FSeq', 'Gauss-Newton', 0.01, True, False, False)\n",
      "##################################################################################################################################################################### 02 INVERSION CONFIGURE INPUT ################################################\n",
      "Inversion using FSeq with Gauss-Newton, reg=l2, alpha=0.01\n",
      "15/15 invertedr2inv 0    0.989618\n",
      "Name: all, dtype: object\n",
      "#################################################################################################################################################################### 03 DETERMINISTIC MODELLING ###################################################\n",
      "inv_columns Index(['EC_0.15', 'EC_0.38', 'EC_0.51', 'EC_0.70', 'EC_0.99', 'EC_1.45',\n",
      "       'EC_2.15', 'EC_end'],\n",
      "      dtype='object')\n",
      "current_results [{'Extract': 0.5, 'Samples location': 'mean', 'Interface': 'log', 'Forward_Model': 'FSeq', 'Minimization_Method': 'Gauss-Newton', 'Alpha': 0.01, 'remove_coil': True, 'start_avg': False, 'constrain': False, 'Det': 'LT', 'R2': -12.021, 'RMSE': 0.182, 'MAE': 0.161, 'STD': 0.167, '0R2': 0.249, '0RMSE': 0.164, 'R2_INV': 0.9896181439804882}, {'Extract': 0.5, 'Samples location': 'mean', 'Interface': 'log', 'Forward_Model': 'FSeq', 'Minimization_Method': 'Gauss-Newton', 'Alpha': 0.01, 'remove_coil': True, 'start_avg': False, 'constrain': False, 'Det': 'ID', 'R2': -12.037, 'RMSE': 0.18, 'MAE': 0.164, 'STD': 0.17, '0R2': 0.264, '0RMSE': 0.165, 'R2_INV': 0.9896181439804882}, {'Extract': 0.5, 'Samples location': 'mean', 'Interface': 'log', 'Forward_Model': 'FSeq', 'Minimization_Method': 'Gauss-Newton', 'Alpha': 0.01, 'remove_coil': True, 'start_avg': False, 'constrain': False, 'Det': 'LS', 'R2': -11.904, 'RMSE': 0.183, 'MAE': 0.163, 'STD': 0.168, '0R2': 0.192, '0RMSE': 0.171, 'R2_INV': 0.9896181439804882}]\n",
      "Iteration: 136 Combination: (0.5, 'mean', 'log', 'FSeq', 'Gauss-Newton', 0.01, False, True, True)\n",
      "##################################################################################################################################################################### 02 INVERSION CONFIGURE INPUT ################################################\n",
      "Constrained Inversion using FSeq with Gauss-Newton, reg=l2, alpha=0.01\n",
      "15/15 invertedr2inv 0    0.991264\n",
      "Name: all, dtype: object\n",
      "#################################################################################################################################################################### 03 DETERMINISTIC MODELLING ###################################################\n",
      "inv_columns Index(['EC_0.15', 'EC_0.38', 'EC_0.51', 'EC_0.70', 'EC_0.99', 'EC_1.45',\n",
      "       'EC_2.15', 'EC_end'],\n",
      "      dtype='object')\n",
      "current_results [{'Extract': 0.5, 'Samples location': 'mean', 'Interface': 'log', 'Forward_Model': 'FSeq', 'Minimization_Method': 'Gauss-Newton', 'Alpha': 0.01, 'remove_coil': False, 'start_avg': True, 'constrain': True, 'Det': 'LT', 'R2': -11.546, 'RMSE': 0.182, 'MAE': 0.162, 'STD': 0.178, '0R2': 0.205, '0RMSE': 0.171, 'R2_INV': 0.991264256880314}, {'Extract': 0.5, 'Samples location': 'mean', 'Interface': 'log', 'Forward_Model': 'FSeq', 'Minimization_Method': 'Gauss-Newton', 'Alpha': 0.01, 'remove_coil': False, 'start_avg': True, 'constrain': True, 'Det': 'ID', 'R2': -12.18, 'RMSE': 0.184, 'MAE': 0.163, 'STD': 0.182, '0R2': 0.222, '0RMSE': 0.174, 'R2_INV': 0.991264256880314}, {'Extract': 0.5, 'Samples location': 'mean', 'Interface': 'log', 'Forward_Model': 'FSeq', 'Minimization_Method': 'Gauss-Newton', 'Alpha': 0.01, 'remove_coil': False, 'start_avg': True, 'constrain': True, 'Det': 'LS', 'R2': -11.538, 'RMSE': 0.184, 'MAE': 0.164, 'STD': 0.177, '0R2': 0.138, '0RMSE': 0.178, 'R2_INV': 0.991264256880314}]\n",
      "Iteration: 137 Combination: (0.5, 'mean', 'log', 'FSeq', 'Gauss-Newton', 0.01, False, True, False)\n",
      "##################################################################################################################################################################### 02 INVERSION CONFIGURE INPUT ################################################\n",
      "Inversion using FSeq with Gauss-Newton, reg=l2, alpha=0.01\n",
      "15/15 invertedr2inv 0    0.991264\n",
      "Name: all, dtype: object\n",
      "#################################################################################################################################################################### 03 DETERMINISTIC MODELLING ###################################################\n",
      "inv_columns Index(['EC_0.15', 'EC_0.38', 'EC_0.51', 'EC_0.70', 'EC_0.99', 'EC_1.45',\n",
      "       'EC_2.15', 'EC_end'],\n",
      "      dtype='object')\n",
      "current_results [{'Extract': 0.5, 'Samples location': 'mean', 'Interface': 'log', 'Forward_Model': 'FSeq', 'Minimization_Method': 'Gauss-Newton', 'Alpha': 0.01, 'remove_coil': False, 'start_avg': True, 'constrain': False, 'Det': 'LT', 'R2': -11.546, 'RMSE': 0.182, 'MAE': 0.162, 'STD': 0.178, '0R2': 0.205, '0RMSE': 0.171, 'R2_INV': 0.991264256880314}, {'Extract': 0.5, 'Samples location': 'mean', 'Interface': 'log', 'Forward_Model': 'FSeq', 'Minimization_Method': 'Gauss-Newton', 'Alpha': 0.01, 'remove_coil': False, 'start_avg': True, 'constrain': False, 'Det': 'ID', 'R2': -12.18, 'RMSE': 0.184, 'MAE': 0.163, 'STD': 0.182, '0R2': 0.222, '0RMSE': 0.174, 'R2_INV': 0.991264256880314}, {'Extract': 0.5, 'Samples location': 'mean', 'Interface': 'log', 'Forward_Model': 'FSeq', 'Minimization_Method': 'Gauss-Newton', 'Alpha': 0.01, 'remove_coil': False, 'start_avg': True, 'constrain': False, 'Det': 'LS', 'R2': -11.538, 'RMSE': 0.184, 'MAE': 0.164, 'STD': 0.177, '0R2': 0.138, '0RMSE': 0.178, 'R2_INV': 0.991264256880314}]\n",
      "Iteration: 138 Combination: (0.5, 'mean', 'log', 'FSeq', 'Gauss-Newton', 0.01, False, False, True)\n",
      "##################################################################################################################################################################### 02 INVERSION CONFIGURE INPUT ################################################\n",
      "Constrained Inversion using FSeq with Gauss-Newton, reg=l2, alpha=0.01\n",
      "15/15 invertedr2inv 0    0.990679\n",
      "Name: all, dtype: object\n",
      "#################################################################################################################################################################### 03 DETERMINISTIC MODELLING ###################################################\n",
      "inv_columns Index(['EC_0.15', 'EC_0.38', 'EC_0.51', 'EC_0.70', 'EC_0.99', 'EC_1.45',\n",
      "       'EC_2.15', 'EC_end'],\n",
      "      dtype='object')\n",
      "current_results [{'Extract': 0.5, 'Samples location': 'mean', 'Interface': 'log', 'Forward_Model': 'FSeq', 'Minimization_Method': 'Gauss-Newton', 'Alpha': 0.01, 'remove_coil': False, 'start_avg': False, 'constrain': True, 'Det': 'LT', 'R2': -12.58, 'RMSE': 0.191, 'MAE': 0.17, 'STD': 0.177, '0R2': 0.105, '0RMSE': 0.185, 'R2_INV': 0.990679261125174}, {'Extract': 0.5, 'Samples location': 'mean', 'Interface': 'log', 'Forward_Model': 'FSeq', 'Minimization_Method': 'Gauss-Newton', 'Alpha': 0.01, 'remove_coil': False, 'start_avg': False, 'constrain': True, 'Det': 'ID', 'R2': -13.24, 'RMSE': 0.19, 'MAE': 0.174, 'STD': 0.174, '0R2': 0.121, '0RMSE': 0.188, 'R2_INV': 0.990679261125174}, {'Extract': 0.5, 'Samples location': 'mean', 'Interface': 'log', 'Forward_Model': 'FSeq', 'Minimization_Method': 'Gauss-Newton', 'Alpha': 0.01, 'remove_coil': False, 'start_avg': False, 'constrain': True, 'Det': 'LS', 'R2': -12.834, 'RMSE': 0.194, 'MAE': 0.172, 'STD': 0.178, '0R2': 0.05, '0RMSE': 0.192, 'R2_INV': 0.990679261125174}]\n",
      "Iteration: 139 Combination: (0.5, 'mean', 'log', 'FSeq', 'Gauss-Newton', 0.01, False, False, False)\n",
      "##################################################################################################################################################################### 02 INVERSION CONFIGURE INPUT ################################################\n",
      "Inversion using FSeq with Gauss-Newton, reg=l2, alpha=0.01\n",
      "15/15 invertedr2inv 0    0.990679\n",
      "Name: all, dtype: object\n",
      "#################################################################################################################################################################### 03 DETERMINISTIC MODELLING ###################################################\n",
      "inv_columns Index(['EC_0.15', 'EC_0.38', 'EC_0.51', 'EC_0.70', 'EC_0.99', 'EC_1.45',\n",
      "       'EC_2.15', 'EC_end'],\n",
      "      dtype='object')\n",
      "current_results [{'Extract': 0.5, 'Samples location': 'mean', 'Interface': 'log', 'Forward_Model': 'FSeq', 'Minimization_Method': 'Gauss-Newton', 'Alpha': 0.01, 'remove_coil': False, 'start_avg': False, 'constrain': False, 'Det': 'LT', 'R2': -12.58, 'RMSE': 0.191, 'MAE': 0.17, 'STD': 0.177, '0R2': 0.105, '0RMSE': 0.185, 'R2_INV': 0.990679261125174}, {'Extract': 0.5, 'Samples location': 'mean', 'Interface': 'log', 'Forward_Model': 'FSeq', 'Minimization_Method': 'Gauss-Newton', 'Alpha': 0.01, 'remove_coil': False, 'start_avg': False, 'constrain': False, 'Det': 'ID', 'R2': -13.24, 'RMSE': 0.19, 'MAE': 0.174, 'STD': 0.174, '0R2': 0.121, '0RMSE': 0.188, 'R2_INV': 0.990679261125174}, {'Extract': 0.5, 'Samples location': 'mean', 'Interface': 'log', 'Forward_Model': 'FSeq', 'Minimization_Method': 'Gauss-Newton', 'Alpha': 0.01, 'remove_coil': False, 'start_avg': False, 'constrain': False, 'Det': 'LS', 'R2': -12.834, 'RMSE': 0.194, 'MAE': 0.172, 'STD': 0.178, '0R2': 0.05, '0RMSE': 0.192, 'R2_INV': 0.990679261125174}]\n",
      "Iteration: 140 Combination: (0.5, 'mean', 'log', 'FSeq', 'Gauss-Newton', 0.07, True, True, True)\n",
      "##################################################################################################################################################################### 02 INVERSION CONFIGURE INPUT ################################################\n",
      "Constrained Inversion using FSeq with Gauss-Newton, reg=l2, alpha=0.07\n",
      "15/15 invertedr2inv 0    0.972956\n",
      "Name: all, dtype: object\n",
      "#################################################################################################################################################################### 03 DETERMINISTIC MODELLING ###################################################\n",
      "inv_columns Index(['EC_0.15', 'EC_0.38', 'EC_0.51', 'EC_0.70', 'EC_0.99', 'EC_1.45',\n",
      "       'EC_2.15', 'EC_end'],\n",
      "      dtype='object')\n",
      "current_results [{'Extract': 0.5, 'Samples location': 'mean', 'Interface': 'log', 'Forward_Model': 'FSeq', 'Minimization_Method': 'Gauss-Newton', 'Alpha': 0.07, 'remove_coil': True, 'start_avg': True, 'constrain': True, 'Det': 'LT', 'R2': -15.66, 'RMSE': 0.203, 'MAE': 0.179, 'STD': 0.204, '0R2': 0.827, '0RMSE': 0.078, 'R2_INV': 0.9729557156982968}, {'Extract': 0.5, 'Samples location': 'mean', 'Interface': 'log', 'Forward_Model': 'FSeq', 'Minimization_Method': 'Gauss-Newton', 'Alpha': 0.07, 'remove_coil': True, 'start_avg': True, 'constrain': True, 'Det': 'ID', 'R2': -12.881, 'RMSE': 0.184, 'MAE': 0.162, 'STD': 0.188, '0R2': 0.97, '0RMSE': 0.032, 'R2_INV': 0.9729557156982968}, {'Extract': 0.5, 'Samples location': 'mean', 'Interface': 'log', 'Forward_Model': 'FSeq', 'Minimization_Method': 'Gauss-Newton', 'Alpha': 0.07, 'remove_coil': True, 'start_avg': True, 'constrain': True, 'Det': 'LS', 'R2': -14.874, 'RMSE': 0.2, 'MAE': 0.177, 'STD': 0.203, '0R2': 0.836, '0RMSE': 0.077, 'R2_INV': 0.9729557156982968}]\n",
      "Iteration: 141 Combination: (0.5, 'mean', 'log', 'FSeq', 'Gauss-Newton', 0.07, True, True, False)\n",
      "##################################################################################################################################################################### 02 INVERSION CONFIGURE INPUT ################################################\n",
      "Inversion using FSeq with Gauss-Newton, reg=l2, alpha=0.07\n",
      "15/15 invertedr2inv 0    0.972956\n",
      "Name: all, dtype: object\n",
      "#################################################################################################################################################################### 03 DETERMINISTIC MODELLING ###################################################\n",
      "inv_columns Index(['EC_0.15', 'EC_0.38', 'EC_0.51', 'EC_0.70', 'EC_0.99', 'EC_1.45',\n",
      "       'EC_2.15', 'EC_end'],\n",
      "      dtype='object')\n",
      "current_results [{'Extract': 0.5, 'Samples location': 'mean', 'Interface': 'log', 'Forward_Model': 'FSeq', 'Minimization_Method': 'Gauss-Newton', 'Alpha': 0.07, 'remove_coil': True, 'start_avg': True, 'constrain': False, 'Det': 'LT', 'R2': -15.66, 'RMSE': 0.203, 'MAE': 0.179, 'STD': 0.204, '0R2': 0.827, '0RMSE': 0.078, 'R2_INV': 0.9729557156982968}, {'Extract': 0.5, 'Samples location': 'mean', 'Interface': 'log', 'Forward_Model': 'FSeq', 'Minimization_Method': 'Gauss-Newton', 'Alpha': 0.07, 'remove_coil': True, 'start_avg': True, 'constrain': False, 'Det': 'ID', 'R2': -12.881, 'RMSE': 0.184, 'MAE': 0.162, 'STD': 0.188, '0R2': 0.97, '0RMSE': 0.032, 'R2_INV': 0.9729557156982968}, {'Extract': 0.5, 'Samples location': 'mean', 'Interface': 'log', 'Forward_Model': 'FSeq', 'Minimization_Method': 'Gauss-Newton', 'Alpha': 0.07, 'remove_coil': True, 'start_avg': True, 'constrain': False, 'Det': 'LS', 'R2': -14.874, 'RMSE': 0.2, 'MAE': 0.177, 'STD': 0.203, '0R2': 0.836, '0RMSE': 0.077, 'R2_INV': 0.9729557156982968}]\n",
      "Iteration: 142 Combination: (0.5, 'mean', 'log', 'FSeq', 'Gauss-Newton', 0.07, True, False, True)\n",
      "##################################################################################################################################################################### 02 INVERSION CONFIGURE INPUT ################################################\n",
      "Constrained Inversion using FSeq with Gauss-Newton, reg=l2, alpha=0.07\n",
      "15/15 invertedr2inv 0    0.974557\n",
      "Name: all, dtype: object\n",
      "#################################################################################################################################################################### 03 DETERMINISTIC MODELLING ###################################################\n",
      "inv_columns Index(['EC_0.15', 'EC_0.38', 'EC_0.51', 'EC_0.70', 'EC_0.99', 'EC_1.45',\n",
      "       'EC_2.15', 'EC_end'],\n",
      "      dtype='object')\n",
      "current_results [{'Extract': 0.5, 'Samples location': 'mean', 'Interface': 'log', 'Forward_Model': 'FSeq', 'Minimization_Method': 'Gauss-Newton', 'Alpha': 0.07, 'remove_coil': True, 'start_avg': False, 'constrain': True, 'Det': 'LT', 'R2': -14.906, 'RMSE': 0.2, 'MAE': 0.173, 'STD': 0.196, '0R2': 0.83, '0RMSE': 0.078, 'R2_INV': 0.9745568296675772}, {'Extract': 0.5, 'Samples location': 'mean', 'Interface': 'log', 'Forward_Model': 'FSeq', 'Minimization_Method': 'Gauss-Newton', 'Alpha': 0.07, 'remove_coil': True, 'start_avg': False, 'constrain': True, 'Det': 'ID', 'R2': -12.32, 'RMSE': 0.184, 'MAE': 0.153, 'STD': 0.18, '0R2': 0.948, '0RMSE': 0.042, 'R2_INV': 0.9745568296675772}, {'Extract': 0.5, 'Samples location': 'mean', 'Interface': 'log', 'Forward_Model': 'FSeq', 'Minimization_Method': 'Gauss-Newton', 'Alpha': 0.07, 'remove_coil': True, 'start_avg': False, 'constrain': True, 'Det': 'LS', 'R2': -14.876, 'RMSE': 0.198, 'MAE': 0.17, 'STD': 0.194, '0R2': 0.826, '0RMSE': 0.079, 'R2_INV': 0.9745568296675772}]\n",
      "Iteration: 143 Combination: (0.5, 'mean', 'log', 'FSeq', 'Gauss-Newton', 0.07, True, False, False)\n",
      "##################################################################################################################################################################### 02 INVERSION CONFIGURE INPUT ################################################\n",
      "Inversion using FSeq with Gauss-Newton, reg=l2, alpha=0.07\n",
      "15/15 invertedr2inv 0    0.974557\n",
      "Name: all, dtype: object\n",
      "#################################################################################################################################################################### 03 DETERMINISTIC MODELLING ###################################################\n",
      "inv_columns Index(['EC_0.15', 'EC_0.38', 'EC_0.51', 'EC_0.70', 'EC_0.99', 'EC_1.45',\n",
      "       'EC_2.15', 'EC_end'],\n",
      "      dtype='object')\n",
      "current_results [{'Extract': 0.5, 'Samples location': 'mean', 'Interface': 'log', 'Forward_Model': 'FSeq', 'Minimization_Method': 'Gauss-Newton', 'Alpha': 0.07, 'remove_coil': True, 'start_avg': False, 'constrain': False, 'Det': 'LT', 'R2': -14.906, 'RMSE': 0.2, 'MAE': 0.173, 'STD': 0.196, '0R2': 0.83, '0RMSE': 0.078, 'R2_INV': 0.9745568296675772}, {'Extract': 0.5, 'Samples location': 'mean', 'Interface': 'log', 'Forward_Model': 'FSeq', 'Minimization_Method': 'Gauss-Newton', 'Alpha': 0.07, 'remove_coil': True, 'start_avg': False, 'constrain': False, 'Det': 'ID', 'R2': -12.32, 'RMSE': 0.184, 'MAE': 0.153, 'STD': 0.18, '0R2': 0.948, '0RMSE': 0.042, 'R2_INV': 0.9745568296675772}, {'Extract': 0.5, 'Samples location': 'mean', 'Interface': 'log', 'Forward_Model': 'FSeq', 'Minimization_Method': 'Gauss-Newton', 'Alpha': 0.07, 'remove_coil': True, 'start_avg': False, 'constrain': False, 'Det': 'LS', 'R2': -14.876, 'RMSE': 0.198, 'MAE': 0.17, 'STD': 0.194, '0R2': 0.826, '0RMSE': 0.079, 'R2_INV': 0.9745568296675772}]\n",
      "Iteration: 144 Combination: (0.5, 'mean', 'log', 'FSeq', 'Gauss-Newton', 0.07, False, True, True)\n",
      "##################################################################################################################################################################### 02 INVERSION CONFIGURE INPUT ################################################\n",
      "Constrained Inversion using FSeq with Gauss-Newton, reg=l2, alpha=0.07\n",
      "15/15 invertedr2inv 0    0.973333\n",
      "Name: all, dtype: object\n",
      "#################################################################################################################################################################### 03 DETERMINISTIC MODELLING ###################################################\n",
      "inv_columns Index(['EC_0.15', 'EC_0.38', 'EC_0.51', 'EC_0.70', 'EC_0.99', 'EC_1.45',\n",
      "       'EC_2.15', 'EC_end'],\n",
      "      dtype='object')\n",
      "current_results [{'Extract': 0.5, 'Samples location': 'mean', 'Interface': 'log', 'Forward_Model': 'FSeq', 'Minimization_Method': 'Gauss-Newton', 'Alpha': 0.07, 'remove_coil': False, 'start_avg': True, 'constrain': True, 'Det': 'LT', 'R2': -14.829, 'RMSE': 0.2, 'MAE': 0.172, 'STD': 0.204, '0R2': 0.848, '0RMSE': 0.073, 'R2_INV': 0.97333286867571}, {'Extract': 0.5, 'Samples location': 'mean', 'Interface': 'log', 'Forward_Model': 'FSeq', 'Minimization_Method': 'Gauss-Newton', 'Alpha': 0.07, 'remove_coil': False, 'start_avg': True, 'constrain': True, 'Det': 'ID', 'R2': -12.362, 'RMSE': 0.179, 'MAE': 0.158, 'STD': 0.183, '0R2': 0.97, '0RMSE': 0.032, 'R2_INV': 0.97333286867571}, {'Extract': 0.5, 'Samples location': 'mean', 'Interface': 'log', 'Forward_Model': 'FSeq', 'Minimization_Method': 'Gauss-Newton', 'Alpha': 0.07, 'remove_coil': False, 'start_avg': True, 'constrain': True, 'Det': 'LS', 'R2': -14.536, 'RMSE': 0.198, 'MAE': 0.172, 'STD': 0.204, '0R2': 0.844, '0RMSE': 0.074, 'R2_INV': 0.97333286867571}]\n",
      "Iteration: 145 Combination: (0.5, 'mean', 'log', 'FSeq', 'Gauss-Newton', 0.07, False, True, False)\n",
      "##################################################################################################################################################################### 02 INVERSION CONFIGURE INPUT ################################################\n",
      "Inversion using FSeq with Gauss-Newton, reg=l2, alpha=0.07\n",
      "15/15 invertedr2inv 0    0.973333\n",
      "Name: all, dtype: object\n",
      "#################################################################################################################################################################### 03 DETERMINISTIC MODELLING ###################################################\n",
      "inv_columns Index(['EC_0.15', 'EC_0.38', 'EC_0.51', 'EC_0.70', 'EC_0.99', 'EC_1.45',\n",
      "       'EC_2.15', 'EC_end'],\n",
      "      dtype='object')\n",
      "current_results [{'Extract': 0.5, 'Samples location': 'mean', 'Interface': 'log', 'Forward_Model': 'FSeq', 'Minimization_Method': 'Gauss-Newton', 'Alpha': 0.07, 'remove_coil': False, 'start_avg': True, 'constrain': False, 'Det': 'LT', 'R2': -14.829, 'RMSE': 0.2, 'MAE': 0.172, 'STD': 0.204, '0R2': 0.848, '0RMSE': 0.073, 'R2_INV': 0.97333286867571}, {'Extract': 0.5, 'Samples location': 'mean', 'Interface': 'log', 'Forward_Model': 'FSeq', 'Minimization_Method': 'Gauss-Newton', 'Alpha': 0.07, 'remove_coil': False, 'start_avg': True, 'constrain': False, 'Det': 'ID', 'R2': -12.362, 'RMSE': 0.179, 'MAE': 0.158, 'STD': 0.183, '0R2': 0.97, '0RMSE': 0.032, 'R2_INV': 0.97333286867571}, {'Extract': 0.5, 'Samples location': 'mean', 'Interface': 'log', 'Forward_Model': 'FSeq', 'Minimization_Method': 'Gauss-Newton', 'Alpha': 0.07, 'remove_coil': False, 'start_avg': True, 'constrain': False, 'Det': 'LS', 'R2': -14.536, 'RMSE': 0.198, 'MAE': 0.172, 'STD': 0.204, '0R2': 0.844, '0RMSE': 0.074, 'R2_INV': 0.97333286867571}]\n",
      "Iteration: 146 Combination: (0.5, 'mean', 'log', 'FSeq', 'Gauss-Newton', 0.07, False, False, True)\n",
      "##################################################################################################################################################################### 02 INVERSION CONFIGURE INPUT ################################################\n",
      "Constrained Inversion using FSeq with Gauss-Newton, reg=l2, alpha=0.07\n",
      "15/15 invertedr2inv 0    0.975843\n",
      "Name: all, dtype: object\n",
      "#################################################################################################################################################################### 03 DETERMINISTIC MODELLING ###################################################\n",
      "inv_columns Index(['EC_0.15', 'EC_0.38', 'EC_0.51', 'EC_0.70', 'EC_0.99', 'EC_1.45',\n",
      "       'EC_2.15', 'EC_end'],\n",
      "      dtype='object')\n",
      "current_results [{'Extract': 0.5, 'Samples location': 'mean', 'Interface': 'log', 'Forward_Model': 'FSeq', 'Minimization_Method': 'Gauss-Newton', 'Alpha': 0.07, 'remove_coil': False, 'start_avg': False, 'constrain': True, 'Det': 'LT', 'R2': -14.108, 'RMSE': 0.194, 'MAE': 0.166, 'STD': 0.189, '0R2': 0.821, '0RMSE': 0.08, 'R2_INV': 0.9758428471243824}, {'Extract': 0.5, 'Samples location': 'mean', 'Interface': 'log', 'Forward_Model': 'FSeq', 'Minimization_Method': 'Gauss-Newton', 'Alpha': 0.07, 'remove_coil': False, 'start_avg': False, 'constrain': True, 'Det': 'ID', 'R2': -10.989, 'RMSE': 0.172, 'MAE': 0.15, 'STD': 0.168, '0R2': 0.938, '0RMSE': 0.046, 'R2_INV': 0.9758428471243824}, {'Extract': 0.5, 'Samples location': 'mean', 'Interface': 'log', 'Forward_Model': 'FSeq', 'Minimization_Method': 'Gauss-Newton', 'Alpha': 0.07, 'remove_coil': False, 'start_avg': False, 'constrain': True, 'Det': 'LS', 'R2': -13.782, 'RMSE': 0.192, 'MAE': 0.161, 'STD': 0.188, '0R2': 0.817, '0RMSE': 0.08, 'R2_INV': 0.9758428471243824}]\n",
      "Iteration: 147 Combination: (0.5, 'mean', 'log', 'FSeq', 'Gauss-Newton', 0.07, False, False, False)\n",
      "##################################################################################################################################################################### 02 INVERSION CONFIGURE INPUT ################################################\n",
      "Inversion using FSeq with Gauss-Newton, reg=l2, alpha=0.07\n",
      "15/15 invertedr2inv 0    0.975843\n",
      "Name: all, dtype: object\n",
      "#################################################################################################################################################################### 03 DETERMINISTIC MODELLING ###################################################\n",
      "inv_columns Index(['EC_0.15', 'EC_0.38', 'EC_0.51', 'EC_0.70', 'EC_0.99', 'EC_1.45',\n",
      "       'EC_2.15', 'EC_end'],\n",
      "      dtype='object')\n",
      "current_results [{'Extract': 0.5, 'Samples location': 'mean', 'Interface': 'log', 'Forward_Model': 'FSeq', 'Minimization_Method': 'Gauss-Newton', 'Alpha': 0.07, 'remove_coil': False, 'start_avg': False, 'constrain': False, 'Det': 'LT', 'R2': -14.108, 'RMSE': 0.194, 'MAE': 0.166, 'STD': 0.189, '0R2': 0.821, '0RMSE': 0.08, 'R2_INV': 0.9758428471243824}, {'Extract': 0.5, 'Samples location': 'mean', 'Interface': 'log', 'Forward_Model': 'FSeq', 'Minimization_Method': 'Gauss-Newton', 'Alpha': 0.07, 'remove_coil': False, 'start_avg': False, 'constrain': False, 'Det': 'ID', 'R2': -10.989, 'RMSE': 0.172, 'MAE': 0.15, 'STD': 0.168, '0R2': 0.938, '0RMSE': 0.046, 'R2_INV': 0.9758428471243824}, {'Extract': 0.5, 'Samples location': 'mean', 'Interface': 'log', 'Forward_Model': 'FSeq', 'Minimization_Method': 'Gauss-Newton', 'Alpha': 0.07, 'remove_coil': False, 'start_avg': False, 'constrain': False, 'Det': 'LS', 'R2': -13.782, 'RMSE': 0.192, 'MAE': 0.161, 'STD': 0.188, '0R2': 0.817, '0RMSE': 0.08, 'R2_INV': 0.9758428471243824}]\n",
      "Iteration: 148 Combination: (0.5, 'mean', 'log', 'FSeq', 'Gauss-Newton', 0.2, True, True, True)\n",
      "##################################################################################################################################################################### 02 INVERSION CONFIGURE INPUT ################################################\n",
      "Constrained Inversion using FSeq with Gauss-Newton, reg=l2, alpha=0.2\n",
      "15/15 invertedr2inv 0    0.950538\n",
      "Name: all, dtype: object\n",
      "#################################################################################################################################################################### 03 DETERMINISTIC MODELLING ###################################################\n",
      "inv_columns Index(['EC_0.15', 'EC_0.38', 'EC_0.51', 'EC_0.70', 'EC_0.99', 'EC_1.45',\n",
      "       'EC_2.15', 'EC_end'],\n",
      "      dtype='object')\n",
      "current_results [{'Extract': 0.5, 'Samples location': 'mean', 'Interface': 'log', 'Forward_Model': 'FSeq', 'Minimization_Method': 'Gauss-Newton', 'Alpha': 0.2, 'remove_coil': True, 'start_avg': True, 'constrain': True, 'Det': 'LT', 'R2': -16.127, 'RMSE': 0.206, 'MAE': 0.18, 'STD': 0.198, '0R2': 0.765, '0RMSE': 0.088, 'R2_INV': 0.9505375210051228}, {'Extract': 0.5, 'Samples location': 'mean', 'Interface': 'log', 'Forward_Model': 'FSeq', 'Minimization_Method': 'Gauss-Newton', 'Alpha': 0.2, 'remove_coil': True, 'start_avg': True, 'constrain': True, 'Det': 'ID', 'R2': -13.696, 'RMSE': 0.19, 'MAE': 0.159, 'STD': 0.185, '0R2': 0.925, '0RMSE': 0.054, 'R2_INV': 0.9505375210051228}, {'Extract': 0.5, 'Samples location': 'mean', 'Interface': 'log', 'Forward_Model': 'FSeq', 'Minimization_Method': 'Gauss-Newton', 'Alpha': 0.2, 'remove_coil': True, 'start_avg': True, 'constrain': True, 'Det': 'LS', 'R2': -15.956, 'RMSE': 0.205, 'MAE': 0.178, 'STD': 0.196, '0R2': 0.774, '0RMSE': 0.085, 'R2_INV': 0.9505375210051228}]\n",
      "Iteration: 149 Combination: (0.5, 'mean', 'log', 'FSeq', 'Gauss-Newton', 0.2, True, True, False)\n",
      "##################################################################################################################################################################### 02 INVERSION CONFIGURE INPUT ################################################\n",
      "Inversion using FSeq with Gauss-Newton, reg=l2, alpha=0.2\n",
      "15/15 invertedr2inv 0    0.950538\n",
      "Name: all, dtype: object\n",
      "#################################################################################################################################################################### 03 DETERMINISTIC MODELLING ###################################################\n",
      "inv_columns Index(['EC_0.15', 'EC_0.38', 'EC_0.51', 'EC_0.70', 'EC_0.99', 'EC_1.45',\n",
      "       'EC_2.15', 'EC_end'],\n",
      "      dtype='object')\n",
      "current_results [{'Extract': 0.5, 'Samples location': 'mean', 'Interface': 'log', 'Forward_Model': 'FSeq', 'Minimization_Method': 'Gauss-Newton', 'Alpha': 0.2, 'remove_coil': True, 'start_avg': True, 'constrain': False, 'Det': 'LT', 'R2': -16.127, 'RMSE': 0.206, 'MAE': 0.18, 'STD': 0.198, '0R2': 0.765, '0RMSE': 0.088, 'R2_INV': 0.9505375210051228}, {'Extract': 0.5, 'Samples location': 'mean', 'Interface': 'log', 'Forward_Model': 'FSeq', 'Minimization_Method': 'Gauss-Newton', 'Alpha': 0.2, 'remove_coil': True, 'start_avg': True, 'constrain': False, 'Det': 'ID', 'R2': -13.696, 'RMSE': 0.19, 'MAE': 0.159, 'STD': 0.185, '0R2': 0.925, '0RMSE': 0.054, 'R2_INV': 0.9505375210051228}, {'Extract': 0.5, 'Samples location': 'mean', 'Interface': 'log', 'Forward_Model': 'FSeq', 'Minimization_Method': 'Gauss-Newton', 'Alpha': 0.2, 'remove_coil': True, 'start_avg': True, 'constrain': False, 'Det': 'LS', 'R2': -15.956, 'RMSE': 0.205, 'MAE': 0.178, 'STD': 0.196, '0R2': 0.774, '0RMSE': 0.085, 'R2_INV': 0.9505375210051228}]\n",
      "Iteration: 150 Combination: (0.5, 'mean', 'log', 'FSeq', 'Gauss-Newton', 0.2, True, False, True)\n",
      "##################################################################################################################################################################### 02 INVERSION CONFIGURE INPUT ################################################\n",
      "Constrained Inversion using FSeq with Gauss-Newton, reg=l2, alpha=0.2\n",
      "15/15 invertedr2inv 0    0.949084\n",
      "Name: all, dtype: object\n",
      "#################################################################################################################################################################### 03 DETERMINISTIC MODELLING ###################################################\n",
      "inv_columns Index(['EC_0.15', 'EC_0.38', 'EC_0.51', 'EC_0.70', 'EC_0.99', 'EC_1.45',\n",
      "       'EC_2.15', 'EC_end'],\n",
      "      dtype='object')\n",
      "current_results [{'Extract': 0.5, 'Samples location': 'mean', 'Interface': 'log', 'Forward_Model': 'FSeq', 'Minimization_Method': 'Gauss-Newton', 'Alpha': 0.2, 'remove_coil': True, 'start_avg': False, 'constrain': True, 'Det': 'LT', 'R2': -15.942, 'RMSE': 0.206, 'MAE': 0.176, 'STD': 0.187, '0R2': 0.736, '0RMSE': 0.093, 'R2_INV': 0.9490837959954096}, {'Extract': 0.5, 'Samples location': 'mean', 'Interface': 'log', 'Forward_Model': 'FSeq', 'Minimization_Method': 'Gauss-Newton', 'Alpha': 0.2, 'remove_coil': True, 'start_avg': False, 'constrain': True, 'Det': 'ID', 'R2': -14.156, 'RMSE': 0.194, 'MAE': 0.162, 'STD': 0.174, '0R2': 0.871, '0RMSE': 0.068, 'R2_INV': 0.9490837959954096}, {'Extract': 0.5, 'Samples location': 'mean', 'Interface': 'log', 'Forward_Model': 'FSeq', 'Minimization_Method': 'Gauss-Newton', 'Alpha': 0.2, 'remove_coil': True, 'start_avg': False, 'constrain': True, 'Det': 'LS', 'R2': -15.888, 'RMSE': 0.206, 'MAE': 0.174, 'STD': 0.185, '0R2': 0.74, '0RMSE': 0.094, 'R2_INV': 0.9490837959954096}]\n",
      "Iteration: 151 Combination: (0.5, 'mean', 'log', 'FSeq', 'Gauss-Newton', 0.2, True, False, False)\n",
      "##################################################################################################################################################################### 02 INVERSION CONFIGURE INPUT ################################################\n",
      "Inversion using FSeq with Gauss-Newton, reg=l2, alpha=0.2\n",
      "15/15 invertedr2inv 0    0.949084\n",
      "Name: all, dtype: object\n",
      "#################################################################################################################################################################### 03 DETERMINISTIC MODELLING ###################################################\n",
      "inv_columns Index(['EC_0.15', 'EC_0.38', 'EC_0.51', 'EC_0.70', 'EC_0.99', 'EC_1.45',\n",
      "       'EC_2.15', 'EC_end'],\n",
      "      dtype='object')\n",
      "current_results [{'Extract': 0.5, 'Samples location': 'mean', 'Interface': 'log', 'Forward_Model': 'FSeq', 'Minimization_Method': 'Gauss-Newton', 'Alpha': 0.2, 'remove_coil': True, 'start_avg': False, 'constrain': False, 'Det': 'LT', 'R2': -15.942, 'RMSE': 0.206, 'MAE': 0.176, 'STD': 0.187, '0R2': 0.736, '0RMSE': 0.093, 'R2_INV': 0.9490837959954096}, {'Extract': 0.5, 'Samples location': 'mean', 'Interface': 'log', 'Forward_Model': 'FSeq', 'Minimization_Method': 'Gauss-Newton', 'Alpha': 0.2, 'remove_coil': True, 'start_avg': False, 'constrain': False, 'Det': 'ID', 'R2': -14.156, 'RMSE': 0.194, 'MAE': 0.162, 'STD': 0.174, '0R2': 0.871, '0RMSE': 0.068, 'R2_INV': 0.9490837959954096}, {'Extract': 0.5, 'Samples location': 'mean', 'Interface': 'log', 'Forward_Model': 'FSeq', 'Minimization_Method': 'Gauss-Newton', 'Alpha': 0.2, 'remove_coil': True, 'start_avg': False, 'constrain': False, 'Det': 'LS', 'R2': -15.888, 'RMSE': 0.206, 'MAE': 0.174, 'STD': 0.185, '0R2': 0.74, '0RMSE': 0.094, 'R2_INV': 0.9490837959954096}]\n",
      "Iteration: 152 Combination: (0.5, 'mean', 'log', 'FSeq', 'Gauss-Newton', 0.2, False, True, True)\n",
      "##################################################################################################################################################################### 02 INVERSION CONFIGURE INPUT ################################################\n",
      "Constrained Inversion using FSeq with Gauss-Newton, reg=l2, alpha=0.2\n",
      "15/15 invertedr2inv 0    0.952414\n",
      "Name: all, dtype: object\n",
      "#################################################################################################################################################################### 03 DETERMINISTIC MODELLING ###################################################\n",
      "inv_columns Index(['EC_0.15', 'EC_0.38', 'EC_0.51', 'EC_0.70', 'EC_0.99', 'EC_1.45',\n",
      "       'EC_2.15', 'EC_end'],\n",
      "      dtype='object')\n",
      "current_results [{'Extract': 0.5, 'Samples location': 'mean', 'Interface': 'log', 'Forward_Model': 'FSeq', 'Minimization_Method': 'Gauss-Newton', 'Alpha': 0.2, 'remove_coil': False, 'start_avg': True, 'constrain': True, 'Det': 'LT', 'R2': -15.746, 'RMSE': 0.202, 'MAE': 0.178, 'STD': 0.198, '0R2': 0.812, '0RMSE': 0.08, 'R2_INV': 0.9524140021517814}, {'Extract': 0.5, 'Samples location': 'mean', 'Interface': 'log', 'Forward_Model': 'FSeq', 'Minimization_Method': 'Gauss-Newton', 'Alpha': 0.2, 'remove_coil': False, 'start_avg': True, 'constrain': True, 'Det': 'ID', 'R2': -12.935, 'RMSE': 0.184, 'MAE': 0.155, 'STD': 0.184, '0R2': 0.963, '0RMSE': 0.039, 'R2_INV': 0.9524140021517814}, {'Extract': 0.5, 'Samples location': 'mean', 'Interface': 'log', 'Forward_Model': 'FSeq', 'Minimization_Method': 'Gauss-Newton', 'Alpha': 0.2, 'remove_coil': False, 'start_avg': True, 'constrain': True, 'Det': 'LS', 'R2': -15.518, 'RMSE': 0.2, 'MAE': 0.175, 'STD': 0.196, '0R2': 0.818, '0RMSE': 0.078, 'R2_INV': 0.9524140021517814}]\n",
      "Iteration: 153 Combination: (0.5, 'mean', 'log', 'FSeq', 'Gauss-Newton', 0.2, False, True, False)\n",
      "##################################################################################################################################################################### 02 INVERSION CONFIGURE INPUT ################################################\n",
      "Inversion using FSeq with Gauss-Newton, reg=l2, alpha=0.2\n",
      "15/15 invertedr2inv 0    0.952414\n",
      "Name: all, dtype: object\n",
      "#################################################################################################################################################################### 03 DETERMINISTIC MODELLING ###################################################\n",
      "inv_columns Index(['EC_0.15', 'EC_0.38', 'EC_0.51', 'EC_0.70', 'EC_0.99', 'EC_1.45',\n",
      "       'EC_2.15', 'EC_end'],\n",
      "      dtype='object')\n",
      "current_results [{'Extract': 0.5, 'Samples location': 'mean', 'Interface': 'log', 'Forward_Model': 'FSeq', 'Minimization_Method': 'Gauss-Newton', 'Alpha': 0.2, 'remove_coil': False, 'start_avg': True, 'constrain': False, 'Det': 'LT', 'R2': -15.746, 'RMSE': 0.202, 'MAE': 0.178, 'STD': 0.198, '0R2': 0.812, '0RMSE': 0.08, 'R2_INV': 0.9524140021517814}, {'Extract': 0.5, 'Samples location': 'mean', 'Interface': 'log', 'Forward_Model': 'FSeq', 'Minimization_Method': 'Gauss-Newton', 'Alpha': 0.2, 'remove_coil': False, 'start_avg': True, 'constrain': False, 'Det': 'ID', 'R2': -12.935, 'RMSE': 0.184, 'MAE': 0.155, 'STD': 0.184, '0R2': 0.963, '0RMSE': 0.039, 'R2_INV': 0.9524140021517814}, {'Extract': 0.5, 'Samples location': 'mean', 'Interface': 'log', 'Forward_Model': 'FSeq', 'Minimization_Method': 'Gauss-Newton', 'Alpha': 0.2, 'remove_coil': False, 'start_avg': True, 'constrain': False, 'Det': 'LS', 'R2': -15.518, 'RMSE': 0.2, 'MAE': 0.175, 'STD': 0.196, '0R2': 0.818, '0RMSE': 0.078, 'R2_INV': 0.9524140021517814}]\n",
      "Iteration: 154 Combination: (0.5, 'mean', 'log', 'FSeq', 'Gauss-Newton', 0.2, False, False, True)\n",
      "##################################################################################################################################################################### 02 INVERSION CONFIGURE INPUT ################################################\n",
      "Constrained Inversion using FSeq with Gauss-Newton, reg=l2, alpha=0.2\n",
      "15/15 invertedr2inv 0    0.952622\n",
      "Name: all, dtype: object\n",
      "#################################################################################################################################################################### 03 DETERMINISTIC MODELLING ###################################################\n",
      "inv_columns Index(['EC_0.15', 'EC_0.38', 'EC_0.51', 'EC_0.70', 'EC_0.99', 'EC_1.45',\n",
      "       'EC_2.15', 'EC_end'],\n",
      "      dtype='object')\n",
      "current_results [{'Extract': 0.5, 'Samples location': 'mean', 'Interface': 'log', 'Forward_Model': 'FSeq', 'Minimization_Method': 'Gauss-Newton', 'Alpha': 0.2, 'remove_coil': False, 'start_avg': False, 'constrain': True, 'Det': 'LT', 'R2': -15.439, 'RMSE': 0.202, 'MAE': 0.174, 'STD': 0.19, '0R2': 0.788, '0RMSE': 0.084, 'R2_INV': 0.9526223843959064}, {'Extract': 0.5, 'Samples location': 'mean', 'Interface': 'log', 'Forward_Model': 'FSeq', 'Minimization_Method': 'Gauss-Newton', 'Alpha': 0.2, 'remove_coil': False, 'start_avg': False, 'constrain': True, 'Det': 'ID', 'R2': -13.13, 'RMSE': 0.187, 'MAE': 0.153, 'STD': 0.175, '0R2': 0.93, '0RMSE': 0.051, 'R2_INV': 0.9526223843959064}, {'Extract': 0.5, 'Samples location': 'mean', 'Interface': 'log', 'Forward_Model': 'FSeq', 'Minimization_Method': 'Gauss-Newton', 'Alpha': 0.2, 'remove_coil': False, 'start_avg': False, 'constrain': True, 'Det': 'LS', 'R2': -15.269, 'RMSE': 0.2, 'MAE': 0.173, 'STD': 0.19, '0R2': 0.79, '0RMSE': 0.084, 'R2_INV': 0.9526223843959064}]\n",
      "Iteration: 155 Combination: (0.5, 'mean', 'log', 'FSeq', 'Gauss-Newton', 0.2, False, False, False)\n",
      "##################################################################################################################################################################### 02 INVERSION CONFIGURE INPUT ################################################\n",
      "Inversion using FSeq with Gauss-Newton, reg=l2, alpha=0.2\n",
      "15/15 invertedr2inv 0    0.952622\n",
      "Name: all, dtype: object\n",
      "#################################################################################################################################################################### 03 DETERMINISTIC MODELLING ###################################################\n",
      "inv_columns Index(['EC_0.15', 'EC_0.38', 'EC_0.51', 'EC_0.70', 'EC_0.99', 'EC_1.45',\n",
      "       'EC_2.15', 'EC_end'],\n",
      "      dtype='object')\n",
      "current_results [{'Extract': 0.5, 'Samples location': 'mean', 'Interface': 'log', 'Forward_Model': 'FSeq', 'Minimization_Method': 'Gauss-Newton', 'Alpha': 0.2, 'remove_coil': False, 'start_avg': False, 'constrain': False, 'Det': 'LT', 'R2': -15.439, 'RMSE': 0.202, 'MAE': 0.174, 'STD': 0.19, '0R2': 0.788, '0RMSE': 0.084, 'R2_INV': 0.9526223843959064}, {'Extract': 0.5, 'Samples location': 'mean', 'Interface': 'log', 'Forward_Model': 'FSeq', 'Minimization_Method': 'Gauss-Newton', 'Alpha': 0.2, 'remove_coil': False, 'start_avg': False, 'constrain': False, 'Det': 'ID', 'R2': -13.13, 'RMSE': 0.187, 'MAE': 0.153, 'STD': 0.175, '0R2': 0.93, '0RMSE': 0.051, 'R2_INV': 0.9526223843959064}, {'Extract': 0.5, 'Samples location': 'mean', 'Interface': 'log', 'Forward_Model': 'FSeq', 'Minimization_Method': 'Gauss-Newton', 'Alpha': 0.2, 'remove_coil': False, 'start_avg': False, 'constrain': False, 'Det': 'LS', 'R2': -15.269, 'RMSE': 0.2, 'MAE': 0.173, 'STD': 0.19, '0R2': 0.79, '0RMSE': 0.084, 'R2_INV': 0.9526223843959064}]\n",
      "Iteration: 156 Combination: (0.5, 'mean', 'log', 'FSeq', 'ROPE', 0.01, True, True, True)\n",
      "##################################################################################################################################################################### 02 INVERSION CONFIGURE INPUT ################################################\n"
     ]
    },
    {
     "name": "stderr",
     "output_type": "stream",
     "text": [
      "100%|██████████| 15/15 [00:00<00:00, 14961.85it/s]"
     ]
    },
    {
     "name": "stdout",
     "output_type": "stream",
     "text": [
      "Constrained inversion using FSeq with ROPE, reg=l2, alpha=0.01\n"
     ]
    },
    {
     "name": "stderr",
     "output_type": "stream",
     "text": [
      "\n"
     ]
    },
    {
     "name": "stdout",
     "output_type": "stream",
     "text": [
      "Error in // inversion: Failed to converge after 50 iterations, value is 0.8431963515879367.\n",
      "CRASH\n",
      "Iteration: 156 Combination: (0.5, 'mean', 'log', 'FSeq', 'ROPE', 0.01, True, True, False)\n",
      "##################################################################################################################################################################### 02 INVERSION CONFIGURE INPUT ################################################\n"
     ]
    },
    {
     "name": "stderr",
     "output_type": "stream",
     "text": [
      "100%|██████████| 15/15 [00:00<00:00, 5002.35it/s]"
     ]
    },
    {
     "name": "stdout",
     "output_type": "stream",
     "text": [
      "Inversion using FSeq with ROPE, reg=l2, alpha=0.01\n"
     ]
    },
    {
     "name": "stderr",
     "output_type": "stream",
     "text": [
      "\n"
     ]
    },
    {
     "name": "stdout",
     "output_type": "stream",
     "text": [
      "r2inv 0   -167.625033\n",
      "Name: all, dtype: object\n",
      "FAILED\n",
      "Iteration: 157 Combination: (0.5, 'mean', 'log', 'FSeq', 'ROPE', 0.01, True, False, True)\n",
      "##################################################################################################################################################################### 02 INVERSION CONFIGURE INPUT ################################################\n"
     ]
    },
    {
     "name": "stderr",
     "output_type": "stream",
     "text": [
      "100%|██████████| 15/15 [00:00<00:00, 15011.83it/s]"
     ]
    },
    {
     "name": "stdout",
     "output_type": "stream",
     "text": [
      "Constrained inversion using FSeq with ROPE, reg=l2, alpha=0.01\n"
     ]
    },
    {
     "name": "stderr",
     "output_type": "stream",
     "text": [
      "\n"
     ]
    },
    {
     "name": "stdout",
     "output_type": "stream",
     "text": [
      "Error in // inversion: Tolerance of 5.755906312936705e+31 reached. Failed to converge after 19 iterations, value is 5.755906312967201e+31.\n",
      "CRASH\n",
      "Iteration: 157 Combination: (0.5, 'mean', 'log', 'FSeq', 'ROPE', 0.01, True, False, False)\n",
      "##################################################################################################################################################################### 02 INVERSION CONFIGURE INPUT ################################################\n"
     ]
    },
    {
     "name": "stderr",
     "output_type": "stream",
     "text": [
      "100%|██████████| 15/15 [00:00<00:00, 7622.31it/s]"
     ]
    },
    {
     "name": "stdout",
     "output_type": "stream",
     "text": [
      "Inversion using FSeq with ROPE, reg=l2, alpha=0.01\n"
     ]
    },
    {
     "name": "stderr",
     "output_type": "stream",
     "text": [
      "\n"
     ]
    },
    {
     "name": "stdout",
     "output_type": "stream",
     "text": [
      "r2inv 0   -186.370247\n",
      "Name: all, dtype: object\n",
      "FAILED\n",
      "Iteration: 158 Combination: (0.5, 'mean', 'log', 'FSeq', 'ROPE', 0.01, False, True, True)\n",
      "##################################################################################################################################################################### 02 INVERSION CONFIGURE INPUT ################################################\n"
     ]
    },
    {
     "name": "stderr",
     "output_type": "stream",
     "text": [
      "100%|██████████| 15/15 [00:00<?, ?it/s]"
     ]
    },
    {
     "name": "stdout",
     "output_type": "stream",
     "text": [
      "Constrained inversion using FSeq with ROPE, reg=l2, alpha=0.01\n"
     ]
    },
    {
     "name": "stderr",
     "output_type": "stream",
     "text": [
      "\n"
     ]
    },
    {
     "name": "stdout",
     "output_type": "stream",
     "text": [
      "Error in // inversion: Failed to converge after 50 iterations, value is -0.05299698295909015.\n",
      "CRASH\n",
      "Iteration: 158 Combination: (0.5, 'mean', 'log', 'FSeq', 'ROPE', 0.01, False, True, False)\n",
      "##################################################################################################################################################################### 02 INVERSION CONFIGURE INPUT ################################################\n"
     ]
    },
    {
     "name": "stderr",
     "output_type": "stream",
     "text": [
      "100%|██████████| 15/15 [00:00<00:00, 7296.98it/s]"
     ]
    },
    {
     "name": "stdout",
     "output_type": "stream",
     "text": [
      "Inversion using FSeq with ROPE, reg=l2, alpha=0.01\n"
     ]
    },
    {
     "name": "stderr",
     "output_type": "stream",
     "text": [
      "\n"
     ]
    },
    {
     "name": "stdout",
     "output_type": "stream",
     "text": [
      "r2inv 0   -204.354348\n",
      "Name: all, dtype: object\n",
      "FAILED\n",
      "Iteration: 159 Combination: (0.5, 'mean', 'log', 'FSeq', 'ROPE', 0.01, False, False, True)\n",
      "##################################################################################################################################################################### 02 INVERSION CONFIGURE INPUT ################################################\n"
     ]
    },
    {
     "name": "stderr",
     "output_type": "stream",
     "text": [
      "100%|██████████| 15/15 [00:00<00:00, 14420.02it/s]"
     ]
    },
    {
     "name": "stdout",
     "output_type": "stream",
     "text": [
      "Constrained inversion using FSeq with ROPE, reg=l2, alpha=0.01\n"
     ]
    },
    {
     "name": "stderr",
     "output_type": "stream",
     "text": [
      "\n"
     ]
    },
    {
     "name": "stdout",
     "output_type": "stream",
     "text": [
      "Error in // inversion: Failed to converge after 50 iterations, value is 1.7096907266466546.\n",
      "CRASH\n",
      "Iteration: 159 Combination: (0.5, 'mean', 'log', 'FSeq', 'ROPE', 0.01, False, False, False)\n",
      "##################################################################################################################################################################### 02 INVERSION CONFIGURE INPUT ################################################\n"
     ]
    },
    {
     "name": "stderr",
     "output_type": "stream",
     "text": [
      "100%|██████████| 15/15 [00:00<00:00, 4956.63it/s]"
     ]
    },
    {
     "name": "stdout",
     "output_type": "stream",
     "text": [
      "Inversion using FSeq with ROPE, reg=l2, alpha=0.01\n"
     ]
    },
    {
     "name": "stderr",
     "output_type": "stream",
     "text": [
      "\n"
     ]
    },
    {
     "name": "stdout",
     "output_type": "stream",
     "text": [
      "r2inv 0   -257.182161\n",
      "Name: all, dtype: object\n",
      "FAILED\n",
      "Iteration: 160 Combination: (0.5, 'mean', 'log', 'FSeq', 'ROPE', 0.07, True, True, True)\n",
      "##################################################################################################################################################################### 02 INVERSION CONFIGURE INPUT ################################################\n"
     ]
    },
    {
     "name": "stderr",
     "output_type": "stream",
     "text": [
      "100%|██████████| 15/15 [00:00<00:00, 15069.36it/s]"
     ]
    },
    {
     "name": "stdout",
     "output_type": "stream",
     "text": [
      "Constrained inversion using FSeq with ROPE, reg=l2, alpha=0.07\n"
     ]
    },
    {
     "name": "stderr",
     "output_type": "stream",
     "text": [
      "\n"
     ]
    },
    {
     "name": "stdout",
     "output_type": "stream",
     "text": [
      "Error in // inversion: Failed to converge after 50 iterations, value is 1.2172110836636152.\n",
      "CRASH\n",
      "Iteration: 160 Combination: (0.5, 'mean', 'log', 'FSeq', 'ROPE', 0.07, True, True, False)\n",
      "##################################################################################################################################################################### 02 INVERSION CONFIGURE INPUT ################################################\n"
     ]
    },
    {
     "name": "stderr",
     "output_type": "stream",
     "text": [
      "100%|██████████| 15/15 [00:00<00:00, 4957.02it/s]"
     ]
    },
    {
     "name": "stdout",
     "output_type": "stream",
     "text": [
      "Inversion using FSeq with ROPE, reg=l2, alpha=0.07\n"
     ]
    },
    {
     "name": "stderr",
     "output_type": "stream",
     "text": [
      "\n"
     ]
    },
    {
     "name": "stdout",
     "output_type": "stream",
     "text": [
      "r2inv 0   -184.843661\n",
      "Name: all, dtype: object\n",
      "FAILED\n",
      "Iteration: 161 Combination: (0.5, 'mean', 'log', 'FSeq', 'ROPE', 0.07, True, False, True)\n",
      "##################################################################################################################################################################### 02 INVERSION CONFIGURE INPUT ################################################\n"
     ]
    },
    {
     "name": "stderr",
     "output_type": "stream",
     "text": [
      "100%|██████████| 15/15 [00:00<00:00, 15196.75it/s]"
     ]
    },
    {
     "name": "stdout",
     "output_type": "stream",
     "text": [
      "Constrained inversion using FSeq with ROPE, reg=l2, alpha=0.07\n"
     ]
    },
    {
     "name": "stderr",
     "output_type": "stream",
     "text": [
      "\n"
     ]
    },
    {
     "name": "stdout",
     "output_type": "stream",
     "text": [
      "Error in // inversion: Failed to converge after 50 iterations, value is 1.3961268633897543.\n",
      "CRASH\n",
      "Iteration: 161 Combination: (0.5, 'mean', 'log', 'FSeq', 'ROPE', 0.07, True, False, False)\n",
      "##################################################################################################################################################################### 02 INVERSION CONFIGURE INPUT ################################################\n"
     ]
    },
    {
     "name": "stderr",
     "output_type": "stream",
     "text": [
      "100%|██████████| 15/15 [00:00<00:00, 7574.59it/s]"
     ]
    },
    {
     "name": "stdout",
     "output_type": "stream",
     "text": [
      "Inversion using FSeq with ROPE, reg=l2, alpha=0.07\n"
     ]
    },
    {
     "name": "stderr",
     "output_type": "stream",
     "text": [
      "\n"
     ]
    },
    {
     "name": "stdout",
     "output_type": "stream",
     "text": [
      "r2inv 0   -201.991408\n",
      "Name: all, dtype: object\n",
      "FAILED\n",
      "Iteration: 162 Combination: (0.5, 'mean', 'log', 'FSeq', 'ROPE', 0.07, False, True, True)\n",
      "##################################################################################################################################################################### 02 INVERSION CONFIGURE INPUT ################################################\n"
     ]
    },
    {
     "name": "stderr",
     "output_type": "stream",
     "text": [
      "100%|██████████| 15/15 [00:00<00:00, 14597.35it/s]"
     ]
    },
    {
     "name": "stdout",
     "output_type": "stream",
     "text": [
      "Constrained inversion using FSeq with ROPE, reg=l2, alpha=0.07\n"
     ]
    },
    {
     "name": "stderr",
     "output_type": "stream",
     "text": [
      "\n"
     ]
    },
    {
     "name": "stdout",
     "output_type": "stream",
     "text": [
      "Error in // inversion: Failed to converge after 50 iterations, value is 0.8612850438834458.\n",
      "CRASH\n",
      "Iteration: 162 Combination: (0.5, 'mean', 'log', 'FSeq', 'ROPE', 0.07, False, True, False)\n",
      "##################################################################################################################################################################### 02 INVERSION CONFIGURE INPUT ################################################\n"
     ]
    },
    {
     "name": "stderr",
     "output_type": "stream",
     "text": [
      "100%|██████████| 15/15 [00:00<00:00, 4997.98it/s]"
     ]
    },
    {
     "name": "stdout",
     "output_type": "stream",
     "text": [
      "Inversion using FSeq with ROPE, reg=l2, alpha=0.07\n"
     ]
    },
    {
     "name": "stderr",
     "output_type": "stream",
     "text": [
      "\n"
     ]
    },
    {
     "name": "stdout",
     "output_type": "stream",
     "text": [
      "r2inv 0   -208.599716\n",
      "Name: all, dtype: object\n",
      "FAILED\n",
      "Iteration: 163 Combination: (0.5, 'mean', 'log', 'FSeq', 'ROPE', 0.07, False, False, True)\n",
      "##################################################################################################################################################################### 02 INVERSION CONFIGURE INPUT ################################################\n"
     ]
    },
    {
     "name": "stderr",
     "output_type": "stream",
     "text": [
      "100%|██████████| 15/15 [00:00<00:00, 15008.24it/s]"
     ]
    },
    {
     "name": "stdout",
     "output_type": "stream",
     "text": [
      "Constrained inversion using FSeq with ROPE, reg=l2, alpha=0.07\n"
     ]
    },
    {
     "name": "stderr",
     "output_type": "stream",
     "text": [
      "\n"
     ]
    },
    {
     "name": "stdout",
     "output_type": "stream",
     "text": [
      "Error in // inversion: Failed to converge after 50 iterations, value is -1.3375338733697166.\n",
      "CRASH\n",
      "Iteration: 163 Combination: (0.5, 'mean', 'log', 'FSeq', 'ROPE', 0.07, False, False, False)\n",
      "##################################################################################################################################################################### 02 INVERSION CONFIGURE INPUT ################################################\n"
     ]
    },
    {
     "name": "stderr",
     "output_type": "stream",
     "text": [
      "100%|██████████| 15/15 [00:00<00:00, 5051.76it/s]"
     ]
    },
    {
     "name": "stdout",
     "output_type": "stream",
     "text": [
      "Inversion using FSeq with ROPE, reg=l2, alpha=0.07\n"
     ]
    },
    {
     "name": "stderr",
     "output_type": "stream",
     "text": [
      "\n"
     ]
    },
    {
     "name": "stdout",
     "output_type": "stream",
     "text": [
      "r2inv 0   -209.346744\n",
      "Name: all, dtype: object\n",
      "FAILED\n",
      "Iteration: 164 Combination: (0.5, 'mean', 'log', 'FSeq', 'ROPE', 0.2, True, True, True)\n",
      "##################################################################################################################################################################### 02 INVERSION CONFIGURE INPUT ################################################\n"
     ]
    },
    {
     "name": "stderr",
     "output_type": "stream",
     "text": [
      "100%|██████████| 15/15 [00:00<00:00, 14754.82it/s]"
     ]
    },
    {
     "name": "stdout",
     "output_type": "stream",
     "text": [
      "Constrained inversion using FSeq with ROPE, reg=l2, alpha=0.2\n"
     ]
    },
    {
     "name": "stderr",
     "output_type": "stream",
     "text": [
      "\n"
     ]
    },
    {
     "name": "stdout",
     "output_type": "stream",
     "text": [
      "Error in // inversion: Failed to converge after 50 iterations, value is 1.1721993064688911.\n",
      "CRASH\n",
      "Iteration: 164 Combination: (0.5, 'mean', 'log', 'FSeq', 'ROPE', 0.2, True, True, False)\n",
      "##################################################################################################################################################################### 02 INVERSION CONFIGURE INPUT ################################################\n"
     ]
    },
    {
     "name": "stderr",
     "output_type": "stream",
     "text": [
      "100%|██████████| 15/15 [00:00<00:00, 4992.43it/s]"
     ]
    },
    {
     "name": "stdout",
     "output_type": "stream",
     "text": [
      "Inversion using FSeq with ROPE, reg=l2, alpha=0.2\n"
     ]
    },
    {
     "name": "stderr",
     "output_type": "stream",
     "text": [
      "\n"
     ]
    },
    {
     "name": "stdout",
     "output_type": "stream",
     "text": [
      "r2inv 0   -185.401883\n",
      "Name: all, dtype: object\n",
      "FAILED\n",
      "Iteration: 165 Combination: (0.5, 'mean', 'log', 'FSeq', 'ROPE', 0.2, True, False, True)\n",
      "##################################################################################################################################################################### 02 INVERSION CONFIGURE INPUT ################################################\n"
     ]
    },
    {
     "name": "stderr",
     "output_type": "stream",
     "text": [
      "100%|██████████| 15/15 [00:00<?, ?it/s]"
     ]
    },
    {
     "name": "stdout",
     "output_type": "stream",
     "text": [
      "Constrained inversion using FSeq with ROPE, reg=l2, alpha=0.2\n"
     ]
    },
    {
     "name": "stderr",
     "output_type": "stream",
     "text": [
      "\n"
     ]
    },
    {
     "name": "stdout",
     "output_type": "stream",
     "text": [
      "Error in // inversion: Failed to converge after 50 iterations, value is 1.5551586509819133.\n",
      "CRASH\n",
      "Iteration: 165 Combination: (0.5, 'mean', 'log', 'FSeq', 'ROPE', 0.2, True, False, False)\n",
      "##################################################################################################################################################################### 02 INVERSION CONFIGURE INPUT ################################################\n"
     ]
    },
    {
     "name": "stderr",
     "output_type": "stream",
     "text": [
      "100%|██████████| 15/15 [00:00<00:00, 4980.57it/s]"
     ]
    },
    {
     "name": "stdout",
     "output_type": "stream",
     "text": [
      "Inversion using FSeq with ROPE, reg=l2, alpha=0.2\n"
     ]
    },
    {
     "name": "stderr",
     "output_type": "stream",
     "text": [
      "\n"
     ]
    },
    {
     "name": "stdout",
     "output_type": "stream",
     "text": [
      "r2inv 0   -195.219711\n",
      "Name: all, dtype: object\n",
      "FAILED\n",
      "Iteration: 166 Combination: (0.5, 'mean', 'log', 'FSeq', 'ROPE', 0.2, False, True, True)\n",
      "##################################################################################################################################################################### 02 INVERSION CONFIGURE INPUT ################################################\n"
     ]
    },
    {
     "name": "stderr",
     "output_type": "stream",
     "text": [
      "100%|██████████| 15/15 [00:00<00:00, 15008.24it/s]"
     ]
    },
    {
     "name": "stdout",
     "output_type": "stream",
     "text": [
      "Constrained inversion using FSeq with ROPE, reg=l2, alpha=0.2\n"
     ]
    },
    {
     "name": "stderr",
     "output_type": "stream",
     "text": [
      "\n"
     ]
    },
    {
     "name": "stdout",
     "output_type": "stream",
     "text": [
      "Error in // inversion: Failed to converge after 50 iterations, value is 0.4351470053669952.\n",
      "CRASH\n",
      "Iteration: 166 Combination: (0.5, 'mean', 'log', 'FSeq', 'ROPE', 0.2, False, True, False)\n",
      "##################################################################################################################################################################### 02 INVERSION CONFIGURE INPUT ################################################\n"
     ]
    },
    {
     "name": "stderr",
     "output_type": "stream",
     "text": [
      "100%|██████████| 15/15 [00:00<00:00, 4272.35it/s]"
     ]
    },
    {
     "name": "stdout",
     "output_type": "stream",
     "text": [
      "Inversion using FSeq with ROPE, reg=l2, alpha=0.2\n"
     ]
    },
    {
     "name": "stderr",
     "output_type": "stream",
     "text": [
      "\n"
     ]
    },
    {
     "name": "stdout",
     "output_type": "stream",
     "text": [
      "r2inv 0   -222.050845\n",
      "Name: all, dtype: object\n",
      "FAILED\n",
      "Iteration: 167 Combination: (0.5, 'mean', 'log', 'FSeq', 'ROPE', 0.2, False, False, True)\n",
      "##################################################################################################################################################################### 02 INVERSION CONFIGURE INPUT ################################################\n"
     ]
    },
    {
     "name": "stderr",
     "output_type": "stream",
     "text": [
      "100%|██████████| 15/15 [00:00<00:00, 15469.53it/s]"
     ]
    },
    {
     "name": "stdout",
     "output_type": "stream",
     "text": [
      "Constrained inversion using FSeq with ROPE, reg=l2, alpha=0.2\n"
     ]
    },
    {
     "name": "stderr",
     "output_type": "stream",
     "text": [
      "\n"
     ]
    },
    {
     "name": "stdout",
     "output_type": "stream",
     "text": [
      "Error in // inversion: Failed to converge after 50 iterations, value is 1.4455761122356339.\n",
      "CRASH\n",
      "Iteration: 167 Combination: (0.5, 'mean', 'log', 'FSeq', 'ROPE', 0.2, False, False, False)\n",
      "##################################################################################################################################################################### 02 INVERSION CONFIGURE INPUT ################################################\n"
     ]
    },
    {
     "name": "stderr",
     "output_type": "stream",
     "text": [
      "100%|██████████| 15/15 [00:00<00:00, 3749.82it/s]"
     ]
    },
    {
     "name": "stdout",
     "output_type": "stream",
     "text": [
      "Inversion using FSeq with ROPE, reg=l2, alpha=0.2\n"
     ]
    },
    {
     "name": "stderr",
     "output_type": "stream",
     "text": [
      "\n"
     ]
    },
    {
     "name": "stdout",
     "output_type": "stream",
     "text": [
      "r2inv 0   -224.245259\n",
      "Name: all, dtype: object\n",
      "FAILED\n",
      "Iteration: 168 Combination: (0.5, 'mean', 'log', 'CS', 'Gauss-Newton', 0.01, True, True, True)\n",
      "##################################################################################################################################################################### 02 INVERSION CONFIGURE INPUT ################################################\n",
      "Constrained Inversion using CS with Gauss-Newton, reg=l2, alpha=0.01\n",
      "Survey 1/1\n",
      "15/15 inverted\n",
      "r2inv 0    0.955641\n",
      "Name: all, dtype: object\n",
      "#################################################################################################################################################################### 03 DETERMINISTIC MODELLING ###################################################\n",
      "inv_columns Index(['EC_0.15', 'EC_0.38', 'EC_0.51', 'EC_0.70', 'EC_0.99', 'EC_1.45',\n",
      "       'EC_2.15', 'EC_end'],\n",
      "      dtype='object')\n",
      "current_results [{'Extract': 0.5, 'Samples location': 'mean', 'Interface': 'log', 'Forward_Model': 'CS', 'Minimization_Method': 'Gauss-Newton', 'Alpha': 0.01, 'remove_coil': True, 'start_avg': True, 'constrain': True, 'Det': 'LT', 'R2': -23.042, 'RMSE': 0.254, 'MAE': 0.229, 'STD': 0.218, '0R2': -1.22, '0RMSE': 0.296, 'R2_INV': 0.9556408718862748}, {'Extract': 0.5, 'Samples location': 'mean', 'Interface': 'log', 'Forward_Model': 'CS', 'Minimization_Method': 'Gauss-Newton', 'Alpha': 0.01, 'remove_coil': True, 'start_avg': True, 'constrain': True, 'Det': 'ID', 'R2': -22.994, 'RMSE': 0.254, 'MAE': 0.224, 'STD': 0.228, '0R2': -1.2, '0RMSE': 0.294, 'R2_INV': 0.9556408718862748}, {'Extract': 0.5, 'Samples location': 'mean', 'Interface': 'log', 'Forward_Model': 'CS', 'Minimization_Method': 'Gauss-Newton', 'Alpha': 0.01, 'remove_coil': True, 'start_avg': True, 'constrain': True, 'Det': 'LS', 'R2': -22.868, 'RMSE': 0.254, 'MAE': 0.228, 'STD': 0.222, '0R2': -1.243, '0RMSE': 0.297, 'R2_INV': 0.9556408718862748}]\n",
      "Iteration: 169 Combination: (0.5, 'mean', 'log', 'CS', 'Gauss-Newton', 0.01, True, True, False)\n",
      "##################################################################################################################################################################### 02 INVERSION CONFIGURE INPUT ################################################\n",
      "Inversion using CS with Gauss-Newton, reg=l2, alpha=0.01\n",
      "Survey 1/1\n",
      "15/15 inverted\n",
      "r2inv 0    0.955641\n",
      "Name: all, dtype: object\n",
      "#################################################################################################################################################################### 03 DETERMINISTIC MODELLING ###################################################\n",
      "inv_columns Index(['EC_0.15', 'EC_0.38', 'EC_0.51', 'EC_0.70', 'EC_0.99', 'EC_1.45',\n",
      "       'EC_2.15', 'EC_end'],\n",
      "      dtype='object')\n",
      "current_results [{'Extract': 0.5, 'Samples location': 'mean', 'Interface': 'log', 'Forward_Model': 'CS', 'Minimization_Method': 'Gauss-Newton', 'Alpha': 0.01, 'remove_coil': True, 'start_avg': True, 'constrain': False, 'Det': 'LT', 'R2': -23.042, 'RMSE': 0.254, 'MAE': 0.229, 'STD': 0.218, '0R2': -1.22, '0RMSE': 0.296, 'R2_INV': 0.9556408718862748}, {'Extract': 0.5, 'Samples location': 'mean', 'Interface': 'log', 'Forward_Model': 'CS', 'Minimization_Method': 'Gauss-Newton', 'Alpha': 0.01, 'remove_coil': True, 'start_avg': True, 'constrain': False, 'Det': 'ID', 'R2': -22.994, 'RMSE': 0.254, 'MAE': 0.224, 'STD': 0.228, '0R2': -1.2, '0RMSE': 0.294, 'R2_INV': 0.9556408718862748}, {'Extract': 0.5, 'Samples location': 'mean', 'Interface': 'log', 'Forward_Model': 'CS', 'Minimization_Method': 'Gauss-Newton', 'Alpha': 0.01, 'remove_coil': True, 'start_avg': True, 'constrain': False, 'Det': 'LS', 'R2': -22.868, 'RMSE': 0.254, 'MAE': 0.228, 'STD': 0.222, '0R2': -1.243, '0RMSE': 0.297, 'R2_INV': 0.9556408718862748}]\n",
      "Iteration: 170 Combination: (0.5, 'mean', 'log', 'CS', 'Gauss-Newton', 0.01, True, False, True)\n",
      "##################################################################################################################################################################### 02 INVERSION CONFIGURE INPUT ################################################\n",
      "Constrained Inversion using CS with Gauss-Newton, reg=l2, alpha=0.01\n",
      "Survey 1/1\n",
      "15/15 inverted\n",
      "r2inv 0    0.955641\n",
      "Name: all, dtype: object\n",
      "#################################################################################################################################################################### 03 DETERMINISTIC MODELLING ###################################################\n",
      "inv_columns Index(['EC_0.15', 'EC_0.38', 'EC_0.51', 'EC_0.70', 'EC_0.99', 'EC_1.45',\n",
      "       'EC_2.15', 'EC_end'],\n",
      "      dtype='object')\n",
      "current_results [{'Extract': 0.5, 'Samples location': 'mean', 'Interface': 'log', 'Forward_Model': 'CS', 'Minimization_Method': 'Gauss-Newton', 'Alpha': 0.01, 'remove_coil': True, 'start_avg': False, 'constrain': True, 'Det': 'LT', 'R2': -23.042, 'RMSE': 0.254, 'MAE': 0.229, 'STD': 0.218, '0R2': -1.22, '0RMSE': 0.296, 'R2_INV': 0.9556408718862748}, {'Extract': 0.5, 'Samples location': 'mean', 'Interface': 'log', 'Forward_Model': 'CS', 'Minimization_Method': 'Gauss-Newton', 'Alpha': 0.01, 'remove_coil': True, 'start_avg': False, 'constrain': True, 'Det': 'ID', 'R2': -22.994, 'RMSE': 0.254, 'MAE': 0.224, 'STD': 0.228, '0R2': -1.2, '0RMSE': 0.294, 'R2_INV': 0.9556408718862748}, {'Extract': 0.5, 'Samples location': 'mean', 'Interface': 'log', 'Forward_Model': 'CS', 'Minimization_Method': 'Gauss-Newton', 'Alpha': 0.01, 'remove_coil': True, 'start_avg': False, 'constrain': True, 'Det': 'LS', 'R2': -22.868, 'RMSE': 0.254, 'MAE': 0.228, 'STD': 0.222, '0R2': -1.243, '0RMSE': 0.297, 'R2_INV': 0.9556408718862748}]\n",
      "Iteration: 171 Combination: (0.5, 'mean', 'log', 'CS', 'Gauss-Newton', 0.01, True, False, False)\n",
      "##################################################################################################################################################################### 02 INVERSION CONFIGURE INPUT ################################################\n",
      "Inversion using CS with Gauss-Newton, reg=l2, alpha=0.01\n",
      "Survey 1/1\n",
      "15/15 inverted\n",
      "r2inv 0    0.955641\n",
      "Name: all, dtype: object\n",
      "#################################################################################################################################################################### 03 DETERMINISTIC MODELLING ###################################################\n",
      "inv_columns Index(['EC_0.15', 'EC_0.38', 'EC_0.51', 'EC_0.70', 'EC_0.99', 'EC_1.45',\n",
      "       'EC_2.15', 'EC_end'],\n",
      "      dtype='object')\n",
      "current_results [{'Extract': 0.5, 'Samples location': 'mean', 'Interface': 'log', 'Forward_Model': 'CS', 'Minimization_Method': 'Gauss-Newton', 'Alpha': 0.01, 'remove_coil': True, 'start_avg': False, 'constrain': False, 'Det': 'LT', 'R2': -23.042, 'RMSE': 0.254, 'MAE': 0.229, 'STD': 0.218, '0R2': -1.22, '0RMSE': 0.296, 'R2_INV': 0.9556408718862748}, {'Extract': 0.5, 'Samples location': 'mean', 'Interface': 'log', 'Forward_Model': 'CS', 'Minimization_Method': 'Gauss-Newton', 'Alpha': 0.01, 'remove_coil': True, 'start_avg': False, 'constrain': False, 'Det': 'ID', 'R2': -22.994, 'RMSE': 0.254, 'MAE': 0.224, 'STD': 0.228, '0R2': -1.2, '0RMSE': 0.294, 'R2_INV': 0.9556408718862748}, {'Extract': 0.5, 'Samples location': 'mean', 'Interface': 'log', 'Forward_Model': 'CS', 'Minimization_Method': 'Gauss-Newton', 'Alpha': 0.01, 'remove_coil': True, 'start_avg': False, 'constrain': False, 'Det': 'LS', 'R2': -22.868, 'RMSE': 0.254, 'MAE': 0.228, 'STD': 0.222, '0R2': -1.243, '0RMSE': 0.297, 'R2_INV': 0.9556408718862748}]\n",
      "Iteration: 172 Combination: (0.5, 'mean', 'log', 'CS', 'Gauss-Newton', 0.01, False, True, True)\n",
      "##################################################################################################################################################################### 02 INVERSION CONFIGURE INPUT ################################################\n",
      "Constrained Inversion using CS with Gauss-Newton, reg=l2, alpha=0.01\n",
      "Survey 1/1\n",
      "15/15 inverted\n",
      "r2inv 0    0.950083\n",
      "Name: all, dtype: object\n",
      "#################################################################################################################################################################### 03 DETERMINISTIC MODELLING ###################################################\n",
      "inv_columns Index(['EC_0.15', 'EC_0.38', 'EC_0.51', 'EC_0.70', 'EC_0.99', 'EC_1.45',\n",
      "       'EC_2.15', 'EC_end'],\n",
      "      dtype='object')\n",
      "current_results [{'Extract': 0.5, 'Samples location': 'mean', 'Interface': 'log', 'Forward_Model': 'CS', 'Minimization_Method': 'Gauss-Newton', 'Alpha': 0.01, 'remove_coil': False, 'start_avg': True, 'constrain': True, 'Det': 'LT', 'R2': -22.472, 'RMSE': 0.249, 'MAE': 0.222, 'STD': 0.2, '0R2': -1.11, '0RMSE': 0.288, 'R2_INV': 0.950083356520028}, {'Extract': 0.5, 'Samples location': 'mean', 'Interface': 'log', 'Forward_Model': 'CS', 'Minimization_Method': 'Gauss-Newton', 'Alpha': 0.01, 'remove_coil': False, 'start_avg': True, 'constrain': True, 'Det': 'ID', 'R2': -22.435, 'RMSE': 0.248, 'MAE': 0.214, 'STD': 0.206, '0R2': -1.075, '0RMSE': 0.284, 'R2_INV': 0.950083356520028}, {'Extract': 0.5, 'Samples location': 'mean', 'Interface': 'log', 'Forward_Model': 'CS', 'Minimization_Method': 'Gauss-Newton', 'Alpha': 0.01, 'remove_coil': False, 'start_avg': True, 'constrain': True, 'Det': 'LS', 'R2': -22.272, 'RMSE': 0.249, 'MAE': 0.221, 'STD': 0.203, '0R2': -1.124, '0RMSE': 0.29, 'R2_INV': 0.950083356520028}]\n",
      "Iteration: 173 Combination: (0.5, 'mean', 'log', 'CS', 'Gauss-Newton', 0.01, False, True, False)\n",
      "##################################################################################################################################################################### 02 INVERSION CONFIGURE INPUT ################################################\n",
      "Inversion using CS with Gauss-Newton, reg=l2, alpha=0.01\n",
      "Survey 1/1\n",
      "15/15 inverted\n",
      "r2inv 0    0.950083\n",
      "Name: all, dtype: object\n",
      "#################################################################################################################################################################### 03 DETERMINISTIC MODELLING ###################################################\n",
      "inv_columns Index(['EC_0.15', 'EC_0.38', 'EC_0.51', 'EC_0.70', 'EC_0.99', 'EC_1.45',\n",
      "       'EC_2.15', 'EC_end'],\n",
      "      dtype='object')\n",
      "current_results [{'Extract': 0.5, 'Samples location': 'mean', 'Interface': 'log', 'Forward_Model': 'CS', 'Minimization_Method': 'Gauss-Newton', 'Alpha': 0.01, 'remove_coil': False, 'start_avg': True, 'constrain': False, 'Det': 'LT', 'R2': -22.472, 'RMSE': 0.249, 'MAE': 0.222, 'STD': 0.2, '0R2': -1.11, '0RMSE': 0.288, 'R2_INV': 0.950083356520028}, {'Extract': 0.5, 'Samples location': 'mean', 'Interface': 'log', 'Forward_Model': 'CS', 'Minimization_Method': 'Gauss-Newton', 'Alpha': 0.01, 'remove_coil': False, 'start_avg': True, 'constrain': False, 'Det': 'ID', 'R2': -22.435, 'RMSE': 0.248, 'MAE': 0.214, 'STD': 0.206, '0R2': -1.075, '0RMSE': 0.284, 'R2_INV': 0.950083356520028}, {'Extract': 0.5, 'Samples location': 'mean', 'Interface': 'log', 'Forward_Model': 'CS', 'Minimization_Method': 'Gauss-Newton', 'Alpha': 0.01, 'remove_coil': False, 'start_avg': True, 'constrain': False, 'Det': 'LS', 'R2': -22.272, 'RMSE': 0.249, 'MAE': 0.221, 'STD': 0.203, '0R2': -1.124, '0RMSE': 0.29, 'R2_INV': 0.950083356520028}]\n",
      "Iteration: 174 Combination: (0.5, 'mean', 'log', 'CS', 'Gauss-Newton', 0.01, False, False, True)\n",
      "##################################################################################################################################################################### 02 INVERSION CONFIGURE INPUT ################################################\n",
      "Constrained Inversion using CS with Gauss-Newton, reg=l2, alpha=0.01\n",
      "Survey 1/1\n",
      "15/15 inverted\n",
      "r2inv 0    0.950083\n",
      "Name: all, dtype: object\n",
      "#################################################################################################################################################################### 03 DETERMINISTIC MODELLING ###################################################\n",
      "inv_columns Index(['EC_0.15', 'EC_0.38', 'EC_0.51', 'EC_0.70', 'EC_0.99', 'EC_1.45',\n",
      "       'EC_2.15', 'EC_end'],\n",
      "      dtype='object')\n",
      "current_results [{'Extract': 0.5, 'Samples location': 'mean', 'Interface': 'log', 'Forward_Model': 'CS', 'Minimization_Method': 'Gauss-Newton', 'Alpha': 0.01, 'remove_coil': False, 'start_avg': False, 'constrain': True, 'Det': 'LT', 'R2': -22.472, 'RMSE': 0.249, 'MAE': 0.222, 'STD': 0.2, '0R2': -1.11, '0RMSE': 0.288, 'R2_INV': 0.950083356520028}, {'Extract': 0.5, 'Samples location': 'mean', 'Interface': 'log', 'Forward_Model': 'CS', 'Minimization_Method': 'Gauss-Newton', 'Alpha': 0.01, 'remove_coil': False, 'start_avg': False, 'constrain': True, 'Det': 'ID', 'R2': -22.435, 'RMSE': 0.248, 'MAE': 0.214, 'STD': 0.206, '0R2': -1.075, '0RMSE': 0.284, 'R2_INV': 0.950083356520028}, {'Extract': 0.5, 'Samples location': 'mean', 'Interface': 'log', 'Forward_Model': 'CS', 'Minimization_Method': 'Gauss-Newton', 'Alpha': 0.01, 'remove_coil': False, 'start_avg': False, 'constrain': True, 'Det': 'LS', 'R2': -22.272, 'RMSE': 0.249, 'MAE': 0.221, 'STD': 0.203, '0R2': -1.124, '0RMSE': 0.29, 'R2_INV': 0.950083356520028}]\n",
      "Iteration: 175 Combination: (0.5, 'mean', 'log', 'CS', 'Gauss-Newton', 0.01, False, False, False)\n",
      "##################################################################################################################################################################### 02 INVERSION CONFIGURE INPUT ################################################\n",
      "Inversion using CS with Gauss-Newton, reg=l2, alpha=0.01\n",
      "Survey 1/1\n",
      "15/15 inverted\n",
      "r2inv 0    0.950083\n",
      "Name: all, dtype: object\n",
      "#################################################################################################################################################################### 03 DETERMINISTIC MODELLING ###################################################\n",
      "inv_columns Index(['EC_0.15', 'EC_0.38', 'EC_0.51', 'EC_0.70', 'EC_0.99', 'EC_1.45',\n",
      "       'EC_2.15', 'EC_end'],\n",
      "      dtype='object')\n",
      "current_results [{'Extract': 0.5, 'Samples location': 'mean', 'Interface': 'log', 'Forward_Model': 'CS', 'Minimization_Method': 'Gauss-Newton', 'Alpha': 0.01, 'remove_coil': False, 'start_avg': False, 'constrain': False, 'Det': 'LT', 'R2': -22.472, 'RMSE': 0.249, 'MAE': 0.222, 'STD': 0.2, '0R2': -1.11, '0RMSE': 0.288, 'R2_INV': 0.950083356520028}, {'Extract': 0.5, 'Samples location': 'mean', 'Interface': 'log', 'Forward_Model': 'CS', 'Minimization_Method': 'Gauss-Newton', 'Alpha': 0.01, 'remove_coil': False, 'start_avg': False, 'constrain': False, 'Det': 'ID', 'R2': -22.435, 'RMSE': 0.248, 'MAE': 0.214, 'STD': 0.206, '0R2': -1.075, '0RMSE': 0.284, 'R2_INV': 0.950083356520028}, {'Extract': 0.5, 'Samples location': 'mean', 'Interface': 'log', 'Forward_Model': 'CS', 'Minimization_Method': 'Gauss-Newton', 'Alpha': 0.01, 'remove_coil': False, 'start_avg': False, 'constrain': False, 'Det': 'LS', 'R2': -22.272, 'RMSE': 0.249, 'MAE': 0.221, 'STD': 0.203, '0R2': -1.124, '0RMSE': 0.29, 'R2_INV': 0.950083356520028}]\n",
      "Iteration: 176 Combination: (0.5, 'mean', 'log', 'CS', 'Gauss-Newton', 0.07, True, True, True)\n",
      "##################################################################################################################################################################### 02 INVERSION CONFIGURE INPUT ################################################\n",
      "Constrained Inversion using CS with Gauss-Newton, reg=l2, alpha=0.07\n",
      "Survey 1/1\n",
      "15/15 inverted\n",
      "r2inv 0    0.93097\n",
      "Name: all, dtype: object\n",
      "#################################################################################################################################################################### 03 DETERMINISTIC MODELLING ###################################################\n",
      "inv_columns Index(['EC_0.15', 'EC_0.38', 'EC_0.51', 'EC_0.70', 'EC_0.99', 'EC_1.45',\n",
      "       'EC_2.15', 'EC_end'],\n",
      "      dtype='object')\n",
      "current_results [{'Extract': 0.5, 'Samples location': 'mean', 'Interface': 'log', 'Forward_Model': 'CS', 'Minimization_Method': 'Gauss-Newton', 'Alpha': 0.07, 'remove_coil': True, 'start_avg': True, 'constrain': True, 'Det': 'LT', 'R2': -18.63, 'RMSE': 0.224, 'MAE': 0.2, 'STD': 0.136, '0R2': 0.023, '0RMSE': 0.193, 'R2_INV': 0.9309702220534918}, {'Extract': 0.5, 'Samples location': 'mean', 'Interface': 'log', 'Forward_Model': 'CS', 'Minimization_Method': 'Gauss-Newton', 'Alpha': 0.07, 'remove_coil': True, 'start_avg': True, 'constrain': True, 'Det': 'ID', 'R2': -16.792, 'RMSE': 0.216, 'MAE': 0.194, 'STD': 0.133, '0R2': 0.025, '0RMSE': 0.192, 'R2_INV': 0.9309702220534918}, {'Extract': 0.5, 'Samples location': 'mean', 'Interface': 'log', 'Forward_Model': 'CS', 'Minimization_Method': 'Gauss-Newton', 'Alpha': 0.07, 'remove_coil': True, 'start_avg': True, 'constrain': True, 'Det': 'LS', 'R2': -18.722, 'RMSE': 0.222, 'MAE': 0.2, 'STD': 0.138, '0R2': -0.032, '0RMSE': 0.2, 'R2_INV': 0.9309702220534918}]\n",
      "Iteration: 177 Combination: (0.5, 'mean', 'log', 'CS', 'Gauss-Newton', 0.07, True, True, False)\n",
      "##################################################################################################################################################################### 02 INVERSION CONFIGURE INPUT ################################################\n",
      "Inversion using CS with Gauss-Newton, reg=l2, alpha=0.07\n",
      "Survey 1/1\n",
      "15/15 inverted\n",
      "r2inv 0    0.93097\n",
      "Name: all, dtype: object\n",
      "#################################################################################################################################################################### 03 DETERMINISTIC MODELLING ###################################################\n",
      "inv_columns Index(['EC_0.15', 'EC_0.38', 'EC_0.51', 'EC_0.70', 'EC_0.99', 'EC_1.45',\n",
      "       'EC_2.15', 'EC_end'],\n",
      "      dtype='object')\n",
      "current_results [{'Extract': 0.5, 'Samples location': 'mean', 'Interface': 'log', 'Forward_Model': 'CS', 'Minimization_Method': 'Gauss-Newton', 'Alpha': 0.07, 'remove_coil': True, 'start_avg': True, 'constrain': False, 'Det': 'LT', 'R2': -18.63, 'RMSE': 0.224, 'MAE': 0.2, 'STD': 0.136, '0R2': 0.023, '0RMSE': 0.193, 'R2_INV': 0.9309702220534918}, {'Extract': 0.5, 'Samples location': 'mean', 'Interface': 'log', 'Forward_Model': 'CS', 'Minimization_Method': 'Gauss-Newton', 'Alpha': 0.07, 'remove_coil': True, 'start_avg': True, 'constrain': False, 'Det': 'ID', 'R2': -16.792, 'RMSE': 0.216, 'MAE': 0.194, 'STD': 0.133, '0R2': 0.025, '0RMSE': 0.192, 'R2_INV': 0.9309702220534918}, {'Extract': 0.5, 'Samples location': 'mean', 'Interface': 'log', 'Forward_Model': 'CS', 'Minimization_Method': 'Gauss-Newton', 'Alpha': 0.07, 'remove_coil': True, 'start_avg': True, 'constrain': False, 'Det': 'LS', 'R2': -18.722, 'RMSE': 0.222, 'MAE': 0.2, 'STD': 0.138, '0R2': -0.032, '0RMSE': 0.2, 'R2_INV': 0.9309702220534918}]\n",
      "Iteration: 178 Combination: (0.5, 'mean', 'log', 'CS', 'Gauss-Newton', 0.07, True, False, True)\n",
      "##################################################################################################################################################################### 02 INVERSION CONFIGURE INPUT ################################################\n",
      "Constrained Inversion using CS with Gauss-Newton, reg=l2, alpha=0.07\n",
      "Survey 1/1\n",
      "15/15 inverted\n",
      "r2inv 0    0.93097\n",
      "Name: all, dtype: object\n",
      "#################################################################################################################################################################### 03 DETERMINISTIC MODELLING ###################################################\n",
      "inv_columns Index(['EC_0.15', 'EC_0.38', 'EC_0.51', 'EC_0.70', 'EC_0.99', 'EC_1.45',\n",
      "       'EC_2.15', 'EC_end'],\n",
      "      dtype='object')\n",
      "current_results [{'Extract': 0.5, 'Samples location': 'mean', 'Interface': 'log', 'Forward_Model': 'CS', 'Minimization_Method': 'Gauss-Newton', 'Alpha': 0.07, 'remove_coil': True, 'start_avg': False, 'constrain': True, 'Det': 'LT', 'R2': -18.63, 'RMSE': 0.224, 'MAE': 0.2, 'STD': 0.136, '0R2': 0.023, '0RMSE': 0.193, 'R2_INV': 0.9309702220534918}, {'Extract': 0.5, 'Samples location': 'mean', 'Interface': 'log', 'Forward_Model': 'CS', 'Minimization_Method': 'Gauss-Newton', 'Alpha': 0.07, 'remove_coil': True, 'start_avg': False, 'constrain': True, 'Det': 'ID', 'R2': -16.792, 'RMSE': 0.216, 'MAE': 0.194, 'STD': 0.133, '0R2': 0.025, '0RMSE': 0.192, 'R2_INV': 0.9309702220534918}, {'Extract': 0.5, 'Samples location': 'mean', 'Interface': 'log', 'Forward_Model': 'CS', 'Minimization_Method': 'Gauss-Newton', 'Alpha': 0.07, 'remove_coil': True, 'start_avg': False, 'constrain': True, 'Det': 'LS', 'R2': -18.722, 'RMSE': 0.222, 'MAE': 0.2, 'STD': 0.138, '0R2': -0.032, '0RMSE': 0.2, 'R2_INV': 0.9309702220534918}]\n",
      "Iteration: 179 Combination: (0.5, 'mean', 'log', 'CS', 'Gauss-Newton', 0.07, True, False, False)\n",
      "##################################################################################################################################################################### 02 INVERSION CONFIGURE INPUT ################################################\n",
      "Inversion using CS with Gauss-Newton, reg=l2, alpha=0.07\n",
      "Survey 1/1\n",
      "15/15 inverted\n",
      "r2inv 0    0.93097\n",
      "Name: all, dtype: object\n",
      "#################################################################################################################################################################### 03 DETERMINISTIC MODELLING ###################################################\n",
      "inv_columns Index(['EC_0.15', 'EC_0.38', 'EC_0.51', 'EC_0.70', 'EC_0.99', 'EC_1.45',\n",
      "       'EC_2.15', 'EC_end'],\n",
      "      dtype='object')\n",
      "current_results [{'Extract': 0.5, 'Samples location': 'mean', 'Interface': 'log', 'Forward_Model': 'CS', 'Minimization_Method': 'Gauss-Newton', 'Alpha': 0.07, 'remove_coil': True, 'start_avg': False, 'constrain': False, 'Det': 'LT', 'R2': -18.63, 'RMSE': 0.224, 'MAE': 0.2, 'STD': 0.136, '0R2': 0.023, '0RMSE': 0.193, 'R2_INV': 0.9309702220534918}, {'Extract': 0.5, 'Samples location': 'mean', 'Interface': 'log', 'Forward_Model': 'CS', 'Minimization_Method': 'Gauss-Newton', 'Alpha': 0.07, 'remove_coil': True, 'start_avg': False, 'constrain': False, 'Det': 'ID', 'R2': -16.792, 'RMSE': 0.216, 'MAE': 0.194, 'STD': 0.133, '0R2': 0.025, '0RMSE': 0.192, 'R2_INV': 0.9309702220534918}, {'Extract': 0.5, 'Samples location': 'mean', 'Interface': 'log', 'Forward_Model': 'CS', 'Minimization_Method': 'Gauss-Newton', 'Alpha': 0.07, 'remove_coil': True, 'start_avg': False, 'constrain': False, 'Det': 'LS', 'R2': -18.722, 'RMSE': 0.222, 'MAE': 0.2, 'STD': 0.138, '0R2': -0.032, '0RMSE': 0.2, 'R2_INV': 0.9309702220534918}]\n",
      "Iteration: 180 Combination: (0.5, 'mean', 'log', 'CS', 'Gauss-Newton', 0.07, False, True, True)\n",
      "##################################################################################################################################################################### 02 INVERSION CONFIGURE INPUT ################################################\n",
      "Constrained Inversion using CS with Gauss-Newton, reg=l2, alpha=0.07\n",
      "Survey 1/1\n",
      "15/15 inverted\n",
      "r2inv 0    0.927048\n",
      "Name: all, dtype: object\n",
      "#################################################################################################################################################################### 03 DETERMINISTIC MODELLING ###################################################\n",
      "inv_columns Index(['EC_0.15', 'EC_0.38', 'EC_0.51', 'EC_0.70', 'EC_0.99', 'EC_1.45',\n",
      "       'EC_2.15', 'EC_end'],\n",
      "      dtype='object')\n",
      "current_results [{'Extract': 0.5, 'Samples location': 'mean', 'Interface': 'log', 'Forward_Model': 'CS', 'Minimization_Method': 'Gauss-Newton', 'Alpha': 0.07, 'remove_coil': False, 'start_avg': True, 'constrain': True, 'Det': 'LT', 'R2': -19.794, 'RMSE': 0.23, 'MAE': 0.208, 'STD': 0.138, '0R2': -0.139, '0RMSE': 0.209, 'R2_INV': 0.927048061101733}, {'Extract': 0.5, 'Samples location': 'mean', 'Interface': 'log', 'Forward_Model': 'CS', 'Minimization_Method': 'Gauss-Newton', 'Alpha': 0.07, 'remove_coil': False, 'start_avg': True, 'constrain': True, 'Det': 'ID', 'R2': -18.22, 'RMSE': 0.225, 'MAE': 0.204, 'STD': 0.138, '0R2': -0.126, '0RMSE': 0.21, 'R2_INV': 0.927048061101733}, {'Extract': 0.5, 'Samples location': 'mean', 'Interface': 'log', 'Forward_Model': 'CS', 'Minimization_Method': 'Gauss-Newton', 'Alpha': 0.07, 'remove_coil': False, 'start_avg': True, 'constrain': True, 'Det': 'LS', 'R2': -20.094, 'RMSE': 0.229, 'MAE': 0.208, 'STD': 0.142, '0R2': -0.194, '0RMSE': 0.216, 'R2_INV': 0.927048061101733}]\n",
      "Iteration: 181 Combination: (0.5, 'mean', 'log', 'CS', 'Gauss-Newton', 0.07, False, True, False)\n",
      "##################################################################################################################################################################### 02 INVERSION CONFIGURE INPUT ################################################\n",
      "Inversion using CS with Gauss-Newton, reg=l2, alpha=0.07\n",
      "Survey 1/1\n",
      "15/15 inverted\n",
      "r2inv 0    0.927048\n",
      "Name: all, dtype: object\n",
      "#################################################################################################################################################################### 03 DETERMINISTIC MODELLING ###################################################\n",
      "inv_columns Index(['EC_0.15', 'EC_0.38', 'EC_0.51', 'EC_0.70', 'EC_0.99', 'EC_1.45',\n",
      "       'EC_2.15', 'EC_end'],\n",
      "      dtype='object')\n",
      "current_results [{'Extract': 0.5, 'Samples location': 'mean', 'Interface': 'log', 'Forward_Model': 'CS', 'Minimization_Method': 'Gauss-Newton', 'Alpha': 0.07, 'remove_coil': False, 'start_avg': True, 'constrain': False, 'Det': 'LT', 'R2': -19.794, 'RMSE': 0.23, 'MAE': 0.208, 'STD': 0.138, '0R2': -0.139, '0RMSE': 0.209, 'R2_INV': 0.927048061101733}, {'Extract': 0.5, 'Samples location': 'mean', 'Interface': 'log', 'Forward_Model': 'CS', 'Minimization_Method': 'Gauss-Newton', 'Alpha': 0.07, 'remove_coil': False, 'start_avg': True, 'constrain': False, 'Det': 'ID', 'R2': -18.22, 'RMSE': 0.225, 'MAE': 0.204, 'STD': 0.138, '0R2': -0.126, '0RMSE': 0.21, 'R2_INV': 0.927048061101733}, {'Extract': 0.5, 'Samples location': 'mean', 'Interface': 'log', 'Forward_Model': 'CS', 'Minimization_Method': 'Gauss-Newton', 'Alpha': 0.07, 'remove_coil': False, 'start_avg': True, 'constrain': False, 'Det': 'LS', 'R2': -20.094, 'RMSE': 0.229, 'MAE': 0.208, 'STD': 0.142, '0R2': -0.194, '0RMSE': 0.216, 'R2_INV': 0.927048061101733}]\n",
      "Iteration: 182 Combination: (0.5, 'mean', 'log', 'CS', 'Gauss-Newton', 0.07, False, False, True)\n",
      "##################################################################################################################################################################### 02 INVERSION CONFIGURE INPUT ################################################\n",
      "Constrained Inversion using CS with Gauss-Newton, reg=l2, alpha=0.07\n",
      "Survey 1/1\n",
      "15/15 inverted\n",
      "r2inv 0    0.927048\n",
      "Name: all, dtype: object\n",
      "#################################################################################################################################################################### 03 DETERMINISTIC MODELLING ###################################################\n",
      "inv_columns Index(['EC_0.15', 'EC_0.38', 'EC_0.51', 'EC_0.70', 'EC_0.99', 'EC_1.45',\n",
      "       'EC_2.15', 'EC_end'],\n",
      "      dtype='object')\n",
      "current_results [{'Extract': 0.5, 'Samples location': 'mean', 'Interface': 'log', 'Forward_Model': 'CS', 'Minimization_Method': 'Gauss-Newton', 'Alpha': 0.07, 'remove_coil': False, 'start_avg': False, 'constrain': True, 'Det': 'LT', 'R2': -19.794, 'RMSE': 0.23, 'MAE': 0.208, 'STD': 0.138, '0R2': -0.139, '0RMSE': 0.209, 'R2_INV': 0.927048061101733}, {'Extract': 0.5, 'Samples location': 'mean', 'Interface': 'log', 'Forward_Model': 'CS', 'Minimization_Method': 'Gauss-Newton', 'Alpha': 0.07, 'remove_coil': False, 'start_avg': False, 'constrain': True, 'Det': 'ID', 'R2': -18.22, 'RMSE': 0.225, 'MAE': 0.204, 'STD': 0.138, '0R2': -0.126, '0RMSE': 0.21, 'R2_INV': 0.927048061101733}, {'Extract': 0.5, 'Samples location': 'mean', 'Interface': 'log', 'Forward_Model': 'CS', 'Minimization_Method': 'Gauss-Newton', 'Alpha': 0.07, 'remove_coil': False, 'start_avg': False, 'constrain': True, 'Det': 'LS', 'R2': -20.094, 'RMSE': 0.229, 'MAE': 0.208, 'STD': 0.142, '0R2': -0.194, '0RMSE': 0.216, 'R2_INV': 0.927048061101733}]\n",
      "Iteration: 183 Combination: (0.5, 'mean', 'log', 'CS', 'Gauss-Newton', 0.07, False, False, False)\n",
      "##################################################################################################################################################################### 02 INVERSION CONFIGURE INPUT ################################################\n",
      "Inversion using CS with Gauss-Newton, reg=l2, alpha=0.07\n",
      "Survey 1/1\n",
      "15/15 inverted\n",
      "r2inv 0    0.927048\n",
      "Name: all, dtype: object\n",
      "#################################################################################################################################################################### 03 DETERMINISTIC MODELLING ###################################################\n",
      "inv_columns Index(['EC_0.15', 'EC_0.38', 'EC_0.51', 'EC_0.70', 'EC_0.99', 'EC_1.45',\n",
      "       'EC_2.15', 'EC_end'],\n",
      "      dtype='object')\n",
      "current_results [{'Extract': 0.5, 'Samples location': 'mean', 'Interface': 'log', 'Forward_Model': 'CS', 'Minimization_Method': 'Gauss-Newton', 'Alpha': 0.07, 'remove_coil': False, 'start_avg': False, 'constrain': False, 'Det': 'LT', 'R2': -19.794, 'RMSE': 0.23, 'MAE': 0.208, 'STD': 0.138, '0R2': -0.139, '0RMSE': 0.209, 'R2_INV': 0.927048061101733}, {'Extract': 0.5, 'Samples location': 'mean', 'Interface': 'log', 'Forward_Model': 'CS', 'Minimization_Method': 'Gauss-Newton', 'Alpha': 0.07, 'remove_coil': False, 'start_avg': False, 'constrain': False, 'Det': 'ID', 'R2': -18.22, 'RMSE': 0.225, 'MAE': 0.204, 'STD': 0.138, '0R2': -0.126, '0RMSE': 0.21, 'R2_INV': 0.927048061101733}, {'Extract': 0.5, 'Samples location': 'mean', 'Interface': 'log', 'Forward_Model': 'CS', 'Minimization_Method': 'Gauss-Newton', 'Alpha': 0.07, 'remove_coil': False, 'start_avg': False, 'constrain': False, 'Det': 'LS', 'R2': -20.094, 'RMSE': 0.229, 'MAE': 0.208, 'STD': 0.142, '0R2': -0.194, '0RMSE': 0.216, 'R2_INV': 0.927048061101733}]\n",
      "Iteration: 184 Combination: (0.5, 'mean', 'log', 'CS', 'Gauss-Newton', 0.2, True, True, True)\n",
      "##################################################################################################################################################################### 02 INVERSION CONFIGURE INPUT ################################################\n",
      "Constrained Inversion using CS with Gauss-Newton, reg=l2, alpha=0.2\n",
      "Survey 1/1\n",
      "15/15 inverted\n",
      "r2inv 0    0.887662\n",
      "Name: all, dtype: object\n",
      "#################################################################################################################################################################### 03 DETERMINISTIC MODELLING ###################################################\n",
      "inv_columns Index(['EC_0.15', 'EC_0.38', 'EC_0.51', 'EC_0.70', 'EC_0.99', 'EC_1.45',\n",
      "       'EC_2.15', 'EC_end'],\n",
      "      dtype='object')\n",
      "current_results [{'Extract': 0.5, 'Samples location': 'mean', 'Interface': 'log', 'Forward_Model': 'CS', 'Minimization_Method': 'Gauss-Newton', 'Alpha': 0.2, 'remove_coil': True, 'start_avg': True, 'constrain': True, 'Det': 'LT', 'R2': -17.166, 'RMSE': 0.213, 'MAE': 0.187, 'STD': 0.133, '0R2': 0.35, '0RMSE': 0.152, 'R2_INV': 0.8876619201712898}, {'Extract': 0.5, 'Samples location': 'mean', 'Interface': 'log', 'Forward_Model': 'CS', 'Minimization_Method': 'Gauss-Newton', 'Alpha': 0.2, 'remove_coil': True, 'start_avg': True, 'constrain': True, 'Det': 'ID', 'R2': -15.369, 'RMSE': 0.202, 'MAE': 0.18, 'STD': 0.12, '0R2': 0.434, '0RMSE': 0.146, 'R2_INV': 0.8876619201712898}, {'Extract': 0.5, 'Samples location': 'mean', 'Interface': 'log', 'Forward_Model': 'CS', 'Minimization_Method': 'Gauss-Newton', 'Alpha': 0.2, 'remove_coil': True, 'start_avg': True, 'constrain': True, 'Det': 'LS', 'R2': -17.408, 'RMSE': 0.215, 'MAE': 0.188, 'STD': 0.134, '0R2': 0.324, '0RMSE': 0.157, 'R2_INV': 0.8876619201712898}]\n",
      "Iteration: 185 Combination: (0.5, 'mean', 'log', 'CS', 'Gauss-Newton', 0.2, True, True, False)\n",
      "##################################################################################################################################################################### 02 INVERSION CONFIGURE INPUT ################################################\n",
      "Inversion using CS with Gauss-Newton, reg=l2, alpha=0.2\n",
      "Survey 1/1\n",
      "15/15 inverted\n",
      "r2inv 0    0.887662\n",
      "Name: all, dtype: object\n",
      "#################################################################################################################################################################### 03 DETERMINISTIC MODELLING ###################################################\n",
      "inv_columns Index(['EC_0.15', 'EC_0.38', 'EC_0.51', 'EC_0.70', 'EC_0.99', 'EC_1.45',\n",
      "       'EC_2.15', 'EC_end'],\n",
      "      dtype='object')\n",
      "current_results [{'Extract': 0.5, 'Samples location': 'mean', 'Interface': 'log', 'Forward_Model': 'CS', 'Minimization_Method': 'Gauss-Newton', 'Alpha': 0.2, 'remove_coil': True, 'start_avg': True, 'constrain': False, 'Det': 'LT', 'R2': -17.166, 'RMSE': 0.213, 'MAE': 0.187, 'STD': 0.133, '0R2': 0.35, '0RMSE': 0.152, 'R2_INV': 0.8876619201712898}, {'Extract': 0.5, 'Samples location': 'mean', 'Interface': 'log', 'Forward_Model': 'CS', 'Minimization_Method': 'Gauss-Newton', 'Alpha': 0.2, 'remove_coil': True, 'start_avg': True, 'constrain': False, 'Det': 'ID', 'R2': -15.369, 'RMSE': 0.202, 'MAE': 0.18, 'STD': 0.12, '0R2': 0.434, '0RMSE': 0.146, 'R2_INV': 0.8876619201712898}, {'Extract': 0.5, 'Samples location': 'mean', 'Interface': 'log', 'Forward_Model': 'CS', 'Minimization_Method': 'Gauss-Newton', 'Alpha': 0.2, 'remove_coil': True, 'start_avg': True, 'constrain': False, 'Det': 'LS', 'R2': -17.408, 'RMSE': 0.215, 'MAE': 0.188, 'STD': 0.134, '0R2': 0.324, '0RMSE': 0.157, 'R2_INV': 0.8876619201712898}]\n",
      "Iteration: 186 Combination: (0.5, 'mean', 'log', 'CS', 'Gauss-Newton', 0.2, True, False, True)\n",
      "##################################################################################################################################################################### 02 INVERSION CONFIGURE INPUT ################################################\n",
      "Constrained Inversion using CS with Gauss-Newton, reg=l2, alpha=0.2\n",
      "Survey 1/1\n",
      "15/15 inverted\n",
      "r2inv 0    0.887662\n",
      "Name: all, dtype: object\n",
      "#################################################################################################################################################################### 03 DETERMINISTIC MODELLING ###################################################\n",
      "inv_columns Index(['EC_0.15', 'EC_0.38', 'EC_0.51', 'EC_0.70', 'EC_0.99', 'EC_1.45',\n",
      "       'EC_2.15', 'EC_end'],\n",
      "      dtype='object')\n",
      "current_results [{'Extract': 0.5, 'Samples location': 'mean', 'Interface': 'log', 'Forward_Model': 'CS', 'Minimization_Method': 'Gauss-Newton', 'Alpha': 0.2, 'remove_coil': True, 'start_avg': False, 'constrain': True, 'Det': 'LT', 'R2': -17.166, 'RMSE': 0.213, 'MAE': 0.187, 'STD': 0.133, '0R2': 0.35, '0RMSE': 0.152, 'R2_INV': 0.8876619201712898}, {'Extract': 0.5, 'Samples location': 'mean', 'Interface': 'log', 'Forward_Model': 'CS', 'Minimization_Method': 'Gauss-Newton', 'Alpha': 0.2, 'remove_coil': True, 'start_avg': False, 'constrain': True, 'Det': 'ID', 'R2': -15.369, 'RMSE': 0.202, 'MAE': 0.18, 'STD': 0.12, '0R2': 0.434, '0RMSE': 0.146, 'R2_INV': 0.8876619201712898}, {'Extract': 0.5, 'Samples location': 'mean', 'Interface': 'log', 'Forward_Model': 'CS', 'Minimization_Method': 'Gauss-Newton', 'Alpha': 0.2, 'remove_coil': True, 'start_avg': False, 'constrain': True, 'Det': 'LS', 'R2': -17.408, 'RMSE': 0.215, 'MAE': 0.188, 'STD': 0.134, '0R2': 0.324, '0RMSE': 0.157, 'R2_INV': 0.8876619201712898}]\n",
      "Iteration: 187 Combination: (0.5, 'mean', 'log', 'CS', 'Gauss-Newton', 0.2, True, False, False)\n",
      "##################################################################################################################################################################### 02 INVERSION CONFIGURE INPUT ################################################\n",
      "Inversion using CS with Gauss-Newton, reg=l2, alpha=0.2\n",
      "Survey 1/1\n",
      "15/15 inverted\n",
      "r2inv 0    0.887662\n",
      "Name: all, dtype: object\n",
      "#################################################################################################################################################################### 03 DETERMINISTIC MODELLING ###################################################\n",
      "inv_columns Index(['EC_0.15', 'EC_0.38', 'EC_0.51', 'EC_0.70', 'EC_0.99', 'EC_1.45',\n",
      "       'EC_2.15', 'EC_end'],\n",
      "      dtype='object')\n",
      "current_results [{'Extract': 0.5, 'Samples location': 'mean', 'Interface': 'log', 'Forward_Model': 'CS', 'Minimization_Method': 'Gauss-Newton', 'Alpha': 0.2, 'remove_coil': True, 'start_avg': False, 'constrain': False, 'Det': 'LT', 'R2': -17.166, 'RMSE': 0.213, 'MAE': 0.187, 'STD': 0.133, '0R2': 0.35, '0RMSE': 0.152, 'R2_INV': 0.8876619201712898}, {'Extract': 0.5, 'Samples location': 'mean', 'Interface': 'log', 'Forward_Model': 'CS', 'Minimization_Method': 'Gauss-Newton', 'Alpha': 0.2, 'remove_coil': True, 'start_avg': False, 'constrain': False, 'Det': 'ID', 'R2': -15.369, 'RMSE': 0.202, 'MAE': 0.18, 'STD': 0.12, '0R2': 0.434, '0RMSE': 0.146, 'R2_INV': 0.8876619201712898}, {'Extract': 0.5, 'Samples location': 'mean', 'Interface': 'log', 'Forward_Model': 'CS', 'Minimization_Method': 'Gauss-Newton', 'Alpha': 0.2, 'remove_coil': True, 'start_avg': False, 'constrain': False, 'Det': 'LS', 'R2': -17.408, 'RMSE': 0.215, 'MAE': 0.188, 'STD': 0.134, '0R2': 0.324, '0RMSE': 0.157, 'R2_INV': 0.8876619201712898}]\n",
      "Iteration: 188 Combination: (0.5, 'mean', 'log', 'CS', 'Gauss-Newton', 0.2, False, True, True)\n",
      "##################################################################################################################################################################### 02 INVERSION CONFIGURE INPUT ################################################\n",
      "Constrained Inversion using CS with Gauss-Newton, reg=l2, alpha=0.2\n",
      "Survey 1/1\n",
      "15/15 inverted\n",
      "r2inv 0    0.889249\n",
      "Name: all, dtype: object\n",
      "#################################################################################################################################################################### 03 DETERMINISTIC MODELLING ###################################################\n",
      "inv_columns Index(['EC_0.15', 'EC_0.38', 'EC_0.51', 'EC_0.70', 'EC_0.99', 'EC_1.45',\n",
      "       'EC_2.15', 'EC_end'],\n",
      "      dtype='object')\n",
      "current_results [{'Extract': 0.5, 'Samples location': 'mean', 'Interface': 'log', 'Forward_Model': 'CS', 'Minimization_Method': 'Gauss-Newton', 'Alpha': 0.2, 'remove_coil': False, 'start_avg': True, 'constrain': True, 'Det': 'LT', 'R2': -17.207, 'RMSE': 0.214, 'MAE': 0.182, 'STD': 0.132, '0R2': 0.331, '0RMSE': 0.159, 'R2_INV': 0.8892485904594258}, {'Extract': 0.5, 'Samples location': 'mean', 'Interface': 'log', 'Forward_Model': 'CS', 'Minimization_Method': 'Gauss-Newton', 'Alpha': 0.2, 'remove_coil': False, 'start_avg': True, 'constrain': True, 'Det': 'ID', 'R2': -15.522, 'RMSE': 0.2, 'MAE': 0.179, 'STD': 0.122, '0R2': 0.404, '0RMSE': 0.15, 'R2_INV': 0.8892485904594258}, {'Extract': 0.5, 'Samples location': 'mean', 'Interface': 'log', 'Forward_Model': 'CS', 'Minimization_Method': 'Gauss-Newton', 'Alpha': 0.2, 'remove_coil': False, 'start_avg': True, 'constrain': True, 'Det': 'LS', 'R2': -17.29, 'RMSE': 0.215, 'MAE': 0.183, 'STD': 0.132, '0R2': 0.3, '0RMSE': 0.162, 'R2_INV': 0.8892485904594258}]\n",
      "Iteration: 189 Combination: (0.5, 'mean', 'log', 'CS', 'Gauss-Newton', 0.2, False, True, False)\n",
      "##################################################################################################################################################################### 02 INVERSION CONFIGURE INPUT ################################################\n",
      "Inversion using CS with Gauss-Newton, reg=l2, alpha=0.2\n",
      "Survey 1/1\n",
      "15/15 inverted\n",
      "r2inv 0    0.889249\n",
      "Name: all, dtype: object\n",
      "#################################################################################################################################################################### 03 DETERMINISTIC MODELLING ###################################################\n",
      "inv_columns Index(['EC_0.15', 'EC_0.38', 'EC_0.51', 'EC_0.70', 'EC_0.99', 'EC_1.45',\n",
      "       'EC_2.15', 'EC_end'],\n",
      "      dtype='object')\n",
      "current_results [{'Extract': 0.5, 'Samples location': 'mean', 'Interface': 'log', 'Forward_Model': 'CS', 'Minimization_Method': 'Gauss-Newton', 'Alpha': 0.2, 'remove_coil': False, 'start_avg': True, 'constrain': False, 'Det': 'LT', 'R2': -17.207, 'RMSE': 0.214, 'MAE': 0.182, 'STD': 0.132, '0R2': 0.331, '0RMSE': 0.159, 'R2_INV': 0.8892485904594258}, {'Extract': 0.5, 'Samples location': 'mean', 'Interface': 'log', 'Forward_Model': 'CS', 'Minimization_Method': 'Gauss-Newton', 'Alpha': 0.2, 'remove_coil': False, 'start_avg': True, 'constrain': False, 'Det': 'ID', 'R2': -15.522, 'RMSE': 0.2, 'MAE': 0.179, 'STD': 0.122, '0R2': 0.404, '0RMSE': 0.15, 'R2_INV': 0.8892485904594258}, {'Extract': 0.5, 'Samples location': 'mean', 'Interface': 'log', 'Forward_Model': 'CS', 'Minimization_Method': 'Gauss-Newton', 'Alpha': 0.2, 'remove_coil': False, 'start_avg': True, 'constrain': False, 'Det': 'LS', 'R2': -17.29, 'RMSE': 0.215, 'MAE': 0.183, 'STD': 0.132, '0R2': 0.3, '0RMSE': 0.162, 'R2_INV': 0.8892485904594258}]\n",
      "Iteration: 190 Combination: (0.5, 'mean', 'log', 'CS', 'Gauss-Newton', 0.2, False, False, True)\n",
      "##################################################################################################################################################################### 02 INVERSION CONFIGURE INPUT ################################################\n",
      "Constrained Inversion using CS with Gauss-Newton, reg=l2, alpha=0.2\n",
      "Survey 1/1\n",
      "15/15 inverted\n",
      "r2inv 0    0.889249\n",
      "Name: all, dtype: object\n",
      "#################################################################################################################################################################### 03 DETERMINISTIC MODELLING ###################################################\n",
      "inv_columns Index(['EC_0.15', 'EC_0.38', 'EC_0.51', 'EC_0.70', 'EC_0.99', 'EC_1.45',\n",
      "       'EC_2.15', 'EC_end'],\n",
      "      dtype='object')\n",
      "current_results [{'Extract': 0.5, 'Samples location': 'mean', 'Interface': 'log', 'Forward_Model': 'CS', 'Minimization_Method': 'Gauss-Newton', 'Alpha': 0.2, 'remove_coil': False, 'start_avg': False, 'constrain': True, 'Det': 'LT', 'R2': -17.207, 'RMSE': 0.214, 'MAE': 0.182, 'STD': 0.132, '0R2': 0.331, '0RMSE': 0.159, 'R2_INV': 0.8892485904594258}, {'Extract': 0.5, 'Samples location': 'mean', 'Interface': 'log', 'Forward_Model': 'CS', 'Minimization_Method': 'Gauss-Newton', 'Alpha': 0.2, 'remove_coil': False, 'start_avg': False, 'constrain': True, 'Det': 'ID', 'R2': -15.522, 'RMSE': 0.2, 'MAE': 0.179, 'STD': 0.122, '0R2': 0.404, '0RMSE': 0.15, 'R2_INV': 0.8892485904594258}, {'Extract': 0.5, 'Samples location': 'mean', 'Interface': 'log', 'Forward_Model': 'CS', 'Minimization_Method': 'Gauss-Newton', 'Alpha': 0.2, 'remove_coil': False, 'start_avg': False, 'constrain': True, 'Det': 'LS', 'R2': -17.29, 'RMSE': 0.215, 'MAE': 0.183, 'STD': 0.132, '0R2': 0.3, '0RMSE': 0.162, 'R2_INV': 0.8892485904594258}]\n",
      "Iteration: 191 Combination: (0.5, 'mean', 'log', 'CS', 'Gauss-Newton', 0.2, False, False, False)\n",
      "##################################################################################################################################################################### 02 INVERSION CONFIGURE INPUT ################################################\n",
      "Inversion using CS with Gauss-Newton, reg=l2, alpha=0.2\n",
      "Survey 1/1\n",
      "15/15 inverted\n",
      "r2inv 0    0.889249\n",
      "Name: all, dtype: object\n",
      "#################################################################################################################################################################### 03 DETERMINISTIC MODELLING ###################################################\n",
      "inv_columns Index(['EC_0.15', 'EC_0.38', 'EC_0.51', 'EC_0.70', 'EC_0.99', 'EC_1.45',\n",
      "       'EC_2.15', 'EC_end'],\n",
      "      dtype='object')\n",
      "current_results [{'Extract': 0.5, 'Samples location': 'mean', 'Interface': 'log', 'Forward_Model': 'CS', 'Minimization_Method': 'Gauss-Newton', 'Alpha': 0.2, 'remove_coil': False, 'start_avg': False, 'constrain': False, 'Det': 'LT', 'R2': -17.207, 'RMSE': 0.214, 'MAE': 0.182, 'STD': 0.132, '0R2': 0.331, '0RMSE': 0.159, 'R2_INV': 0.8892485904594258}, {'Extract': 0.5, 'Samples location': 'mean', 'Interface': 'log', 'Forward_Model': 'CS', 'Minimization_Method': 'Gauss-Newton', 'Alpha': 0.2, 'remove_coil': False, 'start_avg': False, 'constrain': False, 'Det': 'ID', 'R2': -15.522, 'RMSE': 0.2, 'MAE': 0.179, 'STD': 0.122, '0R2': 0.404, '0RMSE': 0.15, 'R2_INV': 0.8892485904594258}, {'Extract': 0.5, 'Samples location': 'mean', 'Interface': 'log', 'Forward_Model': 'CS', 'Minimization_Method': 'Gauss-Newton', 'Alpha': 0.2, 'remove_coil': False, 'start_avg': False, 'constrain': False, 'Det': 'LS', 'R2': -17.29, 'RMSE': 0.215, 'MAE': 0.183, 'STD': 0.132, '0R2': 0.3, '0RMSE': 0.162, 'R2_INV': 0.8892485904594258}]\n",
      "Iteration: 192 Combination: (0.5, 'mean', 'log', 'CS', 'ROPE', 0.01, True, True, True)\n",
      "##################################################################################################################################################################### 02 INVERSION CONFIGURE INPUT ################################################\n"
     ]
    },
    {
     "name": "stderr",
     "output_type": "stream",
     "text": [
      "100%|██████████| 15/15 [00:00<?, ?it/s]"
     ]
    },
    {
     "name": "stdout",
     "output_type": "stream",
     "text": [
      "Constrained inversion using CS with ROPE, reg=l2, alpha=0.01\n"
     ]
    },
    {
     "name": "stderr",
     "output_type": "stream",
     "text": [
      "\n"
     ]
    },
    {
     "name": "stdout",
     "output_type": "stream",
     "text": [
      "r2inv 0    0.82002\n",
      "Name: all, dtype: object\n",
      "#################################################################################################################################################################### 03 DETERMINISTIC MODELLING ###################################################\n",
      "inv_columns Index(['EC_0.15', 'EC_0.38', 'EC_0.51', 'EC_0.70', 'EC_0.99', 'EC_1.45',\n",
      "       'EC_2.15', 'EC_end'],\n",
      "      dtype='object')\n",
      "current_results [{'Extract': 0.5, 'Samples location': 'mean', 'Interface': 'log', 'Forward_Model': 'CS', 'Minimization_Method': 'ROPE', 'Alpha': 0.01, 'remove_coil': True, 'start_avg': True, 'constrain': True, 'Det': 'LT', 'R2': -15.408, 'RMSE': 0.21, 'MAE': 0.173, 'STD': 0.179, '0R2': -0.476, '0RMSE': 0.23, 'R2_INV': 0.8200199294377792}, {'Extract': 0.5, 'Samples location': 'mean', 'Interface': 'log', 'Forward_Model': 'CS', 'Minimization_Method': 'ROPE', 'Alpha': 0.01, 'remove_coil': True, 'start_avg': True, 'constrain': True, 'Det': 'ID', 'R2': -12.418, 'RMSE': 0.192, 'MAE': 0.162, 'STD': 0.17, '0R2': -0.349, '0RMSE': 0.225, 'R2_INV': 0.8200199294377792}, {'Extract': 0.5, 'Samples location': 'mean', 'Interface': 'log', 'Forward_Model': 'CS', 'Minimization_Method': 'ROPE', 'Alpha': 0.01, 'remove_coil': True, 'start_avg': True, 'constrain': True, 'Det': 'LS', 'R2': -14.849, 'RMSE': 0.205, 'MAE': 0.167, 'STD': 0.174, '0R2': -0.436, '0RMSE': 0.228, 'R2_INV': 0.8200199294377792}]\n",
      "Iteration: 193 Combination: (0.5, 'mean', 'log', 'CS', 'ROPE', 0.01, True, True, False)\n",
      "##################################################################################################################################################################### 02 INVERSION CONFIGURE INPUT ################################################\n"
     ]
    },
    {
     "name": "stderr",
     "output_type": "stream",
     "text": [
      "100%|██████████| 15/15 [00:00<?, ?it/s]"
     ]
    },
    {
     "name": "stdout",
     "output_type": "stream",
     "text": [
      "Inversion using CS with ROPE, reg=l2, alpha=0.01\n"
     ]
    },
    {
     "name": "stderr",
     "output_type": "stream",
     "text": [
      "\n"
     ]
    },
    {
     "name": "stdout",
     "output_type": "stream",
     "text": [
      "r2inv 0   -159.535688\n",
      "Name: all, dtype: object\n",
      "FAILED\n",
      "Iteration: 194 Combination: (0.5, 'mean', 'log', 'CS', 'ROPE', 0.01, True, False, True)\n",
      "##################################################################################################################################################################### 02 INVERSION CONFIGURE INPUT ################################################\n"
     ]
    },
    {
     "name": "stderr",
     "output_type": "stream",
     "text": [
      "100%|██████████| 15/15 [00:00<00:00, 15237.24it/s]"
     ]
    },
    {
     "name": "stdout",
     "output_type": "stream",
     "text": [
      "Constrained inversion using CS with ROPE, reg=l2, alpha=0.01\n",
      "r2inv 0    0.827193\n",
      "Name: all, dtype: object\n",
      "#################################################################################################################################################################### 03 DETERMINISTIC MODELLING ###################################################\n"
     ]
    },
    {
     "name": "stderr",
     "output_type": "stream",
     "text": [
      "\n"
     ]
    },
    {
     "name": "stdout",
     "output_type": "stream",
     "text": [
      "inv_columns Index(['EC_0.15', 'EC_0.38', 'EC_0.51', 'EC_0.70', 'EC_0.99', 'EC_1.45',\n",
      "       'EC_2.15', 'EC_end'],\n",
      "      dtype='object')\n",
      "current_results [{'Extract': 0.5, 'Samples location': 'mean', 'Interface': 'log', 'Forward_Model': 'CS', 'Minimization_Method': 'ROPE', 'Alpha': 0.01, 'remove_coil': True, 'start_avg': False, 'constrain': True, 'Det': 'LT', 'R2': -13.221, 'RMSE': 0.189, 'MAE': 0.164, 'STD': 0.176, '0R2': -0.219, '0RMSE': 0.22, 'R2_INV': 0.8271932405895241}, {'Extract': 0.5, 'Samples location': 'mean', 'Interface': 'log', 'Forward_Model': 'CS', 'Minimization_Method': 'ROPE', 'Alpha': 0.01, 'remove_coil': True, 'start_avg': False, 'constrain': True, 'Det': 'ID', 'R2': -12.3, 'RMSE': 0.182, 'MAE': 0.164, 'STD': 0.17, '0R2': -0.212, '0RMSE': 0.214, 'R2_INV': 0.8271932405895241}, {'Extract': 0.5, 'Samples location': 'mean', 'Interface': 'log', 'Forward_Model': 'CS', 'Minimization_Method': 'ROPE', 'Alpha': 0.01, 'remove_coil': True, 'start_avg': False, 'constrain': True, 'Det': 'LS', 'R2': -12.57, 'RMSE': 0.184, 'MAE': 0.158, 'STD': 0.171, '0R2': -0.192, '0RMSE': 0.218, 'R2_INV': 0.8271932405895241}]\n",
      "Iteration: 195 Combination: (0.5, 'mean', 'log', 'CS', 'ROPE', 0.01, True, False, False)\n",
      "##################################################################################################################################################################### 02 INVERSION CONFIGURE INPUT ################################################\n"
     ]
    },
    {
     "name": "stderr",
     "output_type": "stream",
     "text": [
      "100%|██████████| 15/15 [00:00<?, ?it/s]"
     ]
    },
    {
     "name": "stdout",
     "output_type": "stream",
     "text": [
      "Inversion using CS with ROPE, reg=l2, alpha=0.01\n",
      "r2inv 0   -175.528687\n",
      "Name: all, dtype: object\n",
      "FAILED\n",
      "Iteration: 196 Combination: (0.5, 'mean', 'log', 'CS', 'ROPE', 0.01, False, True, True)\n",
      "##################################################################################################################################################################### 02 INVERSION CONFIGURE INPUT ################################################\n"
     ]
    },
    {
     "name": "stderr",
     "output_type": "stream",
     "text": [
      "\n",
      "100%|██████████| 15/15 [00:00<?, ?it/s]"
     ]
    },
    {
     "name": "stdout",
     "output_type": "stream",
     "text": [
      "Constrained inversion using CS with ROPE, reg=l2, alpha=0.01\n",
      "r2inv 0    0.76292\n",
      "Name: all, dtype: object\n",
      "#################################################################################################################################################################### 03 DETERMINISTIC MODELLING ###################################################\n"
     ]
    },
    {
     "name": "stderr",
     "output_type": "stream",
     "text": [
      "\n"
     ]
    },
    {
     "name": "stdout",
     "output_type": "stream",
     "text": [
      "inv_columns Index(['EC_0.15', 'EC_0.38', 'EC_0.51', 'EC_0.70', 'EC_0.99', 'EC_1.45',\n",
      "       'EC_2.15', 'EC_end'],\n",
      "      dtype='object')\n",
      "current_results [{'Extract': 0.5, 'Samples location': 'mean', 'Interface': 'log', 'Forward_Model': 'CS', 'Minimization_Method': 'ROPE', 'Alpha': 0.01, 'remove_coil': False, 'start_avg': True, 'constrain': True, 'Det': 'LT', 'R2': -13.416, 'RMSE': 0.19, 'MAE': 0.157, 'STD': 0.166, '0R2': -0.212, '0RMSE': 0.21, 'R2_INV': 0.7629196944449534}, {'Extract': 0.5, 'Samples location': 'mean', 'Interface': 'log', 'Forward_Model': 'CS', 'Minimization_Method': 'ROPE', 'Alpha': 0.01, 'remove_coil': False, 'start_avg': True, 'constrain': True, 'Det': 'ID', 'R2': -11.263, 'RMSE': 0.183, 'MAE': 0.144, 'STD': 0.16, '0R2': -0.186, '0RMSE': 0.211, 'R2_INV': 0.7629196944449534}, {'Extract': 0.5, 'Samples location': 'mean', 'Interface': 'log', 'Forward_Model': 'CS', 'Minimization_Method': 'ROPE', 'Alpha': 0.01, 'remove_coil': False, 'start_avg': True, 'constrain': True, 'Det': 'LS', 'R2': -12.648, 'RMSE': 0.187, 'MAE': 0.151, 'STD': 0.162, '0R2': -0.168, '0RMSE': 0.206, 'R2_INV': 0.7629196944449534}]\n",
      "Iteration: 197 Combination: (0.5, 'mean', 'log', 'CS', 'ROPE', 0.01, False, True, False)\n",
      "##################################################################################################################################################################### 02 INVERSION CONFIGURE INPUT ################################################\n"
     ]
    },
    {
     "name": "stderr",
     "output_type": "stream",
     "text": [
      "100%|██████████| 15/15 [00:00<?, ?it/s]"
     ]
    },
    {
     "name": "stdout",
     "output_type": "stream",
     "text": [
      "Inversion using CS with ROPE, reg=l2, alpha=0.01\n",
      "r2inv 0   -208.712486\n",
      "Name: all, dtype: object\n",
      "FAILED\n",
      "Iteration: 198 Combination: (0.5, 'mean', 'log', 'CS', 'ROPE', 0.01, False, False, True)\n"
     ]
    },
    {
     "name": "stderr",
     "output_type": "stream",
     "text": [
      "\n"
     ]
    },
    {
     "name": "stdout",
     "output_type": "stream",
     "text": [
      "##################################################################################################################################################################### 02 INVERSION CONFIGURE INPUT ################################################\n"
     ]
    },
    {
     "name": "stderr",
     "output_type": "stream",
     "text": [
      "100%|██████████| 15/15 [00:00<?, ?it/s]"
     ]
    },
    {
     "name": "stdout",
     "output_type": "stream",
     "text": [
      "Constrained inversion using CS with ROPE, reg=l2, alpha=0.01\n",
      "r2inv 0    0.685662\n",
      "Name: all, dtype: object\n",
      "#################################################################################################################################################################### 03 DETERMINISTIC MODELLING ###################################################\n"
     ]
    },
    {
     "name": "stderr",
     "output_type": "stream",
     "text": [
      "\n"
     ]
    },
    {
     "name": "stdout",
     "output_type": "stream",
     "text": [
      "inv_columns Index(['EC_0.15', 'EC_0.38', 'EC_0.51', 'EC_0.70', 'EC_0.99', 'EC_1.45',\n",
      "       'EC_2.15', 'EC_end'],\n",
      "      dtype='object')\n",
      "current_results [{'Extract': 0.5, 'Samples location': 'mean', 'Interface': 'log', 'Forward_Model': 'CS', 'Minimization_Method': 'ROPE', 'Alpha': 0.01, 'remove_coil': False, 'start_avg': False, 'constrain': True, 'Det': 'LT', 'R2': -14.41, 'RMSE': 0.199, 'MAE': 0.164, 'STD': 0.168, '0R2': -0.441, '0RMSE': 0.232, 'R2_INV': 0.6856623925425938}, {'Extract': 0.5, 'Samples location': 'mean', 'Interface': 'log', 'Forward_Model': 'CS', 'Minimization_Method': 'ROPE', 'Alpha': 0.01, 'remove_coil': False, 'start_avg': False, 'constrain': True, 'Det': 'ID', 'R2': -11.82, 'RMSE': 0.182, 'MAE': 0.147, 'STD': 0.157, '0R2': -0.379, '0RMSE': 0.225, 'R2_INV': 0.6856623925425938}, {'Extract': 0.5, 'Samples location': 'mean', 'Interface': 'log', 'Forward_Model': 'CS', 'Minimization_Method': 'ROPE', 'Alpha': 0.01, 'remove_coil': False, 'start_avg': False, 'constrain': True, 'Det': 'LS', 'R2': -13.344, 'RMSE': 0.192, 'MAE': 0.158, 'STD': 0.16, '0R2': -0.379, '0RMSE': 0.228, 'R2_INV': 0.6856623925425938}]\n",
      "Iteration: 199 Combination: (0.5, 'mean', 'log', 'CS', 'ROPE', 0.01, False, False, False)\n",
      "##################################################################################################################################################################### 02 INVERSION CONFIGURE INPUT ################################################\n"
     ]
    },
    {
     "name": "stderr",
     "output_type": "stream",
     "text": [
      "100%|██████████| 15/15 [00:00<?, ?it/s]"
     ]
    },
    {
     "name": "stdout",
     "output_type": "stream",
     "text": [
      "Inversion using CS with ROPE, reg=l2, alpha=0.01\n",
      "r2inv 0   -191.696825\n",
      "Name: all, dtype: object\n",
      "FAILED\n",
      "Iteration: 200 Combination: (0.5, 'mean', 'log', 'CS', 'ROPE', 0.07, True, True, True)\n"
     ]
    },
    {
     "name": "stderr",
     "output_type": "stream",
     "text": [
      "\n"
     ]
    },
    {
     "name": "stdout",
     "output_type": "stream",
     "text": [
      "##################################################################################################################################################################### 02 INVERSION CONFIGURE INPUT ################################################\n"
     ]
    },
    {
     "name": "stderr",
     "output_type": "stream",
     "text": [
      "100%|██████████| 15/15 [00:00<?, ?it/s]"
     ]
    },
    {
     "name": "stdout",
     "output_type": "stream",
     "text": [
      "Constrained inversion using CS with ROPE, reg=l2, alpha=0.07\n",
      "r2inv 0    0.821023\n",
      "Name: all, dtype: object\n",
      "#################################################################################################################################################################### 03 DETERMINISTIC MODELLING ###################################################\n"
     ]
    },
    {
     "name": "stderr",
     "output_type": "stream",
     "text": [
      "\n"
     ]
    },
    {
     "name": "stdout",
     "output_type": "stream",
     "text": [
      "inv_columns Index(['EC_0.15', 'EC_0.38', 'EC_0.51', 'EC_0.70', 'EC_0.99', 'EC_1.45',\n",
      "       'EC_2.15', 'EC_end'],\n",
      "      dtype='object')\n",
      "current_results [{'Extract': 0.5, 'Samples location': 'mean', 'Interface': 'log', 'Forward_Model': 'CS', 'Minimization_Method': 'ROPE', 'Alpha': 0.07, 'remove_coil': True, 'start_avg': True, 'constrain': True, 'Det': 'LT', 'R2': -16.968, 'RMSE': 0.214, 'MAE': 0.182, 'STD': 0.185, '0R2': -0.574, '0RMSE': 0.249, 'R2_INV': 0.8210225416854949}, {'Extract': 0.5, 'Samples location': 'mean', 'Interface': 'log', 'Forward_Model': 'CS', 'Minimization_Method': 'ROPE', 'Alpha': 0.07, 'remove_coil': True, 'start_avg': True, 'constrain': True, 'Det': 'ID', 'R2': -15.202, 'RMSE': 0.199, 'MAE': 0.168, 'STD': 0.175, '0R2': -0.536, '0RMSE': 0.244, 'R2_INV': 0.8210225416854949}, {'Extract': 0.5, 'Samples location': 'mean', 'Interface': 'log', 'Forward_Model': 'CS', 'Minimization_Method': 'ROPE', 'Alpha': 0.07, 'remove_coil': True, 'start_avg': True, 'constrain': True, 'Det': 'LS', 'R2': -16.566, 'RMSE': 0.21, 'MAE': 0.176, 'STD': 0.179, '0R2': -0.539, '0RMSE': 0.245, 'R2_INV': 0.8210225416854949}]\n",
      "Iteration: 201 Combination: (0.5, 'mean', 'log', 'CS', 'ROPE', 0.07, True, True, False)\n",
      "##################################################################################################################################################################### 02 INVERSION CONFIGURE INPUT ################################################\n"
     ]
    },
    {
     "name": "stderr",
     "output_type": "stream",
     "text": [
      "100%|██████████| 15/15 [00:00<?, ?it/s]"
     ]
    },
    {
     "name": "stdout",
     "output_type": "stream",
     "text": [
      "Inversion using CS with ROPE, reg=l2, alpha=0.07\n",
      "r2inv 0   -176.773208\n",
      "Name: all, dtype: object\n",
      "FAILED\n",
      "Iteration: 202 Combination: (0.5, 'mean', 'log', 'CS', 'ROPE', 0.07, True, False, True)\n"
     ]
    },
    {
     "name": "stderr",
     "output_type": "stream",
     "text": [
      "\n"
     ]
    },
    {
     "name": "stdout",
     "output_type": "stream",
     "text": [
      "##################################################################################################################################################################### 02 INVERSION CONFIGURE INPUT ################################################\n"
     ]
    },
    {
     "name": "stderr",
     "output_type": "stream",
     "text": [
      "100%|██████████| 15/15 [00:00<?, ?it/s]"
     ]
    },
    {
     "name": "stdout",
     "output_type": "stream",
     "text": [
      "Constrained inversion using CS with ROPE, reg=l2, alpha=0.07\n",
      "r2inv 0    0.724177\n",
      "Name: all, dtype: object\n",
      "#################################################################################################################################################################### 03 DETERMINISTIC MODELLING ###################################################\n"
     ]
    },
    {
     "name": "stderr",
     "output_type": "stream",
     "text": [
      "\n"
     ]
    },
    {
     "name": "stdout",
     "output_type": "stream",
     "text": [
      "inv_columns Index(['EC_0.15', 'EC_0.38', 'EC_0.51', 'EC_0.70', 'EC_0.99', 'EC_1.45',\n",
      "       'EC_2.15', 'EC_end'],\n",
      "      dtype='object')\n",
      "current_results [{'Extract': 0.5, 'Samples location': 'mean', 'Interface': 'log', 'Forward_Model': 'CS', 'Minimization_Method': 'ROPE', 'Alpha': 0.07, 'remove_coil': True, 'start_avg': False, 'constrain': True, 'Det': 'LT', 'R2': -14.766, 'RMSE': 0.201, 'MAE': 0.17, 'STD': 0.171, '0R2': -0.495, '0RMSE': 0.236, 'R2_INV': 0.7241768353956377}, {'Extract': 0.5, 'Samples location': 'mean', 'Interface': 'log', 'Forward_Model': 'CS', 'Minimization_Method': 'ROPE', 'Alpha': 0.07, 'remove_coil': True, 'start_avg': False, 'constrain': True, 'Det': 'ID', 'R2': -14.512, 'RMSE': 0.202, 'MAE': 0.17, 'STD': 0.172, '0R2': -0.562, '0RMSE': 0.242, 'R2_INV': 0.7241768353956377}, {'Extract': 0.5, 'Samples location': 'mean', 'Interface': 'log', 'Forward_Model': 'CS', 'Minimization_Method': 'ROPE', 'Alpha': 0.07, 'remove_coil': True, 'start_avg': False, 'constrain': True, 'Det': 'LS', 'R2': -13.898, 'RMSE': 0.194, 'MAE': 0.163, 'STD': 0.164, '0R2': -0.456, '0RMSE': 0.232, 'R2_INV': 0.7241768353956377}]\n",
      "Iteration: 203 Combination: (0.5, 'mean', 'log', 'CS', 'ROPE', 0.07, True, False, False)\n",
      "##################################################################################################################################################################### 02 INVERSION CONFIGURE INPUT ################################################\n"
     ]
    },
    {
     "name": "stderr",
     "output_type": "stream",
     "text": [
      "100%|██████████| 15/15 [00:00<?, ?it/s]"
     ]
    },
    {
     "name": "stdout",
     "output_type": "stream",
     "text": [
      "Inversion using CS with ROPE, reg=l2, alpha=0.07\n",
      "r2inv 0   -153.278435\n",
      "Name: all, dtype: object\n",
      "FAILED\n",
      "Iteration: 204 Combination: (0.5, 'mean', 'log', 'CS', 'ROPE', 0.07, False, True, True)\n",
      "##################################################################################################################################################################### 02 INVERSION CONFIGURE INPUT ################################################\n"
     ]
    },
    {
     "name": "stderr",
     "output_type": "stream",
     "text": [
      "\n",
      "100%|██████████| 15/15 [00:00<?, ?it/s]"
     ]
    },
    {
     "name": "stdout",
     "output_type": "stream",
     "text": [
      "Constrained inversion using CS with ROPE, reg=l2, alpha=0.07\n",
      "r2inv 0    0.70084\n",
      "Name: all, dtype: object\n",
      "#################################################################################################################################################################### 03 DETERMINISTIC MODELLING ###################################################\n"
     ]
    },
    {
     "name": "stderr",
     "output_type": "stream",
     "text": [
      "\n"
     ]
    },
    {
     "name": "stdout",
     "output_type": "stream",
     "text": [
      "inv_columns Index(['EC_0.15', 'EC_0.38', 'EC_0.51', 'EC_0.70', 'EC_0.99', 'EC_1.45',\n",
      "       'EC_2.15', 'EC_end'],\n",
      "      dtype='object')\n",
      "current_results [{'Extract': 0.5, 'Samples location': 'mean', 'Interface': 'log', 'Forward_Model': 'CS', 'Minimization_Method': 'ROPE', 'Alpha': 0.07, 'remove_coil': False, 'start_avg': True, 'constrain': True, 'Det': 'LT', 'R2': -17.408, 'RMSE': 0.22, 'MAE': 0.187, 'STD': 0.183, '0R2': -0.792, '0RMSE': 0.266, 'R2_INV': 0.7008402396423212}, {'Extract': 0.5, 'Samples location': 'mean', 'Interface': 'log', 'Forward_Model': 'CS', 'Minimization_Method': 'ROPE', 'Alpha': 0.07, 'remove_coil': False, 'start_avg': True, 'constrain': True, 'Det': 'ID', 'R2': -14.948, 'RMSE': 0.205, 'MAE': 0.172, 'STD': 0.174, '0R2': -0.744, '0RMSE': 0.254, 'R2_INV': 0.7008402396423212}, {'Extract': 0.5, 'Samples location': 'mean', 'Interface': 'log', 'Forward_Model': 'CS', 'Minimization_Method': 'ROPE', 'Alpha': 0.07, 'remove_coil': False, 'start_avg': True, 'constrain': True, 'Det': 'LS', 'R2': -17.034, 'RMSE': 0.215, 'MAE': 0.182, 'STD': 0.178, '0R2': -0.78, '0RMSE': 0.263, 'R2_INV': 0.7008402396423212}]\n",
      "Iteration: 205 Combination: (0.5, 'mean', 'log', 'CS', 'ROPE', 0.07, False, True, False)\n",
      "##################################################################################################################################################################### 02 INVERSION CONFIGURE INPUT ################################################\n"
     ]
    },
    {
     "name": "stderr",
     "output_type": "stream",
     "text": [
      "100%|██████████| 15/15 [00:00<?, ?it/s]"
     ]
    },
    {
     "name": "stdout",
     "output_type": "stream",
     "text": [
      "Inversion using CS with ROPE, reg=l2, alpha=0.07\n",
      "r2inv 0   -155.291274\n",
      "Name: all, dtype: object\n",
      "FAILED\n",
      "Iteration: 206 Combination: (0.5, 'mean', 'log', 'CS', 'ROPE', 0.07, False, False, True)\n"
     ]
    },
    {
     "name": "stderr",
     "output_type": "stream",
     "text": [
      "\n"
     ]
    },
    {
     "name": "stdout",
     "output_type": "stream",
     "text": [
      "##################################################################################################################################################################### 02 INVERSION CONFIGURE INPUT ################################################\n"
     ]
    },
    {
     "name": "stderr",
     "output_type": "stream",
     "text": [
      "100%|██████████| 15/15 [00:00<00:00, 15001.09it/s]"
     ]
    },
    {
     "name": "stdout",
     "output_type": "stream",
     "text": [
      "Constrained inversion using CS with ROPE, reg=l2, alpha=0.07\n",
      "r2inv 0    0.696484\n",
      "Name: all, dtype: object\n",
      "#################################################################################################################################################################### 03 DETERMINISTIC MODELLING ###################################################\n"
     ]
    },
    {
     "name": "stderr",
     "output_type": "stream",
     "text": [
      "\n"
     ]
    },
    {
     "name": "stdout",
     "output_type": "stream",
     "text": [
      "inv_columns Index(['EC_0.15', 'EC_0.38', 'EC_0.51', 'EC_0.70', 'EC_0.99', 'EC_1.45',\n",
      "       'EC_2.15', 'EC_end'],\n",
      "      dtype='object')\n",
      "current_results [{'Extract': 0.5, 'Samples location': 'mean', 'Interface': 'log', 'Forward_Model': 'CS', 'Minimization_Method': 'ROPE', 'Alpha': 0.07, 'remove_coil': False, 'start_avg': False, 'constrain': True, 'Det': 'LT', 'R2': -13.856, 'RMSE': 0.196, 'MAE': 0.166, 'STD': 0.174, '0R2': -0.523, '0RMSE': 0.239, 'R2_INV': 0.696484248019126}, {'Extract': 0.5, 'Samples location': 'mean', 'Interface': 'log', 'Forward_Model': 'CS', 'Minimization_Method': 'ROPE', 'Alpha': 0.07, 'remove_coil': False, 'start_avg': False, 'constrain': True, 'Det': 'ID', 'R2': -11.681, 'RMSE': 0.18, 'MAE': 0.15, 'STD': 0.162, '0R2': -0.425, '0RMSE': 0.227, 'R2_INV': 0.696484248019126}, {'Extract': 0.5, 'Samples location': 'mean', 'Interface': 'log', 'Forward_Model': 'CS', 'Minimization_Method': 'ROPE', 'Alpha': 0.07, 'remove_coil': False, 'start_avg': False, 'constrain': True, 'Det': 'LS', 'R2': -13.093, 'RMSE': 0.19, 'MAE': 0.16, 'STD': 0.169, '0R2': -0.472, '0RMSE': 0.236, 'R2_INV': 0.696484248019126}]\n",
      "Iteration: 207 Combination: (0.5, 'mean', 'log', 'CS', 'ROPE', 0.07, False, False, False)\n",
      "##################################################################################################################################################################### 02 INVERSION CONFIGURE INPUT ################################################\n"
     ]
    },
    {
     "name": "stderr",
     "output_type": "stream",
     "text": [
      "100%|██████████| 15/15 [00:00<?, ?it/s]"
     ]
    },
    {
     "name": "stdout",
     "output_type": "stream",
     "text": [
      "Inversion using CS with ROPE, reg=l2, alpha=0.07\n",
      "r2inv 0   -158.059613\n",
      "Name: all, dtype: object\n",
      "FAILED\n",
      "Iteration: 208 Combination: (0.5, 'mean', 'log', 'CS', 'ROPE', 0.2, True, True, True)\n"
     ]
    },
    {
     "name": "stderr",
     "output_type": "stream",
     "text": [
      "\n"
     ]
    },
    {
     "name": "stdout",
     "output_type": "stream",
     "text": [
      "##################################################################################################################################################################### 02 INVERSION CONFIGURE INPUT ################################################\n"
     ]
    },
    {
     "name": "stderr",
     "output_type": "stream",
     "text": [
      "100%|██████████| 15/15 [00:00<?, ?it/s]"
     ]
    },
    {
     "name": "stdout",
     "output_type": "stream",
     "text": [
      "Constrained inversion using CS with ROPE, reg=l2, alpha=0.2\n",
      "r2inv 0    0.697137\n",
      "Name: all, dtype: object\n",
      "#################################################################################################################################################################### 03 DETERMINISTIC MODELLING ###################################################\n"
     ]
    },
    {
     "name": "stderr",
     "output_type": "stream",
     "text": [
      "\n"
     ]
    },
    {
     "name": "stdout",
     "output_type": "stream",
     "text": [
      "inv_columns Index(['EC_0.15', 'EC_0.38', 'EC_0.51', 'EC_0.70', 'EC_0.99', 'EC_1.45',\n",
      "       'EC_2.15', 'EC_end'],\n",
      "      dtype='object')\n",
      "current_results [{'Extract': 0.5, 'Samples location': 'mean', 'Interface': 'log', 'Forward_Model': 'CS', 'Minimization_Method': 'ROPE', 'Alpha': 0.2, 'remove_coil': True, 'start_avg': True, 'constrain': True, 'Det': 'LT', 'R2': -15.256, 'RMSE': 0.205, 'MAE': 0.176, 'STD': 0.174, '0R2': -0.709, '0RMSE': 0.252, 'R2_INV': 0.6971369480212641}, {'Extract': 0.5, 'Samples location': 'mean', 'Interface': 'log', 'Forward_Model': 'CS', 'Minimization_Method': 'ROPE', 'Alpha': 0.2, 'remove_coil': True, 'start_avg': True, 'constrain': True, 'Det': 'ID', 'R2': -11.748, 'RMSE': 0.188, 'MAE': 0.159, 'STD': 0.164, '0R2': -0.572, '0RMSE': 0.239, 'R2_INV': 0.6971369480212641}, {'Extract': 0.5, 'Samples location': 'mean', 'Interface': 'log', 'Forward_Model': 'CS', 'Minimization_Method': 'ROPE', 'Alpha': 0.2, 'remove_coil': True, 'start_avg': True, 'constrain': True, 'Det': 'LS', 'R2': -14.292, 'RMSE': 0.2, 'MAE': 0.169, 'STD': 0.166, '0R2': -0.656, '0RMSE': 0.248, 'R2_INV': 0.6971369480212641}]\n",
      "Iteration: 209 Combination: (0.5, 'mean', 'log', 'CS', 'ROPE', 0.2, True, True, False)\n",
      "##################################################################################################################################################################### 02 INVERSION CONFIGURE INPUT ################################################\n"
     ]
    },
    {
     "name": "stderr",
     "output_type": "stream",
     "text": [
      "100%|██████████| 15/15 [00:00<00:00, 16587.02it/s]"
     ]
    },
    {
     "name": "stdout",
     "output_type": "stream",
     "text": [
      "Inversion using CS with ROPE, reg=l2, alpha=0.2\n",
      "r2inv 0   -179.39317\n",
      "Name: all, dtype: object\n",
      "FAILED\n",
      "Iteration: 210 Combination: (0.5, 'mean', 'log', 'CS', 'ROPE', 0.2, True, False, True)\n",
      "##################################################################################################################################################################### 02 INVERSION CONFIGURE INPUT ################################################\n"
     ]
    },
    {
     "name": "stderr",
     "output_type": "stream",
     "text": [
      "\n",
      "100%|██████████| 15/15 [00:00<?, ?it/s]"
     ]
    },
    {
     "name": "stdout",
     "output_type": "stream",
     "text": [
      "Constrained inversion using CS with ROPE, reg=l2, alpha=0.2\n",
      "r2inv 0    0.700212\n",
      "Name: all, dtype: object\n",
      "#################################################################################################################################################################### 03 DETERMINISTIC MODELLING ###################################################\n"
     ]
    },
    {
     "name": "stderr",
     "output_type": "stream",
     "text": [
      "\n"
     ]
    },
    {
     "name": "stdout",
     "output_type": "stream",
     "text": [
      "inv_columns Index(['EC_0.15', 'EC_0.38', 'EC_0.51', 'EC_0.70', 'EC_0.99', 'EC_1.45',\n",
      "       'EC_2.15', 'EC_end'],\n",
      "      dtype='object')\n",
      "current_results [{'Extract': 0.5, 'Samples location': 'mean', 'Interface': 'log', 'Forward_Model': 'CS', 'Minimization_Method': 'ROPE', 'Alpha': 0.2, 'remove_coil': True, 'start_avg': False, 'constrain': True, 'Det': 'LT', 'R2': -16.53, 'RMSE': 0.214, 'MAE': 0.174, 'STD': 0.17, '0R2': -0.578, '0RMSE': 0.246, 'R2_INV': 0.7002117965895299}, {'Extract': 0.5, 'Samples location': 'mean', 'Interface': 'log', 'Forward_Model': 'CS', 'Minimization_Method': 'ROPE', 'Alpha': 0.2, 'remove_coil': True, 'start_avg': False, 'constrain': True, 'Det': 'ID', 'R2': -15.843, 'RMSE': 0.208, 'MAE': 0.164, 'STD': 0.167, '0R2': -0.478, '0RMSE': 0.238, 'R2_INV': 0.7002117965895299}, {'Extract': 0.5, 'Samples location': 'mean', 'Interface': 'log', 'Forward_Model': 'CS', 'Minimization_Method': 'ROPE', 'Alpha': 0.2, 'remove_coil': True, 'start_avg': False, 'constrain': True, 'Det': 'LS', 'R2': -15.964, 'RMSE': 0.21, 'MAE': 0.168, 'STD': 0.163, '0R2': -0.534, '0RMSE': 0.243, 'R2_INV': 0.7002117965895299}]\n",
      "Iteration: 211 Combination: (0.5, 'mean', 'log', 'CS', 'ROPE', 0.2, True, False, False)\n",
      "##################################################################################################################################################################### 02 INVERSION CONFIGURE INPUT ################################################\n"
     ]
    },
    {
     "name": "stderr",
     "output_type": "stream",
     "text": [
      "100%|██████████| 15/15 [00:00<?, ?it/s]"
     ]
    },
    {
     "name": "stdout",
     "output_type": "stream",
     "text": [
      "Inversion using CS with ROPE, reg=l2, alpha=0.2\n",
      "r2inv 0   -181.421522\n",
      "Name: all, dtype: object\n",
      "FAILED\n",
      "Iteration: 212 Combination: (0.5, 'mean', 'log', 'CS', 'ROPE', 0.2, False, True, True)\n"
     ]
    },
    {
     "name": "stderr",
     "output_type": "stream",
     "text": [
      "\n"
     ]
    },
    {
     "name": "stdout",
     "output_type": "stream",
     "text": [
      "##################################################################################################################################################################### 02 INVERSION CONFIGURE INPUT ################################################\n"
     ]
    },
    {
     "name": "stderr",
     "output_type": "stream",
     "text": [
      "100%|██████████| 15/15 [00:00<?, ?it/s]"
     ]
    },
    {
     "name": "stdout",
     "output_type": "stream",
     "text": [
      "Constrained inversion using CS with ROPE, reg=l2, alpha=0.2\n",
      "r2inv 0    0.622054\n",
      "Name: all, dtype: object\n",
      "#################################################################################################################################################################### 03 DETERMINISTIC MODELLING ###################################################\n"
     ]
    },
    {
     "name": "stderr",
     "output_type": "stream",
     "text": [
      "\n"
     ]
    },
    {
     "name": "stdout",
     "output_type": "stream",
     "text": [
      "inv_columns Index(['EC_0.15', 'EC_0.38', 'EC_0.51', 'EC_0.70', 'EC_0.99', 'EC_1.45',\n",
      "       'EC_2.15', 'EC_end'],\n",
      "      dtype='object')\n",
      "current_results [{'Extract': 0.5, 'Samples location': 'mean', 'Interface': 'log', 'Forward_Model': 'CS', 'Minimization_Method': 'ROPE', 'Alpha': 0.2, 'remove_coil': False, 'start_avg': True, 'constrain': True, 'Det': 'LT', 'R2': -15.676, 'RMSE': 0.21, 'MAE': 0.187, 'STD': 0.187, '0R2': -0.549, '0RMSE': 0.241, 'R2_INV': 0.6220542495078631}, {'Extract': 0.5, 'Samples location': 'mean', 'Interface': 'log', 'Forward_Model': 'CS', 'Minimization_Method': 'ROPE', 'Alpha': 0.2, 'remove_coil': False, 'start_avg': True, 'constrain': True, 'Det': 'ID', 'R2': -13.172, 'RMSE': 0.192, 'MAE': 0.166, 'STD': 0.173, '0R2': -0.408, '0RMSE': 0.231, 'R2_INV': 0.6220542495078631}, {'Extract': 0.5, 'Samples location': 'mean', 'Interface': 'log', 'Forward_Model': 'CS', 'Minimization_Method': 'ROPE', 'Alpha': 0.2, 'remove_coil': False, 'start_avg': True, 'constrain': True, 'Det': 'LS', 'R2': -14.578, 'RMSE': 0.204, 'MAE': 0.179, 'STD': 0.18, '0R2': -0.51, '0RMSE': 0.238, 'R2_INV': 0.6220542495078631}]\n",
      "Iteration: 213 Combination: (0.5, 'mean', 'log', 'CS', 'ROPE', 0.2, False, True, False)\n",
      "##################################################################################################################################################################### 02 INVERSION CONFIGURE INPUT ################################################\n"
     ]
    },
    {
     "name": "stderr",
     "output_type": "stream",
     "text": [
      "100%|██████████| 15/15 [00:00<?, ?it/s]"
     ]
    },
    {
     "name": "stdout",
     "output_type": "stream",
     "text": [
      "Inversion using CS with ROPE, reg=l2, alpha=0.2\n",
      "r2inv 0   -180.053675\n",
      "Name: all, dtype: object\n",
      "FAILED\n",
      "Iteration: 214 Combination: (0.5, 'mean', 'log', 'CS', 'ROPE', 0.2, False, False, True)\n",
      "##################################################################################################################################################################### 02 INVERSION CONFIGURE INPUT ################################################\n"
     ]
    },
    {
     "name": "stderr",
     "output_type": "stream",
     "text": [
      "\n",
      "100%|██████████| 15/15 [00:00<?, ?it/s]"
     ]
    },
    {
     "name": "stdout",
     "output_type": "stream",
     "text": [
      "Constrained inversion using CS with ROPE, reg=l2, alpha=0.2\n",
      "r2inv 0    0.778217\n",
      "Name: all, dtype: object\n",
      "#################################################################################################################################################################### 03 DETERMINISTIC MODELLING ###################################################\n"
     ]
    },
    {
     "name": "stderr",
     "output_type": "stream",
     "text": [
      "\n"
     ]
    },
    {
     "name": "stdout",
     "output_type": "stream",
     "text": [
      "inv_columns Index(['EC_0.15', 'EC_0.38', 'EC_0.51', 'EC_0.70', 'EC_0.99', 'EC_1.45',\n",
      "       'EC_2.15', 'EC_end'],\n",
      "      dtype='object')\n",
      "current_results [{'Extract': 0.5, 'Samples location': 'mean', 'Interface': 'log', 'Forward_Model': 'CS', 'Minimization_Method': 'ROPE', 'Alpha': 0.2, 'remove_coil': False, 'start_avg': False, 'constrain': True, 'Det': 'LT', 'R2': -12.458, 'RMSE': 0.192, 'MAE': 0.156, 'STD': 0.167, '0R2': -0.567, '0RMSE': 0.246, 'R2_INV': 0.7782172006855977}, {'Extract': 0.5, 'Samples location': 'mean', 'Interface': 'log', 'Forward_Model': 'CS', 'Minimization_Method': 'ROPE', 'Alpha': 0.2, 'remove_coil': False, 'start_avg': False, 'constrain': True, 'Det': 'ID', 'R2': -8.997, 'RMSE': 0.168, 'MAE': 0.134, 'STD': 0.15, '0R2': -0.436, '0RMSE': 0.234, 'R2_INV': 0.7782172006855977}, {'Extract': 0.5, 'Samples location': 'mean', 'Interface': 'log', 'Forward_Model': 'CS', 'Minimization_Method': 'ROPE', 'Alpha': 0.2, 'remove_coil': False, 'start_avg': False, 'constrain': True, 'Det': 'LS', 'R2': -11.98, 'RMSE': 0.188, 'MAE': 0.152, 'STD': 0.162, '0R2': -0.546, '0RMSE': 0.244, 'R2_INV': 0.7782172006855977}]\n",
      "Iteration: 215 Combination: (0.5, 'mean', 'log', 'CS', 'ROPE', 0.2, False, False, False)\n",
      "##################################################################################################################################################################### 02 INVERSION CONFIGURE INPUT ################################################\n"
     ]
    },
    {
     "name": "stderr",
     "output_type": "stream",
     "text": [
      "100%|██████████| 15/15 [00:00<?, ?it/s]"
     ]
    },
    {
     "name": "stdout",
     "output_type": "stream",
     "text": [
      "Inversion using CS with ROPE, reg=l2, alpha=0.2\n",
      "r2inv 0   -169.684676\n",
      "Name: all, dtype: object\n",
      "FAILED\n",
      "Iteration: 216 Combination: (0.5, 'mean', 'log', 'FSlin', 'Gauss-Newton', 0.01, True, True, True)\n",
      "##################################################################################################################################################################### 02 INVERSION CONFIGURE INPUT ################################################\n"
     ]
    },
    {
     "name": "stderr",
     "output_type": "stream",
     "text": [
      "\n"
     ]
    },
    {
     "name": "stdout",
     "output_type": "stream",
     "text": [
      "Constrained Inversion using FSlin with Gauss-Newton, reg=l2, alpha=0.01\n",
      "15/15 invertedr2inv 0    0.54514\n",
      "Name: all, dtype: object\n",
      "#################################################################################################################################################################### 03 DETERMINISTIC MODELLING ###################################################\n",
      "inv_columns Index(['EC_0.15', 'EC_0.38', 'EC_0.51', 'EC_0.70', 'EC_0.99', 'EC_1.45',\n",
      "       'EC_2.15', 'EC_end'],\n",
      "      dtype='object')\n",
      "current_results [{'Extract': 0.5, 'Samples location': 'mean', 'Interface': 'log', 'Forward_Model': 'FSlin', 'Minimization_Method': 'Gauss-Newton', 'Alpha': 0.01, 'remove_coil': True, 'start_avg': True, 'constrain': True, 'Det': 'LT', 'R2': -37.458, 'RMSE': 0.314, 'MAE': 0.308, 'STD': 0.315, '0R2': -3.546, '0RMSE': 0.416, 'R2_INV': 0.5451404732577221}, {'Extract': 0.5, 'Samples location': 'mean', 'Interface': 'log', 'Forward_Model': 'FSlin', 'Minimization_Method': 'Gauss-Newton', 'Alpha': 0.01, 'remove_coil': True, 'start_avg': True, 'constrain': True, 'Det': 'ID', 'R2': -37.79, 'RMSE': 0.315, 'MAE': 0.311, 'STD': 0.319, '0R2': -3.567, '0RMSE': 0.418, 'R2_INV': 0.5451404732577221}, {'Extract': 0.5, 'Samples location': 'mean', 'Interface': 'log', 'Forward_Model': 'FSlin', 'Minimization_Method': 'Gauss-Newton', 'Alpha': 0.01, 'remove_coil': True, 'start_avg': True, 'constrain': True, 'Det': 'LS', 'R2': -38.02, 'RMSE': 0.315, 'MAE': 0.31, 'STD': 0.316, '0R2': -3.576, '0RMSE': 0.418, 'R2_INV': 0.5451404732577221}]\n",
      "Iteration: 217 Combination: (0.5, 'mean', 'log', 'FSlin', 'Gauss-Newton', 0.01, True, True, False)\n",
      "##################################################################################################################################################################### 02 INVERSION CONFIGURE INPUT ################################################\n",
      "Inversion using FSlin with Gauss-Newton, reg=l2, alpha=0.01\n",
      "15/15 invertedr2inv 0    0.54514\n",
      "Name: all, dtype: object\n",
      "#################################################################################################################################################################### 03 DETERMINISTIC MODELLING ###################################################\n",
      "inv_columns Index(['EC_0.15', 'EC_0.38', 'EC_0.51', 'EC_0.70', 'EC_0.99', 'EC_1.45',\n",
      "       'EC_2.15', 'EC_end'],\n",
      "      dtype='object')\n",
      "current_results [{'Extract': 0.5, 'Samples location': 'mean', 'Interface': 'log', 'Forward_Model': 'FSlin', 'Minimization_Method': 'Gauss-Newton', 'Alpha': 0.01, 'remove_coil': True, 'start_avg': True, 'constrain': False, 'Det': 'LT', 'R2': -37.458, 'RMSE': 0.314, 'MAE': 0.308, 'STD': 0.315, '0R2': -3.546, '0RMSE': 0.416, 'R2_INV': 0.5451404732577221}, {'Extract': 0.5, 'Samples location': 'mean', 'Interface': 'log', 'Forward_Model': 'FSlin', 'Minimization_Method': 'Gauss-Newton', 'Alpha': 0.01, 'remove_coil': True, 'start_avg': True, 'constrain': False, 'Det': 'ID', 'R2': -37.79, 'RMSE': 0.315, 'MAE': 0.311, 'STD': 0.319, '0R2': -3.567, '0RMSE': 0.418, 'R2_INV': 0.5451404732577221}, {'Extract': 0.5, 'Samples location': 'mean', 'Interface': 'log', 'Forward_Model': 'FSlin', 'Minimization_Method': 'Gauss-Newton', 'Alpha': 0.01, 'remove_coil': True, 'start_avg': True, 'constrain': False, 'Det': 'LS', 'R2': -38.02, 'RMSE': 0.315, 'MAE': 0.31, 'STD': 0.316, '0R2': -3.576, '0RMSE': 0.418, 'R2_INV': 0.5451404732577221}]\n",
      "Iteration: 218 Combination: (0.5, 'mean', 'log', 'FSlin', 'Gauss-Newton', 0.01, True, False, True)\n",
      "##################################################################################################################################################################### 02 INVERSION CONFIGURE INPUT ################################################\n",
      "Constrained Inversion using FSlin with Gauss-Newton, reg=l2, alpha=0.01\n",
      "15/15 invertedr2inv 0   -0.001347\n",
      "Name: all, dtype: object\n",
      "FAILED\n",
      "Iteration: 219 Combination: (0.5, 'mean', 'log', 'FSlin', 'Gauss-Newton', 0.01, True, False, False)\n",
      "##################################################################################################################################################################### 02 INVERSION CONFIGURE INPUT ################################################\n",
      "Inversion using FSlin with Gauss-Newton, reg=l2, alpha=0.01\n",
      "15/15 invertedr2inv 0   -0.001347\n",
      "Name: all, dtype: object\n",
      "FAILED\n",
      "Iteration: 220 Combination: (0.5, 'mean', 'log', 'FSlin', 'Gauss-Newton', 0.01, False, True, True)\n",
      "##################################################################################################################################################################### 02 INVERSION CONFIGURE INPUT ################################################\n",
      "Constrained Inversion using FSlin with Gauss-Newton, reg=l2, alpha=0.01\n",
      "15/15 invertedr2inv 0    0.626374\n",
      "Name: all, dtype: object\n",
      "#################################################################################################################################################################### 03 DETERMINISTIC MODELLING ###################################################\n",
      "inv_columns Index(['EC_0.15', 'EC_0.38', 'EC_0.51', 'EC_0.70', 'EC_0.99', 'EC_1.45',\n",
      "       'EC_2.15', 'EC_end'],\n",
      "      dtype='object')\n",
      "current_results [{'Extract': 0.5, 'Samples location': 'mean', 'Interface': 'log', 'Forward_Model': 'FSlin', 'Minimization_Method': 'Gauss-Newton', 'Alpha': 0.01, 'remove_coil': False, 'start_avg': True, 'constrain': True, 'Det': 'LT', 'R2': -39.985, 'RMSE': 0.322, 'MAE': 0.318, 'STD': 0.325, '0R2': -3.869, '0RMSE': 0.424, 'R2_INV': 0.6263741981262121}, {'Extract': 0.5, 'Samples location': 'mean', 'Interface': 'log', 'Forward_Model': 'FSlin', 'Minimization_Method': 'Gauss-Newton', 'Alpha': 0.01, 'remove_coil': False, 'start_avg': True, 'constrain': True, 'Det': 'ID', 'R2': -39.985, 'RMSE': 0.322, 'MAE': 0.318, 'STD': 0.325, '0R2': -3.883, '0RMSE': 0.424, 'R2_INV': 0.6263741981262121}, {'Extract': 0.5, 'Samples location': 'mean', 'Interface': 'log', 'Forward_Model': 'FSlin', 'Minimization_Method': 'Gauss-Newton', 'Alpha': 0.01, 'remove_coil': False, 'start_avg': True, 'constrain': True, 'Det': 'LS', 'R2': -39.985, 'RMSE': 0.322, 'MAE': 0.318, 'STD': 0.325, '0R2': -3.876, '0RMSE': 0.424, 'R2_INV': 0.6263741981262121}]\n",
      "Iteration: 221 Combination: (0.5, 'mean', 'log', 'FSlin', 'Gauss-Newton', 0.01, False, True, False)\n",
      "##################################################################################################################################################################### 02 INVERSION CONFIGURE INPUT ################################################\n",
      "Inversion using FSlin with Gauss-Newton, reg=l2, alpha=0.01\n",
      "15/15 invertedr2inv 0    0.626374\n",
      "Name: all, dtype: object\n",
      "#################################################################################################################################################################### 03 DETERMINISTIC MODELLING ###################################################\n",
      "inv_columns Index(['EC_0.15', 'EC_0.38', 'EC_0.51', 'EC_0.70', 'EC_0.99', 'EC_1.45',\n",
      "       'EC_2.15', 'EC_end'],\n",
      "      dtype='object')\n",
      "current_results [{'Extract': 0.5, 'Samples location': 'mean', 'Interface': 'log', 'Forward_Model': 'FSlin', 'Minimization_Method': 'Gauss-Newton', 'Alpha': 0.01, 'remove_coil': False, 'start_avg': True, 'constrain': False, 'Det': 'LT', 'R2': -39.985, 'RMSE': 0.322, 'MAE': 0.318, 'STD': 0.325, '0R2': -3.869, '0RMSE': 0.424, 'R2_INV': 0.6263741981262121}, {'Extract': 0.5, 'Samples location': 'mean', 'Interface': 'log', 'Forward_Model': 'FSlin', 'Minimization_Method': 'Gauss-Newton', 'Alpha': 0.01, 'remove_coil': False, 'start_avg': True, 'constrain': False, 'Det': 'ID', 'R2': -39.985, 'RMSE': 0.322, 'MAE': 0.318, 'STD': 0.325, '0R2': -3.883, '0RMSE': 0.424, 'R2_INV': 0.6263741981262121}, {'Extract': 0.5, 'Samples location': 'mean', 'Interface': 'log', 'Forward_Model': 'FSlin', 'Minimization_Method': 'Gauss-Newton', 'Alpha': 0.01, 'remove_coil': False, 'start_avg': True, 'constrain': False, 'Det': 'LS', 'R2': -39.985, 'RMSE': 0.322, 'MAE': 0.318, 'STD': 0.325, '0R2': -3.876, '0RMSE': 0.424, 'R2_INV': 0.6263741981262121}]\n",
      "Iteration: 222 Combination: (0.5, 'mean', 'log', 'FSlin', 'Gauss-Newton', 0.01, False, False, True)\n",
      "##################################################################################################################################################################### 02 INVERSION CONFIGURE INPUT ################################################\n",
      "Constrained Inversion using FSlin with Gauss-Newton, reg=l2, alpha=0.01\n",
      "15/15 invertedr2inv 0    0.124626\n",
      "Name: all, dtype: object\n",
      "#################################################################################################################################################################### 03 DETERMINISTIC MODELLING ###################################################\n",
      "inv_columns Index(['EC_0.15', 'EC_0.38', 'EC_0.51', 'EC_0.70', 'EC_0.99', 'EC_1.45',\n",
      "       'EC_2.15', 'EC_end'],\n",
      "      dtype='object')\n",
      "current_results [{'Extract': 0.5, 'Samples location': 'mean', 'Interface': 'log', 'Forward_Model': 'FSlin', 'Minimization_Method': 'Gauss-Newton', 'Alpha': 0.01, 'remove_coil': False, 'start_avg': False, 'constrain': True, 'Det': 'LT', 'R2': -32.633, 'RMSE': 0.294, 'MAE': 0.28, 'STD': 0.302, '0R2': -2.855, '0RMSE': 0.38, 'R2_INV': 0.1246256238101952}, {'Extract': 0.5, 'Samples location': 'mean', 'Interface': 'log', 'Forward_Model': 'FSlin', 'Minimization_Method': 'Gauss-Newton', 'Alpha': 0.01, 'remove_coil': False, 'start_avg': False, 'constrain': True, 'Det': 'ID', 'R2': -32.431, 'RMSE': 0.295, 'MAE': 0.282, 'STD': 0.304, '0R2': -2.861, '0RMSE': 0.378, 'R2_INV': 0.1246256238101952}, {'Extract': 0.5, 'Samples location': 'mean', 'Interface': 'log', 'Forward_Model': 'FSlin', 'Minimization_Method': 'Gauss-Newton', 'Alpha': 0.01, 'remove_coil': False, 'start_avg': False, 'constrain': True, 'Det': 'LS', 'R2': -32.935, 'RMSE': 0.294, 'MAE': 0.281, 'STD': 0.302, '0R2': -2.886, '0RMSE': 0.381, 'R2_INV': 0.1246256238101952}]\n",
      "Iteration: 223 Combination: (0.5, 'mean', 'log', 'FSlin', 'Gauss-Newton', 0.01, False, False, False)\n",
      "##################################################################################################################################################################### 02 INVERSION CONFIGURE INPUT ################################################\n",
      "Inversion using FSlin with Gauss-Newton, reg=l2, alpha=0.01\n",
      "15/15 invertedr2inv 0    0.124626\n",
      "Name: all, dtype: object\n",
      "#################################################################################################################################################################### 03 DETERMINISTIC MODELLING ###################################################\n",
      "inv_columns Index(['EC_0.15', 'EC_0.38', 'EC_0.51', 'EC_0.70', 'EC_0.99', 'EC_1.45',\n",
      "       'EC_2.15', 'EC_end'],\n",
      "      dtype='object')\n",
      "current_results [{'Extract': 0.5, 'Samples location': 'mean', 'Interface': 'log', 'Forward_Model': 'FSlin', 'Minimization_Method': 'Gauss-Newton', 'Alpha': 0.01, 'remove_coil': False, 'start_avg': False, 'constrain': False, 'Det': 'LT', 'R2': -32.633, 'RMSE': 0.294, 'MAE': 0.28, 'STD': 0.302, '0R2': -2.855, '0RMSE': 0.38, 'R2_INV': 0.1246256238101952}, {'Extract': 0.5, 'Samples location': 'mean', 'Interface': 'log', 'Forward_Model': 'FSlin', 'Minimization_Method': 'Gauss-Newton', 'Alpha': 0.01, 'remove_coil': False, 'start_avg': False, 'constrain': False, 'Det': 'ID', 'R2': -32.431, 'RMSE': 0.295, 'MAE': 0.282, 'STD': 0.304, '0R2': -2.861, '0RMSE': 0.378, 'R2_INV': 0.1246256238101952}, {'Extract': 0.5, 'Samples location': 'mean', 'Interface': 'log', 'Forward_Model': 'FSlin', 'Minimization_Method': 'Gauss-Newton', 'Alpha': 0.01, 'remove_coil': False, 'start_avg': False, 'constrain': False, 'Det': 'LS', 'R2': -32.935, 'RMSE': 0.294, 'MAE': 0.281, 'STD': 0.302, '0R2': -2.886, '0RMSE': 0.381, 'R2_INV': 0.1246256238101952}]\n",
      "Iteration: 224 Combination: (0.5, 'mean', 'log', 'FSlin', 'Gauss-Newton', 0.07, True, True, True)\n",
      "##################################################################################################################################################################### 02 INVERSION CONFIGURE INPUT ################################################\n",
      "Constrained Inversion using FSlin with Gauss-Newton, reg=l2, alpha=0.07\n",
      "15/15 invertedr2inv 0    0.480973\n",
      "Name: all, dtype: object\n",
      "#################################################################################################################################################################### 03 DETERMINISTIC MODELLING ###################################################\n",
      "inv_columns Index(['EC_0.15', 'EC_0.38', 'EC_0.51', 'EC_0.70', 'EC_0.99', 'EC_1.45',\n",
      "       'EC_2.15', 'EC_end'],\n",
      "      dtype='object')\n",
      "current_results [{'Extract': 0.5, 'Samples location': 'mean', 'Interface': 'log', 'Forward_Model': 'FSlin', 'Minimization_Method': 'Gauss-Newton', 'Alpha': 0.07, 'remove_coil': True, 'start_avg': True, 'constrain': True, 'Det': 'LT', 'R2': -23.178, 'RMSE': 0.249, 'MAE': 0.228, 'STD': 0.17, '0R2': -1.213, '0RMSE': 0.288, 'R2_INV': 0.4809728381433302}, {'Extract': 0.5, 'Samples location': 'mean', 'Interface': 'log', 'Forward_Model': 'FSlin', 'Minimization_Method': 'Gauss-Newton', 'Alpha': 0.07, 'remove_coil': True, 'start_avg': True, 'constrain': True, 'Det': 'ID', 'R2': -22.842, 'RMSE': 0.251, 'MAE': 0.225, 'STD': 0.186, '0R2': -1.246, '0RMSE': 0.289, 'R2_INV': 0.4809728381433302}, {'Extract': 0.5, 'Samples location': 'mean', 'Interface': 'log', 'Forward_Model': 'FSlin', 'Minimization_Method': 'Gauss-Newton', 'Alpha': 0.07, 'remove_coil': True, 'start_avg': True, 'constrain': True, 'Det': 'LS', 'R2': -23.252, 'RMSE': 0.25, 'MAE': 0.226, 'STD': 0.17, '0R2': -1.238, '0RMSE': 0.288, 'R2_INV': 0.4809728381433302}]\n",
      "Iteration: 225 Combination: (0.5, 'mean', 'log', 'FSlin', 'Gauss-Newton', 0.07, True, True, False)\n",
      "##################################################################################################################################################################### 02 INVERSION CONFIGURE INPUT ################################################\n",
      "Inversion using FSlin with Gauss-Newton, reg=l2, alpha=0.07\n",
      "15/15 invertedr2inv 0    0.480973\n",
      "Name: all, dtype: object\n",
      "#################################################################################################################################################################### 03 DETERMINISTIC MODELLING ###################################################\n",
      "inv_columns Index(['EC_0.15', 'EC_0.38', 'EC_0.51', 'EC_0.70', 'EC_0.99', 'EC_1.45',\n",
      "       'EC_2.15', 'EC_end'],\n",
      "      dtype='object')\n",
      "current_results [{'Extract': 0.5, 'Samples location': 'mean', 'Interface': 'log', 'Forward_Model': 'FSlin', 'Minimization_Method': 'Gauss-Newton', 'Alpha': 0.07, 'remove_coil': True, 'start_avg': True, 'constrain': False, 'Det': 'LT', 'R2': -23.178, 'RMSE': 0.249, 'MAE': 0.228, 'STD': 0.17, '0R2': -1.213, '0RMSE': 0.288, 'R2_INV': 0.4809728381433302}, {'Extract': 0.5, 'Samples location': 'mean', 'Interface': 'log', 'Forward_Model': 'FSlin', 'Minimization_Method': 'Gauss-Newton', 'Alpha': 0.07, 'remove_coil': True, 'start_avg': True, 'constrain': False, 'Det': 'ID', 'R2': -22.842, 'RMSE': 0.251, 'MAE': 0.225, 'STD': 0.186, '0R2': -1.246, '0RMSE': 0.289, 'R2_INV': 0.4809728381433302}, {'Extract': 0.5, 'Samples location': 'mean', 'Interface': 'log', 'Forward_Model': 'FSlin', 'Minimization_Method': 'Gauss-Newton', 'Alpha': 0.07, 'remove_coil': True, 'start_avg': True, 'constrain': False, 'Det': 'LS', 'R2': -23.252, 'RMSE': 0.25, 'MAE': 0.226, 'STD': 0.17, '0R2': -1.238, '0RMSE': 0.288, 'R2_INV': 0.4809728381433302}]\n",
      "Iteration: 226 Combination: (0.5, 'mean', 'log', 'FSlin', 'Gauss-Newton', 0.07, True, False, True)\n",
      "##################################################################################################################################################################### 02 INVERSION CONFIGURE INPUT ################################################\n",
      "Constrained Inversion using FSlin with Gauss-Newton, reg=l2, alpha=0.07\n",
      "15/15 invertedr2inv 0    0.237401\n",
      "Name: all, dtype: object\n",
      "#################################################################################################################################################################### 03 DETERMINISTIC MODELLING ###################################################\n",
      "inv_columns Index(['EC_0.15', 'EC_0.38', 'EC_0.51', 'EC_0.70', 'EC_0.99', 'EC_1.45',\n",
      "       'EC_2.15', 'EC_end'],\n",
      "      dtype='object')\n",
      "current_results [{'Extract': 0.5, 'Samples location': 'mean', 'Interface': 'log', 'Forward_Model': 'FSlin', 'Minimization_Method': 'Gauss-Newton', 'Alpha': 0.07, 'remove_coil': True, 'start_avg': False, 'constrain': True, 'Det': 'LT', 'R2': -16.739, 'RMSE': 0.216, 'MAE': 0.196, 'STD': 0.221, '0R2': 0.036, '0RMSE': 0.196, 'R2_INV': 0.2374014829756792}, {'Extract': 0.5, 'Samples location': 'mean', 'Interface': 'log', 'Forward_Model': 'FSlin', 'Minimization_Method': 'Gauss-Newton', 'Alpha': 0.07, 'remove_coil': True, 'start_avg': False, 'constrain': True, 'Det': 'ID', 'R2': -16.644, 'RMSE': 0.218, 'MAE': 0.199, 'STD': 0.23, '0R2': 0.046, '0RMSE': 0.195, 'R2_INV': 0.2374014829756792}, {'Extract': 0.5, 'Samples location': 'mean', 'Interface': 'log', 'Forward_Model': 'FSlin', 'Minimization_Method': 'Gauss-Newton', 'Alpha': 0.07, 'remove_coil': True, 'start_avg': False, 'constrain': True, 'Det': 'LS', 'R2': -16.668, 'RMSE': 0.216, 'MAE': 0.196, 'STD': 0.222, '0R2': 0.02, '0RMSE': 0.198, 'R2_INV': 0.2374014829756792}]\n",
      "Iteration: 227 Combination: (0.5, 'mean', 'log', 'FSlin', 'Gauss-Newton', 0.07, True, False, False)\n",
      "##################################################################################################################################################################### 02 INVERSION CONFIGURE INPUT ################################################\n",
      "Inversion using FSlin with Gauss-Newton, reg=l2, alpha=0.07\n",
      "15/15 invertedr2inv 0    0.237401\n",
      "Name: all, dtype: object\n",
      "#################################################################################################################################################################### 03 DETERMINISTIC MODELLING ###################################################\n",
      "inv_columns Index(['EC_0.15', 'EC_0.38', 'EC_0.51', 'EC_0.70', 'EC_0.99', 'EC_1.45',\n",
      "       'EC_2.15', 'EC_end'],\n",
      "      dtype='object')\n",
      "current_results [{'Extract': 0.5, 'Samples location': 'mean', 'Interface': 'log', 'Forward_Model': 'FSlin', 'Minimization_Method': 'Gauss-Newton', 'Alpha': 0.07, 'remove_coil': True, 'start_avg': False, 'constrain': False, 'Det': 'LT', 'R2': -16.739, 'RMSE': 0.216, 'MAE': 0.196, 'STD': 0.221, '0R2': 0.036, '0RMSE': 0.196, 'R2_INV': 0.2374014829756792}, {'Extract': 0.5, 'Samples location': 'mean', 'Interface': 'log', 'Forward_Model': 'FSlin', 'Minimization_Method': 'Gauss-Newton', 'Alpha': 0.07, 'remove_coil': True, 'start_avg': False, 'constrain': False, 'Det': 'ID', 'R2': -16.644, 'RMSE': 0.218, 'MAE': 0.199, 'STD': 0.23, '0R2': 0.046, '0RMSE': 0.195, 'R2_INV': 0.2374014829756792}, {'Extract': 0.5, 'Samples location': 'mean', 'Interface': 'log', 'Forward_Model': 'FSlin', 'Minimization_Method': 'Gauss-Newton', 'Alpha': 0.07, 'remove_coil': True, 'start_avg': False, 'constrain': False, 'Det': 'LS', 'R2': -16.668, 'RMSE': 0.216, 'MAE': 0.196, 'STD': 0.222, '0R2': 0.02, '0RMSE': 0.198, 'R2_INV': 0.2374014829756792}]\n",
      "Iteration: 228 Combination: (0.5, 'mean', 'log', 'FSlin', 'Gauss-Newton', 0.07, False, True, True)\n",
      "##################################################################################################################################################################### 02 INVERSION CONFIGURE INPUT ################################################\n",
      "Constrained Inversion using FSlin with Gauss-Newton, reg=l2, alpha=0.07\n",
      "15/15 invertedr2inv 0    0.576924\n",
      "Name: all, dtype: object\n",
      "#################################################################################################################################################################### 03 DETERMINISTIC MODELLING ###################################################\n",
      "inv_columns Index(['EC_0.15', 'EC_0.38', 'EC_0.51', 'EC_0.70', 'EC_0.99', 'EC_1.45',\n",
      "       'EC_2.15', 'EC_end'],\n",
      "      dtype='object')\n",
      "current_results [{'Extract': 0.5, 'Samples location': 'mean', 'Interface': 'log', 'Forward_Model': 'FSlin', 'Minimization_Method': 'Gauss-Newton', 'Alpha': 0.07, 'remove_coil': False, 'start_avg': True, 'constrain': True, 'Det': 'LT', 'R2': -25.239, 'RMSE': 0.264, 'MAE': 0.234, 'STD': 0.178, '0R2': -1.573, '0RMSE': 0.308, 'R2_INV': 0.5769236326802298}, {'Extract': 0.5, 'Samples location': 'mean', 'Interface': 'log', 'Forward_Model': 'FSlin', 'Minimization_Method': 'Gauss-Newton', 'Alpha': 0.07, 'remove_coil': False, 'start_avg': True, 'constrain': True, 'Det': 'ID', 'R2': -24.486, 'RMSE': 0.263, 'MAE': 0.244, 'STD': 0.19, '0R2': -1.504, '0RMSE': 0.308, 'R2_INV': 0.5769236326802298}, {'Extract': 0.5, 'Samples location': 'mean', 'Interface': 'log', 'Forward_Model': 'FSlin', 'Minimization_Method': 'Gauss-Newton', 'Alpha': 0.07, 'remove_coil': False, 'start_avg': True, 'constrain': True, 'Det': 'LS', 'R2': -25.36, 'RMSE': 0.264, 'MAE': 0.234, 'STD': 0.18, '0R2': -1.588, '0RMSE': 0.309, 'R2_INV': 0.5769236326802298}]\n",
      "Iteration: 229 Combination: (0.5, 'mean', 'log', 'FSlin', 'Gauss-Newton', 0.07, False, True, False)\n",
      "##################################################################################################################################################################### 02 INVERSION CONFIGURE INPUT ################################################\n",
      "Inversion using FSlin with Gauss-Newton, reg=l2, alpha=0.07\n",
      "15/15 invertedr2inv 0    0.576924\n",
      "Name: all, dtype: object\n",
      "#################################################################################################################################################################### 03 DETERMINISTIC MODELLING ###################################################\n",
      "inv_columns Index(['EC_0.15', 'EC_0.38', 'EC_0.51', 'EC_0.70', 'EC_0.99', 'EC_1.45',\n",
      "       'EC_2.15', 'EC_end'],\n",
      "      dtype='object')\n",
      "current_results [{'Extract': 0.5, 'Samples location': 'mean', 'Interface': 'log', 'Forward_Model': 'FSlin', 'Minimization_Method': 'Gauss-Newton', 'Alpha': 0.07, 'remove_coil': False, 'start_avg': True, 'constrain': False, 'Det': 'LT', 'R2': -25.239, 'RMSE': 0.264, 'MAE': 0.234, 'STD': 0.178, '0R2': -1.573, '0RMSE': 0.308, 'R2_INV': 0.5769236326802298}, {'Extract': 0.5, 'Samples location': 'mean', 'Interface': 'log', 'Forward_Model': 'FSlin', 'Minimization_Method': 'Gauss-Newton', 'Alpha': 0.07, 'remove_coil': False, 'start_avg': True, 'constrain': False, 'Det': 'ID', 'R2': -24.486, 'RMSE': 0.263, 'MAE': 0.244, 'STD': 0.19, '0R2': -1.504, '0RMSE': 0.308, 'R2_INV': 0.5769236326802298}, {'Extract': 0.5, 'Samples location': 'mean', 'Interface': 'log', 'Forward_Model': 'FSlin', 'Minimization_Method': 'Gauss-Newton', 'Alpha': 0.07, 'remove_coil': False, 'start_avg': True, 'constrain': False, 'Det': 'LS', 'R2': -25.36, 'RMSE': 0.264, 'MAE': 0.234, 'STD': 0.18, '0R2': -1.588, '0RMSE': 0.309, 'R2_INV': 0.5769236326802298}]\n",
      "Iteration: 230 Combination: (0.5, 'mean', 'log', 'FSlin', 'Gauss-Newton', 0.07, False, False, True)\n",
      "##################################################################################################################################################################### 02 INVERSION CONFIGURE INPUT ################################################\n",
      "Constrained Inversion using FSlin with Gauss-Newton, reg=l2, alpha=0.07\n",
      "15/15 invertedr2inv 0    0.365425\n",
      "Name: all, dtype: object\n",
      "#################################################################################################################################################################### 03 DETERMINISTIC MODELLING ###################################################\n",
      "inv_columns Index(['EC_0.15', 'EC_0.38', 'EC_0.51', 'EC_0.70', 'EC_0.99', 'EC_1.45',\n",
      "       'EC_2.15', 'EC_end'],\n",
      "      dtype='object')\n",
      "current_results [{'Extract': 0.5, 'Samples location': 'mean', 'Interface': 'log', 'Forward_Model': 'FSlin', 'Minimization_Method': 'Gauss-Newton', 'Alpha': 0.07, 'remove_coil': False, 'start_avg': False, 'constrain': True, 'Det': 'LT', 'R2': -14.64, 'RMSE': 0.204, 'MAE': 0.188, 'STD': 0.212, '0R2': -0.028, '0RMSE': 0.202, 'R2_INV': 0.365424832611473}, {'Extract': 0.5, 'Samples location': 'mean', 'Interface': 'log', 'Forward_Model': 'FSlin', 'Minimization_Method': 'Gauss-Newton', 'Alpha': 0.07, 'remove_coil': False, 'start_avg': False, 'constrain': True, 'Det': 'ID', 'R2': -15.288, 'RMSE': 0.21, 'MAE': 0.192, 'STD': 0.222, '0R2': -0.023, '0RMSE': 0.201, 'R2_INV': 0.365424832611473}, {'Extract': 0.5, 'Samples location': 'mean', 'Interface': 'log', 'Forward_Model': 'FSlin', 'Minimization_Method': 'Gauss-Newton', 'Alpha': 0.07, 'remove_coil': False, 'start_avg': False, 'constrain': True, 'Det': 'LS', 'R2': -14.374, 'RMSE': 0.203, 'MAE': 0.187, 'STD': 0.211, '0R2': -0.047, '0RMSE': 0.203, 'R2_INV': 0.365424832611473}]\n",
      "Iteration: 231 Combination: (0.5, 'mean', 'log', 'FSlin', 'Gauss-Newton', 0.07, False, False, False)\n",
      "##################################################################################################################################################################### 02 INVERSION CONFIGURE INPUT ################################################\n",
      "Inversion using FSlin with Gauss-Newton, reg=l2, alpha=0.07\n",
      "15/15 invertedr2inv 0    0.365425\n",
      "Name: all, dtype: object\n",
      "#################################################################################################################################################################### 03 DETERMINISTIC MODELLING ###################################################\n",
      "inv_columns Index(['EC_0.15', 'EC_0.38', 'EC_0.51', 'EC_0.70', 'EC_0.99', 'EC_1.45',\n",
      "       'EC_2.15', 'EC_end'],\n",
      "      dtype='object')\n",
      "current_results [{'Extract': 0.5, 'Samples location': 'mean', 'Interface': 'log', 'Forward_Model': 'FSlin', 'Minimization_Method': 'Gauss-Newton', 'Alpha': 0.07, 'remove_coil': False, 'start_avg': False, 'constrain': False, 'Det': 'LT', 'R2': -14.64, 'RMSE': 0.204, 'MAE': 0.188, 'STD': 0.212, '0R2': -0.028, '0RMSE': 0.202, 'R2_INV': 0.365424832611473}, {'Extract': 0.5, 'Samples location': 'mean', 'Interface': 'log', 'Forward_Model': 'FSlin', 'Minimization_Method': 'Gauss-Newton', 'Alpha': 0.07, 'remove_coil': False, 'start_avg': False, 'constrain': False, 'Det': 'ID', 'R2': -15.288, 'RMSE': 0.21, 'MAE': 0.192, 'STD': 0.222, '0R2': -0.023, '0RMSE': 0.201, 'R2_INV': 0.365424832611473}, {'Extract': 0.5, 'Samples location': 'mean', 'Interface': 'log', 'Forward_Model': 'FSlin', 'Minimization_Method': 'Gauss-Newton', 'Alpha': 0.07, 'remove_coil': False, 'start_avg': False, 'constrain': False, 'Det': 'LS', 'R2': -14.374, 'RMSE': 0.203, 'MAE': 0.187, 'STD': 0.211, '0R2': -0.047, '0RMSE': 0.203, 'R2_INV': 0.365424832611473}]\n",
      "Iteration: 232 Combination: (0.5, 'mean', 'log', 'FSlin', 'Gauss-Newton', 0.2, True, True, True)\n",
      "##################################################################################################################################################################### 02 INVERSION CONFIGURE INPUT ################################################\n",
      "Constrained Inversion using FSlin with Gauss-Newton, reg=l2, alpha=0.2\n",
      "15/15 invertedr2inv 0    0.339611\n",
      "Name: all, dtype: object\n",
      "#################################################################################################################################################################### 03 DETERMINISTIC MODELLING ###################################################\n",
      "inv_columns Index(['EC_0.15', 'EC_0.38', 'EC_0.51', 'EC_0.70', 'EC_0.99', 'EC_1.45',\n",
      "       'EC_2.15', 'EC_end'],\n",
      "      dtype='object')\n",
      "current_results [{'Extract': 0.5, 'Samples location': 'mean', 'Interface': 'log', 'Forward_Model': 'FSlin', 'Minimization_Method': 'Gauss-Newton', 'Alpha': 0.2, 'remove_coil': True, 'start_avg': True, 'constrain': True, 'Det': 'LT', 'R2': -18.919, 'RMSE': 0.226, 'MAE': 0.196, 'STD': 0.217, '0R2': -0.247, '0RMSE': 0.214, 'R2_INV': 0.339610842837894}, {'Extract': 0.5, 'Samples location': 'mean', 'Interface': 'log', 'Forward_Model': 'FSlin', 'Minimization_Method': 'Gauss-Newton', 'Alpha': 0.2, 'remove_coil': True, 'start_avg': True, 'constrain': True, 'Det': 'ID', 'R2': -17.667, 'RMSE': 0.216, 'MAE': 0.186, 'STD': 0.206, '0R2': -0.143, '0RMSE': 0.206, 'R2_INV': 0.339610842837894}, {'Extract': 0.5, 'Samples location': 'mean', 'Interface': 'log', 'Forward_Model': 'FSlin', 'Minimization_Method': 'Gauss-Newton', 'Alpha': 0.2, 'remove_coil': True, 'start_avg': True, 'constrain': True, 'Det': 'LS', 'R2': -18.694, 'RMSE': 0.226, 'MAE': 0.194, 'STD': 0.214, '0R2': -0.252, '0RMSE': 0.213, 'R2_INV': 0.339610842837894}]\n",
      "Iteration: 233 Combination: (0.5, 'mean', 'log', 'FSlin', 'Gauss-Newton', 0.2, True, True, False)\n",
      "##################################################################################################################################################################### 02 INVERSION CONFIGURE INPUT ################################################\n",
      "Inversion using FSlin with Gauss-Newton, reg=l2, alpha=0.2\n",
      "15/15 invertedr2inv 0    0.339611\n",
      "Name: all, dtype: object\n",
      "#################################################################################################################################################################### 03 DETERMINISTIC MODELLING ###################################################\n",
      "inv_columns Index(['EC_0.15', 'EC_0.38', 'EC_0.51', 'EC_0.70', 'EC_0.99', 'EC_1.45',\n",
      "       'EC_2.15', 'EC_end'],\n",
      "      dtype='object')\n",
      "current_results [{'Extract': 0.5, 'Samples location': 'mean', 'Interface': 'log', 'Forward_Model': 'FSlin', 'Minimization_Method': 'Gauss-Newton', 'Alpha': 0.2, 'remove_coil': True, 'start_avg': True, 'constrain': False, 'Det': 'LT', 'R2': -18.919, 'RMSE': 0.226, 'MAE': 0.196, 'STD': 0.217, '0R2': -0.247, '0RMSE': 0.214, 'R2_INV': 0.339610842837894}, {'Extract': 0.5, 'Samples location': 'mean', 'Interface': 'log', 'Forward_Model': 'FSlin', 'Minimization_Method': 'Gauss-Newton', 'Alpha': 0.2, 'remove_coil': True, 'start_avg': True, 'constrain': False, 'Det': 'ID', 'R2': -17.667, 'RMSE': 0.216, 'MAE': 0.186, 'STD': 0.206, '0R2': -0.143, '0RMSE': 0.206, 'R2_INV': 0.339610842837894}, {'Extract': 0.5, 'Samples location': 'mean', 'Interface': 'log', 'Forward_Model': 'FSlin', 'Minimization_Method': 'Gauss-Newton', 'Alpha': 0.2, 'remove_coil': True, 'start_avg': True, 'constrain': False, 'Det': 'LS', 'R2': -18.694, 'RMSE': 0.226, 'MAE': 0.194, 'STD': 0.214, '0R2': -0.252, '0RMSE': 0.213, 'R2_INV': 0.339610842837894}]\n",
      "Iteration: 234 Combination: (0.5, 'mean', 'log', 'FSlin', 'Gauss-Newton', 0.2, True, False, True)\n",
      "##################################################################################################################################################################### 02 INVERSION CONFIGURE INPUT ################################################\n",
      "Constrained Inversion using FSlin with Gauss-Newton, reg=l2, alpha=0.2\n",
      "15/15 invertedr2inv 0    0.091141\n",
      "Name: all, dtype: object\n",
      "#################################################################################################################################################################### 03 DETERMINISTIC MODELLING ###################################################\n",
      "inv_columns Index(['EC_0.15', 'EC_0.38', 'EC_0.51', 'EC_0.70', 'EC_0.99', 'EC_1.45',\n",
      "       'EC_2.15', 'EC_end'],\n",
      "      dtype='object')\n",
      "current_results [{'Extract': 0.5, 'Samples location': 'mean', 'Interface': 'log', 'Forward_Model': 'FSlin', 'Minimization_Method': 'Gauss-Newton', 'Alpha': 0.2, 'remove_coil': True, 'start_avg': False, 'constrain': True, 'Det': 'LT', 'R2': -17.491, 'RMSE': 0.217, 'MAE': 0.19, 'STD': 0.228, '0R2': 0.33, '0RMSE': 0.158, 'R2_INV': 0.0911408985033501}, {'Extract': 0.5, 'Samples location': 'mean', 'Interface': 'log', 'Forward_Model': 'FSlin', 'Minimization_Method': 'Gauss-Newton', 'Alpha': 0.2, 'remove_coil': True, 'start_avg': False, 'constrain': True, 'Det': 'ID', 'R2': -14.895, 'RMSE': 0.202, 'MAE': 0.18, 'STD': 0.22, '0R2': 0.436, '0RMSE': 0.146, 'R2_INV': 0.0911408985033501}, {'Extract': 0.5, 'Samples location': 'mean', 'Interface': 'log', 'Forward_Model': 'FSlin', 'Minimization_Method': 'Gauss-Newton', 'Alpha': 0.2, 'remove_coil': True, 'start_avg': False, 'constrain': True, 'Det': 'LS', 'R2': -17.042, 'RMSE': 0.214, 'MAE': 0.188, 'STD': 0.227, '0R2': 0.368, '0RMSE': 0.156, 'R2_INV': 0.0911408985033501}]\n",
      "Iteration: 235 Combination: (0.5, 'mean', 'log', 'FSlin', 'Gauss-Newton', 0.2, True, False, False)\n",
      "##################################################################################################################################################################### 02 INVERSION CONFIGURE INPUT ################################################\n",
      "Inversion using FSlin with Gauss-Newton, reg=l2, alpha=0.2\n",
      "15/15 invertedr2inv 0    0.091141\n",
      "Name: all, dtype: object\n",
      "#################################################################################################################################################################### 03 DETERMINISTIC MODELLING ###################################################\n",
      "inv_columns Index(['EC_0.15', 'EC_0.38', 'EC_0.51', 'EC_0.70', 'EC_0.99', 'EC_1.45',\n",
      "       'EC_2.15', 'EC_end'],\n",
      "      dtype='object')\n",
      "current_results [{'Extract': 0.5, 'Samples location': 'mean', 'Interface': 'log', 'Forward_Model': 'FSlin', 'Minimization_Method': 'Gauss-Newton', 'Alpha': 0.2, 'remove_coil': True, 'start_avg': False, 'constrain': False, 'Det': 'LT', 'R2': -17.491, 'RMSE': 0.217, 'MAE': 0.19, 'STD': 0.228, '0R2': 0.33, '0RMSE': 0.158, 'R2_INV': 0.0911408985033501}, {'Extract': 0.5, 'Samples location': 'mean', 'Interface': 'log', 'Forward_Model': 'FSlin', 'Minimization_Method': 'Gauss-Newton', 'Alpha': 0.2, 'remove_coil': True, 'start_avg': False, 'constrain': False, 'Det': 'ID', 'R2': -14.895, 'RMSE': 0.202, 'MAE': 0.18, 'STD': 0.22, '0R2': 0.436, '0RMSE': 0.146, 'R2_INV': 0.0911408985033501}, {'Extract': 0.5, 'Samples location': 'mean', 'Interface': 'log', 'Forward_Model': 'FSlin', 'Minimization_Method': 'Gauss-Newton', 'Alpha': 0.2, 'remove_coil': True, 'start_avg': False, 'constrain': False, 'Det': 'LS', 'R2': -17.042, 'RMSE': 0.214, 'MAE': 0.188, 'STD': 0.227, '0R2': 0.368, '0RMSE': 0.156, 'R2_INV': 0.0911408985033501}]\n",
      "Iteration: 236 Combination: (0.5, 'mean', 'log', 'FSlin', 'Gauss-Newton', 0.2, False, True, True)\n",
      "##################################################################################################################################################################### 02 INVERSION CONFIGURE INPUT ################################################\n",
      "Constrained Inversion using FSlin with Gauss-Newton, reg=l2, alpha=0.2\n",
      "15/15 invertedr2inv 0    0.475311\n",
      "Name: all, dtype: object\n",
      "#################################################################################################################################################################### 03 DETERMINISTIC MODELLING ###################################################\n",
      "inv_columns Index(['EC_0.15', 'EC_0.38', 'EC_0.51', 'EC_0.70', 'EC_0.99', 'EC_1.45',\n",
      "       'EC_2.15', 'EC_end'],\n",
      "      dtype='object')\n",
      "current_results [{'Extract': 0.5, 'Samples location': 'mean', 'Interface': 'log', 'Forward_Model': 'FSlin', 'Minimization_Method': 'Gauss-Newton', 'Alpha': 0.2, 'remove_coil': False, 'start_avg': True, 'constrain': True, 'Det': 'LT', 'R2': -18.786, 'RMSE': 0.227, 'MAE': 0.201, 'STD': 0.196, '0R2': -0.481, '0RMSE': 0.233, 'R2_INV': 0.4753108132207485}, {'Extract': 0.5, 'Samples location': 'mean', 'Interface': 'log', 'Forward_Model': 'FSlin', 'Minimization_Method': 'Gauss-Newton', 'Alpha': 0.2, 'remove_coil': False, 'start_avg': True, 'constrain': True, 'Det': 'ID', 'R2': -18.373, 'RMSE': 0.224, 'MAE': 0.188, 'STD': 0.2, '0R2': -0.442, '0RMSE': 0.231, 'R2_INV': 0.4753108132207485}, {'Extract': 0.5, 'Samples location': 'mean', 'Interface': 'log', 'Forward_Model': 'FSlin', 'Minimization_Method': 'Gauss-Newton', 'Alpha': 0.2, 'remove_coil': False, 'start_avg': True, 'constrain': True, 'Det': 'LS', 'R2': -18.665, 'RMSE': 0.226, 'MAE': 0.2, 'STD': 0.193, '0R2': -0.49, '0RMSE': 0.232, 'R2_INV': 0.4753108132207485}]\n",
      "Iteration: 237 Combination: (0.5, 'mean', 'log', 'FSlin', 'Gauss-Newton', 0.2, False, True, False)\n",
      "##################################################################################################################################################################### 02 INVERSION CONFIGURE INPUT ################################################\n",
      "Inversion using FSlin with Gauss-Newton, reg=l2, alpha=0.2\n",
      "15/15 invertedr2inv 0    0.475311\n",
      "Name: all, dtype: object\n",
      "#################################################################################################################################################################### 03 DETERMINISTIC MODELLING ###################################################\n",
      "inv_columns Index(['EC_0.15', 'EC_0.38', 'EC_0.51', 'EC_0.70', 'EC_0.99', 'EC_1.45',\n",
      "       'EC_2.15', 'EC_end'],\n",
      "      dtype='object')\n",
      "current_results [{'Extract': 0.5, 'Samples location': 'mean', 'Interface': 'log', 'Forward_Model': 'FSlin', 'Minimization_Method': 'Gauss-Newton', 'Alpha': 0.2, 'remove_coil': False, 'start_avg': True, 'constrain': False, 'Det': 'LT', 'R2': -18.786, 'RMSE': 0.227, 'MAE': 0.201, 'STD': 0.196, '0R2': -0.481, '0RMSE': 0.233, 'R2_INV': 0.4753108132207485}, {'Extract': 0.5, 'Samples location': 'mean', 'Interface': 'log', 'Forward_Model': 'FSlin', 'Minimization_Method': 'Gauss-Newton', 'Alpha': 0.2, 'remove_coil': False, 'start_avg': True, 'constrain': False, 'Det': 'ID', 'R2': -18.373, 'RMSE': 0.224, 'MAE': 0.188, 'STD': 0.2, '0R2': -0.442, '0RMSE': 0.231, 'R2_INV': 0.4753108132207485}, {'Extract': 0.5, 'Samples location': 'mean', 'Interface': 'log', 'Forward_Model': 'FSlin', 'Minimization_Method': 'Gauss-Newton', 'Alpha': 0.2, 'remove_coil': False, 'start_avg': True, 'constrain': False, 'Det': 'LS', 'R2': -18.665, 'RMSE': 0.226, 'MAE': 0.2, 'STD': 0.193, '0R2': -0.49, '0RMSE': 0.232, 'R2_INV': 0.4753108132207485}]\n",
      "Iteration: 238 Combination: (0.5, 'mean', 'log', 'FSlin', 'Gauss-Newton', 0.2, False, False, True)\n",
      "##################################################################################################################################################################### 02 INVERSION CONFIGURE INPUT ################################################\n",
      "Constrained Inversion using FSlin with Gauss-Newton, reg=l2, alpha=0.2\n",
      "15/15 invertedr2inv 0    0.275916\n",
      "Name: all, dtype: object\n",
      "#################################################################################################################################################################### 03 DETERMINISTIC MODELLING ###################################################\n",
      "inv_columns Index(['EC_0.15', 'EC_0.38', 'EC_0.51', 'EC_0.70', 'EC_0.99', 'EC_1.45',\n",
      "       'EC_2.15', 'EC_end'],\n",
      "      dtype='object')\n",
      "current_results [{'Extract': 0.5, 'Samples location': 'mean', 'Interface': 'log', 'Forward_Model': 'FSlin', 'Minimization_Method': 'Gauss-Newton', 'Alpha': 0.2, 'remove_coil': False, 'start_avg': False, 'constrain': True, 'Det': 'LT', 'R2': -17.32, 'RMSE': 0.215, 'MAE': 0.182, 'STD': 0.22, '0R2': 0.213, '0RMSE': 0.174, 'R2_INV': 0.2759163737268699}, {'Extract': 0.5, 'Samples location': 'mean', 'Interface': 'log', 'Forward_Model': 'FSlin', 'Minimization_Method': 'Gauss-Newton', 'Alpha': 0.2, 'remove_coil': False, 'start_avg': False, 'constrain': True, 'Det': 'ID', 'R2': -15.196, 'RMSE': 0.204, 'MAE': 0.182, 'STD': 0.217, '0R2': 0.276, '0RMSE': 0.166, 'R2_INV': 0.2759163737268699}, {'Extract': 0.5, 'Samples location': 'mean', 'Interface': 'log', 'Forward_Model': 'FSlin', 'Minimization_Method': 'Gauss-Newton', 'Alpha': 0.2, 'remove_coil': False, 'start_avg': False, 'constrain': True, 'Det': 'LS', 'R2': -17.108, 'RMSE': 0.214, 'MAE': 0.18, 'STD': 0.219, '0R2': 0.238, '0RMSE': 0.175, 'R2_INV': 0.2759163737268699}]\n",
      "Iteration: 239 Combination: (0.5, 'mean', 'log', 'FSlin', 'Gauss-Newton', 0.2, False, False, False)\n",
      "##################################################################################################################################################################### 02 INVERSION CONFIGURE INPUT ################################################\n",
      "Inversion using FSlin with Gauss-Newton, reg=l2, alpha=0.2\n",
      "15/15 invertedr2inv 0    0.275916\n",
      "Name: all, dtype: object\n",
      "#################################################################################################################################################################### 03 DETERMINISTIC MODELLING ###################################################\n",
      "inv_columns Index(['EC_0.15', 'EC_0.38', 'EC_0.51', 'EC_0.70', 'EC_0.99', 'EC_1.45',\n",
      "       'EC_2.15', 'EC_end'],\n",
      "      dtype='object')\n",
      "current_results [{'Extract': 0.5, 'Samples location': 'mean', 'Interface': 'log', 'Forward_Model': 'FSlin', 'Minimization_Method': 'Gauss-Newton', 'Alpha': 0.2, 'remove_coil': False, 'start_avg': False, 'constrain': False, 'Det': 'LT', 'R2': -17.32, 'RMSE': 0.215, 'MAE': 0.182, 'STD': 0.22, '0R2': 0.213, '0RMSE': 0.174, 'R2_INV': 0.2759163737268699}, {'Extract': 0.5, 'Samples location': 'mean', 'Interface': 'log', 'Forward_Model': 'FSlin', 'Minimization_Method': 'Gauss-Newton', 'Alpha': 0.2, 'remove_coil': False, 'start_avg': False, 'constrain': False, 'Det': 'ID', 'R2': -15.196, 'RMSE': 0.204, 'MAE': 0.182, 'STD': 0.217, '0R2': 0.276, '0RMSE': 0.166, 'R2_INV': 0.2759163737268699}, {'Extract': 0.5, 'Samples location': 'mean', 'Interface': 'log', 'Forward_Model': 'FSlin', 'Minimization_Method': 'Gauss-Newton', 'Alpha': 0.2, 'remove_coil': False, 'start_avg': False, 'constrain': False, 'Det': 'LS', 'R2': -17.108, 'RMSE': 0.214, 'MAE': 0.18, 'STD': 0.219, '0R2': 0.238, '0RMSE': 0.175, 'R2_INV': 0.2759163737268699}]\n",
      "Iteration: 240 Combination: (0.5, 'mean', 'log', 'FSlin', 'ROPE', 0.01, True, True, True)\n",
      "##################################################################################################################################################################### 02 INVERSION CONFIGURE INPUT ################################################\n"
     ]
    },
    {
     "name": "stderr",
     "output_type": "stream",
     "text": [
      "100%|██████████| 15/15 [00:00<?, ?it/s]"
     ]
    },
    {
     "name": "stdout",
     "output_type": "stream",
     "text": [
      "Constrained inversion using FSlin with ROPE, reg=l2, alpha=0.01\n"
     ]
    },
    {
     "name": "stderr",
     "output_type": "stream",
     "text": [
      "\n"
     ]
    },
    {
     "name": "stdout",
     "output_type": "stream",
     "text": [
      "r2inv 0    0.092152\n",
      "Name: all, dtype: object\n",
      "#################################################################################################################################################################### 03 DETERMINISTIC MODELLING ###################################################\n",
      "inv_columns Index(['EC_0.15', 'EC_0.38', 'EC_0.51', 'EC_0.70', 'EC_0.99', 'EC_1.45',\n",
      "       'EC_2.15', 'EC_end'],\n",
      "      dtype='object')\n",
      "current_results [{'Extract': 0.5, 'Samples location': 'mean', 'Interface': 'log', 'Forward_Model': 'FSlin', 'Minimization_Method': 'ROPE', 'Alpha': 0.01, 'remove_coil': True, 'start_avg': True, 'constrain': True, 'Det': 'LT', 'R2': -11.666, 'RMSE': 0.176, 'MAE': 0.152, 'STD': 0.166, '0R2': -0.43, '0RMSE': 0.224, 'R2_INV': 0.092152211841479}, {'Extract': 0.5, 'Samples location': 'mean', 'Interface': 'log', 'Forward_Model': 'FSlin', 'Minimization_Method': 'ROPE', 'Alpha': 0.01, 'remove_coil': True, 'start_avg': True, 'constrain': True, 'Det': 'ID', 'R2': -9.487, 'RMSE': 0.169, 'MAE': 0.14, 'STD': 0.16, '0R2': -0.288, '0RMSE': 0.22, 'R2_INV': 0.092152211841479}, {'Extract': 0.5, 'Samples location': 'mean', 'Interface': 'log', 'Forward_Model': 'FSlin', 'Minimization_Method': 'ROPE', 'Alpha': 0.01, 'remove_coil': True, 'start_avg': True, 'constrain': True, 'Det': 'LS', 'R2': -10.774, 'RMSE': 0.171, 'MAE': 0.144, 'STD': 0.16, '0R2': -0.38, '0RMSE': 0.22, 'R2_INV': 0.092152211841479}]\n",
      "Iteration: 241 Combination: (0.5, 'mean', 'log', 'FSlin', 'ROPE', 0.01, True, True, False)\n",
      "##################################################################################################################################################################### 02 INVERSION CONFIGURE INPUT ################################################\n"
     ]
    },
    {
     "name": "stderr",
     "output_type": "stream",
     "text": [
      "100%|██████████| 15/15 [00:00<?, ?it/s]"
     ]
    },
    {
     "name": "stdout",
     "output_type": "stream",
     "text": [
      "Inversion using FSlin with ROPE, reg=l2, alpha=0.01\n"
     ]
    },
    {
     "name": "stderr",
     "output_type": "stream",
     "text": [
      "\n"
     ]
    },
    {
     "name": "stdout",
     "output_type": "stream",
     "text": [
      "r2inv 0   -447.404668\n",
      "Name: all, dtype: object\n",
      "FAILED\n",
      "Iteration: 242 Combination: (0.5, 'mean', 'log', 'FSlin', 'ROPE', 0.01, True, False, True)\n",
      "##################################################################################################################################################################### 02 INVERSION CONFIGURE INPUT ################################################\n"
     ]
    },
    {
     "name": "stderr",
     "output_type": "stream",
     "text": [
      "100%|██████████| 15/15 [00:00<?, ?it/s]"
     ]
    },
    {
     "name": "stdout",
     "output_type": "stream",
     "text": [
      "Constrained inversion using FSlin with ROPE, reg=l2, alpha=0.01\n"
     ]
    },
    {
     "name": "stderr",
     "output_type": "stream",
     "text": [
      "\n"
     ]
    },
    {
     "name": "stdout",
     "output_type": "stream",
     "text": [
      "r2inv 0   -0.010604\n",
      "Name: all, dtype: object\n",
      "FAILED\n",
      "Iteration: 243 Combination: (0.5, 'mean', 'log', 'FSlin', 'ROPE', 0.01, True, False, False)\n",
      "##################################################################################################################################################################### 02 INVERSION CONFIGURE INPUT ################################################\n"
     ]
    },
    {
     "name": "stderr",
     "output_type": "stream",
     "text": [
      "100%|██████████| 15/15 [00:00<?, ?it/s]"
     ]
    },
    {
     "name": "stdout",
     "output_type": "stream",
     "text": [
      "Inversion using FSlin with ROPE, reg=l2, alpha=0.01\n"
     ]
    },
    {
     "name": "stderr",
     "output_type": "stream",
     "text": [
      "\n"
     ]
    },
    {
     "name": "stdout",
     "output_type": "stream",
     "text": [
      "r2inv 0   -625.967866\n",
      "Name: all, dtype: object\n",
      "FAILED\n",
      "Iteration: 244 Combination: (0.5, 'mean', 'log', 'FSlin', 'ROPE', 0.01, False, True, True)\n",
      "##################################################################################################################################################################### 02 INVERSION CONFIGURE INPUT ################################################\n"
     ]
    },
    {
     "name": "stderr",
     "output_type": "stream",
     "text": [
      "100%|██████████| 15/15 [00:00<00:00, 15416.46it/s]"
     ]
    },
    {
     "name": "stdout",
     "output_type": "stream",
     "text": [
      "Constrained inversion using FSlin with ROPE, reg=l2, alpha=0.01\n"
     ]
    },
    {
     "name": "stderr",
     "output_type": "stream",
     "text": [
      "\n"
     ]
    },
    {
     "name": "stdout",
     "output_type": "stream",
     "text": [
      "r2inv 0    0.104071\n",
      "Name: all, dtype: object\n",
      "#################################################################################################################################################################### 03 DETERMINISTIC MODELLING ###################################################\n",
      "inv_columns Index(['EC_0.15', 'EC_0.38', 'EC_0.51', 'EC_0.70', 'EC_0.99', 'EC_1.45',\n",
      "       'EC_2.15', 'EC_end'],\n",
      "      dtype='object')\n",
      "current_results [{'Extract': 0.5, 'Samples location': 'mean', 'Interface': 'log', 'Forward_Model': 'FSlin', 'Minimization_Method': 'ROPE', 'Alpha': 0.01, 'remove_coil': False, 'start_avg': True, 'constrain': True, 'Det': 'LT', 'R2': -13.832, 'RMSE': 0.194, 'MAE': 0.173, 'STD': 0.168, '0R2': -0.355, '0RMSE': 0.233, 'R2_INV': 0.1040707248218349}, {'Extract': 0.5, 'Samples location': 'mean', 'Interface': 'log', 'Forward_Model': 'FSlin', 'Minimization_Method': 'ROPE', 'Alpha': 0.01, 'remove_coil': False, 'start_avg': True, 'constrain': True, 'Det': 'ID', 'R2': -13.426, 'RMSE': 0.197, 'MAE': 0.164, 'STD': 0.172, '0R2': -0.422, '0RMSE': 0.23, 'R2_INV': 0.1040707248218349}, {'Extract': 0.5, 'Samples location': 'mean', 'Interface': 'log', 'Forward_Model': 'FSlin', 'Minimization_Method': 'ROPE', 'Alpha': 0.01, 'remove_coil': False, 'start_avg': True, 'constrain': True, 'Det': 'LS', 'R2': -12.732, 'RMSE': 0.19, 'MAE': 0.166, 'STD': 0.162, '0R2': -0.303, '0RMSE': 0.228, 'R2_INV': 0.1040707248218349}]\n",
      "Iteration: 245 Combination: (0.5, 'mean', 'log', 'FSlin', 'ROPE', 0.01, False, True, False)\n",
      "##################################################################################################################################################################### 02 INVERSION CONFIGURE INPUT ################################################\n"
     ]
    },
    {
     "name": "stderr",
     "output_type": "stream",
     "text": [
      "100%|██████████| 15/15 [00:00<00:00, 7323.31it/s]"
     ]
    },
    {
     "name": "stdout",
     "output_type": "stream",
     "text": [
      "Inversion using FSlin with ROPE, reg=l2, alpha=0.01\n"
     ]
    },
    {
     "name": "stderr",
     "output_type": "stream",
     "text": [
      "\n"
     ]
    },
    {
     "name": "stdout",
     "output_type": "stream",
     "text": [
      "r2inv 0   -565.094506\n",
      "Name: all, dtype: object\n",
      "FAILED\n",
      "Iteration: 246 Combination: (0.5, 'mean', 'log', 'FSlin', 'ROPE', 0.01, False, False, True)\n",
      "##################################################################################################################################################################### 02 INVERSION CONFIGURE INPUT ################################################\n"
     ]
    },
    {
     "name": "stderr",
     "output_type": "stream",
     "text": [
      "100%|██████████| 15/15 [00:00<?, ?it/s]"
     ]
    },
    {
     "name": "stdout",
     "output_type": "stream",
     "text": [
      "Constrained inversion using FSlin with ROPE, reg=l2, alpha=0.01\n"
     ]
    },
    {
     "name": "stderr",
     "output_type": "stream",
     "text": [
      "\n"
     ]
    },
    {
     "name": "stdout",
     "output_type": "stream",
     "text": [
      "r2inv 0    0.111968\n",
      "Name: all, dtype: object\n",
      "#################################################################################################################################################################### 03 DETERMINISTIC MODELLING ###################################################\n",
      "inv_columns Index(['EC_0.15', 'EC_0.38', 'EC_0.51', 'EC_0.70', 'EC_0.99', 'EC_1.45',\n",
      "       'EC_2.15', 'EC_end'],\n",
      "      dtype='object')\n",
      "current_results [{'Extract': 0.5, 'Samples location': 'mean', 'Interface': 'log', 'Forward_Model': 'FSlin', 'Minimization_Method': 'ROPE', 'Alpha': 0.01, 'remove_coil': False, 'start_avg': False, 'constrain': True, 'Det': 'LT', 'R2': -12.407, 'RMSE': 0.186, 'MAE': 0.164, 'STD': 0.17, '0R2': -0.589, '0RMSE': 0.246, 'R2_INV': 0.111967745126321}, {'Extract': 0.5, 'Samples location': 'mean', 'Interface': 'log', 'Forward_Model': 'FSlin', 'Minimization_Method': 'ROPE', 'Alpha': 0.01, 'remove_coil': False, 'start_avg': False, 'constrain': True, 'Det': 'ID', 'R2': -10.738, 'RMSE': 0.177, 'MAE': 0.144, 'STD': 0.163, '0R2': -0.499, '0RMSE': 0.242, 'R2_INV': 0.111967745126321}, {'Extract': 0.5, 'Samples location': 'mean', 'Interface': 'log', 'Forward_Model': 'FSlin', 'Minimization_Method': 'ROPE', 'Alpha': 0.01, 'remove_coil': False, 'start_avg': False, 'constrain': True, 'Det': 'LS', 'R2': -11.611, 'RMSE': 0.18, 'MAE': 0.157, 'STD': 0.164, '0R2': -0.554, '0RMSE': 0.242, 'R2_INV': 0.111967745126321}]\n",
      "Iteration: 247 Combination: (0.5, 'mean', 'log', 'FSlin', 'ROPE', 0.01, False, False, False)\n",
      "##################################################################################################################################################################### 02 INVERSION CONFIGURE INPUT ################################################\n"
     ]
    },
    {
     "name": "stderr",
     "output_type": "stream",
     "text": [
      "100%|██████████| 15/15 [00:00<?, ?it/s]"
     ]
    },
    {
     "name": "stdout",
     "output_type": "stream",
     "text": [
      "Inversion using FSlin with ROPE, reg=l2, alpha=0.01\n"
     ]
    },
    {
     "name": "stderr",
     "output_type": "stream",
     "text": [
      "\n"
     ]
    },
    {
     "name": "stdout",
     "output_type": "stream",
     "text": [
      "r2inv 0   -557.233542\n",
      "Name: all, dtype: object\n",
      "FAILED\n",
      "Iteration: 248 Combination: (0.5, 'mean', 'log', 'FSlin', 'ROPE', 0.07, True, True, True)\n",
      "##################################################################################################################################################################### 02 INVERSION CONFIGURE INPUT ################################################\n"
     ]
    },
    {
     "name": "stderr",
     "output_type": "stream",
     "text": [
      "100%|██████████| 15/15 [00:00<?, ?it/s]"
     ]
    },
    {
     "name": "stdout",
     "output_type": "stream",
     "text": [
      "Constrained inversion using FSlin with ROPE, reg=l2, alpha=0.07\n"
     ]
    },
    {
     "name": "stderr",
     "output_type": "stream",
     "text": [
      "\n"
     ]
    },
    {
     "name": "stdout",
     "output_type": "stream",
     "text": [
      "r2inv 0   -0.257575\n",
      "Name: all, dtype: object\n",
      "FAILED\n",
      "Iteration: 249 Combination: (0.5, 'mean', 'log', 'FSlin', 'ROPE', 0.07, True, True, False)\n",
      "##################################################################################################################################################################### 02 INVERSION CONFIGURE INPUT ################################################\n"
     ]
    },
    {
     "name": "stderr",
     "output_type": "stream",
     "text": [
      "100%|██████████| 15/15 [00:00<?, ?it/s]"
     ]
    },
    {
     "name": "stdout",
     "output_type": "stream",
     "text": [
      "Inversion using FSlin with ROPE, reg=l2, alpha=0.07\n"
     ]
    },
    {
     "name": "stderr",
     "output_type": "stream",
     "text": [
      "\n"
     ]
    },
    {
     "name": "stdout",
     "output_type": "stream",
     "text": [
      "r2inv 0   -511.768026\n",
      "Name: all, dtype: object\n",
      "FAILED\n",
      "Iteration: 250 Combination: (0.5, 'mean', 'log', 'FSlin', 'ROPE', 0.07, True, False, True)\n",
      "##################################################################################################################################################################### 02 INVERSION CONFIGURE INPUT ################################################\n"
     ]
    },
    {
     "name": "stderr",
     "output_type": "stream",
     "text": [
      "100%|██████████| 15/15 [00:00<?, ?it/s]"
     ]
    },
    {
     "name": "stdout",
     "output_type": "stream",
     "text": [
      "Constrained inversion using FSlin with ROPE, reg=l2, alpha=0.07\n"
     ]
    },
    {
     "name": "stderr",
     "output_type": "stream",
     "text": [
      "\n"
     ]
    },
    {
     "name": "stdout",
     "output_type": "stream",
     "text": [
      "r2inv 0   -0.129152\n",
      "Name: all, dtype: object\n",
      "FAILED\n",
      "Iteration: 251 Combination: (0.5, 'mean', 'log', 'FSlin', 'ROPE', 0.07, True, False, False)\n",
      "##################################################################################################################################################################### 02 INVERSION CONFIGURE INPUT ################################################\n"
     ]
    },
    {
     "name": "stderr",
     "output_type": "stream",
     "text": [
      "100%|██████████| 15/15 [00:00<?, ?it/s]"
     ]
    },
    {
     "name": "stdout",
     "output_type": "stream",
     "text": [
      "Inversion using FSlin with ROPE, reg=l2, alpha=0.07\n"
     ]
    },
    {
     "name": "stderr",
     "output_type": "stream",
     "text": [
      "\n"
     ]
    },
    {
     "name": "stdout",
     "output_type": "stream",
     "text": [
      "r2inv 0   -558.759962\n",
      "Name: all, dtype: object\n",
      "FAILED\n",
      "Iteration: 252 Combination: (0.5, 'mean', 'log', 'FSlin', 'ROPE', 0.07, False, True, True)\n",
      "##################################################################################################################################################################### 02 INVERSION CONFIGURE INPUT ################################################\n"
     ]
    },
    {
     "name": "stderr",
     "output_type": "stream",
     "text": [
      "100%|██████████| 15/15 [00:00<00:00, 15022.58it/s]"
     ]
    },
    {
     "name": "stdout",
     "output_type": "stream",
     "text": [
      "Constrained inversion using FSlin with ROPE, reg=l2, alpha=0.07\n"
     ]
    },
    {
     "name": "stderr",
     "output_type": "stream",
     "text": [
      "\n"
     ]
    },
    {
     "name": "stdout",
     "output_type": "stream",
     "text": [
      "r2inv 0   -0.047451\n",
      "Name: all, dtype: object\n",
      "FAILED\n",
      "Iteration: 253 Combination: (0.5, 'mean', 'log', 'FSlin', 'ROPE', 0.07, False, True, False)\n",
      "##################################################################################################################################################################### 02 INVERSION CONFIGURE INPUT ################################################\n"
     ]
    },
    {
     "name": "stderr",
     "output_type": "stream",
     "text": [
      "100%|██████████| 15/15 [00:00<?, ?it/s]"
     ]
    },
    {
     "name": "stdout",
     "output_type": "stream",
     "text": [
      "Inversion using FSlin with ROPE, reg=l2, alpha=0.07\n"
     ]
    },
    {
     "name": "stderr",
     "output_type": "stream",
     "text": [
      "\n"
     ]
    },
    {
     "name": "stdout",
     "output_type": "stream",
     "text": [
      "r2inv 0   -697.335179\n",
      "Name: all, dtype: object\n",
      "FAILED\n",
      "Iteration: 254 Combination: (0.5, 'mean', 'log', 'FSlin', 'ROPE', 0.07, False, False, True)\n",
      "##################################################################################################################################################################### 02 INVERSION CONFIGURE INPUT ################################################\n"
     ]
    },
    {
     "name": "stderr",
     "output_type": "stream",
     "text": [
      "100%|██████████| 15/15 [00:00<?, ?it/s]"
     ]
    },
    {
     "name": "stdout",
     "output_type": "stream",
     "text": [
      "Constrained inversion using FSlin with ROPE, reg=l2, alpha=0.07\n"
     ]
    },
    {
     "name": "stderr",
     "output_type": "stream",
     "text": [
      "\n"
     ]
    },
    {
     "name": "stdout",
     "output_type": "stream",
     "text": [
      "r2inv 0   -0.019281\n",
      "Name: all, dtype: object\n",
      "FAILED\n",
      "Iteration: 255 Combination: (0.5, 'mean', 'log', 'FSlin', 'ROPE', 0.07, False, False, False)\n",
      "##################################################################################################################################################################### 02 INVERSION CONFIGURE INPUT ################################################\n"
     ]
    },
    {
     "name": "stderr",
     "output_type": "stream",
     "text": [
      "100%|██████████| 15/15 [00:00<?, ?it/s]"
     ]
    },
    {
     "name": "stdout",
     "output_type": "stream",
     "text": [
      "Inversion using FSlin with ROPE, reg=l2, alpha=0.07\n"
     ]
    },
    {
     "name": "stderr",
     "output_type": "stream",
     "text": [
      "\n"
     ]
    },
    {
     "name": "stdout",
     "output_type": "stream",
     "text": [
      "r2inv 0   -678.038518\n",
      "Name: all, dtype: object\n",
      "FAILED\n",
      "Iteration: 256 Combination: (0.5, 'mean', 'log', 'FSlin', 'ROPE', 0.2, True, True, True)\n",
      "##################################################################################################################################################################### 02 INVERSION CONFIGURE INPUT ################################################\n"
     ]
    },
    {
     "name": "stderr",
     "output_type": "stream",
     "text": [
      "100%|██████████| 15/15 [00:00<?, ?it/s]"
     ]
    },
    {
     "name": "stdout",
     "output_type": "stream",
     "text": [
      "Constrained inversion using FSlin with ROPE, reg=l2, alpha=0.2\n"
     ]
    },
    {
     "name": "stderr",
     "output_type": "stream",
     "text": [
      "\n"
     ]
    },
    {
     "name": "stdout",
     "output_type": "stream",
     "text": [
      "r2inv 0   -0.432471\n",
      "Name: all, dtype: object\n",
      "FAILED\n",
      "Iteration: 257 Combination: (0.5, 'mean', 'log', 'FSlin', 'ROPE', 0.2, True, True, False)\n",
      "##################################################################################################################################################################### 02 INVERSION CONFIGURE INPUT ################################################\n"
     ]
    },
    {
     "name": "stderr",
     "output_type": "stream",
     "text": [
      "100%|██████████| 15/15 [00:00<?, ?it/s]"
     ]
    },
    {
     "name": "stdout",
     "output_type": "stream",
     "text": [
      "Inversion using FSlin with ROPE, reg=l2, alpha=0.2\n"
     ]
    },
    {
     "name": "stderr",
     "output_type": "stream",
     "text": [
      "\n"
     ]
    },
    {
     "name": "stdout",
     "output_type": "stream",
     "text": [
      "r2inv 0   -543.505508\n",
      "Name: all, dtype: object\n",
      "FAILED\n",
      "Iteration: 258 Combination: (0.5, 'mean', 'log', 'FSlin', 'ROPE', 0.2, True, False, True)\n",
      "##################################################################################################################################################################### 02 INVERSION CONFIGURE INPUT ################################################\n"
     ]
    },
    {
     "name": "stderr",
     "output_type": "stream",
     "text": [
      "100%|██████████| 15/15 [00:00<?, ?it/s]"
     ]
    },
    {
     "name": "stdout",
     "output_type": "stream",
     "text": [
      "Constrained inversion using FSlin with ROPE, reg=l2, alpha=0.2\n"
     ]
    },
    {
     "name": "stderr",
     "output_type": "stream",
     "text": [
      "\n"
     ]
    },
    {
     "name": "stdout",
     "output_type": "stream",
     "text": [
      "r2inv 0   -0.28391\n",
      "Name: all, dtype: object\n",
      "FAILED\n",
      "Iteration: 259 Combination: (0.5, 'mean', 'log', 'FSlin', 'ROPE', 0.2, True, False, False)\n",
      "##################################################################################################################################################################### 02 INVERSION CONFIGURE INPUT ################################################\n"
     ]
    },
    {
     "name": "stderr",
     "output_type": "stream",
     "text": [
      "100%|██████████| 15/15 [00:00<?, ?it/s]"
     ]
    },
    {
     "name": "stdout",
     "output_type": "stream",
     "text": [
      "Inversion using FSlin with ROPE, reg=l2, alpha=0.2\n"
     ]
    },
    {
     "name": "stderr",
     "output_type": "stream",
     "text": [
      "\n"
     ]
    },
    {
     "name": "stdout",
     "output_type": "stream",
     "text": [
      "r2inv 0   -511.379162\n",
      "Name: all, dtype: object\n",
      "FAILED\n",
      "Iteration: 260 Combination: (0.5, 'mean', 'log', 'FSlin', 'ROPE', 0.2, False, True, True)\n",
      "##################################################################################################################################################################### 02 INVERSION CONFIGURE INPUT ################################################\n"
     ]
    },
    {
     "name": "stderr",
     "output_type": "stream",
     "text": [
      "100%|██████████| 15/15 [00:00<?, ?it/s]"
     ]
    },
    {
     "name": "stdout",
     "output_type": "stream",
     "text": [
      "Constrained inversion using FSlin with ROPE, reg=l2, alpha=0.2\n"
     ]
    },
    {
     "name": "stderr",
     "output_type": "stream",
     "text": [
      "\n"
     ]
    },
    {
     "name": "stdout",
     "output_type": "stream",
     "text": [
      "r2inv 0   -0.297566\n",
      "Name: all, dtype: object\n",
      "FAILED\n",
      "Iteration: 261 Combination: (0.5, 'mean', 'log', 'FSlin', 'ROPE', 0.2, False, True, False)\n",
      "##################################################################################################################################################################### 02 INVERSION CONFIGURE INPUT ################################################\n"
     ]
    },
    {
     "name": "stderr",
     "output_type": "stream",
     "text": [
      "100%|██████████| 15/15 [00:00<?, ?it/s]"
     ]
    },
    {
     "name": "stdout",
     "output_type": "stream",
     "text": [
      "Inversion using FSlin with ROPE, reg=l2, alpha=0.2\n"
     ]
    },
    {
     "name": "stderr",
     "output_type": "stream",
     "text": [
      "\n"
     ]
    },
    {
     "name": "stdout",
     "output_type": "stream",
     "text": [
      "r2inv 0   -591.565717\n",
      "Name: all, dtype: object\n",
      "FAILED\n",
      "Iteration: 262 Combination: (0.5, 'mean', 'log', 'FSlin', 'ROPE', 0.2, False, False, True)\n",
      "##################################################################################################################################################################### 02 INVERSION CONFIGURE INPUT ################################################\n"
     ]
    },
    {
     "name": "stderr",
     "output_type": "stream",
     "text": [
      "100%|██████████| 15/15 [00:00<?, ?it/s]"
     ]
    },
    {
     "name": "stdout",
     "output_type": "stream",
     "text": [
      "Constrained inversion using FSlin with ROPE, reg=l2, alpha=0.2\n"
     ]
    },
    {
     "name": "stderr",
     "output_type": "stream",
     "text": [
      "\n"
     ]
    },
    {
     "name": "stdout",
     "output_type": "stream",
     "text": [
      "r2inv 0   -0.19874\n",
      "Name: all, dtype: object\n",
      "FAILED\n",
      "Iteration: 263 Combination: (0.5, 'mean', 'log', 'FSlin', 'ROPE', 0.2, False, False, False)\n",
      "##################################################################################################################################################################### 02 INVERSION CONFIGURE INPUT ################################################\n"
     ]
    },
    {
     "name": "stderr",
     "output_type": "stream",
     "text": [
      "100%|██████████| 15/15 [00:00<00:00, 14983.22it/s]"
     ]
    },
    {
     "name": "stdout",
     "output_type": "stream",
     "text": [
      "Inversion using FSlin with ROPE, reg=l2, alpha=0.2\n"
     ]
    },
    {
     "name": "stderr",
     "output_type": "stream",
     "text": [
      "\n"
     ]
    },
    {
     "name": "stdout",
     "output_type": "stream",
     "text": [
      "r2inv 0   -570.00162\n",
      "Name: all, dtype: object\n",
      "FAILED\n",
      "Iteration: 264 Combination: (0.5, 'closest', 'observed', 'FSeq', 'Gauss-Newton', 0.01, True, True, True)\n",
      "##################################################################################################################################################################### 02 INVERSION CONFIGURE INPUT ################################################\n",
      "Constrained Inversion using FSeq with Gauss-Newton, reg=l2, alpha=0.01\n",
      "15/15 invertedr2inv 0    0.986817\n",
      "Name: all, dtype: object\n",
      "#################################################################################################################################################################### 03 DETERMINISTIC MODELLING ###################################################\n",
      "inv_columns Index(['EC_0.30', 'EC_0.60', 'EC_1.00', 'EC_2.00', 'EC_end'], dtype='object')\n",
      "current_results [{'Extract': 0.5, 'Samples location': 'closest', 'Interface': 'observed', 'Forward_Model': 'FSeq', 'Minimization_Method': 'Gauss-Newton', 'Alpha': 0.01, 'remove_coil': True, 'start_avg': True, 'constrain': True, 'Det': 'LT', 'R2': -11.584, 'RMSE': 0.183, 'MAE': 0.155, 'STD': 0.19, '0R2': 0.704, '0RMSE': 0.105, 'R2_INV': 0.986816829222564}, {'Extract': 0.5, 'Samples location': 'closest', 'Interface': 'observed', 'Forward_Model': 'FSeq', 'Minimization_Method': 'Gauss-Newton', 'Alpha': 0.01, 'remove_coil': True, 'start_avg': True, 'constrain': True, 'Det': 'ID', 'R2': -11.586, 'RMSE': 0.169, 'MAE': 0.15, 'STD': 0.187, '0R2': 0.762, '0RMSE': 0.094, 'R2_INV': 0.986816829222564}, {'Extract': 0.5, 'Samples location': 'closest', 'Interface': 'observed', 'Forward_Model': 'FSeq', 'Minimization_Method': 'Gauss-Newton', 'Alpha': 0.01, 'remove_coil': True, 'start_avg': True, 'constrain': True, 'Det': 'LS', 'R2': -11.024, 'RMSE': 0.18, 'MAE': 0.152, 'STD': 0.189, '0R2': 0.688, '0RMSE': 0.108, 'R2_INV': 0.986816829222564}]\n",
      "Iteration: 265 Combination: (0.5, 'closest', 'observed', 'FSeq', 'Gauss-Newton', 0.01, True, True, False)\n",
      "##################################################################################################################################################################### 02 INVERSION CONFIGURE INPUT ################################################\n",
      "Inversion using FSeq with Gauss-Newton, reg=l2, alpha=0.01\n",
      "15/15 invertedr2inv 0    0.986817\n",
      "Name: all, dtype: object\n",
      "#################################################################################################################################################################### 03 DETERMINISTIC MODELLING ###################################################\n",
      "inv_columns Index(['EC_0.30', 'EC_0.60', 'EC_1.00', 'EC_2.00', 'EC_end'], dtype='object')\n",
      "current_results [{'Extract': 0.5, 'Samples location': 'closest', 'Interface': 'observed', 'Forward_Model': 'FSeq', 'Minimization_Method': 'Gauss-Newton', 'Alpha': 0.01, 'remove_coil': True, 'start_avg': True, 'constrain': False, 'Det': 'LT', 'R2': -11.584, 'RMSE': 0.183, 'MAE': 0.155, 'STD': 0.19, '0R2': 0.704, '0RMSE': 0.105, 'R2_INV': 0.986816829222564}, {'Extract': 0.5, 'Samples location': 'closest', 'Interface': 'observed', 'Forward_Model': 'FSeq', 'Minimization_Method': 'Gauss-Newton', 'Alpha': 0.01, 'remove_coil': True, 'start_avg': True, 'constrain': False, 'Det': 'ID', 'R2': -11.586, 'RMSE': 0.169, 'MAE': 0.15, 'STD': 0.187, '0R2': 0.762, '0RMSE': 0.094, 'R2_INV': 0.986816829222564}, {'Extract': 0.5, 'Samples location': 'closest', 'Interface': 'observed', 'Forward_Model': 'FSeq', 'Minimization_Method': 'Gauss-Newton', 'Alpha': 0.01, 'remove_coil': True, 'start_avg': True, 'constrain': False, 'Det': 'LS', 'R2': -11.024, 'RMSE': 0.18, 'MAE': 0.152, 'STD': 0.189, '0R2': 0.688, '0RMSE': 0.108, 'R2_INV': 0.986816829222564}]\n",
      "Iteration: 266 Combination: (0.5, 'closest', 'observed', 'FSeq', 'Gauss-Newton', 0.01, True, False, True)\n",
      "##################################################################################################################################################################### 02 INVERSION CONFIGURE INPUT ################################################\n",
      "Constrained Inversion using FSeq with Gauss-Newton, reg=l2, alpha=0.01\n",
      "15/15 invertedr2inv 0    0.988358\n",
      "Name: all, dtype: object\n",
      "#################################################################################################################################################################### 03 DETERMINISTIC MODELLING ###################################################\n",
      "inv_columns Index(['EC_0.30', 'EC_0.60', 'EC_1.00', 'EC_2.00', 'EC_end'], dtype='object')\n",
      "current_results [{'Extract': 0.5, 'Samples location': 'closest', 'Interface': 'observed', 'Forward_Model': 'FSeq', 'Minimization_Method': 'Gauss-Newton', 'Alpha': 0.01, 'remove_coil': True, 'start_avg': False, 'constrain': True, 'Det': 'LT', 'R2': -11.156, 'RMSE': 0.177, 'MAE': 0.144, 'STD': 0.18, '0R2': 0.629, '0RMSE': 0.118, 'R2_INV': 0.9883580633981102}, {'Extract': 0.5, 'Samples location': 'closest', 'Interface': 'observed', 'Forward_Model': 'FSeq', 'Minimization_Method': 'Gauss-Newton', 'Alpha': 0.01, 'remove_coil': True, 'start_avg': False, 'constrain': True, 'Det': 'ID', 'R2': -11.142, 'RMSE': 0.168, 'MAE': 0.147, 'STD': 0.178, '0R2': 0.649, '0RMSE': 0.11, 'R2_INV': 0.9883580633981102}, {'Extract': 0.5, 'Samples location': 'closest', 'Interface': 'observed', 'Forward_Model': 'FSeq', 'Minimization_Method': 'Gauss-Newton', 'Alpha': 0.01, 'remove_coil': True, 'start_avg': False, 'constrain': True, 'Det': 'LS', 'R2': -10.814, 'RMSE': 0.174, 'MAE': 0.145, 'STD': 0.179, '0R2': 0.598, '0RMSE': 0.122, 'R2_INV': 0.9883580633981102}]\n",
      "Iteration: 267 Combination: (0.5, 'closest', 'observed', 'FSeq', 'Gauss-Newton', 0.01, True, False, False)\n",
      "##################################################################################################################################################################### 02 INVERSION CONFIGURE INPUT ################################################\n",
      "Inversion using FSeq with Gauss-Newton, reg=l2, alpha=0.01\n",
      "15/15 invertedr2inv 0    0.988358\n",
      "Name: all, dtype: object\n",
      "#################################################################################################################################################################### 03 DETERMINISTIC MODELLING ###################################################\n",
      "inv_columns Index(['EC_0.30', 'EC_0.60', 'EC_1.00', 'EC_2.00', 'EC_end'], dtype='object')\n",
      "current_results [{'Extract': 0.5, 'Samples location': 'closest', 'Interface': 'observed', 'Forward_Model': 'FSeq', 'Minimization_Method': 'Gauss-Newton', 'Alpha': 0.01, 'remove_coil': True, 'start_avg': False, 'constrain': False, 'Det': 'LT', 'R2': -11.156, 'RMSE': 0.177, 'MAE': 0.144, 'STD': 0.18, '0R2': 0.629, '0RMSE': 0.118, 'R2_INV': 0.9883580633981102}, {'Extract': 0.5, 'Samples location': 'closest', 'Interface': 'observed', 'Forward_Model': 'FSeq', 'Minimization_Method': 'Gauss-Newton', 'Alpha': 0.01, 'remove_coil': True, 'start_avg': False, 'constrain': False, 'Det': 'ID', 'R2': -11.142, 'RMSE': 0.168, 'MAE': 0.147, 'STD': 0.178, '0R2': 0.649, '0RMSE': 0.11, 'R2_INV': 0.9883580633981102}, {'Extract': 0.5, 'Samples location': 'closest', 'Interface': 'observed', 'Forward_Model': 'FSeq', 'Minimization_Method': 'Gauss-Newton', 'Alpha': 0.01, 'remove_coil': True, 'start_avg': False, 'constrain': False, 'Det': 'LS', 'R2': -10.814, 'RMSE': 0.174, 'MAE': 0.145, 'STD': 0.179, '0R2': 0.598, '0RMSE': 0.122, 'R2_INV': 0.9883580633981102}]\n",
      "Iteration: 268 Combination: (0.5, 'closest', 'observed', 'FSeq', 'Gauss-Newton', 0.01, False, True, True)\n",
      "##################################################################################################################################################################### 02 INVERSION CONFIGURE INPUT ################################################\n",
      "Constrained Inversion using FSeq with Gauss-Newton, reg=l2, alpha=0.01\n",
      "15/15 invertedr2inv 0    0.988394\n",
      "Name: all, dtype: object\n",
      "#################################################################################################################################################################### 03 DETERMINISTIC MODELLING ###################################################\n",
      "inv_columns Index(['EC_0.30', 'EC_0.60', 'EC_1.00', 'EC_2.00', 'EC_end'], dtype='object')\n",
      "current_results [{'Extract': 0.5, 'Samples location': 'closest', 'Interface': 'observed', 'Forward_Model': 'FSeq', 'Minimization_Method': 'Gauss-Newton', 'Alpha': 0.01, 'remove_coil': False, 'start_avg': True, 'constrain': True, 'Det': 'LT', 'R2': -11.372, 'RMSE': 0.18, 'MAE': 0.147, 'STD': 0.186, '0R2': 0.514, '0RMSE': 0.131, 'R2_INV': 0.9883944946514792}, {'Extract': 0.5, 'Samples location': 'closest', 'Interface': 'observed', 'Forward_Model': 'FSeq', 'Minimization_Method': 'Gauss-Newton', 'Alpha': 0.01, 'remove_coil': False, 'start_avg': True, 'constrain': True, 'Det': 'ID', 'R2': -11.478, 'RMSE': 0.172, 'MAE': 0.146, 'STD': 0.187, '0R2': 0.563, '0RMSE': 0.128, 'R2_INV': 0.9883944946514792}, {'Extract': 0.5, 'Samples location': 'closest', 'Interface': 'observed', 'Forward_Model': 'FSeq', 'Minimization_Method': 'Gauss-Newton', 'Alpha': 0.01, 'remove_coil': False, 'start_avg': True, 'constrain': True, 'Det': 'LS', 'R2': -11.401, 'RMSE': 0.178, 'MAE': 0.148, 'STD': 0.184, '0R2': 0.479, '0RMSE': 0.136, 'R2_INV': 0.9883944946514792}]\n",
      "Iteration: 269 Combination: (0.5, 'closest', 'observed', 'FSeq', 'Gauss-Newton', 0.01, False, True, False)\n",
      "##################################################################################################################################################################### 02 INVERSION CONFIGURE INPUT ################################################\n",
      "Inversion using FSeq with Gauss-Newton, reg=l2, alpha=0.01\n",
      "15/15 invertedr2inv 0    0.988394\n",
      "Name: all, dtype: object\n",
      "#################################################################################################################################################################### 03 DETERMINISTIC MODELLING ###################################################\n",
      "inv_columns Index(['EC_0.30', 'EC_0.60', 'EC_1.00', 'EC_2.00', 'EC_end'], dtype='object')\n",
      "current_results [{'Extract': 0.5, 'Samples location': 'closest', 'Interface': 'observed', 'Forward_Model': 'FSeq', 'Minimization_Method': 'Gauss-Newton', 'Alpha': 0.01, 'remove_coil': False, 'start_avg': True, 'constrain': False, 'Det': 'LT', 'R2': -11.372, 'RMSE': 0.18, 'MAE': 0.147, 'STD': 0.186, '0R2': 0.514, '0RMSE': 0.131, 'R2_INV': 0.9883944946514792}, {'Extract': 0.5, 'Samples location': 'closest', 'Interface': 'observed', 'Forward_Model': 'FSeq', 'Minimization_Method': 'Gauss-Newton', 'Alpha': 0.01, 'remove_coil': False, 'start_avg': True, 'constrain': False, 'Det': 'ID', 'R2': -11.478, 'RMSE': 0.172, 'MAE': 0.146, 'STD': 0.187, '0R2': 0.563, '0RMSE': 0.128, 'R2_INV': 0.9883944946514792}, {'Extract': 0.5, 'Samples location': 'closest', 'Interface': 'observed', 'Forward_Model': 'FSeq', 'Minimization_Method': 'Gauss-Newton', 'Alpha': 0.01, 'remove_coil': False, 'start_avg': True, 'constrain': False, 'Det': 'LS', 'R2': -11.401, 'RMSE': 0.178, 'MAE': 0.148, 'STD': 0.184, '0R2': 0.479, '0RMSE': 0.136, 'R2_INV': 0.9883944946514792}]\n",
      "Iteration: 270 Combination: (0.5, 'closest', 'observed', 'FSeq', 'Gauss-Newton', 0.01, False, False, True)\n",
      "##################################################################################################################################################################### 02 INVERSION CONFIGURE INPUT ################################################\n",
      "Constrained Inversion using FSeq with Gauss-Newton, reg=l2, alpha=0.01\n",
      "15/15 invertedr2inv 0    0.989667\n",
      "Name: all, dtype: object\n",
      "#################################################################################################################################################################### 03 DETERMINISTIC MODELLING ###################################################\n",
      "inv_columns Index(['EC_0.30', 'EC_0.60', 'EC_1.00', 'EC_2.00', 'EC_end'], dtype='object')\n",
      "current_results [{'Extract': 0.5, 'Samples location': 'closest', 'Interface': 'observed', 'Forward_Model': 'FSeq', 'Minimization_Method': 'Gauss-Newton', 'Alpha': 0.01, 'remove_coil': False, 'start_avg': False, 'constrain': True, 'Det': 'LT', 'R2': -11.438, 'RMSE': 0.178, 'MAE': 0.147, 'STD': 0.181, '0R2': 0.454, '0RMSE': 0.139, 'R2_INV': 0.9896666720139125}, {'Extract': 0.5, 'Samples location': 'closest', 'Interface': 'observed', 'Forward_Model': 'FSeq', 'Minimization_Method': 'Gauss-Newton', 'Alpha': 0.01, 'remove_coil': False, 'start_avg': False, 'constrain': True, 'Det': 'ID', 'R2': -11.568, 'RMSE': 0.173, 'MAE': 0.153, 'STD': 0.184, '0R2': 0.47, '0RMSE': 0.141, 'R2_INV': 0.9896666720139125}, {'Extract': 0.5, 'Samples location': 'closest', 'Interface': 'observed', 'Forward_Model': 'FSeq', 'Minimization_Method': 'Gauss-Newton', 'Alpha': 0.01, 'remove_coil': False, 'start_avg': False, 'constrain': True, 'Det': 'LS', 'R2': -11.158, 'RMSE': 0.178, 'MAE': 0.148, 'STD': 0.178, '0R2': 0.421, '0RMSE': 0.145, 'R2_INV': 0.9896666720139125}]\n",
      "Iteration: 271 Combination: (0.5, 'closest', 'observed', 'FSeq', 'Gauss-Newton', 0.01, False, False, False)\n",
      "##################################################################################################################################################################### 02 INVERSION CONFIGURE INPUT ################################################\n",
      "Inversion using FSeq with Gauss-Newton, reg=l2, alpha=0.01\n",
      "15/15 invertedr2inv 0    0.989667\n",
      "Name: all, dtype: object\n",
      "#################################################################################################################################################################### 03 DETERMINISTIC MODELLING ###################################################\n",
      "inv_columns Index(['EC_0.30', 'EC_0.60', 'EC_1.00', 'EC_2.00', 'EC_end'], dtype='object')\n",
      "current_results [{'Extract': 0.5, 'Samples location': 'closest', 'Interface': 'observed', 'Forward_Model': 'FSeq', 'Minimization_Method': 'Gauss-Newton', 'Alpha': 0.01, 'remove_coil': False, 'start_avg': False, 'constrain': False, 'Det': 'LT', 'R2': -11.438, 'RMSE': 0.178, 'MAE': 0.147, 'STD': 0.181, '0R2': 0.454, '0RMSE': 0.139, 'R2_INV': 0.9896666720139125}, {'Extract': 0.5, 'Samples location': 'closest', 'Interface': 'observed', 'Forward_Model': 'FSeq', 'Minimization_Method': 'Gauss-Newton', 'Alpha': 0.01, 'remove_coil': False, 'start_avg': False, 'constrain': False, 'Det': 'ID', 'R2': -11.568, 'RMSE': 0.173, 'MAE': 0.153, 'STD': 0.184, '0R2': 0.47, '0RMSE': 0.141, 'R2_INV': 0.9896666720139125}, {'Extract': 0.5, 'Samples location': 'closest', 'Interface': 'observed', 'Forward_Model': 'FSeq', 'Minimization_Method': 'Gauss-Newton', 'Alpha': 0.01, 'remove_coil': False, 'start_avg': False, 'constrain': False, 'Det': 'LS', 'R2': -11.158, 'RMSE': 0.178, 'MAE': 0.148, 'STD': 0.178, '0R2': 0.421, '0RMSE': 0.145, 'R2_INV': 0.9896666720139125}]\n",
      "Iteration: 272 Combination: (0.5, 'closest', 'observed', 'FSeq', 'Gauss-Newton', 0.07, True, True, True)\n",
      "#################################################################################################################################################################### 03 DETERMINISTIC MODELLING ###################################################\n",
      "CRASH\n",
      "Iteration: 272 Combination: (0.5, 'closest', 'observed', 'FSeq', 'Gauss-Newton', 0.07, True, True, False)\n",
      "#################################################################################################################################################################### 03 DETERMINISTIC MODELLING ###################################################\n",
      "CRASH\n",
      "Iteration: 272 Combination: (0.5, 'closest', 'observed', 'FSeq', 'Gauss-Newton', 0.07, True, False, True)\n",
      "#################################################################################################################################################################### 03 DETERMINISTIC MODELLING ###################################################\n",
      "CRASH\n",
      "Iteration: 272 Combination: (0.5, 'closest', 'observed', 'FSeq', 'Gauss-Newton', 0.07, True, False, False)\n",
      "#################################################################################################################################################################### 03 DETERMINISTIC MODELLING ###################################################\n",
      "CRASH\n",
      "Iteration: 272 Combination: (0.5, 'closest', 'observed', 'FSeq', 'Gauss-Newton', 0.07, False, True, True)\n",
      "#################################################################################################################################################################### 03 DETERMINISTIC MODELLING ###################################################\n",
      "CRASH\n",
      "Iteration: 272 Combination: (0.5, 'closest', 'observed', 'FSeq', 'Gauss-Newton', 0.07, False, True, False)\n",
      "#################################################################################################################################################################### 03 DETERMINISTIC MODELLING ###################################################\n",
      "inv_columns Index(['EC_0.30', 'EC_0.60', 'EC_1.00', 'EC_2.00', 'EC_end'], dtype='object')\n",
      "current_results [{'Extract': 0.5, 'Samples location': 'closest', 'Interface': 'observed', 'Forward_Model': 'FSeq', 'Minimization_Method': 'Gauss-Newton', 'Alpha': 0.07, 'remove_coil': False, 'start_avg': True, 'constrain': False, 'Det': 'LT', 'R2': -14.948, 'RMSE': 0.202, 'MAE': 0.176, 'STD': 0.204, '0R2': 0.851, '0RMSE': 0.071, 'R2_INV': 0.9668398302849834}, {'Extract': 0.5, 'Samples location': 'closest', 'Interface': 'observed', 'Forward_Model': 'FSeq', 'Minimization_Method': 'Gauss-Newton', 'Alpha': 0.07, 'remove_coil': False, 'start_avg': True, 'constrain': False, 'Det': 'ID', 'R2': -12.247, 'RMSE': 0.183, 'MAE': 0.164, 'STD': 0.19, '0R2': 0.994, '0RMSE': 0.014, 'R2_INV': 0.9668398302849834}, {'Extract': 0.5, 'Samples location': 'closest', 'Interface': 'observed', 'Forward_Model': 'FSeq', 'Minimization_Method': 'Gauss-Newton', 'Alpha': 0.07, 'remove_coil': False, 'start_avg': True, 'constrain': False, 'Det': 'LS', 'R2': -14.75, 'RMSE': 0.2, 'MAE': 0.173, 'STD': 0.202, '0R2': 0.853, '0RMSE': 0.069, 'R2_INV': 0.9668398302849834}]\n",
      "Iteration: 273 Combination: (0.5, 'closest', 'observed', 'FSeq', 'Gauss-Newton', 0.07, False, False, True)\n",
      "#################################################################################################################################################################### 03 DETERMINISTIC MODELLING ###################################################\n",
      "CRASH\n",
      "Iteration: 273 Combination: (0.5, 'closest', 'observed', 'FSeq', 'Gauss-Newton', 0.07, False, False, False)\n",
      "#################################################################################################################################################################### 03 DETERMINISTIC MODELLING ###################################################\n",
      "CRASH\n",
      "Iteration: 273 Combination: (0.5, 'closest', 'observed', 'FSeq', 'Gauss-Newton', 0.2, True, True, True)\n",
      "##################################################################################################################################################################### 02 INVERSION CONFIGURE INPUT ################################################\n",
      "Constrained Inversion using FSeq with Gauss-Newton, reg=l2, alpha=0.2\n",
      "15/15 invertedr2inv 0    0.9218\n",
      "Name: all, dtype: object\n",
      "#################################################################################################################################################################### 03 DETERMINISTIC MODELLING ###################################################\n",
      "inv_columns Index(['EC_0.30', 'EC_0.60', 'EC_1.00', 'EC_2.00', 'EC_end'], dtype='object')\n",
      "current_results [{'Extract': 0.5, 'Samples location': 'closest', 'Interface': 'observed', 'Forward_Model': 'FSeq', 'Minimization_Method': 'Gauss-Newton', 'Alpha': 0.2, 'remove_coil': True, 'start_avg': True, 'constrain': True, 'Det': 'LT', 'R2': -16.929, 'RMSE': 0.214, 'MAE': 0.186, 'STD': 0.181, '0R2': 0.648, '0RMSE': 0.104, 'R2_INV': 0.9218002158686353}, {'Extract': 0.5, 'Samples location': 'closest', 'Interface': 'observed', 'Forward_Model': 'FSeq', 'Minimization_Method': 'Gauss-Newton', 'Alpha': 0.2, 'remove_coil': True, 'start_avg': True, 'constrain': True, 'Det': 'ID', 'R2': -14.874, 'RMSE': 0.204, 'MAE': 0.172, 'STD': 0.172, '0R2': 0.794, '0RMSE': 0.088, 'R2_INV': 0.9218002158686353}, {'Extract': 0.5, 'Samples location': 'closest', 'Interface': 'observed', 'Forward_Model': 'FSeq', 'Minimization_Method': 'Gauss-Newton', 'Alpha': 0.2, 'remove_coil': True, 'start_avg': True, 'constrain': True, 'Det': 'LS', 'R2': -16.732, 'RMSE': 0.214, 'MAE': 0.186, 'STD': 0.178, '0R2': 0.661, '0RMSE': 0.104, 'R2_INV': 0.9218002158686353}]\n",
      "Iteration: 274 Combination: (0.5, 'closest', 'observed', 'FSeq', 'Gauss-Newton', 0.2, True, True, False)\n",
      "##################################################################################################################################################################### 02 INVERSION CONFIGURE INPUT ################################################\n",
      "Inversion using FSeq with Gauss-Newton, reg=l2, alpha=0.2\n",
      "15/15 invertedr2inv 0    0.9218\n",
      "Name: all, dtype: object\n",
      "#################################################################################################################################################################### 03 DETERMINISTIC MODELLING ###################################################\n",
      "inv_columns Index(['EC_0.30', 'EC_0.60', 'EC_1.00', 'EC_2.00', 'EC_end'], dtype='object')\n",
      "current_results [{'Extract': 0.5, 'Samples location': 'closest', 'Interface': 'observed', 'Forward_Model': 'FSeq', 'Minimization_Method': 'Gauss-Newton', 'Alpha': 0.2, 'remove_coil': True, 'start_avg': True, 'constrain': False, 'Det': 'LT', 'R2': -16.929, 'RMSE': 0.214, 'MAE': 0.186, 'STD': 0.181, '0R2': 0.648, '0RMSE': 0.104, 'R2_INV': 0.9218002158686353}, {'Extract': 0.5, 'Samples location': 'closest', 'Interface': 'observed', 'Forward_Model': 'FSeq', 'Minimization_Method': 'Gauss-Newton', 'Alpha': 0.2, 'remove_coil': True, 'start_avg': True, 'constrain': False, 'Det': 'ID', 'R2': -14.874, 'RMSE': 0.204, 'MAE': 0.172, 'STD': 0.172, '0R2': 0.794, '0RMSE': 0.088, 'R2_INV': 0.9218002158686353}, {'Extract': 0.5, 'Samples location': 'closest', 'Interface': 'observed', 'Forward_Model': 'FSeq', 'Minimization_Method': 'Gauss-Newton', 'Alpha': 0.2, 'remove_coil': True, 'start_avg': True, 'constrain': False, 'Det': 'LS', 'R2': -16.732, 'RMSE': 0.214, 'MAE': 0.186, 'STD': 0.178, '0R2': 0.661, '0RMSE': 0.104, 'R2_INV': 0.9218002158686353}]\n",
      "Iteration: 275 Combination: (0.5, 'closest', 'observed', 'FSeq', 'Gauss-Newton', 0.2, True, False, True)\n",
      "##################################################################################################################################################################### 02 INVERSION CONFIGURE INPUT ################################################\n",
      "Constrained Inversion using FSeq with Gauss-Newton, reg=l2, alpha=0.2\n",
      "15/15 invertedr2inv 0    0.918949\n",
      "Name: all, dtype: object\n",
      "#################################################################################################################################################################### 03 DETERMINISTIC MODELLING ###################################################\n",
      "inv_columns Index(['EC_0.30', 'EC_0.60', 'EC_1.00', 'EC_2.00', 'EC_end'], dtype='object')\n",
      "current_results [{'Extract': 0.5, 'Samples location': 'closest', 'Interface': 'observed', 'Forward_Model': 'FSeq', 'Minimization_Method': 'Gauss-Newton', 'Alpha': 0.2, 'remove_coil': True, 'start_avg': False, 'constrain': True, 'Det': 'LT', 'R2': -17.228, 'RMSE': 0.212, 'MAE': 0.184, 'STD': 0.166, '0R2': 0.6, '0RMSE': 0.113, 'R2_INV': 0.9189485556050712}, {'Extract': 0.5, 'Samples location': 'closest', 'Interface': 'observed', 'Forward_Model': 'FSeq', 'Minimization_Method': 'Gauss-Newton', 'Alpha': 0.2, 'remove_coil': True, 'start_avg': False, 'constrain': True, 'Det': 'ID', 'R2': -15.603, 'RMSE': 0.207, 'MAE': 0.178, 'STD': 0.16, '0R2': 0.728, '0RMSE': 0.101, 'R2_INV': 0.9189485556050712}, {'Extract': 0.5, 'Samples location': 'closest', 'Interface': 'observed', 'Forward_Model': 'FSeq', 'Minimization_Method': 'Gauss-Newton', 'Alpha': 0.2, 'remove_coil': True, 'start_avg': False, 'constrain': True, 'Det': 'LS', 'R2': -17.044, 'RMSE': 0.211, 'MAE': 0.184, 'STD': 0.163, '0R2': 0.603, '0RMSE': 0.113, 'R2_INV': 0.9189485556050712}]\n",
      "Iteration: 276 Combination: (0.5, 'closest', 'observed', 'FSeq', 'Gauss-Newton', 0.2, True, False, False)\n",
      "##################################################################################################################################################################### 02 INVERSION CONFIGURE INPUT ################################################\n",
      "Inversion using FSeq with Gauss-Newton, reg=l2, alpha=0.2\n",
      "15/15 invertedr2inv 0    0.918949\n",
      "Name: all, dtype: object\n",
      "#################################################################################################################################################################### 03 DETERMINISTIC MODELLING ###################################################\n",
      "inv_columns Index(['EC_0.30', 'EC_0.60', 'EC_1.00', 'EC_2.00', 'EC_end'], dtype='object')\n",
      "current_results [{'Extract': 0.5, 'Samples location': 'closest', 'Interface': 'observed', 'Forward_Model': 'FSeq', 'Minimization_Method': 'Gauss-Newton', 'Alpha': 0.2, 'remove_coil': True, 'start_avg': False, 'constrain': False, 'Det': 'LT', 'R2': -17.228, 'RMSE': 0.212, 'MAE': 0.184, 'STD': 0.166, '0R2': 0.6, '0RMSE': 0.113, 'R2_INV': 0.9189485556050712}, {'Extract': 0.5, 'Samples location': 'closest', 'Interface': 'observed', 'Forward_Model': 'FSeq', 'Minimization_Method': 'Gauss-Newton', 'Alpha': 0.2, 'remove_coil': True, 'start_avg': False, 'constrain': False, 'Det': 'ID', 'R2': -15.603, 'RMSE': 0.207, 'MAE': 0.178, 'STD': 0.16, '0R2': 0.728, '0RMSE': 0.101, 'R2_INV': 0.9189485556050712}, {'Extract': 0.5, 'Samples location': 'closest', 'Interface': 'observed', 'Forward_Model': 'FSeq', 'Minimization_Method': 'Gauss-Newton', 'Alpha': 0.2, 'remove_coil': True, 'start_avg': False, 'constrain': False, 'Det': 'LS', 'R2': -17.044, 'RMSE': 0.211, 'MAE': 0.184, 'STD': 0.163, '0R2': 0.603, '0RMSE': 0.113, 'R2_INV': 0.9189485556050712}]\n",
      "Iteration: 277 Combination: (0.5, 'closest', 'observed', 'FSeq', 'Gauss-Newton', 0.2, False, True, True)\n",
      "##################################################################################################################################################################### 02 INVERSION CONFIGURE INPUT ################################################\n",
      "Constrained Inversion using FSeq with Gauss-Newton, reg=l2, alpha=0.2\n",
      "15/15 invertedr2inv 0    0.930182\n",
      "Name: all, dtype: object\n",
      "#################################################################################################################################################################### 03 DETERMINISTIC MODELLING ###################################################\n",
      "inv_columns Index(['EC_0.30', 'EC_0.60', 'EC_1.00', 'EC_2.00', 'EC_end'], dtype='object')\n",
      "current_results [{'Extract': 0.5, 'Samples location': 'closest', 'Interface': 'observed', 'Forward_Model': 'FSeq', 'Minimization_Method': 'Gauss-Newton', 'Alpha': 0.2, 'remove_coil': False, 'start_avg': True, 'constrain': True, 'Det': 'LT', 'R2': -16.303, 'RMSE': 0.21, 'MAE': 0.179, 'STD': 0.192, '0R2': 0.751, '0RMSE': 0.092, 'R2_INV': 0.930181686998603}, {'Extract': 0.5, 'Samples location': 'closest', 'Interface': 'observed', 'Forward_Model': 'FSeq', 'Minimization_Method': 'Gauss-Newton', 'Alpha': 0.2, 'remove_coil': False, 'start_avg': True, 'constrain': True, 'Det': 'ID', 'R2': -14.164, 'RMSE': 0.196, 'MAE': 0.164, 'STD': 0.184, '0R2': 0.888, '0RMSE': 0.066, 'R2_INV': 0.930181686998603}, {'Extract': 0.5, 'Samples location': 'closest', 'Interface': 'observed', 'Forward_Model': 'FSeq', 'Minimization_Method': 'Gauss-Newton', 'Alpha': 0.2, 'remove_coil': False, 'start_avg': True, 'constrain': True, 'Det': 'LS', 'R2': -16.18, 'RMSE': 0.209, 'MAE': 0.178, 'STD': 0.192, '0R2': 0.759, '0RMSE': 0.092, 'R2_INV': 0.930181686998603}]\n",
      "Iteration: 278 Combination: (0.5, 'closest', 'observed', 'FSeq', 'Gauss-Newton', 0.2, False, True, False)\n",
      "##################################################################################################################################################################### 02 INVERSION CONFIGURE INPUT ################################################\n",
      "Inversion using FSeq with Gauss-Newton, reg=l2, alpha=0.2\n",
      "15/15 invertedr2inv 0    0.930182\n",
      "Name: all, dtype: object\n",
      "#################################################################################################################################################################### 03 DETERMINISTIC MODELLING ###################################################\n",
      "inv_columns Index(['EC_0.30', 'EC_0.60', 'EC_1.00', 'EC_2.00', 'EC_end'], dtype='object')\n",
      "current_results [{'Extract': 0.5, 'Samples location': 'closest', 'Interface': 'observed', 'Forward_Model': 'FSeq', 'Minimization_Method': 'Gauss-Newton', 'Alpha': 0.2, 'remove_coil': False, 'start_avg': True, 'constrain': False, 'Det': 'LT', 'R2': -16.303, 'RMSE': 0.21, 'MAE': 0.179, 'STD': 0.192, '0R2': 0.751, '0RMSE': 0.092, 'R2_INV': 0.930181686998603}, {'Extract': 0.5, 'Samples location': 'closest', 'Interface': 'observed', 'Forward_Model': 'FSeq', 'Minimization_Method': 'Gauss-Newton', 'Alpha': 0.2, 'remove_coil': False, 'start_avg': True, 'constrain': False, 'Det': 'ID', 'R2': -14.164, 'RMSE': 0.196, 'MAE': 0.164, 'STD': 0.184, '0R2': 0.888, '0RMSE': 0.066, 'R2_INV': 0.930181686998603}, {'Extract': 0.5, 'Samples location': 'closest', 'Interface': 'observed', 'Forward_Model': 'FSeq', 'Minimization_Method': 'Gauss-Newton', 'Alpha': 0.2, 'remove_coil': False, 'start_avg': True, 'constrain': False, 'Det': 'LS', 'R2': -16.18, 'RMSE': 0.209, 'MAE': 0.178, 'STD': 0.192, '0R2': 0.759, '0RMSE': 0.092, 'R2_INV': 0.930181686998603}]\n",
      "Iteration: 279 Combination: (0.5, 'closest', 'observed', 'FSeq', 'Gauss-Newton', 0.2, False, False, True)\n",
      "##################################################################################################################################################################### 02 INVERSION CONFIGURE INPUT ################################################\n",
      "Constrained Inversion using FSeq with Gauss-Newton, reg=l2, alpha=0.2\n",
      "15/15 invertedr2inv 0    0.9297\n",
      "Name: all, dtype: object\n",
      "#################################################################################################################################################################### 03 DETERMINISTIC MODELLING ###################################################\n",
      "inv_columns Index(['EC_0.30', 'EC_0.60', 'EC_1.00', 'EC_2.00', 'EC_end'], dtype='object')\n",
      "current_results [{'Extract': 0.5, 'Samples location': 'closest', 'Interface': 'observed', 'Forward_Model': 'FSeq', 'Minimization_Method': 'Gauss-Newton', 'Alpha': 0.2, 'remove_coil': False, 'start_avg': False, 'constrain': True, 'Det': 'LT', 'R2': -15.565, 'RMSE': 0.204, 'MAE': 0.176, 'STD': 0.177, '0R2': 0.714, '0RMSE': 0.097, 'R2_INV': 0.9296998701574928}, {'Extract': 0.5, 'Samples location': 'closest', 'Interface': 'observed', 'Forward_Model': 'FSeq', 'Minimization_Method': 'Gauss-Newton', 'Alpha': 0.2, 'remove_coil': False, 'start_avg': False, 'constrain': True, 'Det': 'ID', 'R2': -13.975, 'RMSE': 0.194, 'MAE': 0.164, 'STD': 0.166, '0R2': 0.848, '0RMSE': 0.077, 'R2_INV': 0.9296998701574928}, {'Extract': 0.5, 'Samples location': 'closest', 'Interface': 'observed', 'Forward_Model': 'FSeq', 'Minimization_Method': 'Gauss-Newton', 'Alpha': 0.2, 'remove_coil': False, 'start_avg': False, 'constrain': True, 'Det': 'LS', 'R2': -15.508, 'RMSE': 0.202, 'MAE': 0.175, 'STD': 0.176, '0R2': 0.722, '0RMSE': 0.096, 'R2_INV': 0.9296998701574928}]\n",
      "Iteration: 280 Combination: (0.5, 'closest', 'observed', 'FSeq', 'Gauss-Newton', 0.2, False, False, False)\n",
      "##################################################################################################################################################################### 02 INVERSION CONFIGURE INPUT ################################################\n",
      "Inversion using FSeq with Gauss-Newton, reg=l2, alpha=0.2\n",
      "15/15 invertedr2inv 0    0.9297\n",
      "Name: all, dtype: object\n",
      "#################################################################################################################################################################### 03 DETERMINISTIC MODELLING ###################################################\n",
      "inv_columns Index(['EC_0.30', 'EC_0.60', 'EC_1.00', 'EC_2.00', 'EC_end'], dtype='object')\n",
      "current_results [{'Extract': 0.5, 'Samples location': 'closest', 'Interface': 'observed', 'Forward_Model': 'FSeq', 'Minimization_Method': 'Gauss-Newton', 'Alpha': 0.2, 'remove_coil': False, 'start_avg': False, 'constrain': False, 'Det': 'LT', 'R2': -15.565, 'RMSE': 0.204, 'MAE': 0.176, 'STD': 0.177, '0R2': 0.714, '0RMSE': 0.097, 'R2_INV': 0.9296998701574928}, {'Extract': 0.5, 'Samples location': 'closest', 'Interface': 'observed', 'Forward_Model': 'FSeq', 'Minimization_Method': 'Gauss-Newton', 'Alpha': 0.2, 'remove_coil': False, 'start_avg': False, 'constrain': False, 'Det': 'ID', 'R2': -13.975, 'RMSE': 0.194, 'MAE': 0.164, 'STD': 0.166, '0R2': 0.848, '0RMSE': 0.077, 'R2_INV': 0.9296998701574928}, {'Extract': 0.5, 'Samples location': 'closest', 'Interface': 'observed', 'Forward_Model': 'FSeq', 'Minimization_Method': 'Gauss-Newton', 'Alpha': 0.2, 'remove_coil': False, 'start_avg': False, 'constrain': False, 'Det': 'LS', 'R2': -15.508, 'RMSE': 0.202, 'MAE': 0.175, 'STD': 0.176, '0R2': 0.722, '0RMSE': 0.096, 'R2_INV': 0.9296998701574928}]\n",
      "Iteration: 281 Combination: (0.5, 'closest', 'observed', 'FSeq', 'ROPE', 0.01, True, True, True)\n",
      "##################################################################################################################################################################### 02 INVERSION CONFIGURE INPUT ################################################\n"
     ]
    },
    {
     "name": "stderr",
     "output_type": "stream",
     "text": [
      "100%|██████████| 15/15 [00:00<?, ?it/s]"
     ]
    },
    {
     "name": "stdout",
     "output_type": "stream",
     "text": [
      "Constrained inversion using FSeq with ROPE, reg=l2, alpha=0.01\n"
     ]
    },
    {
     "name": "stderr",
     "output_type": "stream",
     "text": [
      "\n"
     ]
    },
    {
     "name": "stdout",
     "output_type": "stream",
     "text": [
      "Error in // inversion: Failed to converge after 50 iterations, value is 2.0786529418640267.\n",
      "CRASH\n",
      "Iteration: 281 Combination: (0.5, 'closest', 'observed', 'FSeq', 'ROPE', 0.01, True, True, False)\n",
      "##################################################################################################################################################################### 02 INVERSION CONFIGURE INPUT ################################################\n"
     ]
    },
    {
     "name": "stderr",
     "output_type": "stream",
     "text": [
      "100%|██████████| 15/15 [00:00<00:00, 1853.81it/s]"
     ]
    },
    {
     "name": "stdout",
     "output_type": "stream",
     "text": [
      "Inversion using FSeq with ROPE, reg=l2, alpha=0.01\n"
     ]
    },
    {
     "name": "stderr",
     "output_type": "stream",
     "text": [
      "\n"
     ]
    },
    {
     "name": "stdout",
     "output_type": "stream",
     "text": [
      "r2inv 0   -163.184488\n",
      "Name: all, dtype: object\n",
      "FAILED\n",
      "Iteration: 282 Combination: (0.5, 'closest', 'observed', 'FSeq', 'ROPE', 0.01, True, False, True)\n",
      "##################################################################################################################################################################### 02 INVERSION CONFIGURE INPUT ################################################\n"
     ]
    },
    {
     "name": "stderr",
     "output_type": "stream",
     "text": [
      "100%|██████████| 15/15 [00:00<?, ?it/s]"
     ]
    },
    {
     "name": "stdout",
     "output_type": "stream",
     "text": [
      "Constrained inversion using FSeq with ROPE, reg=l2, alpha=0.01\n"
     ]
    },
    {
     "name": "stderr",
     "output_type": "stream",
     "text": [
      "\n"
     ]
    },
    {
     "name": "stdout",
     "output_type": "stream",
     "text": [
      "Error in // inversion: Failed to converge after 50 iterations, value is 0.7602703691164865.\n",
      "CRASH\n",
      "Iteration: 282 Combination: (0.5, 'closest', 'observed', 'FSeq', 'ROPE', 0.01, True, False, False)\n",
      "##################################################################################################################################################################### 02 INVERSION CONFIGURE INPUT ################################################\n"
     ]
    },
    {
     "name": "stderr",
     "output_type": "stream",
     "text": [
      "100%|██████████| 15/15 [00:00<?, ?it/s]"
     ]
    },
    {
     "name": "stdout",
     "output_type": "stream",
     "text": [
      "Inversion using FSeq with ROPE, reg=l2, alpha=0.01\n"
     ]
    },
    {
     "name": "stderr",
     "output_type": "stream",
     "text": [
      "\n"
     ]
    },
    {
     "name": "stdout",
     "output_type": "stream",
     "text": [
      "r2inv 0   -177.126838\n",
      "Name: all, dtype: object\n",
      "FAILED\n",
      "Iteration: 283 Combination: (0.5, 'closest', 'observed', 'FSeq', 'ROPE', 0.01, False, True, True)\n",
      "##################################################################################################################################################################### 02 INVERSION CONFIGURE INPUT ################################################\n"
     ]
    },
    {
     "name": "stderr",
     "output_type": "stream",
     "text": [
      "100%|██████████| 15/15 [00:00<00:00, 14476.43it/s]"
     ]
    },
    {
     "name": "stdout",
     "output_type": "stream",
     "text": [
      "Constrained inversion using FSeq with ROPE, reg=l2, alpha=0.01\n"
     ]
    },
    {
     "name": "stderr",
     "output_type": "stream",
     "text": [
      "\n"
     ]
    },
    {
     "name": "stdout",
     "output_type": "stream",
     "text": [
      "Error in // inversion: Tolerance of 1.945544773278731e+39 reached. Failed to converge after 33 iterations, value is 1.9455447732787448e+39.\n",
      "CRASH\n",
      "Iteration: 283 Combination: (0.5, 'closest', 'observed', 'FSeq', 'ROPE', 0.01, False, True, False)\n",
      "##################################################################################################################################################################### 02 INVERSION CONFIGURE INPUT ################################################\n"
     ]
    },
    {
     "name": "stderr",
     "output_type": "stream",
     "text": [
      "100%|██████████| 15/15 [00:00<00:00, 6931.21it/s]"
     ]
    },
    {
     "name": "stdout",
     "output_type": "stream",
     "text": [
      "Inversion using FSeq with ROPE, reg=l2, alpha=0.01\n"
     ]
    },
    {
     "name": "stderr",
     "output_type": "stream",
     "text": [
      "\n"
     ]
    },
    {
     "name": "stdout",
     "output_type": "stream",
     "text": [
      "r2inv 0   -180.246294\n",
      "Name: all, dtype: object\n",
      "FAILED\n",
      "Iteration: 284 Combination: (0.5, 'closest', 'observed', 'FSeq', 'ROPE', 0.01, False, False, True)\n",
      "##################################################################################################################################################################### 02 INVERSION CONFIGURE INPUT ################################################\n"
     ]
    },
    {
     "name": "stderr",
     "output_type": "stream",
     "text": [
      "100%|██████████| 15/15 [00:00<00:00, 14951.18it/s]"
     ]
    },
    {
     "name": "stdout",
     "output_type": "stream",
     "text": [
      "Constrained inversion using FSeq with ROPE, reg=l2, alpha=0.01\n"
     ]
    },
    {
     "name": "stderr",
     "output_type": "stream",
     "text": [
      "\n"
     ]
    },
    {
     "name": "stdout",
     "output_type": "stream",
     "text": [
      "Error in // inversion: Tolerance of 1.7135740731876872e+38 reached. Failed to converge after 24 iterations, value is 1.713574073187657e+38.\n",
      "CRASH\n",
      "Iteration: 284 Combination: (0.5, 'closest', 'observed', 'FSeq', 'ROPE', 0.01, False, False, False)\n",
      "##################################################################################################################################################################### 02 INVERSION CONFIGURE INPUT ################################################\n"
     ]
    },
    {
     "name": "stderr",
     "output_type": "stream",
     "text": [
      "100%|██████████| 15/15 [00:00<00:00, 5001.16it/s]"
     ]
    },
    {
     "name": "stdout",
     "output_type": "stream",
     "text": [
      "Inversion using FSeq with ROPE, reg=l2, alpha=0.01\n"
     ]
    },
    {
     "name": "stderr",
     "output_type": "stream",
     "text": [
      "\n"
     ]
    },
    {
     "name": "stdout",
     "output_type": "stream",
     "text": [
      "r2inv 0   -181.050178\n",
      "Name: all, dtype: object\n",
      "FAILED\n",
      "Iteration: 285 Combination: (0.5, 'closest', 'observed', 'FSeq', 'ROPE', 0.07, True, True, True)\n",
      "##################################################################################################################################################################### 02 INVERSION CONFIGURE INPUT ################################################\n"
     ]
    },
    {
     "name": "stderr",
     "output_type": "stream",
     "text": [
      "100%|██████████| 15/15 [00:00<?, ?it/s]"
     ]
    },
    {
     "name": "stdout",
     "output_type": "stream",
     "text": [
      "Constrained inversion using FSeq with ROPE, reg=l2, alpha=0.07\n"
     ]
    },
    {
     "name": "stderr",
     "output_type": "stream",
     "text": [
      "\n"
     ]
    },
    {
     "name": "stdout",
     "output_type": "stream",
     "text": [
      "Error in // inversion: Failed to converge after 50 iterations, value is -0.7751066357807599.\n",
      "CRASH\n",
      "Iteration: 285 Combination: (0.5, 'closest', 'observed', 'FSeq', 'ROPE', 0.07, True, True, False)\n",
      "##################################################################################################################################################################### 02 INVERSION CONFIGURE INPUT ################################################\n"
     ]
    },
    {
     "name": "stderr",
     "output_type": "stream",
     "text": [
      "100%|██████████| 15/15 [00:00<00:00, 1865.46it/s]"
     ]
    },
    {
     "name": "stdout",
     "output_type": "stream",
     "text": [
      "Inversion using FSeq with ROPE, reg=l2, alpha=0.07\n"
     ]
    },
    {
     "name": "stderr",
     "output_type": "stream",
     "text": [
      "\n"
     ]
    },
    {
     "name": "stdout",
     "output_type": "stream",
     "text": [
      "r2inv 0   -241.068456\n",
      "Name: all, dtype: object\n",
      "FAILED\n",
      "Iteration: 286 Combination: (0.5, 'closest', 'observed', 'FSeq', 'ROPE', 0.07, True, False, True)\n",
      "##################################################################################################################################################################### 02 INVERSION CONFIGURE INPUT ################################################\n"
     ]
    },
    {
     "name": "stderr",
     "output_type": "stream",
     "text": [
      "100%|██████████| 15/15 [00:00<00:00, 1975.59it/s]"
     ]
    },
    {
     "name": "stdout",
     "output_type": "stream",
     "text": [
      "Constrained inversion using FSeq with ROPE, reg=l2, alpha=0.07\n"
     ]
    },
    {
     "name": "stderr",
     "output_type": "stream",
     "text": [
      "\n"
     ]
    },
    {
     "name": "stdout",
     "output_type": "stream",
     "text": [
      "Error in // inversion: Failed to converge after 50 iterations, value is 1.1033285108371091.\n",
      "CRASH\n",
      "Iteration: 286 Combination: (0.5, 'closest', 'observed', 'FSeq', 'ROPE', 0.07, True, False, False)\n",
      "##################################################################################################################################################################### 02 INVERSION CONFIGURE INPUT ################################################\n"
     ]
    },
    {
     "name": "stderr",
     "output_type": "stream",
     "text": [
      "100%|██████████| 15/15 [00:00<?, ?it/s]"
     ]
    },
    {
     "name": "stdout",
     "output_type": "stream",
     "text": [
      "Inversion using FSeq with ROPE, reg=l2, alpha=0.07\n"
     ]
    },
    {
     "name": "stderr",
     "output_type": "stream",
     "text": [
      "\n"
     ]
    },
    {
     "name": "stdout",
     "output_type": "stream",
     "text": [
      "r2inv 0   -202.379369\n",
      "Name: all, dtype: object\n",
      "FAILED\n",
      "Iteration: 287 Combination: (0.5, 'closest', 'observed', 'FSeq', 'ROPE', 0.07, False, True, True)\n",
      "##################################################################################################################################################################### 02 INVERSION CONFIGURE INPUT ################################################\n"
     ]
    },
    {
     "name": "stderr",
     "output_type": "stream",
     "text": [
      "100%|██████████| 15/15 [00:00<00:00, 1864.02it/s]"
     ]
    },
    {
     "name": "stdout",
     "output_type": "stream",
     "text": [
      "Constrained inversion using FSeq with ROPE, reg=l2, alpha=0.07\n"
     ]
    },
    {
     "name": "stderr",
     "output_type": "stream",
     "text": [
      "\n"
     ]
    },
    {
     "name": "stdout",
     "output_type": "stream",
     "text": [
      "Error in // inversion: Failed to converge after 50 iterations, value is 1.07359597467582.\n",
      "CRASH\n",
      "Iteration: 287 Combination: (0.5, 'closest', 'observed', 'FSeq', 'ROPE', 0.07, False, True, False)\n",
      "CRASH\n",
      "Iteration: 287 Combination: (0.5, 'closest', 'observed', 'FSeq', 'ROPE', 0.07, False, False, True)\n",
      "##################################################################################################################################################################### 02 INVERSION CONFIGURE INPUT ################################################\n"
     ]
    },
    {
     "name": "stderr",
     "output_type": "stream",
     "text": [
      "100%|██████████| 15/15 [00:00<?, ?it/s]"
     ]
    },
    {
     "name": "stdout",
     "output_type": "stream",
     "text": [
      "Constrained inversion using FSeq with ROPE, reg=l2, alpha=0.07\n"
     ]
    },
    {
     "name": "stderr",
     "output_type": "stream",
     "text": [
      "\n"
     ]
    },
    {
     "name": "stdout",
     "output_type": "stream",
     "text": [
      "Error in // inversion: Failed to converge after 50 iterations, value is -0.6507955685824919.\n",
      "CRASH\n",
      "Iteration: 287 Combination: (0.5, 'closest', 'observed', 'FSeq', 'ROPE', 0.07, False, False, False)\n",
      "##################################################################################################################################################################### 02 INVERSION CONFIGURE INPUT ################################################\n"
     ]
    },
    {
     "name": "stderr",
     "output_type": "stream",
     "text": [
      "100%|██████████| 15/15 [00:00<00:00, 7615.85it/s]"
     ]
    },
    {
     "name": "stdout",
     "output_type": "stream",
     "text": [
      "Inversion using FSeq with ROPE, reg=l2, alpha=0.07\n"
     ]
    },
    {
     "name": "stderr",
     "output_type": "stream",
     "text": [
      "\n"
     ]
    },
    {
     "name": "stdout",
     "output_type": "stream",
     "text": [
      "r2inv 0   -218.43497\n",
      "Name: all, dtype: object\n",
      "FAILED\n",
      "Iteration: 288 Combination: (0.5, 'closest', 'observed', 'FSeq', 'ROPE', 0.2, True, True, True)\n",
      "##################################################################################################################################################################### 02 INVERSION CONFIGURE INPUT ################################################\n"
     ]
    },
    {
     "name": "stderr",
     "output_type": "stream",
     "text": [
      "100%|██████████| 15/15 [00:00<?, ?it/s]"
     ]
    },
    {
     "name": "stdout",
     "output_type": "stream",
     "text": [
      "Constrained inversion using FSeq with ROPE, reg=l2, alpha=0.2\n"
     ]
    },
    {
     "name": "stderr",
     "output_type": "stream",
     "text": [
      "\n"
     ]
    },
    {
     "name": "stdout",
     "output_type": "stream",
     "text": [
      "Error in // inversion: Tolerance of -4.6241371427055835e+28 reached. Failed to converge after 27 iterations, value is -4.624137143097319e+28.\n",
      "CRASH\n",
      "Iteration: 288 Combination: (0.5, 'closest', 'observed', 'FSeq', 'ROPE', 0.2, True, True, False)\n",
      "##################################################################################################################################################################### 02 INVERSION CONFIGURE INPUT ################################################\n"
     ]
    },
    {
     "name": "stderr",
     "output_type": "stream",
     "text": [
      "100%|██████████| 15/15 [00:00<?, ?it/s]"
     ]
    },
    {
     "name": "stdout",
     "output_type": "stream",
     "text": [
      "Inversion using FSeq with ROPE, reg=l2, alpha=0.2\n"
     ]
    },
    {
     "name": "stderr",
     "output_type": "stream",
     "text": [
      "\n"
     ]
    },
    {
     "name": "stdout",
     "output_type": "stream",
     "text": [
      "r2inv 0   -186.123242\n",
      "Name: all, dtype: object\n",
      "FAILED\n",
      "Iteration: 289 Combination: (0.5, 'closest', 'observed', 'FSeq', 'ROPE', 0.2, True, False, True)\n",
      "##################################################################################################################################################################### 02 INVERSION CONFIGURE INPUT ################################################\n"
     ]
    },
    {
     "name": "stderr",
     "output_type": "stream",
     "text": [
      "100%|██████████| 15/15 [00:00<?, ?it/s]"
     ]
    },
    {
     "name": "stdout",
     "output_type": "stream",
     "text": [
      "Constrained inversion using FSeq with ROPE, reg=l2, alpha=0.2\n"
     ]
    },
    {
     "name": "stderr",
     "output_type": "stream",
     "text": [
      "\n"
     ]
    },
    {
     "name": "stdout",
     "output_type": "stream",
     "text": [
      "Error in // inversion: Failed to converge after 50 iterations, value is 1.2146950177215203.\n",
      "CRASH\n",
      "Iteration: 289 Combination: (0.5, 'closest', 'observed', 'FSeq', 'ROPE', 0.2, True, False, False)\n",
      "##################################################################################################################################################################### 02 INVERSION CONFIGURE INPUT ################################################\n"
     ]
    },
    {
     "name": "stderr",
     "output_type": "stream",
     "text": [
      "100%|██████████| 15/15 [00:00<?, ?it/s]"
     ]
    },
    {
     "name": "stdout",
     "output_type": "stream",
     "text": [
      "Inversion using FSeq with ROPE, reg=l2, alpha=0.2\n"
     ]
    },
    {
     "name": "stderr",
     "output_type": "stream",
     "text": [
      "\n"
     ]
    },
    {
     "name": "stdout",
     "output_type": "stream",
     "text": [
      "r2inv 0   -190.792184\n",
      "Name: all, dtype: object\n",
      "FAILED\n",
      "Iteration: 290 Combination: (0.5, 'closest', 'observed', 'FSeq', 'ROPE', 0.2, False, True, True)\n",
      "##################################################################################################################################################################### 02 INVERSION CONFIGURE INPUT ################################################\n"
     ]
    },
    {
     "name": "stderr",
     "output_type": "stream",
     "text": [
      "100%|██████████| 15/15 [00:00<?, ?it/s]"
     ]
    },
    {
     "name": "stdout",
     "output_type": "stream",
     "text": [
      "Constrained inversion using FSeq with ROPE, reg=l2, alpha=0.2\n"
     ]
    },
    {
     "name": "stderr",
     "output_type": "stream",
     "text": [
      "\n"
     ]
    },
    {
     "name": "stdout",
     "output_type": "stream",
     "text": [
      "Error in // inversion: Tolerance of 2.422957064133617e+32 reached. Failed to converge after 31 iterations, value is 2.422957064141011e+32.\n",
      "CRASH\n",
      "Iteration: 290 Combination: (0.5, 'closest', 'observed', 'FSeq', 'ROPE', 0.2, False, True, False)\n",
      "##################################################################################################################################################################### 02 INVERSION CONFIGURE INPUT ################################################\n"
     ]
    },
    {
     "name": "stderr",
     "output_type": "stream",
     "text": [
      "100%|██████████| 15/15 [00:00<00:00, 1830.88it/s]"
     ]
    },
    {
     "name": "stdout",
     "output_type": "stream",
     "text": [
      "Inversion using FSeq with ROPE, reg=l2, alpha=0.2\n"
     ]
    },
    {
     "name": "stderr",
     "output_type": "stream",
     "text": [
      "\n"
     ]
    },
    {
     "name": "stdout",
     "output_type": "stream",
     "text": [
      "r2inv 0   -227.284643\n",
      "Name: all, dtype: object\n",
      "FAILED\n",
      "Iteration: 291 Combination: (0.5, 'closest', 'observed', 'FSeq', 'ROPE', 0.2, False, False, True)\n",
      "##################################################################################################################################################################### 02 INVERSION CONFIGURE INPUT ################################################\n"
     ]
    },
    {
     "name": "stderr",
     "output_type": "stream",
     "text": [
      "100%|██████████| 15/15 [00:00<00:00, 7252.40it/s]"
     ]
    },
    {
     "name": "stdout",
     "output_type": "stream",
     "text": [
      "Constrained inversion using FSeq with ROPE, reg=l2, alpha=0.2\n"
     ]
    },
    {
     "name": "stderr",
     "output_type": "stream",
     "text": [
      "\n"
     ]
    },
    {
     "name": "stdout",
     "output_type": "stream",
     "text": [
      "Error in // inversion: Failed to converge after 50 iterations, value is 0.934366861527536.\n",
      "CRASH\n",
      "Iteration: 291 Combination: (0.5, 'closest', 'observed', 'FSeq', 'ROPE', 0.2, False, False, False)\n",
      "##################################################################################################################################################################### 02 INVERSION CONFIGURE INPUT ################################################\n"
     ]
    },
    {
     "name": "stderr",
     "output_type": "stream",
     "text": [
      "100%|██████████| 15/15 [00:00<?, ?it/s]"
     ]
    },
    {
     "name": "stdout",
     "output_type": "stream",
     "text": [
      "Inversion using FSeq with ROPE, reg=l2, alpha=0.2\n"
     ]
    },
    {
     "name": "stderr",
     "output_type": "stream",
     "text": [
      "\n"
     ]
    },
    {
     "name": "stdout",
     "output_type": "stream",
     "text": [
      "r2inv 0   -238.703633\n",
      "Name: all, dtype: object\n",
      "FAILED\n",
      "Iteration: 292 Combination: (0.5, 'closest', 'observed', 'CS', 'Gauss-Newton', 0.01, True, True, True)\n",
      "##################################################################################################################################################################### 02 INVERSION CONFIGURE INPUT ################################################\n",
      "Constrained Inversion using CS with Gauss-Newton, reg=l2, alpha=0.01\n",
      "Survey 1/1\n",
      "15/15 inverted\n",
      "r2inv 0    0.95524\n",
      "Name: all, dtype: object\n",
      "#################################################################################################################################################################### 03 DETERMINISTIC MODELLING ###################################################\n",
      "inv_columns Index(['EC_0.30', 'EC_0.60', 'EC_1.00', 'EC_2.00', 'EC_end'], dtype='object')\n",
      "current_results [{'Extract': 0.5, 'Samples location': 'closest', 'Interface': 'observed', 'Forward_Model': 'CS', 'Minimization_Method': 'Gauss-Newton', 'Alpha': 0.01, 'remove_coil': True, 'start_avg': True, 'constrain': True, 'Det': 'LT', 'R2': -22.223, 'RMSE': 0.249, 'MAE': 0.226, 'STD': 0.22, '0R2': -1.068, '0RMSE': 0.282, 'R2_INV': 0.955239943059112}, {'Extract': 0.5, 'Samples location': 'closest', 'Interface': 'observed', 'Forward_Model': 'CS', 'Minimization_Method': 'Gauss-Newton', 'Alpha': 0.01, 'remove_coil': True, 'start_avg': True, 'constrain': True, 'Det': 'ID', 'R2': -22.958, 'RMSE': 0.25, 'MAE': 0.221, 'STD': 0.226, '0R2': -1.022, '0RMSE': 0.28, 'R2_INV': 0.955239943059112}, {'Extract': 0.5, 'Samples location': 'closest', 'Interface': 'observed', 'Forward_Model': 'CS', 'Minimization_Method': 'Gauss-Newton', 'Alpha': 0.01, 'remove_coil': True, 'start_avg': True, 'constrain': True, 'Det': 'LS', 'R2': -22.318, 'RMSE': 0.25, 'MAE': 0.226, 'STD': 0.222, '0R2': -1.143, '0RMSE': 0.286, 'R2_INV': 0.955239943059112}]\n",
      "Iteration: 293 Combination: (0.5, 'closest', 'observed', 'CS', 'Gauss-Newton', 0.01, True, True, False)\n",
      "##################################################################################################################################################################### 02 INVERSION CONFIGURE INPUT ################################################\n",
      "Inversion using CS with Gauss-Newton, reg=l2, alpha=0.01\n",
      "Survey 1/1\n",
      "15/15 inverted\n",
      "r2inv 0    0.95524\n",
      "Name: all, dtype: object\n",
      "#################################################################################################################################################################### 03 DETERMINISTIC MODELLING ###################################################\n",
      "inv_columns Index(['EC_0.30', 'EC_0.60', 'EC_1.00', 'EC_2.00', 'EC_end'], dtype='object')\n",
      "current_results [{'Extract': 0.5, 'Samples location': 'closest', 'Interface': 'observed', 'Forward_Model': 'CS', 'Minimization_Method': 'Gauss-Newton', 'Alpha': 0.01, 'remove_coil': True, 'start_avg': True, 'constrain': False, 'Det': 'LT', 'R2': -22.223, 'RMSE': 0.249, 'MAE': 0.226, 'STD': 0.22, '0R2': -1.068, '0RMSE': 0.282, 'R2_INV': 0.955239943059112}, {'Extract': 0.5, 'Samples location': 'closest', 'Interface': 'observed', 'Forward_Model': 'CS', 'Minimization_Method': 'Gauss-Newton', 'Alpha': 0.01, 'remove_coil': True, 'start_avg': True, 'constrain': False, 'Det': 'ID', 'R2': -22.958, 'RMSE': 0.25, 'MAE': 0.221, 'STD': 0.226, '0R2': -1.022, '0RMSE': 0.28, 'R2_INV': 0.955239943059112}, {'Extract': 0.5, 'Samples location': 'closest', 'Interface': 'observed', 'Forward_Model': 'CS', 'Minimization_Method': 'Gauss-Newton', 'Alpha': 0.01, 'remove_coil': True, 'start_avg': True, 'constrain': False, 'Det': 'LS', 'R2': -22.318, 'RMSE': 0.25, 'MAE': 0.226, 'STD': 0.222, '0R2': -1.143, '0RMSE': 0.286, 'R2_INV': 0.955239943059112}]\n",
      "Iteration: 294 Combination: (0.5, 'closest', 'observed', 'CS', 'Gauss-Newton', 0.01, True, False, True)\n",
      "##################################################################################################################################################################### 02 INVERSION CONFIGURE INPUT ################################################\n",
      "Constrained Inversion using CS with Gauss-Newton, reg=l2, alpha=0.01\n",
      "Survey 1/1\n",
      "15/15 inverted\n",
      "r2inv 0    0.95524\n",
      "Name: all, dtype: object\n",
      "#################################################################################################################################################################### 03 DETERMINISTIC MODELLING ###################################################\n",
      "inv_columns Index(['EC_0.30', 'EC_0.60', 'EC_1.00', 'EC_2.00', 'EC_end'], dtype='object')\n",
      "current_results [{'Extract': 0.5, 'Samples location': 'closest', 'Interface': 'observed', 'Forward_Model': 'CS', 'Minimization_Method': 'Gauss-Newton', 'Alpha': 0.01, 'remove_coil': True, 'start_avg': False, 'constrain': True, 'Det': 'LT', 'R2': -22.223, 'RMSE': 0.249, 'MAE': 0.226, 'STD': 0.22, '0R2': -1.068, '0RMSE': 0.282, 'R2_INV': 0.955239943059112}, {'Extract': 0.5, 'Samples location': 'closest', 'Interface': 'observed', 'Forward_Model': 'CS', 'Minimization_Method': 'Gauss-Newton', 'Alpha': 0.01, 'remove_coil': True, 'start_avg': False, 'constrain': True, 'Det': 'ID', 'R2': -22.958, 'RMSE': 0.25, 'MAE': 0.221, 'STD': 0.226, '0R2': -1.022, '0RMSE': 0.28, 'R2_INV': 0.955239943059112}, {'Extract': 0.5, 'Samples location': 'closest', 'Interface': 'observed', 'Forward_Model': 'CS', 'Minimization_Method': 'Gauss-Newton', 'Alpha': 0.01, 'remove_coil': True, 'start_avg': False, 'constrain': True, 'Det': 'LS', 'R2': -22.318, 'RMSE': 0.25, 'MAE': 0.226, 'STD': 0.222, '0R2': -1.143, '0RMSE': 0.286, 'R2_INV': 0.955239943059112}]\n",
      "Iteration: 295 Combination: (0.5, 'closest', 'observed', 'CS', 'Gauss-Newton', 0.01, True, False, False)\n",
      "##################################################################################################################################################################### 02 INVERSION CONFIGURE INPUT ################################################\n",
      "Inversion using CS with Gauss-Newton, reg=l2, alpha=0.01\n",
      "Survey 1/1\n",
      "15/15 inverted\n",
      "r2inv 0    0.95524\n",
      "Name: all, dtype: object\n",
      "#################################################################################################################################################################### 03 DETERMINISTIC MODELLING ###################################################\n",
      "inv_columns Index(['EC_0.30', 'EC_0.60', 'EC_1.00', 'EC_2.00', 'EC_end'], dtype='object')\n",
      "current_results [{'Extract': 0.5, 'Samples location': 'closest', 'Interface': 'observed', 'Forward_Model': 'CS', 'Minimization_Method': 'Gauss-Newton', 'Alpha': 0.01, 'remove_coil': True, 'start_avg': False, 'constrain': False, 'Det': 'LT', 'R2': -22.223, 'RMSE': 0.249, 'MAE': 0.226, 'STD': 0.22, '0R2': -1.068, '0RMSE': 0.282, 'R2_INV': 0.955239943059112}, {'Extract': 0.5, 'Samples location': 'closest', 'Interface': 'observed', 'Forward_Model': 'CS', 'Minimization_Method': 'Gauss-Newton', 'Alpha': 0.01, 'remove_coil': True, 'start_avg': False, 'constrain': False, 'Det': 'ID', 'R2': -22.958, 'RMSE': 0.25, 'MAE': 0.221, 'STD': 0.226, '0R2': -1.022, '0RMSE': 0.28, 'R2_INV': 0.955239943059112}, {'Extract': 0.5, 'Samples location': 'closest', 'Interface': 'observed', 'Forward_Model': 'CS', 'Minimization_Method': 'Gauss-Newton', 'Alpha': 0.01, 'remove_coil': True, 'start_avg': False, 'constrain': False, 'Det': 'LS', 'R2': -22.318, 'RMSE': 0.25, 'MAE': 0.226, 'STD': 0.222, '0R2': -1.143, '0RMSE': 0.286, 'R2_INV': 0.955239943059112}]\n",
      "Iteration: 296 Combination: (0.5, 'closest', 'observed', 'CS', 'Gauss-Newton', 0.01, False, True, True)\n",
      "##################################################################################################################################################################### 02 INVERSION CONFIGURE INPUT ################################################\n",
      "Constrained Inversion using CS with Gauss-Newton, reg=l2, alpha=0.01\n",
      "Survey 1/1\n",
      "15/15 inverted\n",
      "r2inv 0    0.950432\n",
      "Name: all, dtype: object\n",
      "#################################################################################################################################################################### 03 DETERMINISTIC MODELLING ###################################################\n",
      "inv_columns Index(['EC_0.30', 'EC_0.60', 'EC_1.00', 'EC_2.00', 'EC_end'], dtype='object')\n",
      "current_results [{'Extract': 0.5, 'Samples location': 'closest', 'Interface': 'observed', 'Forward_Model': 'CS', 'Minimization_Method': 'Gauss-Newton', 'Alpha': 0.01, 'remove_coil': False, 'start_avg': True, 'constrain': True, 'Det': 'LT', 'R2': -22.422, 'RMSE': 0.25, 'MAE': 0.224, 'STD': 0.21, '0R2': -1.05, '0RMSE': 0.28, 'R2_INV': 0.9504319435366436}, {'Extract': 0.5, 'Samples location': 'closest', 'Interface': 'observed', 'Forward_Model': 'CS', 'Minimization_Method': 'Gauss-Newton', 'Alpha': 0.01, 'remove_coil': False, 'start_avg': True, 'constrain': True, 'Det': 'ID', 'R2': -22.708, 'RMSE': 0.249, 'MAE': 0.22, 'STD': 0.213, '0R2': -0.949, '0RMSE': 0.281, 'R2_INV': 0.9504319435366436}, {'Extract': 0.5, 'Samples location': 'closest', 'Interface': 'observed', 'Forward_Model': 'CS', 'Minimization_Method': 'Gauss-Newton', 'Alpha': 0.01, 'remove_coil': False, 'start_avg': True, 'constrain': True, 'Det': 'LS', 'R2': -22.332, 'RMSE': 0.25, 'MAE': 0.224, 'STD': 0.212, '0R2': -1.1, '0RMSE': 0.285, 'R2_INV': 0.9504319435366436}]\n",
      "Iteration: 297 Combination: (0.5, 'closest', 'observed', 'CS', 'Gauss-Newton', 0.01, False, True, False)\n",
      "##################################################################################################################################################################### 02 INVERSION CONFIGURE INPUT ################################################\n",
      "Inversion using CS with Gauss-Newton, reg=l2, alpha=0.01\n",
      "Survey 1/1\n",
      "15/15 inverted\n",
      "r2inv 0    0.950432\n",
      "Name: all, dtype: object\n",
      "#################################################################################################################################################################### 03 DETERMINISTIC MODELLING ###################################################\n",
      "inv_columns Index(['EC_0.30', 'EC_0.60', 'EC_1.00', 'EC_2.00', 'EC_end'], dtype='object')\n",
      "current_results [{'Extract': 0.5, 'Samples location': 'closest', 'Interface': 'observed', 'Forward_Model': 'CS', 'Minimization_Method': 'Gauss-Newton', 'Alpha': 0.01, 'remove_coil': False, 'start_avg': True, 'constrain': False, 'Det': 'LT', 'R2': -22.422, 'RMSE': 0.25, 'MAE': 0.224, 'STD': 0.21, '0R2': -1.05, '0RMSE': 0.28, 'R2_INV': 0.9504319435366436}, {'Extract': 0.5, 'Samples location': 'closest', 'Interface': 'observed', 'Forward_Model': 'CS', 'Minimization_Method': 'Gauss-Newton', 'Alpha': 0.01, 'remove_coil': False, 'start_avg': True, 'constrain': False, 'Det': 'ID', 'R2': -22.708, 'RMSE': 0.249, 'MAE': 0.22, 'STD': 0.213, '0R2': -0.949, '0RMSE': 0.281, 'R2_INV': 0.9504319435366436}, {'Extract': 0.5, 'Samples location': 'closest', 'Interface': 'observed', 'Forward_Model': 'CS', 'Minimization_Method': 'Gauss-Newton', 'Alpha': 0.01, 'remove_coil': False, 'start_avg': True, 'constrain': False, 'Det': 'LS', 'R2': -22.332, 'RMSE': 0.25, 'MAE': 0.224, 'STD': 0.212, '0R2': -1.1, '0RMSE': 0.285, 'R2_INV': 0.9504319435366436}]\n",
      "Iteration: 298 Combination: (0.5, 'closest', 'observed', 'CS', 'Gauss-Newton', 0.01, False, False, True)\n",
      "##################################################################################################################################################################### 02 INVERSION CONFIGURE INPUT ################################################\n",
      "Constrained Inversion using CS with Gauss-Newton, reg=l2, alpha=0.01\n",
      "Survey 1/1\n",
      "15/15 inverted\n",
      "r2inv 0    0.950432\n",
      "Name: all, dtype: object\n",
      "#################################################################################################################################################################### 03 DETERMINISTIC MODELLING ###################################################\n",
      "inv_columns Index(['EC_0.30', 'EC_0.60', 'EC_1.00', 'EC_2.00', 'EC_end'], dtype='object')\n",
      "current_results [{'Extract': 0.5, 'Samples location': 'closest', 'Interface': 'observed', 'Forward_Model': 'CS', 'Minimization_Method': 'Gauss-Newton', 'Alpha': 0.01, 'remove_coil': False, 'start_avg': False, 'constrain': True, 'Det': 'LT', 'R2': -22.422, 'RMSE': 0.25, 'MAE': 0.224, 'STD': 0.21, '0R2': -1.05, '0RMSE': 0.28, 'R2_INV': 0.9504319435366436}, {'Extract': 0.5, 'Samples location': 'closest', 'Interface': 'observed', 'Forward_Model': 'CS', 'Minimization_Method': 'Gauss-Newton', 'Alpha': 0.01, 'remove_coil': False, 'start_avg': False, 'constrain': True, 'Det': 'ID', 'R2': -22.708, 'RMSE': 0.249, 'MAE': 0.22, 'STD': 0.213, '0R2': -0.949, '0RMSE': 0.281, 'R2_INV': 0.9504319435366436}, {'Extract': 0.5, 'Samples location': 'closest', 'Interface': 'observed', 'Forward_Model': 'CS', 'Minimization_Method': 'Gauss-Newton', 'Alpha': 0.01, 'remove_coil': False, 'start_avg': False, 'constrain': True, 'Det': 'LS', 'R2': -22.332, 'RMSE': 0.25, 'MAE': 0.224, 'STD': 0.212, '0R2': -1.1, '0RMSE': 0.285, 'R2_INV': 0.9504319435366436}]\n",
      "Iteration: 299 Combination: (0.5, 'closest', 'observed', 'CS', 'Gauss-Newton', 0.01, False, False, False)\n",
      "##################################################################################################################################################################### 02 INVERSION CONFIGURE INPUT ################################################\n",
      "Inversion using CS with Gauss-Newton, reg=l2, alpha=0.01\n",
      "Survey 1/1\n",
      "15/15 inverted\n",
      "r2inv 0    0.950432\n",
      "Name: all, dtype: object\n",
      "#################################################################################################################################################################### 03 DETERMINISTIC MODELLING ###################################################\n",
      "inv_columns Index(['EC_0.30', 'EC_0.60', 'EC_1.00', 'EC_2.00', 'EC_end'], dtype='object')\n",
      "current_results [{'Extract': 0.5, 'Samples location': 'closest', 'Interface': 'observed', 'Forward_Model': 'CS', 'Minimization_Method': 'Gauss-Newton', 'Alpha': 0.01, 'remove_coil': False, 'start_avg': False, 'constrain': False, 'Det': 'LT', 'R2': -22.422, 'RMSE': 0.25, 'MAE': 0.224, 'STD': 0.21, '0R2': -1.05, '0RMSE': 0.28, 'R2_INV': 0.9504319435366436}, {'Extract': 0.5, 'Samples location': 'closest', 'Interface': 'observed', 'Forward_Model': 'CS', 'Minimization_Method': 'Gauss-Newton', 'Alpha': 0.01, 'remove_coil': False, 'start_avg': False, 'constrain': False, 'Det': 'ID', 'R2': -22.708, 'RMSE': 0.249, 'MAE': 0.22, 'STD': 0.213, '0R2': -0.949, '0RMSE': 0.281, 'R2_INV': 0.9504319435366436}, {'Extract': 0.5, 'Samples location': 'closest', 'Interface': 'observed', 'Forward_Model': 'CS', 'Minimization_Method': 'Gauss-Newton', 'Alpha': 0.01, 'remove_coil': False, 'start_avg': False, 'constrain': False, 'Det': 'LS', 'R2': -22.332, 'RMSE': 0.25, 'MAE': 0.224, 'STD': 0.212, '0R2': -1.1, '0RMSE': 0.285, 'R2_INV': 0.9504319435366436}]\n",
      "Iteration: 300 Combination: (0.5, 'closest', 'observed', 'CS', 'Gauss-Newton', 0.07, True, True, True)\n",
      "##################################################################################################################################################################### 02 INVERSION CONFIGURE INPUT ################################################\n",
      "Constrained Inversion using CS with Gauss-Newton, reg=l2, alpha=0.07\n",
      "Survey 1/1\n",
      "15/15 inverted\n",
      "r2inv 0    0.91763\n",
      "Name: all, dtype: object\n",
      "#################################################################################################################################################################### 03 DETERMINISTIC MODELLING ###################################################\n",
      "inv_columns Index(['EC_0.30', 'EC_0.60', 'EC_1.00', 'EC_2.00', 'EC_end'], dtype='object')\n",
      "current_results [{'Extract': 0.5, 'Samples location': 'closest', 'Interface': 'observed', 'Forward_Model': 'CS', 'Minimization_Method': 'Gauss-Newton', 'Alpha': 0.07, 'remove_coil': True, 'start_avg': True, 'constrain': True, 'Det': 'LT', 'R2': -15.863, 'RMSE': 0.203, 'MAE': 0.176, 'STD': 0.14, '0R2': 0.415, '0RMSE': 0.15, 'R2_INV': 0.9176298531171998}, {'Extract': 0.5, 'Samples location': 'closest', 'Interface': 'observed', 'Forward_Model': 'CS', 'Minimization_Method': 'Gauss-Newton', 'Alpha': 0.07, 'remove_coil': True, 'start_avg': True, 'constrain': True, 'Det': 'ID', 'R2': -13.715, 'RMSE': 0.192, 'MAE': 0.174, 'STD': 0.132, '0R2': 0.451, '0RMSE': 0.142, 'R2_INV': 0.9176298531171998}, {'Extract': 0.5, 'Samples location': 'closest', 'Interface': 'observed', 'Forward_Model': 'CS', 'Minimization_Method': 'Gauss-Newton', 'Alpha': 0.07, 'remove_coil': True, 'start_avg': True, 'constrain': True, 'Det': 'LS', 'R2': -16.066, 'RMSE': 0.205, 'MAE': 0.175, 'STD': 0.14, '0R2': 0.377, '0RMSE': 0.156, 'R2_INV': 0.9176298531171998}]\n",
      "Iteration: 301 Combination: (0.5, 'closest', 'observed', 'CS', 'Gauss-Newton', 0.07, True, True, False)\n",
      "##################################################################################################################################################################### 02 INVERSION CONFIGURE INPUT ################################################\n",
      "Inversion using CS with Gauss-Newton, reg=l2, alpha=0.07\n",
      "Survey 1/1\n",
      "15/15 inverted\n",
      "r2inv 0    0.91763\n",
      "Name: all, dtype: object\n",
      "#################################################################################################################################################################### 03 DETERMINISTIC MODELLING ###################################################\n",
      "inv_columns Index(['EC_0.30', 'EC_0.60', 'EC_1.00', 'EC_2.00', 'EC_end'], dtype='object')\n",
      "current_results [{'Extract': 0.5, 'Samples location': 'closest', 'Interface': 'observed', 'Forward_Model': 'CS', 'Minimization_Method': 'Gauss-Newton', 'Alpha': 0.07, 'remove_coil': True, 'start_avg': True, 'constrain': False, 'Det': 'LT', 'R2': -15.863, 'RMSE': 0.203, 'MAE': 0.176, 'STD': 0.14, '0R2': 0.415, '0RMSE': 0.15, 'R2_INV': 0.9176298531171998}, {'Extract': 0.5, 'Samples location': 'closest', 'Interface': 'observed', 'Forward_Model': 'CS', 'Minimization_Method': 'Gauss-Newton', 'Alpha': 0.07, 'remove_coil': True, 'start_avg': True, 'constrain': False, 'Det': 'ID', 'R2': -13.715, 'RMSE': 0.192, 'MAE': 0.174, 'STD': 0.132, '0R2': 0.451, '0RMSE': 0.142, 'R2_INV': 0.9176298531171998}, {'Extract': 0.5, 'Samples location': 'closest', 'Interface': 'observed', 'Forward_Model': 'CS', 'Minimization_Method': 'Gauss-Newton', 'Alpha': 0.07, 'remove_coil': True, 'start_avg': True, 'constrain': False, 'Det': 'LS', 'R2': -16.066, 'RMSE': 0.205, 'MAE': 0.175, 'STD': 0.14, '0R2': 0.377, '0RMSE': 0.156, 'R2_INV': 0.9176298531171998}]\n",
      "Iteration: 302 Combination: (0.5, 'closest', 'observed', 'CS', 'Gauss-Newton', 0.07, True, False, True)\n",
      "##################################################################################################################################################################### 02 INVERSION CONFIGURE INPUT ################################################\n",
      "Constrained Inversion using CS with Gauss-Newton, reg=l2, alpha=0.07\n",
      "Survey 1/1\n",
      "15/15 inverted\n",
      "r2inv 0    0.91763\n",
      "Name: all, dtype: object\n",
      "#################################################################################################################################################################### 03 DETERMINISTIC MODELLING ###################################################\n",
      "inv_columns Index(['EC_0.30', 'EC_0.60', 'EC_1.00', 'EC_2.00', 'EC_end'], dtype='object')\n",
      "current_results [{'Extract': 0.5, 'Samples location': 'closest', 'Interface': 'observed', 'Forward_Model': 'CS', 'Minimization_Method': 'Gauss-Newton', 'Alpha': 0.07, 'remove_coil': True, 'start_avg': False, 'constrain': True, 'Det': 'LT', 'R2': -15.863, 'RMSE': 0.203, 'MAE': 0.176, 'STD': 0.14, '0R2': 0.415, '0RMSE': 0.15, 'R2_INV': 0.9176298531171998}, {'Extract': 0.5, 'Samples location': 'closest', 'Interface': 'observed', 'Forward_Model': 'CS', 'Minimization_Method': 'Gauss-Newton', 'Alpha': 0.07, 'remove_coil': True, 'start_avg': False, 'constrain': True, 'Det': 'ID', 'R2': -13.715, 'RMSE': 0.192, 'MAE': 0.174, 'STD': 0.132, '0R2': 0.451, '0RMSE': 0.142, 'R2_INV': 0.9176298531171998}, {'Extract': 0.5, 'Samples location': 'closest', 'Interface': 'observed', 'Forward_Model': 'CS', 'Minimization_Method': 'Gauss-Newton', 'Alpha': 0.07, 'remove_coil': True, 'start_avg': False, 'constrain': True, 'Det': 'LS', 'R2': -16.066, 'RMSE': 0.205, 'MAE': 0.175, 'STD': 0.14, '0R2': 0.377, '0RMSE': 0.156, 'R2_INV': 0.9176298531171998}]\n",
      "Iteration: 303 Combination: (0.5, 'closest', 'observed', 'CS', 'Gauss-Newton', 0.07, True, False, False)\n",
      "##################################################################################################################################################################### 02 INVERSION CONFIGURE INPUT ################################################\n",
      "Inversion using CS with Gauss-Newton, reg=l2, alpha=0.07\n",
      "Survey 1/1\n",
      "15/15 inverted\n",
      "r2inv 0    0.91763\n",
      "Name: all, dtype: object\n",
      "#################################################################################################################################################################### 03 DETERMINISTIC MODELLING ###################################################\n",
      "inv_columns Index(['EC_0.30', 'EC_0.60', 'EC_1.00', 'EC_2.00', 'EC_end'], dtype='object')\n",
      "current_results [{'Extract': 0.5, 'Samples location': 'closest', 'Interface': 'observed', 'Forward_Model': 'CS', 'Minimization_Method': 'Gauss-Newton', 'Alpha': 0.07, 'remove_coil': True, 'start_avg': False, 'constrain': False, 'Det': 'LT', 'R2': -15.863, 'RMSE': 0.203, 'MAE': 0.176, 'STD': 0.14, '0R2': 0.415, '0RMSE': 0.15, 'R2_INV': 0.9176298531171998}, {'Extract': 0.5, 'Samples location': 'closest', 'Interface': 'observed', 'Forward_Model': 'CS', 'Minimization_Method': 'Gauss-Newton', 'Alpha': 0.07, 'remove_coil': True, 'start_avg': False, 'constrain': False, 'Det': 'ID', 'R2': -13.715, 'RMSE': 0.192, 'MAE': 0.174, 'STD': 0.132, '0R2': 0.451, '0RMSE': 0.142, 'R2_INV': 0.9176298531171998}, {'Extract': 0.5, 'Samples location': 'closest', 'Interface': 'observed', 'Forward_Model': 'CS', 'Minimization_Method': 'Gauss-Newton', 'Alpha': 0.07, 'remove_coil': True, 'start_avg': False, 'constrain': False, 'Det': 'LS', 'R2': -16.066, 'RMSE': 0.205, 'MAE': 0.175, 'STD': 0.14, '0R2': 0.377, '0RMSE': 0.156, 'R2_INV': 0.9176298531171998}]\n",
      "Iteration: 304 Combination: (0.5, 'closest', 'observed', 'CS', 'Gauss-Newton', 0.07, False, True, True)\n",
      "##################################################################################################################################################################### 02 INVERSION CONFIGURE INPUT ################################################\n",
      "Constrained Inversion using CS with Gauss-Newton, reg=l2, alpha=0.07\n",
      "Survey 1/1\n",
      "15/15 inverted\n",
      "r2inv 0    0.915922\n",
      "Name: all, dtype: object\n",
      "#################################################################################################################################################################### 03 DETERMINISTIC MODELLING ###################################################\n",
      "inv_columns Index(['EC_0.30', 'EC_0.60', 'EC_1.00', 'EC_2.00', 'EC_end'], dtype='object')\n",
      "current_results [{'Extract': 0.5, 'Samples location': 'closest', 'Interface': 'observed', 'Forward_Model': 'CS', 'Minimization_Method': 'Gauss-Newton', 'Alpha': 0.07, 'remove_coil': False, 'start_avg': True, 'constrain': True, 'Det': 'LT', 'R2': -16.564, 'RMSE': 0.206, 'MAE': 0.179, 'STD': 0.142, '0R2': 0.298, '0RMSE': 0.163, 'R2_INV': 0.915921536696184}, {'Extract': 0.5, 'Samples location': 'closest', 'Interface': 'observed', 'Forward_Model': 'CS', 'Minimization_Method': 'Gauss-Newton', 'Alpha': 0.07, 'remove_coil': False, 'start_avg': True, 'constrain': True, 'Det': 'ID', 'R2': -14.716, 'RMSE': 0.198, 'MAE': 0.18, 'STD': 0.134, '0R2': 0.348, '0RMSE': 0.158, 'R2_INV': 0.915921536696184}, {'Extract': 0.5, 'Samples location': 'closest', 'Interface': 'observed', 'Forward_Model': 'CS', 'Minimization_Method': 'Gauss-Newton', 'Alpha': 0.07, 'remove_coil': False, 'start_avg': True, 'constrain': True, 'Det': 'LS', 'R2': -16.79, 'RMSE': 0.208, 'MAE': 0.18, 'STD': 0.143, '0R2': 0.258, '0RMSE': 0.168, 'R2_INV': 0.915921536696184}]\n",
      "Iteration: 305 Combination: (0.5, 'closest', 'observed', 'CS', 'Gauss-Newton', 0.07, False, True, False)\n",
      "##################################################################################################################################################################### 02 INVERSION CONFIGURE INPUT ################################################\n",
      "Inversion using CS with Gauss-Newton, reg=l2, alpha=0.07\n",
      "Survey 1/1\n",
      "15/15 inverted\n",
      "r2inv 0    0.915922\n",
      "Name: all, dtype: object\n",
      "#################################################################################################################################################################### 03 DETERMINISTIC MODELLING ###################################################\n",
      "inv_columns Index(['EC_0.30', 'EC_0.60', 'EC_1.00', 'EC_2.00', 'EC_end'], dtype='object')\n",
      "current_results [{'Extract': 0.5, 'Samples location': 'closest', 'Interface': 'observed', 'Forward_Model': 'CS', 'Minimization_Method': 'Gauss-Newton', 'Alpha': 0.07, 'remove_coil': False, 'start_avg': True, 'constrain': False, 'Det': 'LT', 'R2': -16.564, 'RMSE': 0.206, 'MAE': 0.179, 'STD': 0.142, '0R2': 0.298, '0RMSE': 0.163, 'R2_INV': 0.915921536696184}, {'Extract': 0.5, 'Samples location': 'closest', 'Interface': 'observed', 'Forward_Model': 'CS', 'Minimization_Method': 'Gauss-Newton', 'Alpha': 0.07, 'remove_coil': False, 'start_avg': True, 'constrain': False, 'Det': 'ID', 'R2': -14.716, 'RMSE': 0.198, 'MAE': 0.18, 'STD': 0.134, '0R2': 0.348, '0RMSE': 0.158, 'R2_INV': 0.915921536696184}, {'Extract': 0.5, 'Samples location': 'closest', 'Interface': 'observed', 'Forward_Model': 'CS', 'Minimization_Method': 'Gauss-Newton', 'Alpha': 0.07, 'remove_coil': False, 'start_avg': True, 'constrain': False, 'Det': 'LS', 'R2': -16.79, 'RMSE': 0.208, 'MAE': 0.18, 'STD': 0.143, '0R2': 0.258, '0RMSE': 0.168, 'R2_INV': 0.915921536696184}]\n",
      "Iteration: 306 Combination: (0.5, 'closest', 'observed', 'CS', 'Gauss-Newton', 0.07, False, False, True)\n",
      "##################################################################################################################################################################### 02 INVERSION CONFIGURE INPUT ################################################\n",
      "Constrained Inversion using CS with Gauss-Newton, reg=l2, alpha=0.07\n",
      "Survey 1/1\n",
      "15/15 inverted\n",
      "r2inv 0    0.915922\n",
      "Name: all, dtype: object\n",
      "#################################################################################################################################################################### 03 DETERMINISTIC MODELLING ###################################################\n",
      "inv_columns Index(['EC_0.30', 'EC_0.60', 'EC_1.00', 'EC_2.00', 'EC_end'], dtype='object')\n",
      "current_results [{'Extract': 0.5, 'Samples location': 'closest', 'Interface': 'observed', 'Forward_Model': 'CS', 'Minimization_Method': 'Gauss-Newton', 'Alpha': 0.07, 'remove_coil': False, 'start_avg': False, 'constrain': True, 'Det': 'LT', 'R2': -16.564, 'RMSE': 0.206, 'MAE': 0.179, 'STD': 0.142, '0R2': 0.298, '0RMSE': 0.163, 'R2_INV': 0.915921536696184}, {'Extract': 0.5, 'Samples location': 'closest', 'Interface': 'observed', 'Forward_Model': 'CS', 'Minimization_Method': 'Gauss-Newton', 'Alpha': 0.07, 'remove_coil': False, 'start_avg': False, 'constrain': True, 'Det': 'ID', 'R2': -14.716, 'RMSE': 0.198, 'MAE': 0.18, 'STD': 0.134, '0R2': 0.348, '0RMSE': 0.158, 'R2_INV': 0.915921536696184}, {'Extract': 0.5, 'Samples location': 'closest', 'Interface': 'observed', 'Forward_Model': 'CS', 'Minimization_Method': 'Gauss-Newton', 'Alpha': 0.07, 'remove_coil': False, 'start_avg': False, 'constrain': True, 'Det': 'LS', 'R2': -16.79, 'RMSE': 0.208, 'MAE': 0.18, 'STD': 0.143, '0R2': 0.258, '0RMSE': 0.168, 'R2_INV': 0.915921536696184}]\n",
      "Iteration: 307 Combination: (0.5, 'closest', 'observed', 'CS', 'Gauss-Newton', 0.07, False, False, False)\n",
      "##################################################################################################################################################################### 02 INVERSION CONFIGURE INPUT ################################################\n",
      "Inversion using CS with Gauss-Newton, reg=l2, alpha=0.07\n",
      "Survey 1/1\n",
      "15/15 inverted\n",
      "r2inv 0    0.915922\n",
      "Name: all, dtype: object\n",
      "#################################################################################################################################################################### 03 DETERMINISTIC MODELLING ###################################################\n",
      "inv_columns Index(['EC_0.30', 'EC_0.60', 'EC_1.00', 'EC_2.00', 'EC_end'], dtype='object')\n",
      "current_results [{'Extract': 0.5, 'Samples location': 'closest', 'Interface': 'observed', 'Forward_Model': 'CS', 'Minimization_Method': 'Gauss-Newton', 'Alpha': 0.07, 'remove_coil': False, 'start_avg': False, 'constrain': False, 'Det': 'LT', 'R2': -16.564, 'RMSE': 0.206, 'MAE': 0.179, 'STD': 0.142, '0R2': 0.298, '0RMSE': 0.163, 'R2_INV': 0.915921536696184}, {'Extract': 0.5, 'Samples location': 'closest', 'Interface': 'observed', 'Forward_Model': 'CS', 'Minimization_Method': 'Gauss-Newton', 'Alpha': 0.07, 'remove_coil': False, 'start_avg': False, 'constrain': False, 'Det': 'ID', 'R2': -14.716, 'RMSE': 0.198, 'MAE': 0.18, 'STD': 0.134, '0R2': 0.348, '0RMSE': 0.158, 'R2_INV': 0.915921536696184}, {'Extract': 0.5, 'Samples location': 'closest', 'Interface': 'observed', 'Forward_Model': 'CS', 'Minimization_Method': 'Gauss-Newton', 'Alpha': 0.07, 'remove_coil': False, 'start_avg': False, 'constrain': False, 'Det': 'LS', 'R2': -16.79, 'RMSE': 0.208, 'MAE': 0.18, 'STD': 0.143, '0R2': 0.258, '0RMSE': 0.168, 'R2_INV': 0.915921536696184}]\n",
      "Iteration: 308 Combination: (0.5, 'closest', 'observed', 'CS', 'Gauss-Newton', 0.2, True, True, True)\n",
      "##################################################################################################################################################################### 02 INVERSION CONFIGURE INPUT ################################################\n",
      "Constrained Inversion using CS with Gauss-Newton, reg=l2, alpha=0.2\n",
      "Survey 1/1\n",
      "15/15 inverted\n",
      "r2inv 0    0.850219\n",
      "Name: all, dtype: object\n",
      "#################################################################################################################################################################### 03 DETERMINISTIC MODELLING ###################################################\n",
      "inv_columns Index(['EC_0.30', 'EC_0.60', 'EC_1.00', 'EC_2.00', 'EC_end'], dtype='object')\n",
      "current_results [{'Extract': 0.5, 'Samples location': 'closest', 'Interface': 'observed', 'Forward_Model': 'CS', 'Minimization_Method': 'Gauss-Newton', 'Alpha': 0.2, 'remove_coil': True, 'start_avg': True, 'constrain': True, 'Det': 'LT', 'R2': -17.832, 'RMSE': 0.212, 'MAE': 0.186, 'STD': 0.13, '0R2': 0.368, '0RMSE': 0.148, 'R2_INV': 0.8502188655032996}, {'Extract': 0.5, 'Samples location': 'closest', 'Interface': 'observed', 'Forward_Model': 'CS', 'Minimization_Method': 'Gauss-Newton', 'Alpha': 0.2, 'remove_coil': True, 'start_avg': True, 'constrain': True, 'Det': 'ID', 'R2': -16.084, 'RMSE': 0.207, 'MAE': 0.182, 'STD': 0.121, '0R2': 0.462, '0RMSE': 0.142, 'R2_INV': 0.8502188655032996}, {'Extract': 0.5, 'Samples location': 'closest', 'Interface': 'observed', 'Forward_Model': 'CS', 'Minimization_Method': 'Gauss-Newton', 'Alpha': 0.2, 'remove_coil': True, 'start_avg': True, 'constrain': True, 'Det': 'LS', 'R2': -17.868, 'RMSE': 0.212, 'MAE': 0.188, 'STD': 0.13, '0R2': 0.347, '0RMSE': 0.152, 'R2_INV': 0.8502188655032996}]\n",
      "Iteration: 309 Combination: (0.5, 'closest', 'observed', 'CS', 'Gauss-Newton', 0.2, True, True, False)\n",
      "##################################################################################################################################################################### 02 INVERSION CONFIGURE INPUT ################################################\n",
      "Inversion using CS with Gauss-Newton, reg=l2, alpha=0.2\n",
      "Survey 1/1\n",
      "15/15 inverted\n",
      "r2inv 0    0.850219\n",
      "Name: all, dtype: object\n",
      "#################################################################################################################################################################### 03 DETERMINISTIC MODELLING ###################################################\n",
      "inv_columns Index(['EC_0.30', 'EC_0.60', 'EC_1.00', 'EC_2.00', 'EC_end'], dtype='object')\n",
      "current_results [{'Extract': 0.5, 'Samples location': 'closest', 'Interface': 'observed', 'Forward_Model': 'CS', 'Minimization_Method': 'Gauss-Newton', 'Alpha': 0.2, 'remove_coil': True, 'start_avg': True, 'constrain': False, 'Det': 'LT', 'R2': -17.832, 'RMSE': 0.212, 'MAE': 0.186, 'STD': 0.13, '0R2': 0.368, '0RMSE': 0.148, 'R2_INV': 0.8502188655032996}, {'Extract': 0.5, 'Samples location': 'closest', 'Interface': 'observed', 'Forward_Model': 'CS', 'Minimization_Method': 'Gauss-Newton', 'Alpha': 0.2, 'remove_coil': True, 'start_avg': True, 'constrain': False, 'Det': 'ID', 'R2': -16.084, 'RMSE': 0.207, 'MAE': 0.182, 'STD': 0.121, '0R2': 0.462, '0RMSE': 0.142, 'R2_INV': 0.8502188655032996}, {'Extract': 0.5, 'Samples location': 'closest', 'Interface': 'observed', 'Forward_Model': 'CS', 'Minimization_Method': 'Gauss-Newton', 'Alpha': 0.2, 'remove_coil': True, 'start_avg': True, 'constrain': False, 'Det': 'LS', 'R2': -17.868, 'RMSE': 0.212, 'MAE': 0.188, 'STD': 0.13, '0R2': 0.347, '0RMSE': 0.152, 'R2_INV': 0.8502188655032996}]\n",
      "Iteration: 310 Combination: (0.5, 'closest', 'observed', 'CS', 'Gauss-Newton', 0.2, True, False, True)\n",
      "##################################################################################################################################################################### 02 INVERSION CONFIGURE INPUT ################################################\n",
      "Constrained Inversion using CS with Gauss-Newton, reg=l2, alpha=0.2\n",
      "Survey 1/1\n",
      "15/15 inverted\n",
      "r2inv 0    0.850219\n",
      "Name: all, dtype: object\n",
      "#################################################################################################################################################################### 03 DETERMINISTIC MODELLING ###################################################\n",
      "inv_columns Index(['EC_0.30', 'EC_0.60', 'EC_1.00', 'EC_2.00', 'EC_end'], dtype='object')\n",
      "current_results [{'Extract': 0.5, 'Samples location': 'closest', 'Interface': 'observed', 'Forward_Model': 'CS', 'Minimization_Method': 'Gauss-Newton', 'Alpha': 0.2, 'remove_coil': True, 'start_avg': False, 'constrain': True, 'Det': 'LT', 'R2': -17.832, 'RMSE': 0.212, 'MAE': 0.186, 'STD': 0.13, '0R2': 0.368, '0RMSE': 0.148, 'R2_INV': 0.8502188655032996}, {'Extract': 0.5, 'Samples location': 'closest', 'Interface': 'observed', 'Forward_Model': 'CS', 'Minimization_Method': 'Gauss-Newton', 'Alpha': 0.2, 'remove_coil': True, 'start_avg': False, 'constrain': True, 'Det': 'ID', 'R2': -16.084, 'RMSE': 0.207, 'MAE': 0.182, 'STD': 0.121, '0R2': 0.462, '0RMSE': 0.142, 'R2_INV': 0.8502188655032996}, {'Extract': 0.5, 'Samples location': 'closest', 'Interface': 'observed', 'Forward_Model': 'CS', 'Minimization_Method': 'Gauss-Newton', 'Alpha': 0.2, 'remove_coil': True, 'start_avg': False, 'constrain': True, 'Det': 'LS', 'R2': -17.868, 'RMSE': 0.212, 'MAE': 0.188, 'STD': 0.13, '0R2': 0.347, '0RMSE': 0.152, 'R2_INV': 0.8502188655032996}]\n",
      "Iteration: 311 Combination: (0.5, 'closest', 'observed', 'CS', 'Gauss-Newton', 0.2, True, False, False)\n",
      "##################################################################################################################################################################### 02 INVERSION CONFIGURE INPUT ################################################\n",
      "Inversion using CS with Gauss-Newton, reg=l2, alpha=0.2\n",
      "Survey 1/1\n",
      "15/15 inverted\n",
      "r2inv 0    0.850219\n",
      "Name: all, dtype: object\n",
      "#################################################################################################################################################################### 03 DETERMINISTIC MODELLING ###################################################\n",
      "inv_columns Index(['EC_0.30', 'EC_0.60', 'EC_1.00', 'EC_2.00', 'EC_end'], dtype='object')\n",
      "current_results [{'Extract': 0.5, 'Samples location': 'closest', 'Interface': 'observed', 'Forward_Model': 'CS', 'Minimization_Method': 'Gauss-Newton', 'Alpha': 0.2, 'remove_coil': True, 'start_avg': False, 'constrain': False, 'Det': 'LT', 'R2': -17.832, 'RMSE': 0.212, 'MAE': 0.186, 'STD': 0.13, '0R2': 0.368, '0RMSE': 0.148, 'R2_INV': 0.8502188655032996}, {'Extract': 0.5, 'Samples location': 'closest', 'Interface': 'observed', 'Forward_Model': 'CS', 'Minimization_Method': 'Gauss-Newton', 'Alpha': 0.2, 'remove_coil': True, 'start_avg': False, 'constrain': False, 'Det': 'ID', 'R2': -16.084, 'RMSE': 0.207, 'MAE': 0.182, 'STD': 0.121, '0R2': 0.462, '0RMSE': 0.142, 'R2_INV': 0.8502188655032996}, {'Extract': 0.5, 'Samples location': 'closest', 'Interface': 'observed', 'Forward_Model': 'CS', 'Minimization_Method': 'Gauss-Newton', 'Alpha': 0.2, 'remove_coil': True, 'start_avg': False, 'constrain': False, 'Det': 'LS', 'R2': -17.868, 'RMSE': 0.212, 'MAE': 0.188, 'STD': 0.13, '0R2': 0.347, '0RMSE': 0.152, 'R2_INV': 0.8502188655032996}]\n",
      "Iteration: 312 Combination: (0.5, 'closest', 'observed', 'CS', 'Gauss-Newton', 0.2, False, True, True)\n",
      "##################################################################################################################################################################### 02 INVERSION CONFIGURE INPUT ################################################\n",
      "Constrained Inversion using CS with Gauss-Newton, reg=l2, alpha=0.2\n",
      "Survey 1/1\n",
      "15/15 inverted\n",
      "r2inv 0    0.861989\n",
      "Name: all, dtype: object\n",
      "#################################################################################################################################################################### 03 DETERMINISTIC MODELLING ###################################################\n",
      "inv_columns Index(['EC_0.30', 'EC_0.60', 'EC_1.00', 'EC_2.00', 'EC_end'], dtype='object')\n",
      "current_results [{'Extract': 0.5, 'Samples location': 'closest', 'Interface': 'observed', 'Forward_Model': 'CS', 'Minimization_Method': 'Gauss-Newton', 'Alpha': 0.2, 'remove_coil': False, 'start_avg': True, 'constrain': True, 'Det': 'LT', 'R2': -17.204, 'RMSE': 0.208, 'MAE': 0.177, 'STD': 0.132, '0R2': 0.426, '0RMSE': 0.144, 'R2_INV': 0.86198893953481}, {'Extract': 0.5, 'Samples location': 'closest', 'Interface': 'observed', 'Forward_Model': 'CS', 'Minimization_Method': 'Gauss-Newton', 'Alpha': 0.2, 'remove_coil': False, 'start_avg': True, 'constrain': True, 'Det': 'ID', 'R2': -15.255, 'RMSE': 0.201, 'MAE': 0.176, 'STD': 0.124, '0R2': 0.508, '0RMSE': 0.136, 'R2_INV': 0.86198893953481}, {'Extract': 0.5, 'Samples location': 'closest', 'Interface': 'observed', 'Forward_Model': 'CS', 'Minimization_Method': 'Gauss-Newton', 'Alpha': 0.2, 'remove_coil': False, 'start_avg': True, 'constrain': True, 'Det': 'LS', 'R2': -17.438, 'RMSE': 0.209, 'MAE': 0.178, 'STD': 0.132, '0R2': 0.408, '0RMSE': 0.15, 'R2_INV': 0.86198893953481}]\n",
      "Iteration: 313 Combination: (0.5, 'closest', 'observed', 'CS', 'Gauss-Newton', 0.2, False, True, False)\n",
      "##################################################################################################################################################################### 02 INVERSION CONFIGURE INPUT ################################################\n",
      "Inversion using CS with Gauss-Newton, reg=l2, alpha=0.2\n",
      "Survey 1/1\n",
      "15/15 inverted\n",
      "r2inv 0    0.861989\n",
      "Name: all, dtype: object\n",
      "#################################################################################################################################################################### 03 DETERMINISTIC MODELLING ###################################################\n",
      "inv_columns Index(['EC_0.30', 'EC_0.60', 'EC_1.00', 'EC_2.00', 'EC_end'], dtype='object')\n",
      "current_results [{'Extract': 0.5, 'Samples location': 'closest', 'Interface': 'observed', 'Forward_Model': 'CS', 'Minimization_Method': 'Gauss-Newton', 'Alpha': 0.2, 'remove_coil': False, 'start_avg': True, 'constrain': False, 'Det': 'LT', 'R2': -17.204, 'RMSE': 0.208, 'MAE': 0.177, 'STD': 0.132, '0R2': 0.426, '0RMSE': 0.144, 'R2_INV': 0.86198893953481}, {'Extract': 0.5, 'Samples location': 'closest', 'Interface': 'observed', 'Forward_Model': 'CS', 'Minimization_Method': 'Gauss-Newton', 'Alpha': 0.2, 'remove_coil': False, 'start_avg': True, 'constrain': False, 'Det': 'ID', 'R2': -15.255, 'RMSE': 0.201, 'MAE': 0.176, 'STD': 0.124, '0R2': 0.508, '0RMSE': 0.136, 'R2_INV': 0.86198893953481}, {'Extract': 0.5, 'Samples location': 'closest', 'Interface': 'observed', 'Forward_Model': 'CS', 'Minimization_Method': 'Gauss-Newton', 'Alpha': 0.2, 'remove_coil': False, 'start_avg': True, 'constrain': False, 'Det': 'LS', 'R2': -17.438, 'RMSE': 0.209, 'MAE': 0.178, 'STD': 0.132, '0R2': 0.408, '0RMSE': 0.15, 'R2_INV': 0.86198893953481}]\n",
      "Iteration: 314 Combination: (0.5, 'closest', 'observed', 'CS', 'Gauss-Newton', 0.2, False, False, True)\n",
      "##################################################################################################################################################################### 02 INVERSION CONFIGURE INPUT ################################################\n",
      "Constrained Inversion using CS with Gauss-Newton, reg=l2, alpha=0.2\n",
      "Survey 1/1\n",
      "15/15 inverted\n",
      "r2inv 0    0.861989\n",
      "Name: all, dtype: object\n",
      "#################################################################################################################################################################### 03 DETERMINISTIC MODELLING ###################################################\n",
      "inv_columns Index(['EC_0.30', 'EC_0.60', 'EC_1.00', 'EC_2.00', 'EC_end'], dtype='object')\n",
      "current_results [{'Extract': 0.5, 'Samples location': 'closest', 'Interface': 'observed', 'Forward_Model': 'CS', 'Minimization_Method': 'Gauss-Newton', 'Alpha': 0.2, 'remove_coil': False, 'start_avg': False, 'constrain': True, 'Det': 'LT', 'R2': -17.204, 'RMSE': 0.208, 'MAE': 0.177, 'STD': 0.132, '0R2': 0.426, '0RMSE': 0.144, 'R2_INV': 0.86198893953481}, {'Extract': 0.5, 'Samples location': 'closest', 'Interface': 'observed', 'Forward_Model': 'CS', 'Minimization_Method': 'Gauss-Newton', 'Alpha': 0.2, 'remove_coil': False, 'start_avg': False, 'constrain': True, 'Det': 'ID', 'R2': -15.255, 'RMSE': 0.201, 'MAE': 0.176, 'STD': 0.124, '0R2': 0.508, '0RMSE': 0.136, 'R2_INV': 0.86198893953481}, {'Extract': 0.5, 'Samples location': 'closest', 'Interface': 'observed', 'Forward_Model': 'CS', 'Minimization_Method': 'Gauss-Newton', 'Alpha': 0.2, 'remove_coil': False, 'start_avg': False, 'constrain': True, 'Det': 'LS', 'R2': -17.438, 'RMSE': 0.209, 'MAE': 0.178, 'STD': 0.132, '0R2': 0.408, '0RMSE': 0.15, 'R2_INV': 0.86198893953481}]\n",
      "Iteration: 315 Combination: (0.5, 'closest', 'observed', 'CS', 'Gauss-Newton', 0.2, False, False, False)\n",
      "##################################################################################################################################################################### 02 INVERSION CONFIGURE INPUT ################################################\n",
      "Inversion using CS with Gauss-Newton, reg=l2, alpha=0.2\n",
      "Survey 1/1\n",
      "15/15 inverted\n",
      "r2inv 0    0.861989\n",
      "Name: all, dtype: object\n",
      "#################################################################################################################################################################### 03 DETERMINISTIC MODELLING ###################################################\n",
      "inv_columns Index(['EC_0.30', 'EC_0.60', 'EC_1.00', 'EC_2.00', 'EC_end'], dtype='object')\n"
     ]
    }
   ],
   "source": [
    "from SA_all import SA\n",
    "import itertools\n",
    "import pandas as pd\n",
    "import matplotlib.pyplot as plt\n",
    "import seaborn as sns\n",
    "import os\n",
    "import numpy as np\n",
    "\n",
    "from plots import *\n",
    "pd.set_option('display.max_columns', None)\n",
    "\n",
    "# Define the variables and their possible values\n",
    "site = 'M'\n",
    "\n",
    "extracts = [0.5, 2.5]\n",
    "sample_locs = ['mean', 'closest']\n",
    "interfaces = ['observed', 'log']\n",
    "FMs = ['FSeq', 'CS', 'FSlin']\n",
    "MinMs = ['Gauss-Newton', 'ROPE']\n",
    "alphas = [0.01, 0.07, 0.2]\n",
    "remove_coils = [True, False]\n",
    "start_avgs = [True, False]\n",
    "constrains = [True, False]\n",
    "\n",
    "SA_results = 'SA_results/'\n",
    "file_path_all = 'dt'+site+'_'+str(extracts)+'_'+str(sample_locs)+'_'+str(['obs', 'log'])+'_'+str(FMs)+'_'+str(['GN', 'ROPE'])+'_'+str(alphas)+'_'+str(['T', 'F'])+'_'+str(['T', 'F'])+'_'+str(['T', 'F'])+'_det'\n",
    "\n",
    "# Initialize DataFrame\n",
    "dt = pd.DataFrame()\n",
    "i = 0  # to keep track of iterations for saving purposes\n",
    "exist_fine = 0 \n",
    "exist_failed = 0\n",
    "new_fine = 0\n",
    "new_failed = 0\n",
    "exist_crash = 0\n",
    "new_crash = 0\n",
    "\n",
    "# Iterate over all combinations\n",
    "for combination in itertools.product(extracts, sample_locs, interfaces, FMs, MinMs, alphas, remove_coils, start_avgs, constrains):\n",
    "\n",
    "    extract, sample_loc, interface, FM, MinM, alpha, remove_coil, start_avg, constrain = combination\n",
    "    print('Iteration:', i, 'Combination:', combination)\n",
    "\n",
    "    file_path = 'dt'+site+'_'+str(extract)+'_'+str(sample_loc)+'_'+str(interface)+'_'+str(FM)+'_'+str(MinM)+'_'+str(alpha)+'_'+str(remove_coil)+'_'+str(start_avg)+'_'+str(constrain)+'_det'\n",
    "    SA_file_path = SA_results + file_path+'.csv'\n",
    "    file_path_FAILED = SA_results + file_path+'_FAILED'+'.csv'\n",
    "    file_path_CRASH = SA_results + file_path+'_CRASH'+'.csv'\n",
    "\n",
    "    if os.path.exists(SA_file_path):\n",
    "        print('exists')\n",
    "        SA_file = pd.read_csv(SA_file_path)\n",
    "        exist_fine += 1\n",
    "\n",
    "    elif os.path.exists(file_path_FAILED):\n",
    "        print('exists but failed')\n",
    "        SA_file = pd.read_csv(file_path_FAILED)\n",
    "        exist_failed += 1\n",
    "\n",
    "    elif os.path.exists(file_path_CRASH):\n",
    "        print('exists but crashed')\n",
    "        SA_file = pd.read_csv(file_path_CRASH)\n",
    "        exist_crash += 1\n",
    "\n",
    "    else:\n",
    "        try:\n",
    "            # Call the SA function with the current combination\n",
    "            results = SA(site, extract, sample_loc, interface, FM, MinM, alpha, remove_coil, start_avg, constrain)\n",
    "\n",
    "            if results is None:\n",
    "                # Create a dictionary for the current iteration's results\n",
    "                current_results = [{'Extract': extract, 'Samples location': sample_loc, 'Interface': interface, 'Forward_Model': FM, 'Minimization_Method': MinM, 'Alpha': alpha,\n",
    "                                    'remove_coil': remove_coil, 'start_avg': start_avg, 'constrain': constrain,\n",
    "                                'Det': det, 'R2': np.nan, 'RMSE': np.nan, 'MAE': np.nan, 'STD': np.nan, '0R2': np.nan, '0RMSE': np.nan, 'R2_INV': np.nan}\n",
    "                            for det, res in zip(['LT', 'ID', 'LS'], [(np.nan, np.nan, np.nan, np.nan, np.nan, np.nan, np.nan) for i in range(0, 6, 2)])]\n",
    "                \n",
    "                print('FAILED')\n",
    "                SA_file_FAILED = pd.DataFrame(current_results)\n",
    "                #print(f\"An error occurred: {e} with combination {combination}\")\n",
    "                SA_file_FAILED.to_csv(file_path_FAILED, index=False)\n",
    "                new_failed += 1\n",
    "\n",
    "            else: \n",
    "                # Create a dictionary for the current iteration's results\n",
    "                current_results = [{'Extract': extract, 'Samples location': sample_loc, 'Interface': interface, 'Forward_Model': FM, 'Minimization_Method': MinM, 'Alpha': alpha,\n",
    "                                    'remove_coil': remove_coil, 'start_avg': start_avg, 'constrain': constrain,\n",
    "                                    'Det': det, 'R2': res[0], 'RMSE': res[1], 'MAE': res[2], 'STD': res[3], '0R2': res[4], '0RMSE': res[5], 'R2_INV': res[6]}\n",
    "                                for det, res in zip(['LT', 'ID', 'LS'], [(results[i], results[i+1], results[i+16], results[i+17], results[i+10], results[i+11], results[-1]) for i in range(0, 6, 2)])]\n",
    "\n",
    "                print('current_results', current_results)\n",
    "                SA_file = pd.DataFrame(current_results)\n",
    "                # Save the DataFrame to CSV after each iteration\n",
    "                SA_file.to_csv(SA_file_path, index=False)\n",
    "                #os.remove(file_path_FAILED)\n",
    "                new_fine += 1\n",
    "\n",
    "        except Exception as e:\n",
    "            # Create a dictionary for the current iteration's results\n",
    "            current_results = [{'Extract': extract, 'Samples location': sample_loc, 'Interface': interface, 'Forward_Model': FM, 'Minimization_Method': MinM, 'Alpha': alpha,\n",
    "                                'remove_coil': remove_coil, 'start_avg': start_avg, 'constrain': constrain,\n",
    "                                'Det': det, 'R2': np.nan, 'RMSE': np.nan, 'MAE': np.nan, 'STD': np.nan, '0R2': np.nan, '0RMSE': np.nan, 'R2_INV': np.nan}\n",
    "                            for det, res in zip(['LT', 'ID', 'LS'], [(np.nan, np.nan, np.nan, np.nan, np.nan, np.nan, np.nan) for i in range(0, 6, 2)])]\n",
    "            \n",
    "            print('CRASH')\n",
    "            SA_file_CRASH = pd.DataFrame(current_results)\n",
    "            #print(f\"An error occurred: {e} with combination {combination}\")\n",
    "            SA_file_CRASH.to_csv(file_path_CRASH, index=False)\n",
    "            new_crash += 1\n",
    "\n",
    "            continue  # Continue to the next iteration even if an error occurs\n",
    "\n",
    "    #print('SA_file.head()', SA_file.head())\n",
    "    #print('dt', dt.head())\n",
    "    # Append current results to the DataFrame\n",
    "    dt = pd.concat([dt, SA_file])\n",
    "    i += 1  # Increment the iteration counter\n",
    "\n",
    "print('exist_fine', exist_fine)\n",
    "print('exist_CRASH', exist_crash)\n",
    "print('new_fine', new_fine)\n",
    "print('new_CRASH', new_crash)\n",
    "\n",
    "print(dt)\n",
    "dt.to_csv(SA_results + file_path_all+'.csv')"
   ]
  },
  {
   "cell_type": "code",
   "execution_count": null,
   "metadata": {},
   "outputs": [],
   "source": [
    "from SA_all import SA\n",
    "import itertools\n",
    "import pandas as pd\n",
    "import matplotlib.pyplot as plt\n",
    "import seaborn as sns\n",
    "import os\n",
    "import numpy as np\n",
    "\n",
    "from plots import *\n",
    "pd.set_option('display.max_columns', None)\n",
    "\n",
    "# Define the variables and their possible values\n",
    "site = 'P'\n",
    "\n",
    "extracts = [0.5, 2.5]\n",
    "sample_locs = ['mean', 'closest']\n",
    "interfaces = ['observed', 'log']\n",
    "FMs = ['FSeq', 'CS', 'FSlin']\n",
    "MinMs = ['Gauss-Newton', 'ROPE']\n",
    "alphas = [0.01, 0.07, 0.2]\n",
    "remove_coils = [True, False]\n",
    "start_avgs = [True, False]\n",
    "constrains = [True, False]\n",
    "\n",
    "SA_results = 'SA_results/'\n",
    "file_path_all = 'dt'+site+'_'+str(extracts)+'_'+str(sample_locs)+'_'+str(['obs', 'log'])+'_'+str(FMs)+'_'+str(['GN', 'ROPE'])+'_'+str(alphas)+'_'+str(['T', 'F'])+'_'+str(['T', 'F'])+'_'+str(['T', 'F'])+'_det'\n",
    "\n",
    "# Initialize DataFrame\n",
    "dt = pd.DataFrame()\n",
    "i = 0  # to keep track of iterations for saving purposes\n",
    "exist_fine = 0 \n",
    "exist_failed = 0\n",
    "new_fine = 0\n",
    "new_failed = 0\n",
    "exist_crash = 0\n",
    "new_crash = 0\n",
    "\n",
    "# Iterate over all combinations\n",
    "for combination in itertools.product(extracts, sample_locs, interfaces, FMs, MinMs, alphas, remove_coils, start_avgs, constrains):\n",
    "\n",
    "    extract, sample_loc, interface, FM, MinM, alpha, remove_coil, start_avg, constrain = combination\n",
    "    print('Iteration:', i, 'Combination:', combination)\n",
    "\n",
    "    file_path = 'dt'+site+'_'+str(extract)+'_'+str(sample_loc)+'_'+str(interface)+'_'+str(FM)+'_'+str(MinM)+'_'+str(alpha)+'_'+str(remove_coil)+'_'+str(start_avg)+'_'+str(constrain)+'_det'\n",
    "    SA_file_path = SA_results + file_path+'.csv'\n",
    "    file_path_FAILED = SA_results + file_path+'_FAILED'+'.csv'\n",
    "    file_path_CRASH = SA_results + file_path+'_CRASH'+'.csv'\n",
    "\n",
    "    if os.path.exists(SA_file_path):\n",
    "        print('exists')\n",
    "        SA_file = pd.read_csv(SA_file_path)\n",
    "        exist_fine += 1\n",
    "\n",
    "    elif os.path.exists(file_path_FAILED):\n",
    "        print('exists but failed')\n",
    "        SA_file = pd.read_csv(file_path_FAILED)\n",
    "        exist_failed += 1\n",
    "\n",
    "    elif os.path.exists(file_path_CRASH):\n",
    "        print('exists but crashed')\n",
    "        SA_file = pd.read_csv(file_path_CRASH)\n",
    "        exist_crash += 1\n",
    "\n",
    "    else:\n",
    "            # Call the SA function with the current combination\n",
    "            results = SA(site, extract, sample_loc, interface, FM, MinM, alpha, remove_coil, start_avg, constrain)\n",
    "\n",
    "            if results is None:\n",
    "                # Create a dictionary for the current iteration's results\n",
    "                current_results = [{'Extract': extract, 'Samples location': sample_loc, 'Interface': interface, 'Forward_Model': FM, 'Minimization_Method': MinM, 'Alpha': alpha,\n",
    "                                    'remove_coil': remove_coil, 'start_avg': start_avg, 'constrain': constrain,\n",
    "                                'Det': det, 'R2': np.nan, 'RMSE': np.nan, 'MAE': np.nan, 'STD': np.nan, '0R2': np.nan, '0RMSE': np.nan, 'R2_INV': np.nan}\n",
    "                            for det, res in zip(['LT', 'ID', 'LS'], [(np.nan, np.nan, np.nan, np.nan, np.nan, np.nan, np.nan) for i in range(0, 6, 2)])]\n",
    "                \n",
    "                print('FAILED')\n",
    "                SA_file_FAILED = pd.DataFrame(current_results)\n",
    "                #print(f\"An error occurred: {e} with combination {combination}\")\n",
    "                SA_file_FAILED.to_csv(file_path_FAILED, index=False)\n",
    "                new_failed += 1\n",
    "\n",
    "            else: \n",
    "                # Create a dictionary for the current iteration's results\n",
    "                current_results = [{'Extract': extract, 'Samples location': sample_loc, 'Interface': interface, 'Forward_Model': FM, 'Minimization_Method': MinM, 'Alpha': alpha,\n",
    "                                    'remove_coil': remove_coil, 'start_avg': start_avg, 'constrain': constrain,\n",
    "                                    'Det': det, 'R2': res[0], 'RMSE': res[1], 'MAE': res[2], 'STD': res[3], '0R2': res[4], '0RMSE': res[5], 'R2_INV': res[6]}\n",
    "                                for det, res in zip(['LT', 'ID', 'LS'], [(results[i], results[i+1], results[i+16], results[i+17], results[i+10], results[i+11], results[-1]) for i in range(0, 6, 2)])]\n",
    "\n",
    "                print('current_results', current_results)\n",
    "                SA_file = pd.DataFrame(current_results)\n",
    "                # Save the DataFrame to CSV after each iteration\n",
    "                SA_file.to_csv(SA_file_path, index=False)\n",
    "                #os.remove(file_path_FAILED)\n",
    "                new_fine += 1\n",
    "\n",
    "    #print('SA_file.head()', SA_file.head())\n",
    "    #print('dt', dt.head())\n",
    "    # Append current results to the DataFrame\n",
    "    dt = pd.concat([dt, SA_file])\n",
    "    i += 1  # Increment the iteration counter\n",
    "\n",
    "print('exist_fine', exist_fine)\n",
    "print('exist_CRASH', exist_crash)\n",
    "print('new_fine', new_fine)\n",
    "print('new_CRASH', new_crash)\n",
    "\n",
    "print(dt)\n",
    "dt.to_csv(SA_results + file_path_all+'.csv')"
   ]
  },
  {
   "cell_type": "markdown",
   "metadata": {},
   "source": []
  },
  {
   "cell_type": "code",
   "execution_count": null,
   "metadata": {},
   "outputs": [],
   "source": [
    "from SA_all import SA\n",
    "import itertools\n",
    "import pandas as pd\n",
    "import matplotlib.pyplot as plt\n",
    "import seaborn as sns\n",
    "import os\n",
    "import numpy as np\n",
    "\n",
    "from plots import *\n",
    "pd.set_option('display.max_columns', None)\n",
    "\n",
    "# Define the variables and their possible values\n",
    "site = 'M'\n",
    "\n",
    "clls = [0.2, 0.3]\n",
    "percents = [10, 20, 30]\n",
    "sample_locs = ['mean', 'closest']\n",
    "interfaces = ['observed', 'log-defined']\n",
    "FMs = ['FSeq', 'CS', 'FSlin']\n",
    "MinMs = ['Gauss-Newton', 'ROPE']\n",
    "alphas = [0.01, 0.07, 0.2]\n",
    "remove_coils = [True, False]\n",
    "start_avgs = [True, False]\n",
    "constrains = [True, False]\n",
    "\n",
    "SA_results = 'SA_results/'\n",
    "\n",
    "file_path_all = 'dt'+site+'_'+str(clls)+'_'+str(percents)+'_'+str(sample_locs)+'_'+str(['obs', 'logd'])+'_'+str(FMs)+'_'+str(['GN', 'ROPE'])+'_'+str(alphas)+'_'+str(['T', 'F'])+'_'+str(['T', 'F'])+'_'+str(['T', 'F'])+'_det'\n",
    "\n",
    "# Initialize DataFrame\n",
    "dt = pd.DataFrame()\n",
    "i = 0  # to keep track of iterations for saving purposes\n",
    "exist_fine = 0 \n",
    "exist_failed = 0\n",
    "new_fine = 0\n",
    "new_failed = 0\n",
    "\n",
    "# Iterate over all combinations\n",
    "for combination in itertools.product(clls, percents, sample_locs, interfaces, FMs, MinMs, alphas, remove_coils, start_avgs, constrains):\n",
    "\n",
    "    cl, percent, sample_loc, interface, FM, MinM, alpha, remove_coil, start_avg, constrain = combination\n",
    "    print('Iteration:', i, 'Combination:', combination)\n",
    "\n",
    "    file_path = 'dt'+site+'_'+str(cl)+'_'+str(percent)+'_'+str(sample_loc)+'_'+str(interface)+'_'+str(FM)+'_'+str(MinM)+'_'+str(alpha)+'_'+str(remove_coil)+'_'+str(start_avg)+'_'+str(constrain)+'_det'\n",
    "    SA_file_path = SA_results + file_path+'.csv'\n",
    "    file_path_FAILED = SA_results + file_path+'_FAILED'+'.csv'\n",
    "\n",
    "    if os.path.exists(SA_file_path):\n",
    "        print('exists')\n",
    "        SA_file = pd.read_csv(SA_file_path)\n",
    "        exist_fine += 1\n",
    "\n",
    "    elif os.path.exists(file_path_FAILED):\n",
    "        print('exists but failed')\n",
    "        exist_failed += 1\n",
    "\n",
    "    else:\n",
    "        try:\n",
    "            # Call the SA function with the current combination\n",
    "            results = SA(site, cl, percent, sample_loc, interface, FM, MinM, alpha, remove_coil, start_avg, constrain)\n",
    "\n",
    "            # Create a dictionary for the current iteration's results\n",
    "            current_results = [{'cl': cl, 'percent': percent, 'Samples location': sample_loc, 'Interface': interface, 'Forward_Model': FM, 'Minimization_Method': MinM, 'Alpha': alpha,\n",
    "                                'remove_coil': remove_coil, 'start_avg': start_avg, 'constrain': constrain,\n",
    "                                'Det': det, 'R2': res[0], 'RMSE': res[1], '0R2': res[2], '0RMSE': res[3]}\n",
    "                            for det, res in zip(['LT', 'ID', 'LS'], [(results[i], results[i+1], results[i+10], results[i+11]) for i in range(0, 6, 2)])]\n",
    "\n",
    "            print('current_results', current_results)\n",
    "            SA_file = pd.DataFrame(current_results)\n",
    "            # Save the DataFrame to CSV after each iteration\n",
    "            SA_file.to_csv(SA_file_path, index=False)\n",
    "            #os.remove(file_path_FAILED)\n",
    "            new_fine += 1\n",
    "\n",
    "        except Exception as e:\n",
    "            # Create a dictionary for the current iteration's results\n",
    "            current_results = [{'cl': cl, 'percent': percent, 'Samples location': sample_loc, 'Interface': interface, 'Forward_Model': FM, 'Minimization_Method': MinM, 'Alpha': alpha,\n",
    "                                'remove_coil': remove_coil, 'start_avg': start_avg, 'constrain': constrain,\n",
    "                                'Det': det, 'R2': np.nan, 'RMSE': np.nan, '0R2': np.nan, '0RMSE': np.nan}\n",
    "                            for det, res in zip(['LT', 'ID', 'LS'], [(np.nan, np.nan, np.nan, np.nan) for i in range(0, 6, 2)])]\n",
    "            \n",
    "            print('FAILED')\n",
    "            SA_file_FAILED = pd.DataFrame(current_results)\n",
    "            #print(f\"An error occurred: {e} with combination {combination}\")\n",
    "            SA_file_FAILED.to_csv(file_path_FAILED, index=False)\n",
    "            new_failed += 1\n",
    "\n",
    "            continue  # Continue to the next iteration even if an error occurs\n",
    "\n",
    "    #print('SA_file.head()', SA_file.head())\n",
    "    #print('dt', dt.head())\n",
    "    # Append current results to the DataFrame\n",
    "    dt = pd.concat([dt, SA_file])\n",
    "    i += 1  # Increment the iteration counter\n",
    "\n",
    "print('exist_fine', exist_fine)\n",
    "print('exist_failed', exist_failed)\n",
    "print('new_fine', new_fine)\n",
    "print('new_failed', new_failed)\n",
    "\n",
    "print(dt)\n",
    "dt.to_csv(SA_results + file_path_all+'.csv')"
   ]
  },
  {
   "cell_type": "code",
   "execution_count": null,
   "metadata": {},
   "outputs": [],
   "source": [
    "import pandas as pd\n",
    "import matplotlib.pyplot as plt\n",
    "import seaborn as sns\n",
    "import os\n",
    "import numpy as np\n",
    "from plots import *\n",
    "from plots import *\n",
    "indicator = 'RMSE'\n",
    "\n",
    "clls = [0.2, 0.3]\n",
    "percents = [10, 20, 30]\n",
    "sample_locs = ['mean', 'closest']\n",
    "interfaces = ['observed', 'log-defined']\n",
    "FMs = ['FSeq', 'CS', 'FSlin']\n",
    "MinMs = ['Gauss-Newton', 'ROPE']\n",
    "alphas = [0.01, 0.07, 0.2]\n",
    "remove_coils = [True, False]\n",
    "start_avgs = [True, False]\n",
    "constrains = [True, False]\n",
    "\n",
    "SA_results = 'SA_results/'\n",
    "\n",
    "# Example usage\n",
    "file_path_all_ = str(clls)+'_'+str(percents)+'_'+str(sample_locs)+'_'+str(['obs', 'logd'])+'_'+str(FMs)+'_'+str(['GN', 'ROPE'])+'_'+str(alphas)+'_'+str(['T', 'F'])+'_'+str(['T', 'F'])+'_'+str(['T', 'F'])+'_det'\n",
    "\n",
    "SA_plot(file_path_all_, SA_results, 'RMSE')"
   ]
  },
  {
   "cell_type": "code",
   "execution_count": null,
   "metadata": {},
   "outputs": [],
   "source": [
    "import pandas as pd\n",
    "import os\n",
    "from plots import *\n",
    "from plots import *\n",
    "import itertools\n",
    "import pandas as pd\n",
    "import os\n",
    "import numpy as np\n",
    "\n",
    "pd.set_option('display.max_columns', None)\n",
    "\n",
    "# Define the variables and their possible values\n",
    "site = 'M'\n",
    "\n",
    "clls = [0.2, 0.3, 0.4]\n",
    "percents = [10, 20, 30]\n",
    "sample_locs = ['mean', 'closest']\n",
    "#interfaces = ['observed', 'log-defined']\n",
    "FMs = ['FSeq', 'CS', 'FSlin']\n",
    "MinMs = ['Gauss-Newton', 'ROPE']\n",
    "alphas = [0.01, 0.07, 0.2]\n",
    "remove_coils = [True, False]\n",
    "start_avgs = [True, False]\n",
    "constrains = [True, False]\n",
    "\n",
    "SA_results = 'SA_results/'\n",
    "\n",
    "i = 0  # to keep track of iterations for saving purposes\n",
    "# Iterate over all combinations\n",
    "for combination in itertools.product(clls, percents, sample_locs, FMs, MinMs, alphas, remove_coils, start_avgs, constrains):\n",
    "\n",
    "    cl, percent, sample_loc, FM, MinM, alpha, remove_coil, start_avg, constrain = combination\n",
    "    print('Iteration:', i, 'Combination:', combination)\n",
    "\n",
    "    file_path= 'dt'+site+'_'+str(cl)+'_'+str(percent)+'_'+str(sample_loc)+'_Observed'+'_'+str(FM)+'_'+str(MinM)+'_'+str(alpha)+'_'+str(remove_coil)+'_'+str(start_avg)+'_'+str(constrain)+'_det'    \n",
    "    file_path_new = 'dt'+site+'_'+str(cl)+'_'+str(percent)+'_'+str(sample_loc)+'_observed'+'_'+str(FM)+'_'+str(MinM)+'_'+str(alpha)+'_'+str(remove_coil)+'_'+str(start_avg)+'_'+str(constrain)+'_det'    \n",
    "    SA_file_path = SA_results + file_path+'.csv'\n",
    "    file_path_FAILED = SA_results + file_path+'_FAILED'+'.csv'\n",
    "\n",
    "    SA_file_path_new = SA_results + file_path_new+'.csv'\n",
    "    file_path_FAILED_new = SA_results + file_path_new+'_FAILED'+'.csv'\n",
    "\n",
    "    if os.path.exists(SA_file_path):\n",
    "        SA_file = pd.read_csv(SA_file_path)\n",
    "        SA_file.to_csv(SA_file_path_new, index=False)\n",
    "\n",
    "    elif os.path.exists(file_path_FAILED):\n",
    "        SA_file_FAILED = pd.read_csv(file_path_FAILED)\n",
    "        SA_file_FAILED.to_csv(file_path_FAILED_new, index=False)\n",
    "\n",
    "    i += 1  # Increment the iteration counter"
   ]
  },
  {
   "cell_type": "code",
   "execution_count": null,
   "metadata": {},
   "outputs": [],
   "source": [
    "import pandas as pd\n",
    "import os\n",
    "from plots import *\n",
    "from plots import *\n",
    "import itertools\n",
    "import pandas as pd\n",
    "import os\n",
    "import numpy as np\n",
    "\n",
    "pd.set_option('display.max_columns', None)\n",
    "\n",
    "# Define the variables and their possible values\n",
    "site = 'M'\n",
    "\n",
    "clls = [0.2, 0.3, 0.4]\n",
    "percents = [10, 20, 30]\n",
    "sample_locs = ['mean', 'closest']\n",
    "#interfaces = ['Observed', 'Log-defined']\n",
    "FMs = ['FSeq', 'CS', 'FSlin']\n",
    "MinMs = ['Gauss-Newton', 'ROPE']\n",
    "alphas = [0.01, 0.07, 0.2]\n",
    "remove_coils = [True, False]\n",
    "start_avgs = [True, False]\n",
    "constrains = [True, False]\n",
    "\n",
    "data_inv_folder = 'data/inverted/'\n",
    "\n",
    "i = 0  # to keep track of iterations for saving purposes\n",
    "# Iterate over all combinations\n",
    "for combination in itertools.product(clls, percents, sample_locs, FMs, MinMs, alphas, remove_coils, start_avgs, constrains):\n",
    "\n",
    "    cl, percent, sample_loc, FM, MinM, alpha, remove_coil, start_avg, constrain = combination\n",
    "    print('Iteration:', i, 'Combination:', combination)\n",
    "\n",
    "    file_path = 'proefhoeve_21HS_inverted_samples'+'_'+str(cl)+'_'+str(percent)+'_'+str(sample_loc)+'_'+str(FM)+'_'+str(MinM)+'_'+str(alpha)+'_'+str(remove_coil)+'_'+str(start_avg)+'_'+str(constrain)\n",
    "    file_path_new = 'proefhoeve_21HS_inverted_samples'+'_'+str(cl)+'_'+str(percent)+'_'+str(sample_loc)+'_Observed'+'_'+str(FM)+'_'+str(MinM)+'_'+str(alpha)+'_'+str(remove_coil)+'_'+str(start_avg)+'_'+str(constrain)\n",
    "\n",
    "    data_inv_path = data_inv_folder + file_path+'.csv'\n",
    "    data_inv_path_new = data_inv_folder + file_path_new+'.csv'\n",
    "\n",
    "    #file_path_FAILED = SA_results + file_path+'_FAILED'+'.csv'\n",
    "\n",
    "    #SA_file_path_new = SA_results + file_path_new+'.csv'\n",
    "    #file_path_FAILED_new = SA_results + file_path_new+'_FAILED'+'.csv'\n",
    "\n",
    "    if os.path.exists(data_inv_path):\n",
    "        inv_file = pd.read_csv(data_inv_path)\n",
    "        inv_file.to_csv(data_inv_path_new, index=False)\n",
    "        i += 1\n",
    "#    elif os.path.exists(file_path_FAILED):\n",
    "#        SA_file_FAILED = pd.read_csv(file_path_FAILED)\n",
    "#        cols = list(SA_file_FAILED.columns)\n",
    "#        cols.remove('Interface')\n",
    "#        cols.insert(3, 'Interface')\n",
    "#        SA_file_FAILED = SA_file_FAILED[cols]\n",
    "#        SA_file_FAILED['Interface'] = 'Observed'\n",
    "#        SA_file_FAILED.to_csv(file_path_FAILED, index=False)\n",
    "\n",
    "#    i += 1  # Increment the iteration counter"
   ]
  },
  {
   "cell_type": "code",
   "execution_count": null,
   "metadata": {},
   "outputs": [],
   "source": [
    "%load_ext autoreload\n",
    "\n",
    "# Packages -----------------\n",
    "import os\n",
    "import sys\n",
    "import shutil\n",
    "import warnings\n",
    "import datetime\n",
    "import numpy as np\n",
    "import matplotlib.pyplot as plt\n",
    "import pandas as pd\n",
    "import seaborn as sns\n",
    "\n",
    "from scipy import constants\n",
    "from matplotlib.path import Path\n",
    "\n",
    "# Get notebook and parent dir\n",
    "current_dir = os.path.dirname(os.path.abspath('__file__')) \n",
    "parent_dir = os.path.dirname(current_dir)\n",
    "\n",
    "# Set path to pedophysics module \n",
    "pedophysics_code_path = os.path.join(parent_dir)\n",
    "sys.path.insert(0, pedophysics_code_path)\n",
    "\n",
    "import pedophysics\n",
    "from pedophysics import predict, Soil\n",
    "from sklearn.linear_model import LinearRegression\n",
    "from sklearn.metrics import r2_score\n",
    "from scipy.optimize import root\n",
    "from scipy.stats import spearmanr\n",
    "from scipy.optimize import minimize, differential_evolution\n",
    "from IPython.display import clear_output\n",
    "from utils.spatial_utils import utm_to_epsg, get_coincident\n",
    "#!pip install pymel\n",
    "import pymel\n",
    "from FDEM import Initialize\n",
    "from utils.profile_utils import merge_layers, plot_profile, check_uniformity_and_interpolate\n",
    "\n",
    "from sklearn.preprocessing import PolynomialFeatures\n",
    "from sklearn.model_selection import train_test_split\n",
    "from scipy.stats import pearsonr\n",
    "from PyPDF2 import PdfMerger\n",
    "from emagpy import Problem\n",
    "\n",
    "# Electromagnetic induction data inversion package\n",
    "from plots import *\n",
    "from PM import *\n",
    "%matplotlib inline\n",
    "\n",
    "pd.set_option('display.max_columns', None)\n",
    "pd.options.future.infer_string = True\n",
    "\n",
    "sys.path.insert(0,'../src/') # this add the emagpy/src directory to the PATH"
   ]
  },
  {
   "cell_type": "markdown",
   "metadata": {},
   "source": [
    "## Pedophysical modelling"
   ]
  },
  {
   "cell_type": "code",
   "execution_count": null,
   "metadata": {},
   "outputs": [],
   "source": [
    "# Datetime for filename\n",
    "now = (datetime.datetime.now())\n",
    "now = now.strftime(\"%y%m%d_%H%M\")\n",
    "\n",
    "# User input\n",
    "s_site = 'M'; # P = Proefhoeve; M = Middelkerke\n",
    "# Define input datatype and source folder\n",
    "em_intype = 'rec'   # 'rec' = rECa transect; 'lin' = LIN ECa transect; \n",
    "                    # 'survey' = rEC full survey\n",
    "\n",
    "config = {}\n",
    "\n",
    "config['instrument_code'] = 'Dualem-21HS' # instrument code\n",
    "\n",
    "cal = 'calibrated' # 'non_calibrated', 'drift_calibrated'\n",
    "instrument_code = '21HS' # 421S, '21HS'\n",
    "\n",
    "# User input\n",
    "\n",
    "datafolder = 'data' # data folder\n",
    "\n",
    "if s_site == 'P':\n",
    "    profile_prefix = 'proefhoeve'\n",
    "    if config['instrument_code'] == 'Dualem-21HS':\n",
    "        emfile_prefix = 'proefhoeve_21HS'\n",
    "    else: \n",
    "        emfile_prefix = 'proefhoeve_421S'\n",
    "        \n",
    "else:\n",
    "    profile_prefix = 'middelkerke'\n",
    "    emfile_prefix = 'middelkerke_421S'\n",
    "    # check if correct instrument (only 421S data available for Middelkerke)\n",
    "    if config['instrument_code'] == 'Dualem-21HS':\n",
    "        config['instrument_code'] = 'Dualem-421S'"
   ]
  },
  {
   "cell_type": "code",
   "execution_count": null,
   "metadata": {},
   "outputs": [],
   "source": [
    "# Data import dry down experiment\n",
    "dry_down = os.path.join(datafolder, f'Dry_down.csv')\n",
    "dry_d = pd.read_csv(dry_down, sep=',', header=0)\n",
    "\n",
    "cal_folder = os.path.join(datafolder, 'calibrated')\n",
    "em_survey = os.path.join(cal_folder, f'{emfile_prefix}_calibrated_rECa.csv')\n",
    "em_survey = pd.read_csv(em_survey, sep=',', header=0)\n",
    "sampleprop = os.path.join(datafolder, f'{profile_prefix}_soil_analysis.csv')\n",
    "samples_analysis = pd.read_csv(sampleprop, sep=',', header=0)\n",
    "\n",
    "em_sample_prop = get_coincident(em_survey, samples_analysis)\n",
    "ds_c = em_sample_prop.copy()\n",
    "\n",
    "inverted_data = False # Include inverted data or not\n",
    "\n",
    "if inverted_data:\n",
    "    inverted = os.path.join(datafolder, f'{profile_prefix}_inverted_samples_{instrument_code}c.csv')\n",
    "    ds_inv = pd.read_csv(inverted, sep=',', header=0)\n",
    "    print(ds_inv.head())\n",
    "\n",
    "    inv_columns = ds_inv.columns[3:-1]\n",
    "    ds_c[inv_columns] = np.nan\n",
    "\n",
    "    for idc, c in enumerate(inv_columns):\n",
    "\n",
    "        for i in range(len(ds_inv.x)):\n",
    "            ds_c.loc[ds_c.code == i+1, c] = ds_inv.loc[i, c]\n",
    "\n",
    "    def closest_ec(row):\n",
    "        depth = row['depth']\n",
    "        # Filter columns that start with 'EC_' but not 'EC_end'\n",
    "        ec_cols = [col for col in row.index if col.startswith('EC_') and col != 'EC_end']\n",
    "        # Convert the part after 'EC_' to float and calculate the absolute difference with depth\n",
    "        differences = {col: abs(depth/100 - float(col.split('_')[1])) for col in ec_cols}\n",
    "        # Find the column name with the minimum difference\n",
    "        closest_col = min(differences, key=differences.get)\n",
    "        return row[closest_col]\n",
    "\n",
    "\n",
    "    # Apply the function to each row\n",
    "    ds_c['bulk_ec_inv'] = ds_c.apply(closest_ec, axis=1)\n",
    "\n",
    "    #Obtain EC DC TC\n",
    "    ds_c['bulk_ec_dc_tc_inv'] = predict.BulkECDCTC(Soil(temperature = ds_c.temp.values+273.15,\n",
    "                                                        frequency_ec = 9e3,\n",
    "                                                        bulk_ec = ds_c.bulk_ec_inv.values/1000))\n",
    "    # Mean of input inverted EC DC TC values\n",
    "    EC_mean = np.mean(ds_c['bulk_ec_dc_tc_inv'].values) "
   ]
  },
  {
   "cell_type": "markdown",
   "metadata": {},
   "source": [
    "# Deterministic modelling"
   ]
  },
  {
   "cell_type": "code",
   "execution_count": null,
   "metadata": {},
   "outputs": [],
   "source": [
    "# Caclculate Bulk EC from HydraProbe data at 50Mhz\n",
    "offset = 4\n",
    "water_perm = 80\n",
    "ds_c['bulk_ec_hp'] = logsdon(50e6, ds_c.rperm, ds_c.iperm)\n",
    "\n",
    "ds_c['bulk_ec_dc_hp'] = predict.BulkECDC(Soil(frequency_ec = 50e6,\n",
    "                                              bulk_ec = ds_c.bulk_ec_hp.values))\n",
    "\n",
    "ds_c['bulk_ec_tc_hp'] = SheetsHendrickxEC( ds_c.bulk_ec_hp, ds_c.temp)\n",
    "ds_c['bulk_ec_dc_tc_hp'] = predict.BulkECDCTC(Soil(temperature = ds_c.temp.values,\n",
    "                                                    bulk_ec_dc = ds_c.bulk_ec_dc_hp.values\n",
    "                                                    ))\n",
    "\n",
    "# Caclculate Water EC from HydraProbe data at 50Mhz\n",
    "ds_c['water_ec_hp'] = Hilhorst(ds_c.bulk_ec_hp, ds_c.rperm, water_perm, offset)\n",
    "ds_c['water_ec_hp_t'] = WraithOr(ds_c.water_ec_hp, ds_c.temp)\n",
    "ds_c['iperm_water_t'] = ds_c.water_ec_hp_t/(50e6*2*pi*epsilon_0)\n",
    "\n",
    "# -------------------------------------------------------------------------------------\n",
    "\n",
    "# DRY DOWN experiment\n",
    "dry_d['P_top_EC'] = logsdon(50e6, dry_d.P_top_RP, dry_d.P_top_IP)\n",
    "dry_d['P_bot_EC'] = logsdon(50e6, dry_d.P_bot_RP, dry_d.P_bot_IP)\n",
    "dry_d['M_top_EC'] = logsdon(50e6, dry_d.M_top_RP, dry_d.M_top_IP)\n",
    "dry_d['M_bot_EC'] = logsdon(50e6, dry_d.M_bot_RP, dry_d.M_bot_IP)\n",
    "\n",
    "dry_d['P_top_ECw'] = predict.WaterEC(Soil(bulk_ec_dc = dry_d.P_top_EC.values,\n",
    "                                          water = dry_d.P_top_W.values,\n",
    "                                          temperature = dry_d.P_top_T.values+273.15))\n",
    "\n",
    "dry_d['P_bot_ECw'] = predict.WaterEC(Soil(bulk_ec_dc = dry_d.P_bot_EC.values,\n",
    "                                          water = dry_d.P_bot_W.values,\n",
    "                                          temperature = dry_d.P_bot_T.values+273.15))\n",
    "\n",
    "dry_d['M_top_ECw'] = predict.WaterEC(Soil(bulk_ec_dc = dry_d.M_top_EC.values,\n",
    "                                          water = dry_d.M_top_W.values,\n",
    "                                          temperature = dry_d.M_top_T.values+273.15))\n",
    "\n",
    "dry_d['M_bot_ECw'] = predict.WaterEC(Soil(bulk_ec_dc = dry_d.M_bot_EC.values,\n",
    "                                          water = dry_d.M_bot_W.values,\n",
    "                                          temperature = dry_d.M_bot_T.values+273.15))\n",
    "\n",
    "# DRY DOWN experiment\n",
    "dry_d['P_top_EC'] = logsdon(50e6, dry_d.P_top_RP, dry_d.P_top_IP)\n",
    "dry_d['P_bot_EC'] = logsdon(50e6, dry_d.P_bot_RP, dry_d.P_bot_IP)\n",
    "dry_d['M_top_EC'] = logsdon(50e6, dry_d.M_top_RP, dry_d.M_top_IP)\n",
    "dry_d['M_bot_EC'] = logsdon(50e6, dry_d.M_bot_RP, dry_d.M_bot_IP)\n",
    "\n",
    "dry_d['P_top_ECw'] = predict.WaterEC(Soil(bulk_ec_dc = dry_d.P_top_EC.values,\n",
    "                                          water = dry_d.P_top_W.values,\n",
    "                                          temperature = dry_d.P_top_T.values+273.15))\n",
    "\n",
    "dry_d['P_bot_ECw'] = predict.WaterEC(Soil(bulk_ec_dc = dry_d.P_bot_EC.values,\n",
    "                                          water = dry_d.P_bot_W.values,\n",
    "                                          temperature = dry_d.P_bot_T.values+273.15))\n",
    "\n",
    "dry_d['M_top_ECw'] = predict.WaterEC(Soil(bulk_ec_dc = dry_d.M_top_EC.values,\n",
    "                                          water = dry_d.M_top_W.values,\n",
    "                                          temperature = dry_d.M_top_T.values+273.15))\n",
    "\n",
    "dry_d['M_bot_ECw'] = predict.WaterEC(Soil(bulk_ec_dc = dry_d.M_bot_EC.values,\n",
    "                                          water = dry_d.M_bot_W.values,\n",
    "                                          temperature = dry_d.M_bot_T.values+273.15))\n",
    "\n",
    "if profile_prefix == 'proefhoeve':\n",
    "    water_ec_10cm = dry_d.P_top_ECw.values[0]\n",
    "    water_ec_50cm = dry_d.P_bot_ECw.values[0]\n",
    "    water_ec_mean = (water_ec_10cm + water_ec_50cm)/2\n",
    "\n",
    "elif profile_prefix == 'middelkerke':\n",
    "    water_ec_10cm = dry_d.M_top_ECw.values[0]\n",
    "    water_ec_50cm = dry_d.M_bot_ECw.values[0]\n",
    "    water_ec_mean = (water_ec_10cm + water_ec_50cm)/2\n",
    "\n",
    "###################\n",
    "\n",
    "# -------------------------------------------------------------------------------------\n",
    "\n",
    "clay_50cm = np.mean(ds_c.clay[ds_c['depth']==50])\n",
    "clay_10cm = np.mean(ds_c.clay[ds_c['depth']==10])\n",
    "bd_50cm = np.mean(ds_c.bd[ds_c['depth']==50])\n",
    "bd_10cm = np.mean(ds_c.bd[ds_c['depth']==10])\n",
    "water_ec_hp_50cm = np.mean(ds_c.water_ec_hp[ds_c['depth']==50])\n",
    "water_ec_hp_10cm = np.mean(ds_c.water_ec_hp[ds_c['depth']==10])\n",
    "water_ec_hp_50cm_t = np.mean(ds_c.water_ec_hp_t[ds_c['depth']==50])\n",
    "water_ec_hp_10cm_t = np.mean(ds_c.water_ec_hp_t[ds_c['depth']==10])\n",
    "clay_mean = np.mean(ds_c.clay)\n",
    "bd_mean = np.mean(ds_c.bd)\n",
    "water_ec_hp_mean = np.mean(ds_c.water_ec_hp)\n",
    "water_ec_hp_mean_t = np.mean(ds_c.water_ec_hp_t)\n",
    "temp_50cm = np.mean(ds_c.temp[ds_c['depth']==50])\n",
    "temp_10cm = np.mean(ds_c.temp[ds_c['depth']==10])\n",
    "temp_mean = np.mean(ds_c.temp)\n",
    "vwc_50cm = np.mean(ds_c.vwc[ds_c['depth']==50])\n",
    "vwc_10cm = np.mean(ds_c.vwc[ds_c['depth']==10])\n",
    "vwc_mean = np.mean(ds_c.vwc) # 0.289 Proef\n",
    "\n",
    "f_ec = 9000\n",
    "t_conv = 273.15\n",
    "t_mean_conv = temp_mean+t_conv # 297.28 Proef\n",
    "\n",
    "# Mean of observed water values\n",
    "VWC_mean = np.mean(ds_c['vwc'].values) # 0.2891 Proef"
   ]
  },
  {
   "cell_type": "code",
   "execution_count": null,
   "metadata": {},
   "outputs": [],
   "source": [
    "# Predicted water based on mean input inverted EC DC TC values\n",
    "water_upper = 0.05\n",
    "water_default = 0\n",
    "water_lower = -0.05\n",
    "water_upper_p = 5\n",
    "water_default_p = 0\n",
    "water_lower_p = -5\n",
    "\n",
    "def EC_diff(EC, vwc_diff):\n",
    "\n",
    "    VWC_mean_pred = predict.Water(Soil(\n",
    "                                        bulk_ec = EC,  \n",
    "                                        frequency_ec=f_ec,\n",
    "                                        clay = clay_mean,\n",
    "                                        bulk_density = bd_mean,\n",
    "                                        water_ec = water_ec_mean,\n",
    "                                        temperature = t_mean_conv\n",
    "                                    ))[0] \n",
    "\n",
    "    return ((VWC_mean_pred - VWC_mean) - vwc_diff)**2\n",
    "\n",
    "# EC expected\n",
    "EC_5 = minimize(EC_diff, 0.01, args=(water_upper), bounds= [(0, 1)], method='Nelder-Mead')\n",
    "EC_upper = EC_5.x[0]\n",
    "\n",
    "EC_0 = minimize(EC_diff, 0.01, args=(water_default), bounds= [(0, 1)], method='Nelder-Mead')\n",
    "EC_00 = EC_0.x[0]\n",
    "\n",
    "EC_n5 = minimize(EC_diff, 0.01, args=(water_lower), bounds= [(0, 1)], method='Nelder-Mead')\n",
    "EC_lower = EC_n5.x[0]\n",
    "\n",
    "print(EC_upper, EC_lower, EC_00)\n",
    "\n",
    "# Difference percentual\n",
    "EC_upper_p = 100*(EC_upper - EC_00)/EC_00\n",
    "EC_lower_p = 100*(EC_00 - EC_lower)/EC_00\n",
    "print(EC_upper_p, EC_lower_p)\n",
    "\n",
    "sens_pedm_upper = water_upper_p/EC_upper_p\n",
    "sens_pedm_lower = water_lower_p/EC_lower_p\n",
    "print(sens_pedm_upper, sens_pedm_lower)"
   ]
  },
  {
   "cell_type": "code",
   "execution_count": null,
   "metadata": {},
   "outputs": [],
   "source": [
    "temp_dir = 'temp_emp_04' \n",
    "infile_name = 'infile_s04.csv'\n",
    "os.makedirs(temp_dir, exist_ok=True)\n",
    "temp_file = os.path.join(temp_dir,infile_name)\n",
    "\n",
    "filename = f\"{now}_{emfile_prefix}_parameters_04.json\"\n",
    "filepath = os.path.join(temp_dir,filename)\n",
    "file = open(filepath, 'w')\n",
    "\n",
    "file.write('\\t\"EC_00\":\"{}\",'.format(EC_00) + '\\n')\n",
    "file.write('\\t\"EC_upper_p\":\"{}\",'.format(EC_upper_p) + '\\n')\n",
    "file.write('\\t\"EC_lower_p\":\"{}\",'.format(EC_lower_p) + '\\n')\n",
    "\n",
    "file.write('\\t\"sens_pedm_upper\":\"{}\",'.format(sens_pedm_upper) + '\\n')\n",
    "file.write('\\t\"sens_pedm_lower\":\"{}\",'.format(sens_pedm_lower) + '\\n')"
   ]
  },
  {
   "cell_type": "markdown",
   "metadata": {},
   "source": [
    "# Inversion: configure  input"
   ]
  },
  {
   "cell_type": "code",
   "execution_count": null,
   "metadata": {},
   "outputs": [],
   "source": [
    "# Sensor settings\n",
    "config['instrument_code'] = 'Dualem-21HS' # instrument code\n",
    "config['instrument_height'] = 0.165     # instrument height\n",
    "config['instrument_orientation'] = 'HCP'    # instrument orientation\n",
    "\n",
    "# Remove coils for inversion?\n",
    "config['remove_coil'] = True    # set to True if you want to remove coils in the inversion process\n",
    "config['coil_n'] = [4,5]    # indexes of coils to remove (cf. emagpy indexing)\n",
    "                            # for Proefhoeve, coils 0 (HCP05) and 1 (PRP06) are best\n",
    "                            # removed, for Middelkerke coils 4 (HCP4.0) and 5 (PRP4.1)\n",
    "\n",
    "# Inversion parameters\n",
    "config['fs_emp'] = 'FSeq' #'CS', 'FSlin' or 'FSeq'\n",
    "config['opt_method'] = 'L-BFGS-B'  # mMinimize = ['L-BFGS-B','TNC','CG','Nelder-Mead'] --> https://docs.scipy.org/doc/scipy/reference/optimize.html \n",
    "                                # mMCMC = ['ROPE','DREAM', 'MCMC'] # ??? 'SCEUA' ??? --> https://spotpy.readthedocs.io/en/latest/ \n",
    "                                # mOther = ['ANN','Gauss-Newton','GPS'] (ANN requires tensorflow)\n",
    "config['constrain']=True\n",
    "config['regularization'] = 'l2'\n",
    "config['alpha'] = 0.07\n",
    "\n",
    "# Reference profile for starting model (conductivity values)\n",
    "config['start_avg'] = False     # take average of input resistivity profiles per layer as starting model\n",
    "                                # if false, reference profile is taken as starting model\n",
    "\n",
    "# Define the interfaces depths between layers for starting model and inversion\n",
    "#           (number of layers = len(config['interface'])+1)\n",
    "config['n_int'] = True # if True custom interfaces are defined (via config['interface']), \n",
    "                        # otherwise reference profile interfaces are used\n",
    "\n",
    "config['interface'] = [0.3, \n",
    "                       0.6, \n",
    "                       1.0,\n",
    "                       2.0\n",
    "                        ] # depths to custom model interfaces\n",
    "# Inversion constraining\n",
    "\n",
    "config['custom_bounds'] = True\n",
    "config['bounds'] = [(10, 55), (20, 120), (50, 335), (50, 250), (10, 50)]\n",
    "\n",
    "# remove profiles at transect edges\n",
    "config['n_omit'] =  10 # number of profiles to exclude from the start\n",
    "                       # and end of the ERT transect (none = 0) for the inversion\n",
    "                       # a total of 60 profiles is available, for middelkerke\n",
    "                       # 120 profiles are available \n",
    "\n",
    "if config['constrain']:\n",
    "    if config['custom_bounds']:\n",
    "        bounds = config['bounds']\n",
    "\n",
    "if config['n_int'] == False and config['custom_bounds']:\n",
    "    print('Check if bounds and number of interfaces match')\n",
    "\n",
    "# Geographic operations (if needed)\n",
    "c_transform = False\n",
    "c_utmzone = '31N'\n",
    "c_target_cs = 'EPSG:31370'\n",
    "\n",
    "# ---------------------------------------------------------------------------- #\n",
    "# ---------------------------------------------------------------------------- #\n",
    "\n",
    "# Datetime for filename\n",
    "now = (datetime.datetime.now())\n",
    "now = now.strftime(\"%y%m%d_%H%M\")"
   ]
  },
  {
   "cell_type": "markdown",
   "metadata": {},
   "source": [
    "## Load data"
   ]
  },
  {
   "cell_type": "code",
   "execution_count": null,
   "metadata": {},
   "outputs": [],
   "source": [
    "# ---------------------------------------------------------------------------- #\n",
    "# ---------------------------------------------------------------------------- #\n",
    "\n",
    "if s_site == 'P':\n",
    "    profile_prefix = 'proefhoeve'\n",
    "    if config['instrument_code'] == 'Dualem-21HS':\n",
    "        emfile_prefix = 'proefhoeve_21HS'\n",
    "    else: \n",
    "        emfile_prefix = 'proefhoeve_421S'\n",
    "else:\n",
    "    profile_prefix = 'middelkerke'\n",
    "    emfile_prefix = 'middelkerke_421S'\n",
    "    # check if correct instrument (only 421S data available for Middelkerke)\n",
    "    if config['instrument_code'] == 'Dualem-21HS':\n",
    "        config['instrument_code'] = 'Dualem-421S'\n",
    "\n",
    "inv_folder = os.path.join(datafolder, 'inverted')\n",
    "os.makedirs(inv_folder, exist_ok=True) \n",
    "cal_folder = os.path.join(datafolder, 'calibrated')\n",
    "ert_file = os.path.join(datafolder, f'{profile_prefix}-profiles.csv')\n",
    "em_rec = os.path.join(cal_folder, f'{emfile_prefix}_transect_calibrated_rECa.csv')\n",
    "em_lin = os.path.join(cal_folder,f'{emfile_prefix}_transect_calibrated_LIN.csv')\n",
    "em_survey = os.path.join(cal_folder, f'{emfile_prefix}_calibrated_rECa.csv')\n",
    "samplocs = os.path.join(datafolder, f'{profile_prefix}_samps.csv')\n",
    "\n",
    "if em_intype == 'rec':\n",
    "    infile = em_rec\n",
    "elif em_intype == 'survey':\n",
    "    infile = em_survey\n",
    "else:\n",
    "    infile = em_lin\n",
    "\n",
    "instrument = Initialize.Instrument(config['instrument_code'],\n",
    "                                    instrument_height=config['instrument_height'],\n",
    "                                    instrument_orientation=config['instrument_orientation']\n",
    "                                    )\n",
    "\n",
    "# Column names for emapgy input\n",
    "emp_21HS = [f\"HCP0.5f9000{config['instrument_height']}\", 'PRP0.6f9000h0.165', 'HCP1.0f9000h0.165', 'PRP1.1f9000h0.165',\t'HCP2.0f9000h0.165', 'PRP2.1f9000h0.165',\n",
    "            'HCP0.5f9000h0.165_inph', 'PRP0.6f9000h0.165_inph', 'HCP1.0f9000h0.165_inph',\n",
    "            'PRP1.1f9000h0.165_inph', 'HCP2.0f9000h0.165_inph', 'PRP2.1f9000h0.165_inph'\n",
    "            ]\n",
    "\n",
    "emp_421S = ['HCP1.0f9000h0.165', 'PRP1.1f9000h0.165',\t'HCP2.0f9000h0.165', 'PRP2.1f9000h0.165', 'HCP4.0f9000h0.165', 'PRP4.1f9000h0.165', \n",
    "            'HCP1.0f9000h0.165_inph', 'PRP1.1f9000h0.165_inph', 'HCP2.0f9000h0.165_inph', 'PRP2.1f9000h0.165_inph',\n",
    "            'HCP4.0f9000h0.165_inph', 'PRP4.1f9000h0.165_inph',\n",
    "            ]\n",
    "\n",
    "if config['opt_method'] == 'Gauss-Newton':\n",
    "    config['regularization'] = 'l2'\n",
    "\n",
    "# Datetime for filename\n",
    "now = (datetime.datetime.now())\n",
    "now = now.strftime(\"%y%m%d_%H%M\")\n",
    "\n",
    "# 1.0 Data import and structuring into dataframe\n",
    "ert_p = pd.read_csv(ert_file, sep=',', header=0)\n",
    "em_rec = pd.read_csv(em_rec, sep=',', header=0)\n",
    "em_lin = pd.read_csv(em_lin, sep=',', header=0)\n",
    "em_survey = pd.read_csv(em_survey, sep=',', header=0)\n",
    "samples = pd.read_csv(samplocs, sep=',', header=0)\n",
    "\n",
    "\n",
    "if c_transform:\n",
    "    # Create a new filename with the target EPSG code\n",
    "    em_rec = utm_to_epsg(em_rec, c_utmzone, target_epsg=c_target_cs)\n",
    "    em_lin = utm_to_epsg(em_lin, c_utmzone, target_epsg=c_target_cs)\n",
    "    em_survey = utm_to_epsg(em_survey, c_utmzone, target_epsg=c_target_cs)\n",
    "\n",
    "instrument = Initialize.Instrument(config['instrument_code'],\n",
    "                                    instrument_height=config['instrument_height'],\n",
    "                                        instrument_orientation=config['instrument_orientation']\n",
    "                                        )\n",
    "\n",
    "em_samples = get_coincident(em_survey,samples)\n",
    "\n",
    "# ---------------------------------------------------------------------------- #\n",
    "# Get ERT profiles\n",
    "# ---------------- #\n",
    "# Group the data by profile ID for efficient access to each profile\n",
    "profiles = ert_p.groupby('ID')\n",
    "\n",
    "# Exclude the first and last n_omit profiles\n",
    "unique_ids = ert_p['ID'].unique()\n",
    "\n",
    "if config['n_omit'] == 0:\n",
    "    ert_final = ert_p.copy()\n",
    "else:\n",
    "    if config['n_omit']*2 >= len(unique_ids):\n",
    "        warnings.warn('!!! You removed all profiles !!! Change value for config[n_omit]')\n",
    "        raise KeyboardInterrupt\n",
    "    else:\n",
    "        selected_ids = unique_ids[config['n_omit']:-config['n_omit']]\n",
    "        ert_p = ert_p.loc[ert_p['ID'].isin(selected_ids)]\n",
    "        ert_final = ert_p.copy()\n",
    "\n",
    "dataset_name = 'Resistivity(ohm.m)'  # The variable of interest\n",
    "\n",
    "# convert resistivity to conductivity and modify column names\n",
    "\n",
    "ert_final[dataset_name] = (1/ert_final[dataset_name])\n",
    "dc_corr = ert_final.copy()\n",
    "dc_corr[dataset_name] = predict.BulkEC(Soil(\n",
    "                                                frequency_ec = 9000,\n",
    "                                                bulk_ec_dc = dc_corr[dataset_name].values\n",
    "                                                ))\n",
    "\n",
    "ert_final.loc[:, dataset_name] = ert_final[dataset_name]*1000\n",
    "dc_corr.loc[:,dataset_name] = dc_corr[dataset_name]*1000\n",
    "ert_final = ert_final.rename(columns={\"Resistivity(ohm.m)\": \"EC(mS/m)\"})\n",
    "dc_corr = dc_corr.rename(columns={\"Resistivity(ohm.m)\": \"EC(mS/m)\"})\n",
    "\n",
    "# ------------------------------------------------------------------------------\n",
    "\n",
    "# Columns containing the resistivity data\n",
    "data_column = ['EC(mS/m)']\n",
    "# Assuming ert_final is your DataFrame with profile data\n",
    "all_profiles_df, uniform_intervals = check_uniformity_and_interpolate(\n",
    "    dc_corr, 'ID', 'z', *data_column\n",
    ")\n",
    "\n",
    "dataset_name = 'EC(mS/m)'  # The variable of interest"
   ]
  },
  {
   "cell_type": "code",
   "execution_count": null,
   "metadata": {},
   "outputs": [],
   "source": [
    "config['reference_profile'] = 11\n",
    "\n",
    "if config['reference_profile'] not in all_profiles_df['ID'].unique():\n",
    "    warnings.warn(\"Warning: the reference profile ID does not exist. Provide correct profile ID.\")\n",
    "    raise KeyboardInterrupt\n",
    "else:\n",
    "    profile_id = config['reference_profile']\n",
    "\n",
    "# Create new layer configuration for prior model based on ERT data\n",
    "if config['n_int']:\n",
    "    new_int = config['interface']\n",
    "    merged_df = merge_layers(all_profiles_df, new_int,'EC(mS/m)')\n",
    "else:\n",
    "    merged_df = all_profiles_df\n",
    "comparedf = merged_df.copy()\n",
    "\n",
    "# Plot original and (merged and) DC corrected reference profile\n",
    "if config['n_int']:\n",
    "    plot_title = 'Original vs merged & DC corrected data'\n",
    "    first_in = .1\n",
    "else: \n",
    "    plot_title = 'Original vs DC corrected data'\n",
    "    first_in = .0\n",
    "ert_eval = ert_final.copy()\n",
    "ert_eval['z'] = ert_eval['z'].values + first_in\n",
    "\n",
    "plot_profile(ert_eval, profile_id, dataset_name, compare=True, compare_df = comparedf, compare_name = 'EC(mS/m)', block=True, plot_title=plot_title)\n",
    "\n",
    "# Get prior model info\n",
    "def generate_forward_model_inputs(df, profile_id_col, depth_col, res_col):\n",
    "    models = {}  # Dictionary to store models by profile ID\n",
    "\n",
    "    for profile_id, group in df.groupby(profile_id_col):\n",
    "        # Assuming uniform interval after previous interpolation\n",
    "        uniform_interval = abs(group[depth_col].diff().iloc[1])\n",
    "        #print(uniform_interval)\n",
    "        num_layers = len(group[res_col])\n",
    "                # Thicknesses are the intervals between depths, except for the last value which does not define a new layer\n",
    "        thick = np.full(num_layers - 1, uniform_interval)\n",
    "        thick[0] = 2 * thick[0]\n",
    "        # Conductivity is the inverse of resistivity\n",
    "        con = group[res_col].values/1000\n",
    "        # Permittivity is the epsilon_0 for all layers\n",
    "        perm = np.full(num_layers, constants.epsilon_0)\n",
    "        sus = np.zeros(num_layers)\n",
    "        # Create model instance\n",
    "        M = Initialize.Model(thick, sus[::-1], con[::-1], perm[::-1])\n",
    "        \n",
    "        # Store the model instance in the dictionary with the profile ID as the key\n",
    "        models[profile_id] = M\n",
    "    return models\n",
    "\n",
    "models = generate_forward_model_inputs(merged_df, 'ID', 'z', 'EC(mS/m)')"
   ]
  },
  {
   "cell_type": "code",
   "execution_count": null,
   "metadata": {},
   "outputs": [],
   "source": [
    "# \n",
    "# -------------------------------------------------------------------- #\n",
    "\n",
    "# \n",
    "profile_data = merged_df[merged_df['ID'] == profile_id].copy()\n",
    "res_col = 'EC(mS/m)'\n",
    "depth = 'z'\n",
    "max_ert_depth = ert_final['z'].abs().max()\n",
    "\n",
    "# \n",
    "# ------------------------------------------------------------------------------\n",
    "\n",
    "# A. Test run on the reference profile (config['reference_profile'])\n",
    "#       and plot the results\n",
    "\n",
    "if not config['n_int']:\n",
    "    first_lay = profile_data[depth].iloc[-1].round(decimals=1)\n",
    "    second_lay = profile_data[depth].iloc[-2].round(decimals=1)\n",
    "    if first_lay == 0:\n",
    "        profile_data[depth]=profile_data[depth] +second_lay\n",
    "    else:\n",
    "        profile_data[depth]=profile_data[depth] +first_lay\n",
    "    thick = -profile_data[depth].iloc[1:].values\n",
    "    #thick = -profile_data[depth].values\n",
    "else:\n",
    "    thick = -profile_data[depth].values\n",
    "\n",
    "con = profile_data[res_col].values/1000\n",
    "ref_len = len(con)\n",
    "num_layers = len(con)\n",
    "perm = np.full(num_layers, constants.epsilon_0)\n",
    "sus = np.zeros(num_layers)\n",
    "\n",
    "# # Create model instance\n",
    "M = Initialize.Model(thick, sus[::-1], con[::-1], perm[::-1])\n",
    "\n",
    "# ----------------------------------------------------------------------\n",
    "\n",
    "dataset_name = 'EC(mS/m)'\n",
    "layers_interfaces = np.cumsum(models[profile_id].thick)\n",
    "layers_interfaces = np.insert(layers_interfaces, 0, 0)\n",
    "profile_data = ert_final[ert_final['ID'] == profile_id]\n",
    "\n",
    "fig, axr = plt.subplots(figsize=(5, 10))\n",
    "axr.set_xlabel('EC [mS/m]')\n",
    "axr.set_ylabel('depth [m]')\n",
    "axr.plot((profile_data[dataset_name]),profile_data['z'], label='original (DC) ERT EC',)\n",
    "if not config['n_int']: \n",
    "    axr.plot(con[:-1]*1000,-thick, '.', label='Model EC 9khz',color = 'red')\n",
    "else:\n",
    "    axr.plot(con*1000,-thick, '.', label='Model EC 9khz',color = 'red')\n",
    "axr.set_title(f'Reference profile: ID {profile_id}')\n",
    "\n",
    "conductivities = con*1000\n",
    "print('conductivities', conductivities)\n",
    "\n",
    "ec_cols_ref = []\n",
    "if 'end' in config['interface']:\n",
    "    config['interface'].remove('end')\n",
    "# Get conductivity stats for bounds\n",
    "if config['n_int']:\n",
    "    if 'end' in ec_cols_ref:\n",
    "        ec_cols_ref.remove('end')\n",
    "    ec_cols_ref = config['interface']\n",
    "    ec_cols_ref.append('end')\n",
    "    mod_layers = thick[1:]\n",
    "else:\n",
    "    if len(conductivities) == len(thick):\n",
    "        mod_layers = thick[1:]\n",
    "        print(f\"length modlayers = {len(mod_layers)} with {len(conductivities)} conductivities\")\n",
    "    elif len(conductivities) == (len(thick)+1):\n",
    "        mod_layers = thick\n",
    "        print(f\"length modlayers = {len(mod_layers)} with {len(conductivities)} conductivities\")\n",
    "    else:\n",
    "        raise ValueError(f\"Check length of conductivities ({len(conductivities)}) and layers ({len(thick)}) arrays!!\")\n",
    "    \n",
    "    ec_cols_ref = np.round(layers_interfaces,decimals=1).tolist()\n",
    "ec_df = pd.DataFrame(columns=ec_cols_ref)\n",
    "\n",
    "# \n",
    "for i in merged_df['ID'].unique(): \n",
    "    profile_data = merged_df[merged_df['ID'] == i].copy()\n",
    "    if not config['n_int']:\n",
    "        if abs(profile_data.iloc[0]['z']) > max((list(map(abs, ec_cols_ref)))):\n",
    "            #print(f'removed {profile_data.iloc[0][\"z\"]}')\n",
    "            profile_data = profile_data.drop(profile_data.iloc[0].name)\n",
    "        elif abs(profile_data.iloc[-1]['z']) < 0.1:\n",
    "            #print(f'removed {profile_data.iloc[-1][\"z\"]}')\n",
    "            profile_data = profile_data.drop(profile_data.iloc[-1].name)\n",
    "    res_col = 'EC(mS/m)'\n",
    "    depth = 'z' \n",
    "    con_m = profile_data[res_col].values\n",
    "    layers_interfaces = np.cumsum(models[i].thick)\n",
    "    layers_interfaces = np.insert(layers_interfaces, 0, 0)\n",
    "    num_layers = len(con)\n",
    "    perm = np.full(num_layers, constants.epsilon_0)\n",
    "    sus = np.zeros(num_layers)\n",
    "\n",
    "    first_lay = profile_data[depth].iloc[-1].round(decimals=1)\n",
    "    second_lay = profile_data[depth].iloc[-2].round(decimals=1)\n",
    "\n",
    "    if not config['n_int']:\n",
    "        first_lay = profile_data[depth].iloc[-1].round(decimals=1)\n",
    "        second_lay = profile_data[depth].iloc[-2].round(decimals=1)\n",
    "        if first_lay == 0:\n",
    "            profile_data[depth]=profile_data[depth] +second_lay\n",
    "        else:\n",
    "            profile_data[depth]=profile_data[depth] +first_lay\n",
    "        thick = -profile_data[depth].iloc[1:].values\n",
    "    else:\n",
    "        thick = -profile_data[depth].values\n",
    "\n",
    "    ec_df = pd.concat([ec_df, pd.DataFrame([np.flip(con_m)], columns=ec_cols_ref)])\n",
    "\n",
    "ec_df.reset_index(drop=True, inplace=True)\n",
    "\n",
    "ec_stats = ec_df.describe().loc[['min', 'max', 'std', '50%', 'mean']]\n",
    "ec_stats.rename(index={'50%': 'median'}, inplace=True)\n",
    "ec_stats.loc['min_sd'] = ec_stats.loc['min'] - 2 * ec_stats.loc['std']\n",
    "ec_stats.loc['max_sd'] = ec_stats.loc['max'] + 2 * ec_stats.loc['std']\n",
    "\n",
    "position = -thick\n",
    "\n",
    "\n",
    "# define parameters for inversion starting model\n",
    "# --------------------------------------------- #\n",
    "\n",
    "if not config['n_int']:\n",
    "    minstat = np.flipud(ec_stats.loc['min'].values[1:])\n",
    "    maxstat = np.flipud(ec_stats.loc['max'].values[1:])\n",
    "    start_mod = ec_stats.loc['mean'].values[1:]\n",
    "    boundcols = ec_cols_ref[:-1]\n",
    "else:\n",
    "    minstat = np.flipud(ec_stats.loc['min'].values)\n",
    "    maxstat = np.flipud(ec_stats.loc['max'].values)\n",
    "    start_mod = ec_stats.loc['mean'].values\n",
    "\n",
    "axr.plot(np.flipud(start_mod),position, \n",
    "            '*', \n",
    "            label='average conductivity',\n",
    "            color = 'green',\n",
    "            alpha = 0.5)\n",
    "axr.plot(minstat,position, \n",
    "            '.', \n",
    "            label='min',\n",
    "            color = 'black',\n",
    "            alpha = 0.2)\n",
    "axr.plot(maxstat,position, \n",
    "            '+', \n",
    "            label='max',\n",
    "            color = 'black',\n",
    "            alpha = 0.25)\n",
    "\n",
    "axr.legend()\n",
    "if config['constrain']:\n",
    "    if config['custom_bounds']:\n",
    "        bounds = config['bounds']\n",
    "    else:\n",
    "        bounds = []\n",
    "        for i, name in enumerate(ec_cols_ref):\n",
    "            if ec_stats.loc['min_sd'][name] > 0:\n",
    "                min = ec_stats.loc['min_sd'][name]\n",
    "            elif ec_stats.loc['min'][name] > 0:\n",
    "                min = ec_stats.loc['min'][name]\n",
    "            else:\n",
    "                min = 10\n",
    "            max = ec_stats.loc['max_sd'][name]\n",
    "            min_max = tuple([min,max])\n",
    "            bounds.append(min_max)\n",
    "        bounds = np.round(bounds, decimals=0)\n",
    "        if not config['n_int'] and not config['custom_bounds']:\n",
    "            bounds = bounds[1:]\n",
    "        print(f'autobounds = {bounds}')"
   ]
  },
  {
   "cell_type": "code",
   "execution_count": null,
   "metadata": {},
   "outputs": [],
   "source": [
    "# Perform inversion on sampling locations (to be used in pedophysical modelling)\n",
    "\n",
    "if 'code' in em_samples.columns:\n",
    "    em_samples = em_samples.rename(columns={'code': 'ID'})\n",
    "\n",
    "i = instrument.niter\n",
    "n = 4\n",
    "em_samples.columns.values[n:n+i]\n",
    "\n",
    "if config['instrument_code'] == 'Dualem-21HS':\n",
    "    new_columns = emp_21HS\n",
    "else:\n",
    "    new_columns = emp_421S\n",
    "\n",
    "if len(new_columns) != i:\n",
    "    raise ValueError(\"The length of new_columns must be equal to the number of columns to rename\")\n",
    "else:\n",
    "    em_samples.columns.values[n:n+i] = new_columns\n",
    "\n",
    "em_samples.to_csv(temp_file)\n",
    "\n",
    "# transect inversion settings\n",
    "\n",
    "s_rec = Problem()\n",
    "s_rec.createSurvey(temp_file)\n",
    "#t_rec.rollingMean(window=12)\n",
    "\n",
    "s_rec.setInit(\n",
    "    depths0=np.flipud(mod_layers),\n",
    "    conds0=conductivities\n",
    "    )\n",
    "\n",
    "if config['remove_coil']:\n",
    "    if type(config['coil_n']) == list:\n",
    "        config['coil_n'] = sorted(config['coil_n'])\n",
    "        for i in enumerate(config['coil_n']):\n",
    "            r_coil = s_rec.coils[(config['coil_n'][i[0]]-i[0])]\n",
    "            # print(f'removing {r_coil}')\n",
    "            s_rec.removeCoil(config['coil_n'][i[0]]-i[0])\n",
    "    else:\n",
    "        s_rec.removeCoil(config['coil_n'])\n",
    "\n",
    "print(f'Data used for inversion: {s_rec.coils}')"
   ]
  },
  {
   "cell_type": "code",
   "execution_count": null,
   "metadata": {},
   "outputs": [],
   "source": [
    "# invert using ROPE solver (RObust Parameter Estimation)\n",
    "warnings.filterwarnings('ignore')\n",
    "opt_meth = config['opt_method']\n",
    "inv_meth = config['fs_emp']\n",
    "reg_meth = config['regularization']\n",
    "alph_param = config['alpha']\n",
    "if opt_meth in ['MCMC', 'ROPE']:\n",
    "    if config['constrain']:\n",
    "        \n",
    "        print(f'Constrained inversion using {inv_meth} with {opt_meth}, reg={reg_meth}, alpha={alph_param}')\n",
    "        s_rec.invert(forwardModel=config['fs_emp'], method=opt_meth, \n",
    "                regularization=reg_meth, alpha=alph_param, \n",
    "                bnds=bounds\n",
    "                )\n",
    "\n",
    "    else:\n",
    "        print(f'Inversion using {inv_meth} with {opt_meth}, reg={reg_meth}, alpha={alph_param}')\n",
    "        s_rec.invert(forwardModel=config['fs_emp'], method=opt_meth, \n",
    "        regularization=reg_meth, alpha=alph_param, njobs=-1\n",
    "        )\n",
    "\n",
    "else:\n",
    "    print(f'Inversion using {inv_meth} with {opt_meth}, reg={reg_meth}, alpha={alph_param}')\n",
    "    s_rec.invert(forwardModel='FSeq', method='Gauss-Newton', alpha=alph_param,regularization=reg_meth)\n",
    "s_rec.showOne2one()"
   ]
  },
  {
   "cell_type": "code",
   "execution_count": null,
   "metadata": {},
   "outputs": [],
   "source": [
    "# 4.1: Plot the inversion results and put outcomes into a pandas dataframe\n",
    "# ------------------------------------------------------------------------\n",
    "csv_filename = f'{now}_{emfile_prefix}_inverted_samples_{opt_meth}_04.csv'\n",
    "\n",
    "# ******************************************************************** #\n",
    "\n",
    "# Plot inversion outcomes down to a max depth of 2 m, and plotting the data\n",
    "# based on their true coordinates along the transect (dist=True).\n",
    "s_rec.showResults(dist=True, errorbar = True) \n",
    "\n",
    "# Extracting the values from the first row of the transect.depths[0] array\n",
    "depth_values = s_rec.depths[0][0]\n",
    "\n",
    "# Creating the custom column names for layer_cols\n",
    "layer_cols = ['EC_{:.2f}'.format(d) for d in depth_values] + ['EC_end']\n",
    "\n",
    "# Combining the data from the 'x', 'y' columns and the transect.models[0] array\n",
    "data = np.c_[s_rec.surveys[0].df[['x', 'y']].values, s_rec.models[0]]\n",
    "\n",
    "# Creating the final dataframe with the desired column names\n",
    "ds_inv = pd.DataFrame(data, columns=['x', 'y'] + layer_cols)\n",
    "ds_inv['pos'] = em_samples['ID'].to_numpy()\n",
    "# ----------------------------------------------------------------------\n",
    "\n",
    "# Export the dataframe as a csv-file\n",
    "outfile_transect = os.path.join(inv_folder, csv_filename)\n",
    "ds_inv.to_csv(outfile_transect)"
   ]
  },
  {
   "cell_type": "code",
   "execution_count": null,
   "metadata": {},
   "outputs": [],
   "source": [
    "inv_columns = ds_inv.columns[3:-1]\n",
    "ds_c[inv_columns] = np.nan\n",
    "\n",
    "for idc, c in enumerate(inv_columns):\n",
    "\n",
    "    for i in range(len(ds_inv.x)):\n",
    "        ds_c.loc[ds_c.code == i+1, c] = ds_inv.loc[i, c]\n",
    "\n",
    "def closest_ec(row):\n",
    "    depth = row['depth']\n",
    "    # Filter columns that start with 'EC_' but not 'EC_end'\n",
    "    ec_cols = [col for col in row.index if col.startswith('EC_') and col != 'EC_end']\n",
    "    # Convert the part after 'EC_' to float and calculate the absolute difference with depth\n",
    "    differences = {col: abs(depth/100 - float(col.split('_')[1])) for col in ec_cols}\n",
    "    # Find the column name with the minimum difference\n",
    "    closest_col = min(differences, key=differences.get)\n",
    "    return row[closest_col]\n",
    "\n",
    "# Apply the function to each row\n",
    "ds_c['bulk_ec_inv'] = ds_c.apply(closest_ec, axis=1)\n",
    "\n",
    "#Obtain EC DC TC\n",
    "ds_c['bulk_ec_dc_tc_inv'] = predict.BulkECDCTC(Soil(temperature = ds_c.temp.values+273.15,\n",
    "                                                    frequency_ec = 9e3,\n",
    "                                                    bulk_ec = ds_c.bulk_ec_inv.values/1000))\n",
    "# Mean of input inverted EC DC TC values\n",
    "EC_mean = np.mean(ds_c['bulk_ec_dc_tc_inv'].values) \n",
    "print('EC_mean', EC_mean)\n",
    "\n",
    "#### Uncertainty inversion parameters\n",
    "EC = 0.06980570031133289\n",
    "\n",
    "### ROPE uncertainty\n",
    "inv_results = [0.075, 0.069, 0.073, 0.0687, 0.0695, 0.0719, 0.0745, 0.0709, 0.0644, 0.0708]\n",
    "\n",
    "ROPE_inv_upper_p = 100*(-EC + np.max(inv_results))/(np.max(inv_results))\n",
    "ROPE_inv_lower_p = 100*(-EC + np.min(inv_results))/(np.min(inv_results))\n",
    "print('ROPE_inv_upper_p, ROPE_inv_lower_p', ROPE_inv_upper_p, ROPE_inv_lower_p)\n",
    "\n",
    "### Alpha uncertainty\n",
    "Alpha_upper = np.inf\n",
    "Alpha_lower = 0.001\n",
    "Alpha = 0.07\n",
    "\n",
    "Alpha_upper_p = 100*(Alpha_upper - Alpha)/Alpha\n",
    "Alpha_lower_p = 100*(-Alpha + Alpha_lower)/Alpha\n",
    "print('Alpha_upper_p, Alpha_lower_p', Alpha_upper_p, Alpha_lower_p)\n",
    "\n",
    "sens_alpha_upper = EC_upper_p/Alpha_upper_p\n",
    "sens_alpha_lower = EC_lower_p/Alpha_lower_p\n",
    "print('sens_alpha_upper, sens_alpha_lower', sens_alpha_upper, sens_alpha_lower)"
   ]
  },
  {
   "cell_type": "code",
   "execution_count": null,
   "metadata": {},
   "outputs": [],
   "source": [
    "file.write('\\t\"EC_mean\":\"{}\",'.format(EC_mean) + '\\n')\n",
    "file.write('\\t\"ROPE_inv_upper_p\":\"{}\",'.format(ROPE_inv_upper_p) + '\\n')\n",
    "file.write('\\t\"ROPE_inv_lower_p\":\"{}\",'.format(ROPE_inv_lower_p) + '\\n')\n",
    "\n",
    "file.write('\\t\"input file + path\": \"{}\",'.format(infile) + '\\n\\n')\n",
    "file.write('\\t\"instrument\": \"{}\",'.format(config['instrument_code'] ) + '\\n')\n",
    "file.write('\\t\"instrument mode\": \"{}\",'.format(config['instrument_orientation']) + '\\n')\n",
    "file.write('\\t\"instrument height (m)\": {:.3f},'.format(config['instrument_height']) + '\\n')\n",
    "\n",
    "if config['remove_coil']:\n",
    "    rem_coils = instrument.cc_names[config['coil_n']]\n",
    "    file.write('\\t\"configurations not used in inversion\": \"{}\",'.format(rem_coils) + '\\n\\n')\n",
    "\n",
    "file.write('\\t\"forward model\": \"{}\",'.format(config['fs_emp']) + '\\n')\n",
    "file.write('\\t\"optimisation method\":\"{}\",'.format(config['opt_method']) + '\\n')\n",
    "file.write('\\t\"regularisation\": \"{}\",'.format(config['regularization']) + '\\n')\n",
    "file.write('\\t\"alpha parameter\": \"{}\",'.format(alph_param) + '\\n\\n')\n",
    "file.write('\\t\"reference EC profile\":\"{}\",'.format(config['reference_profile']) + '\\n')\n",
    "\n",
    "if config['constrain']:\n",
    "    file.write('\\t \"constrained inversion\":' + '\\n')\n",
    "    if config['n_int']:\n",
    "        file.write('\\t\"custom interface boundaries\": \"{}\"\\n'.format(config['interface']) + '\\n')\n",
    "    if config['custom_bounds']:\n",
    "        file.write('\\t\"custom inversion constraints (bnds)\": \"{}\" \\n'.format(config['bounds']) + '\\n')\n",
    "    else:\n",
    "        file.write('\\t\"automated inversion constraints (bnds)\": \"{}\"\\n'.format(bounds) + '\\n')\n",
    "\n",
    "file.close()"
   ]
  }
 ],
 "metadata": {
  "kernelspec": {
   "display_name": "base",
   "language": "python",
   "name": "python3"
  },
  "language_info": {
   "codemirror_mode": {
    "name": "ipython",
    "version": 3
   },
   "file_extension": ".py",
   "mimetype": "text/x-python",
   "name": "python",
   "nbconvert_exporter": "python",
   "pygments_lexer": "ipython3",
   "version": "3.11.4"
  }
 },
 "nbformat": 4,
 "nbformat_minor": 2
}
